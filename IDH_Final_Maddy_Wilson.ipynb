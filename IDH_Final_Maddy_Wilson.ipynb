{
  "nbformat": 4,
  "nbformat_minor": 0,
  "metadata": {
    "colab": {
      "provenance": [],
      "include_colab_link": true
    },
    "kernelspec": {
      "name": "python3",
      "display_name": "Python 3"
    },
    "language_info": {
      "name": "python"
    }
  },
  "cells": [
    {
      "cell_type": "markdown",
      "metadata": {
        "id": "view-in-github",
        "colab_type": "text"
      },
      "source": [
        "<a href=\"https://colab.research.google.com/github/madelinewilson/intro-digital-humanities/blob/main/IDH_Final_Maddy_Wilson.ipynb\" target=\"_parent\"><img src=\"https://colab.research.google.com/assets/colab-badge.svg\" alt=\"Open In Colab\"/></a>"
      ]
    },
    {
      "cell_type": "markdown",
      "source": [
        "# Topic Model of William Shakespeare's Sonnets\n",
        "by Maddy Wilson\n"
      ],
      "metadata": {
        "id": "E-ZjyLWkD9pf"
      }
    },
    {
      "cell_type": "markdown",
      "source": [
        "## Introduction"
      ],
      "metadata": {
        "id": "-J_wu0xFEehc"
      }
    },
    {
      "cell_type": "markdown",
      "source": [
        "This program will create a topic model visualization based on Shakespeare's *Sonnets*, a collection of 154 sonnets on a variety of themes first published in 1609. The corpus was aqcquired from Project Gutenberg. The program utilizes the pandas and spaCy libraries to clean up the dataset by lemmatizing it and removing stopwords, and then creates a dataframe based on the text. The program turns that dataframe into a .csv file, which contains the author (Shakespeare), the title of the work (The Sonnets), and the lemmas that are in the sonnet. Then, using latent Dirichlet allocation (LDA), the program creates a visual topic model which shows the patterns of co-occurring words across all 154 sonnets as topics. This program and visualization will hopefully show certain connections across the collection of sonnets that might otherwise be difficult to identify as a human reader. What topics emerge across the body of sonnets? How does Shakespeare's use of \"love\" or \"beauty\" change in different contexts?"
      ],
      "metadata": {
        "id": "anCczFMREiI_"
      }
    },
    {
      "cell_type": "markdown",
      "source": [
        "## Code"
      ],
      "metadata": {
        "id": "onl7OzmqEqME"
      }
    },
    {
      "cell_type": "code",
      "source": [
        "# importing the necessary libraries and tools for a topic model\n",
        "import requests\n",
        "import pandas as pd\n",
        "import spacy"
      ],
      "metadata": {
        "id": "FgNKmznzEQPF"
      },
      "execution_count": 1,
      "outputs": []
    },
    {
      "cell_type": "code",
      "source": [
        "nlp = spacy.load(\"en_core_web_sm\")\n",
        "nlp.disable_pipes('ner', 'parser')"
      ],
      "metadata": {
        "colab": {
          "base_uri": "https://localhost:8080/"
        },
        "id": "MST2pmvOwt00",
        "outputId": "ba8bef09-29dc-409b-9c65-66354b0091e7"
      },
      "execution_count": 2,
      "outputs": [
        {
          "output_type": "execute_result",
          "data": {
            "text/plain": [
              "['ner', 'parser']"
            ]
          },
          "metadata": {},
          "execution_count": 2
        }
      ]
    },
    {
      "cell_type": "code",
      "source": [
        "# URL is a .txt file of William Shakespeare's Sonnets\n",
        "response = requests.get('https://ia800300.us.archive.org/5/items/shakespearessonn01041gut/wssnt10.txt')\n",
        "text = response.text"
      ],
      "metadata": {
        "id": "bhubghZ3wu_a"
      },
      "execution_count": 3,
      "outputs": []
    },
    {
      "cell_type": "code",
      "source": [
        "# making sure the URL presents the text correctly\n",
        "text[:1000]"
      ],
      "metadata": {
        "colab": {
          "base_uri": "https://localhost:8080/",
          "height": 161
        },
        "id": "Wd8OUrSey9yg",
        "outputId": "77797531-f0bc-4861-c5fa-f079647c7685"
      },
      "execution_count": 4,
      "outputs": [
        {
          "output_type": "execute_result",
          "data": {
            "text/plain": [
              "\"*******The Project Gutenberg Etext of Shakespeare's Sonnets******\\r\\n#2 in our series by William Shakespeare\\r\\n\\r\\n[#1 in our series is the Complete Works of Shakespeare,\\r\\nas presented to use by the World Library, copyrighted.\\r\\nWe will be presenting those as individual plays, now that\\r\\nwe have we have reached the presentation of Etext #1,000]\\r\\n\\r\\nThis Etext was prepared by the Project Gutenberg Shakespeare Team.\\r\\nThis Etext is an independent production presented as Public Domain.\\r\\n\\r\\n\\r\\nCopyright laws are changing all over the world, be sure to check\\r\\nthe copyright laws for your country before posting these files!!\\r\\n\\r\\nPlease take a look at the important information in this header.\\r\\nWe encourage you to keep this file on your own disk, keeping an\\r\\nelectronic path open for the next readers.  Do not remove this.\\r\\n\\r\\n\\r\\n**Welcome To The World of Free Plain Vanilla Electronic Texts**\\r\\n\\r\\n**Etexts Readable By Both Humans and By Computers, Since 1971**\\r\\n\\r\\n*These Etexts Prepared By Hundreds of Volunteers \""
            ],
            "application/vnd.google.colaboratory.intrinsic+json": {
              "type": "string"
            }
          },
          "metadata": {},
          "execution_count": 4
        }
      ]
    },
    {
      "cell_type": "code",
      "source": [
        "# locating the beginning of the actual text\n",
        "text.find('From fairest creatures we desire increase,')"
      ],
      "metadata": {
        "colab": {
          "base_uri": "https://localhost:8080/"
        },
        "id": "AEbl6hWOzZ6k",
        "outputId": "c6ae8254-fbe7-4513-e5dd-9c79712d6cb2"
      },
      "execution_count": 5,
      "outputs": [
        {
          "output_type": "execute_result",
          "data": {
            "text/plain": [
              "11875"
            ]
          },
          "metadata": {},
          "execution_count": 5
        }
      ]
    },
    {
      "cell_type": "code",
      "source": [
        "# locating the end of the actual text\n",
        "text.find('End of The Project Gutenberg Etext of Shakespeare')"
      ],
      "metadata": {
        "colab": {
          "base_uri": "https://localhost:8080/"
        },
        "id": "FZsBdXClzrt3",
        "outputId": "73e3544d-adef-46bc-9a1c-daa0f5082db1"
      },
      "execution_count": 6,
      "outputs": [
        {
          "output_type": "execute_result",
          "data": {
            "text/plain": [
              "110188"
            ]
          },
          "metadata": {},
          "execution_count": 6
        }
      ]
    },
    {
      "cell_type": "code",
      "source": [
        "# setting the start and end parameters for the topic model\n",
        "start = 11875\n",
        "end = 110188 -1"
      ],
      "metadata": {
        "id": "S1fs_wBbz9fz"
      },
      "execution_count": 7,
      "outputs": []
    },
    {
      "cell_type": "code",
      "source": [
        "# setting a variable for the text\n",
        "sonnets = text[start:end]"
      ],
      "metadata": {
        "id": "Le4UprST0LLK"
      },
      "execution_count": 8,
      "outputs": []
    },
    {
      "cell_type": "code",
      "source": [
        "# splitting the text into paragraphs\n",
        "sonnets_paras = sonnets.split('\\r\\n\\r\\n')"
      ],
      "metadata": {
        "id": "Qsr0xUBC0WwE"
      },
      "execution_count": 9,
      "outputs": []
    },
    {
      "cell_type": "code",
      "source": [
        "# creating empty lists for the dataset\n",
        "author = []\n",
        "title = []"
      ],
      "metadata": {
        "id": "IWSD6jFU0cfO"
      },
      "execution_count": 10,
      "outputs": []
    },
    {
      "cell_type": "code",
      "source": [
        "# naming the columns in the dataframe\n",
        "for para in sonnets_paras:\n",
        "    author.append('William Shakespeare')\n",
        "    title.append('The Sonnets')"
      ],
      "metadata": {
        "id": "PtLbQ8eq0emx"
      },
      "execution_count": 11,
      "outputs": []
    },
    {
      "cell_type": "code",
      "source": [
        "# creating a dataframe\n",
        "sonnets_df = pd.DataFrame(list(zip(author, title, sonnets_paras)), columns=['author', 'title', 'text'])"
      ],
      "metadata": {
        "id": "QNX9lW920slq"
      },
      "execution_count": 12,
      "outputs": []
    },
    {
      "cell_type": "code",
      "source": [
        "# printing the dataframe\n",
        "sonnets_df.head"
      ],
      "metadata": {
        "colab": {
          "base_uri": "https://localhost:8080/"
        },
        "id": "1r7FyLcA0zOm",
        "outputId": "0d564fbf-ae6c-4a70-c925-c00f994cc48a"
      },
      "execution_count": 13,
      "outputs": [
        {
          "output_type": "execute_result",
          "data": {
            "text/plain": [
              "<bound method NDFrame.head of                   author        title  \\\n",
              "0    William Shakespeare  The Sonnets   \n",
              "1    William Shakespeare  The Sonnets   \n",
              "2    William Shakespeare  The Sonnets   \n",
              "3    William Shakespeare  The Sonnets   \n",
              "4    William Shakespeare  The Sonnets   \n",
              "..                   ...          ...   \n",
              "303  William Shakespeare  The Sonnets   \n",
              "304  William Shakespeare  The Sonnets   \n",
              "305  William Shakespeare  The Sonnets   \n",
              "306  William Shakespeare  The Sonnets   \n",
              "307  William Shakespeare  The Sonnets   \n",
              "\n",
              "                                                  text  \n",
              "0    From fairest creatures we desire increase,\\r\\n...  \n",
              "1                                                   II  \n",
              "2    When forty winters shall besiege thy brow,\\r\\n...  \n",
              "3                                                  III  \n",
              "4    Look in thy glass and tell the face thou viewe...  \n",
              "..                                                 ...  \n",
              "303  Cupid laid by his brand and fell asleep:\\r\\nA ...  \n",
              "304                                               CLIV  \n",
              "305  The little Love-god lying once asleep,\\r\\nLaid...  \n",
              "306                                                     \n",
              "307                                             \\r\\n\\r  \n",
              "\n",
              "[308 rows x 3 columns]>"
            ]
          },
          "metadata": {},
          "execution_count": 13
        }
      ]
    },
    {
      "cell_type": "code",
      "source": [
        "# processes text by removing new line characters and stopwords, and lemmatizing text\n",
        "def process_text(text):\n",
        "    text = text.replace('\\n', ' ')\n",
        "    doc = nlp(text)\n",
        "    e_stopwords = ['thy', 'thou', 'thee', 'o', 'shalt', 'art', 'doth', 'O','Thine','thine','Thee','Thou', 'shall', 'dost']\n",
        "    tokens = [token for token in doc]\n",
        "    no_stops = [token for token in tokens if not token.is_stop]\n",
        "    no_punct = [token for token in no_stops if token.is_alpha]\n",
        "    no_elizabethan_stopwords = [token for token in no_punct if token.text not in e_stopwords]\n",
        "    lemmas = [token.lemma_ for token in no_elizabethan_stopwords]\n",
        "    lemmas_lower = [lemma.lower() for lemma in lemmas]\n",
        "    lemmas_string = ' '.join(lemmas_lower)\n",
        "    return lemmas_string"
      ],
      "metadata": {
        "id": "HpA27ur61HGm"
      },
      "execution_count": 39,
      "outputs": []
    },
    {
      "cell_type": "code",
      "source": [
        "# adding a new column to the dataframe for lemmas and applying the process function\n",
        "sonnets_df['lemmas'] = sonnets_df['text'].apply(process_text)"
      ],
      "metadata": {
        "id": "dkFQy0X-1Mb2"
      },
      "execution_count": 40,
      "outputs": []
    },
    {
      "cell_type": "code",
      "source": [
        "# printing dataset again\n",
        "sonnets_df.head"
      ],
      "metadata": {
        "colab": {
          "base_uri": "https://localhost:8080/"
        },
        "id": "LY4cRY5x1SH_",
        "outputId": "7dae1d5f-7981-470a-a1d3-b47c14078d3d"
      },
      "execution_count": 41,
      "outputs": [
        {
          "output_type": "execute_result",
          "data": {
            "text/plain": [
              "<bound method NDFrame.head of                   author        title  \\\n",
              "0    William Shakespeare  The Sonnets   \n",
              "1    William Shakespeare  The Sonnets   \n",
              "2    William Shakespeare  The Sonnets   \n",
              "3    William Shakespeare  The Sonnets   \n",
              "4    William Shakespeare  The Sonnets   \n",
              "..                   ...          ...   \n",
              "303  William Shakespeare  The Sonnets   \n",
              "304  William Shakespeare  The Sonnets   \n",
              "305  William Shakespeare  The Sonnets   \n",
              "306  William Shakespeare  The Sonnets   \n",
              "307  William Shakespeare  The Sonnets   \n",
              "\n",
              "                                                  text  \\\n",
              "0    From fairest creatures we desire increase,\\r\\n...   \n",
              "1                                                   II   \n",
              "2    When forty winters shall besiege thy brow,\\r\\n...   \n",
              "3                                                  III   \n",
              "4    Look in thy glass and tell the face thou viewe...   \n",
              "..                                                 ...   \n",
              "303  Cupid laid by his brand and fell asleep:\\r\\nA ...   \n",
              "304                                               CLIV   \n",
              "305  The little Love-god lying once asleep,\\r\\nLaid...   \n",
              "306                                                      \n",
              "307                                             \\r\\n\\r   \n",
              "\n",
              "                                                lemmas  \n",
              "0    fair creature desire increase beauty rose die ...  \n",
              "1                                                   ii  \n",
              "2    winter besiege brow dig deep trench beauty fie...  \n",
              "3                                                  iii  \n",
              "4    look glass tell face viewest time face form fr...  \n",
              "..                                                 ...  \n",
              "303  cupid lay brand fall asleep maid dian advantag...  \n",
              "304                                               cliv  \n",
              "305  little love god lie asleep lay heart inflame b...  \n",
              "306                                                     \n",
              "307                                                     \n",
              "\n",
              "[308 rows x 4 columns]>"
            ]
          },
          "metadata": {},
          "execution_count": 41
        }
      ]
    },
    {
      "cell_type": "code",
      "source": [
        "# saving the dataframe as a .csv\n",
        "sonnets_df.to_csv('shakespeare_dataframe.csv', index=False)"
      ],
      "metadata": {
        "id": "oJn_GROf1jsD"
      },
      "execution_count": 42,
      "outputs": []
    },
    {
      "cell_type": "code",
      "source": [
        "# installing the necessary libraries\n",
        "! pip install funcy"
      ],
      "metadata": {
        "colab": {
          "base_uri": "https://localhost:8080/"
        },
        "id": "Ojs9IX6i2TFD",
        "outputId": "6be4e20e-9805-422e-a33e-848269deff57"
      },
      "execution_count": 43,
      "outputs": [
        {
          "output_type": "stream",
          "name": "stdout",
          "text": [
            "Requirement already satisfied: funcy in /usr/local/lib/python3.10/dist-packages (2.0)\n"
          ]
        }
      ]
    },
    {
      "cell_type": "code",
      "source": [
        "! pip install tzdata"
      ],
      "metadata": {
        "colab": {
          "base_uri": "https://localhost:8080/"
        },
        "id": "YWJ1UFqx2XoE",
        "outputId": "5633d7b3-500d-41ed-9428-90de3d7eb930"
      },
      "execution_count": 19,
      "outputs": [
        {
          "output_type": "stream",
          "name": "stdout",
          "text": [
            "Collecting tzdata\n",
            "  Downloading tzdata-2023.3-py2.py3-none-any.whl (341 kB)\n",
            "\u001b[2K     \u001b[90m━━━━━━━━━━━━━━━━━━━━━━━━━━━━━━━━━━━━━━━━\u001b[0m \u001b[32m341.8/341.8 kB\u001b[0m \u001b[31m2.9 MB/s\u001b[0m eta \u001b[36m0:00:00\u001b[0m\n",
            "\u001b[?25hInstalling collected packages: tzdata\n",
            "Successfully installed tzdata-2023.3\n"
          ]
        }
      ]
    },
    {
      "cell_type": "code",
      "source": [
        "! pip install --no-dependencies pyLDAvis"
      ],
      "metadata": {
        "colab": {
          "base_uri": "https://localhost:8080/"
        },
        "id": "Fg4EH2PQ2bXn",
        "outputId": "ced258ea-0569-4587-8e4f-6227f59fe708"
      },
      "execution_count": 20,
      "outputs": [
        {
          "output_type": "stream",
          "name": "stdout",
          "text": [
            "Collecting pyLDAvis\n",
            "  Downloading pyLDAvis-3.4.1-py3-none-any.whl (2.6 MB)\n",
            "\u001b[2K     \u001b[90m━━━━━━━━━━━━━━━━━━━━━━━━━━━━━━━━━━━━━━━━\u001b[0m \u001b[32m2.6/2.6 MB\u001b[0m \u001b[31m10.0 MB/s\u001b[0m eta \u001b[36m0:00:00\u001b[0m\n",
            "\u001b[?25hInstalling collected packages: pyLDAvis\n",
            "Successfully installed pyLDAvis-3.4.1\n"
          ]
        }
      ]
    },
    {
      "cell_type": "code",
      "source": [
        "! pip install wget"
      ],
      "metadata": {
        "colab": {
          "base_uri": "https://localhost:8080/"
        },
        "id": "1nGzvOw02f-x",
        "outputId": "638d5e14-1e86-44f1-c6d5-9bad46c4db03"
      },
      "execution_count": 21,
      "outputs": [
        {
          "output_type": "stream",
          "name": "stdout",
          "text": [
            "Collecting wget\n",
            "  Downloading wget-3.2.zip (10 kB)\n",
            "  Preparing metadata (setup.py) ... \u001b[?25l\u001b[?25hdone\n",
            "Building wheels for collected packages: wget\n",
            "  Building wheel for wget (setup.py) ... \u001b[?25l\u001b[?25hdone\n",
            "  Created wheel for wget: filename=wget-3.2-py3-none-any.whl size=9655 sha256=18492c4dff45f6afba85ec21fc07bd2d6e17b344f931cb3e1231cf1057e056e5\n",
            "  Stored in directory: /root/.cache/pip/wheels/8b/f1/7f/5c94f0a7a505ca1c81cd1d9208ae2064675d97582078e6c769\n",
            "Successfully built wget\n",
            "Installing collected packages: wget\n",
            "Successfully installed wget-3.2\n"
          ]
        }
      ]
    },
    {
      "cell_type": "code",
      "source": [
        "from collections import defaultdict\n",
        "import wget\n",
        "from gensim import corpora, models\n",
        "from google.colab import files  # <-- only necessary if you are using Colab\n",
        "import io # <-- only necessary if you are using Colab\n",
        "import pandas as pd\n",
        "import pyLDAvis.gensim\n",
        "import warnings\n",
        "warnings.filterwarnings(\"ignore\", category=DeprecationWarning)"
      ],
      "metadata": {
        "id": "Z_oLz4YR2hsz"
      },
      "execution_count": 44,
      "outputs": []
    },
    {
      "cell_type": "code",
      "source": [
        "documents = sonnets_df['lemmas'].to_list()"
      ],
      "metadata": {
        "id": "ESZGtxXyApP2"
      },
      "execution_count": 45,
      "outputs": []
    },
    {
      "cell_type": "code",
      "source": [
        "# removing floats from dataframe\n",
        "floats= []\n",
        "for d in documents:\n",
        "  if type(d)== float:\n",
        "    floats.append(d)"
      ],
      "metadata": {
        "id": "Esh8SS8C5LP-"
      },
      "execution_count": 46,
      "outputs": []
    },
    {
      "cell_type": "code",
      "source": [
        "floats"
      ],
      "metadata": {
        "colab": {
          "base_uri": "https://localhost:8080/"
        },
        "id": "LMY83kwb5OTI",
        "outputId": "de9b4218-057e-4c39-f6fb-16bfb54630b1"
      },
      "execution_count": 47,
      "outputs": [
        {
          "output_type": "execute_result",
          "data": {
            "text/plain": [
              "[]"
            ]
          },
          "metadata": {},
          "execution_count": 47
        }
      ]
    },
    {
      "cell_type": "code",
      "source": [
        "clean = sonnets_df.dropna()\n"
      ],
      "metadata": {
        "id": "0Vo4bz6j5Tr2"
      },
      "execution_count": 48,
      "outputs": []
    },
    {
      "cell_type": "code",
      "source": [
        "# saving the clean dataframe as a csv\n",
        "clean.to_csv('shakespeare_dataframe_clean.csv')"
      ],
      "metadata": {
        "id": "KKlwMRzg5YtY"
      },
      "execution_count": 49,
      "outputs": []
    },
    {
      "cell_type": "code",
      "source": [
        "# reading the csv as a dataframe\n",
        "df = pd.read_csv('shakespeare_dataframe_clean.csv')"
      ],
      "metadata": {
        "id": "sziMhDv55uYg"
      },
      "execution_count": 50,
      "outputs": []
    },
    {
      "cell_type": "code",
      "source": [
        "df.head()"
      ],
      "metadata": {
        "colab": {
          "base_uri": "https://localhost:8080/",
          "height": 206
        },
        "id": "KVJv5AQ455GI",
        "outputId": "baccdcf3-5b76-43ce-9b60-ff68efc5d86c"
      },
      "execution_count": 51,
      "outputs": [
        {
          "output_type": "execute_result",
          "data": {
            "text/plain": [
              "   Unnamed: 0               author        title  \\\n",
              "0           0  William Shakespeare  The Sonnets   \n",
              "1           1  William Shakespeare  The Sonnets   \n",
              "2           2  William Shakespeare  The Sonnets   \n",
              "3           3  William Shakespeare  The Sonnets   \n",
              "4           4  William Shakespeare  The Sonnets   \n",
              "\n",
              "                                                text  \\\n",
              "0  From fairest creatures we desire increase,\\r\\n...   \n",
              "1                                                 II   \n",
              "2  When forty winters shall besiege thy brow,\\r\\n...   \n",
              "3                                                III   \n",
              "4  Look in thy glass and tell the face thou viewe...   \n",
              "\n",
              "                                              lemmas  \n",
              "0  fair creature desire increase beauty rose die ...  \n",
              "1                                                 ii  \n",
              "2  winter besiege brow dig deep trench beauty fie...  \n",
              "3                                                iii  \n",
              "4  look glass tell face viewest time face form fr...  "
            ],
            "text/html": [
              "\n",
              "  <div id=\"df-e4fd44e8-cc3f-4671-b4b0-f28dfecbbcd7\" class=\"colab-df-container\">\n",
              "    <div>\n",
              "<style scoped>\n",
              "    .dataframe tbody tr th:only-of-type {\n",
              "        vertical-align: middle;\n",
              "    }\n",
              "\n",
              "    .dataframe tbody tr th {\n",
              "        vertical-align: top;\n",
              "    }\n",
              "\n",
              "    .dataframe thead th {\n",
              "        text-align: right;\n",
              "    }\n",
              "</style>\n",
              "<table border=\"1\" class=\"dataframe\">\n",
              "  <thead>\n",
              "    <tr style=\"text-align: right;\">\n",
              "      <th></th>\n",
              "      <th>Unnamed: 0</th>\n",
              "      <th>author</th>\n",
              "      <th>title</th>\n",
              "      <th>text</th>\n",
              "      <th>lemmas</th>\n",
              "    </tr>\n",
              "  </thead>\n",
              "  <tbody>\n",
              "    <tr>\n",
              "      <th>0</th>\n",
              "      <td>0</td>\n",
              "      <td>William Shakespeare</td>\n",
              "      <td>The Sonnets</td>\n",
              "      <td>From fairest creatures we desire increase,\\r\\n...</td>\n",
              "      <td>fair creature desire increase beauty rose die ...</td>\n",
              "    </tr>\n",
              "    <tr>\n",
              "      <th>1</th>\n",
              "      <td>1</td>\n",
              "      <td>William Shakespeare</td>\n",
              "      <td>The Sonnets</td>\n",
              "      <td>II</td>\n",
              "      <td>ii</td>\n",
              "    </tr>\n",
              "    <tr>\n",
              "      <th>2</th>\n",
              "      <td>2</td>\n",
              "      <td>William Shakespeare</td>\n",
              "      <td>The Sonnets</td>\n",
              "      <td>When forty winters shall besiege thy brow,\\r\\n...</td>\n",
              "      <td>winter besiege brow dig deep trench beauty fie...</td>\n",
              "    </tr>\n",
              "    <tr>\n",
              "      <th>3</th>\n",
              "      <td>3</td>\n",
              "      <td>William Shakespeare</td>\n",
              "      <td>The Sonnets</td>\n",
              "      <td>III</td>\n",
              "      <td>iii</td>\n",
              "    </tr>\n",
              "    <tr>\n",
              "      <th>4</th>\n",
              "      <td>4</td>\n",
              "      <td>William Shakespeare</td>\n",
              "      <td>The Sonnets</td>\n",
              "      <td>Look in thy glass and tell the face thou viewe...</td>\n",
              "      <td>look glass tell face viewest time face form fr...</td>\n",
              "    </tr>\n",
              "  </tbody>\n",
              "</table>\n",
              "</div>\n",
              "    <div class=\"colab-df-buttons\">\n",
              "\n",
              "  <div class=\"colab-df-container\">\n",
              "    <button class=\"colab-df-convert\" onclick=\"convertToInteractive('df-e4fd44e8-cc3f-4671-b4b0-f28dfecbbcd7')\"\n",
              "            title=\"Convert this dataframe to an interactive table.\"\n",
              "            style=\"display:none;\">\n",
              "\n",
              "  <svg xmlns=\"http://www.w3.org/2000/svg\" height=\"24px\" viewBox=\"0 -960 960 960\">\n",
              "    <path d=\"M120-120v-720h720v720H120Zm60-500h600v-160H180v160Zm220 220h160v-160H400v160Zm0 220h160v-160H400v160ZM180-400h160v-160H180v160Zm440 0h160v-160H620v160ZM180-180h160v-160H180v160Zm440 0h160v-160H620v160Z\"/>\n",
              "  </svg>\n",
              "    </button>\n",
              "\n",
              "  <style>\n",
              "    .colab-df-container {\n",
              "      display:flex;\n",
              "      gap: 12px;\n",
              "    }\n",
              "\n",
              "    .colab-df-convert {\n",
              "      background-color: #E8F0FE;\n",
              "      border: none;\n",
              "      border-radius: 50%;\n",
              "      cursor: pointer;\n",
              "      display: none;\n",
              "      fill: #1967D2;\n",
              "      height: 32px;\n",
              "      padding: 0 0 0 0;\n",
              "      width: 32px;\n",
              "    }\n",
              "\n",
              "    .colab-df-convert:hover {\n",
              "      background-color: #E2EBFA;\n",
              "      box-shadow: 0px 1px 2px rgba(60, 64, 67, 0.3), 0px 1px 3px 1px rgba(60, 64, 67, 0.15);\n",
              "      fill: #174EA6;\n",
              "    }\n",
              "\n",
              "    .colab-df-buttons div {\n",
              "      margin-bottom: 4px;\n",
              "    }\n",
              "\n",
              "    [theme=dark] .colab-df-convert {\n",
              "      background-color: #3B4455;\n",
              "      fill: #D2E3FC;\n",
              "    }\n",
              "\n",
              "    [theme=dark] .colab-df-convert:hover {\n",
              "      background-color: #434B5C;\n",
              "      box-shadow: 0px 1px 3px 1px rgba(0, 0, 0, 0.15);\n",
              "      filter: drop-shadow(0px 1px 2px rgba(0, 0, 0, 0.3));\n",
              "      fill: #FFFFFF;\n",
              "    }\n",
              "  </style>\n",
              "\n",
              "    <script>\n",
              "      const buttonEl =\n",
              "        document.querySelector('#df-e4fd44e8-cc3f-4671-b4b0-f28dfecbbcd7 button.colab-df-convert');\n",
              "      buttonEl.style.display =\n",
              "        google.colab.kernel.accessAllowed ? 'block' : 'none';\n",
              "\n",
              "      async function convertToInteractive(key) {\n",
              "        const element = document.querySelector('#df-e4fd44e8-cc3f-4671-b4b0-f28dfecbbcd7');\n",
              "        const dataTable =\n",
              "          await google.colab.kernel.invokeFunction('convertToInteractive',\n",
              "                                                    [key], {});\n",
              "        if (!dataTable) return;\n",
              "\n",
              "        const docLinkHtml = 'Like what you see? Visit the ' +\n",
              "          '<a target=\"_blank\" href=https://colab.research.google.com/notebooks/data_table.ipynb>data table notebook</a>'\n",
              "          + ' to learn more about interactive tables.';\n",
              "        element.innerHTML = '';\n",
              "        dataTable['output_type'] = 'display_data';\n",
              "        await google.colab.output.renderOutput(dataTable, element);\n",
              "        const docLink = document.createElement('div');\n",
              "        docLink.innerHTML = docLinkHtml;\n",
              "        element.appendChild(docLink);\n",
              "      }\n",
              "    </script>\n",
              "  </div>\n",
              "\n",
              "\n",
              "<div id=\"df-ee351a12-14f3-4f7a-b34f-0801655d188f\">\n",
              "  <button class=\"colab-df-quickchart\" onclick=\"quickchart('df-ee351a12-14f3-4f7a-b34f-0801655d188f')\"\n",
              "            title=\"Suggest charts\"\n",
              "            style=\"display:none;\">\n",
              "\n",
              "<svg xmlns=\"http://www.w3.org/2000/svg\" height=\"24px\"viewBox=\"0 0 24 24\"\n",
              "     width=\"24px\">\n",
              "    <g>\n",
              "        <path d=\"M19 3H5c-1.1 0-2 .9-2 2v14c0 1.1.9 2 2 2h14c1.1 0 2-.9 2-2V5c0-1.1-.9-2-2-2zM9 17H7v-7h2v7zm4 0h-2V7h2v10zm4 0h-2v-4h2v4z\"/>\n",
              "    </g>\n",
              "</svg>\n",
              "  </button>\n",
              "\n",
              "<style>\n",
              "  .colab-df-quickchart {\n",
              "      --bg-color: #E8F0FE;\n",
              "      --fill-color: #1967D2;\n",
              "      --hover-bg-color: #E2EBFA;\n",
              "      --hover-fill-color: #174EA6;\n",
              "      --disabled-fill-color: #AAA;\n",
              "      --disabled-bg-color: #DDD;\n",
              "  }\n",
              "\n",
              "  [theme=dark] .colab-df-quickchart {\n",
              "      --bg-color: #3B4455;\n",
              "      --fill-color: #D2E3FC;\n",
              "      --hover-bg-color: #434B5C;\n",
              "      --hover-fill-color: #FFFFFF;\n",
              "      --disabled-bg-color: #3B4455;\n",
              "      --disabled-fill-color: #666;\n",
              "  }\n",
              "\n",
              "  .colab-df-quickchart {\n",
              "    background-color: var(--bg-color);\n",
              "    border: none;\n",
              "    border-radius: 50%;\n",
              "    cursor: pointer;\n",
              "    display: none;\n",
              "    fill: var(--fill-color);\n",
              "    height: 32px;\n",
              "    padding: 0;\n",
              "    width: 32px;\n",
              "  }\n",
              "\n",
              "  .colab-df-quickchart:hover {\n",
              "    background-color: var(--hover-bg-color);\n",
              "    box-shadow: 0 1px 2px rgba(60, 64, 67, 0.3), 0 1px 3px 1px rgba(60, 64, 67, 0.15);\n",
              "    fill: var(--button-hover-fill-color);\n",
              "  }\n",
              "\n",
              "  .colab-df-quickchart-complete:disabled,\n",
              "  .colab-df-quickchart-complete:disabled:hover {\n",
              "    background-color: var(--disabled-bg-color);\n",
              "    fill: var(--disabled-fill-color);\n",
              "    box-shadow: none;\n",
              "  }\n",
              "\n",
              "  .colab-df-spinner {\n",
              "    border: 2px solid var(--fill-color);\n",
              "    border-color: transparent;\n",
              "    border-bottom-color: var(--fill-color);\n",
              "    animation:\n",
              "      spin 1s steps(1) infinite;\n",
              "  }\n",
              "\n",
              "  @keyframes spin {\n",
              "    0% {\n",
              "      border-color: transparent;\n",
              "      border-bottom-color: var(--fill-color);\n",
              "      border-left-color: var(--fill-color);\n",
              "    }\n",
              "    20% {\n",
              "      border-color: transparent;\n",
              "      border-left-color: var(--fill-color);\n",
              "      border-top-color: var(--fill-color);\n",
              "    }\n",
              "    30% {\n",
              "      border-color: transparent;\n",
              "      border-left-color: var(--fill-color);\n",
              "      border-top-color: var(--fill-color);\n",
              "      border-right-color: var(--fill-color);\n",
              "    }\n",
              "    40% {\n",
              "      border-color: transparent;\n",
              "      border-right-color: var(--fill-color);\n",
              "      border-top-color: var(--fill-color);\n",
              "    }\n",
              "    60% {\n",
              "      border-color: transparent;\n",
              "      border-right-color: var(--fill-color);\n",
              "    }\n",
              "    80% {\n",
              "      border-color: transparent;\n",
              "      border-right-color: var(--fill-color);\n",
              "      border-bottom-color: var(--fill-color);\n",
              "    }\n",
              "    90% {\n",
              "      border-color: transparent;\n",
              "      border-bottom-color: var(--fill-color);\n",
              "    }\n",
              "  }\n",
              "</style>\n",
              "\n",
              "  <script>\n",
              "    async function quickchart(key) {\n",
              "      const quickchartButtonEl =\n",
              "        document.querySelector('#' + key + ' button');\n",
              "      quickchartButtonEl.disabled = true;  // To prevent multiple clicks.\n",
              "      quickchartButtonEl.classList.add('colab-df-spinner');\n",
              "      try {\n",
              "        const charts = await google.colab.kernel.invokeFunction(\n",
              "            'suggestCharts', [key], {});\n",
              "      } catch (error) {\n",
              "        console.error('Error during call to suggestCharts:', error);\n",
              "      }\n",
              "      quickchartButtonEl.classList.remove('colab-df-spinner');\n",
              "      quickchartButtonEl.classList.add('colab-df-quickchart-complete');\n",
              "    }\n",
              "    (() => {\n",
              "      let quickchartButtonEl =\n",
              "        document.querySelector('#df-ee351a12-14f3-4f7a-b34f-0801655d188f button');\n",
              "      quickchartButtonEl.style.display =\n",
              "        google.colab.kernel.accessAllowed ? 'block' : 'none';\n",
              "    })();\n",
              "  </script>\n",
              "</div>\n",
              "    </div>\n",
              "  </div>\n"
            ]
          },
          "metadata": {},
          "execution_count": 51
        }
      ]
    },
    {
      "cell_type": "code",
      "source": [
        "# creating topic model\n",
        "texts =[\n",
        "    [word for word in document.lower().split()]\n",
        "    for document in documents\n",
        "]"
      ],
      "metadata": {
        "id": "gRW1TAqu6GDF"
      },
      "execution_count": 52,
      "outputs": []
    },
    {
      "cell_type": "code",
      "source": [
        "frequency = defaultdict(int)\n",
        "for text in texts:\n",
        "  for token in text:\n",
        "    frequency[token] += 1"
      ],
      "metadata": {
        "id": "E95tMx366I6T"
      },
      "execution_count": 53,
      "outputs": []
    },
    {
      "cell_type": "code",
      "source": [
        "texts = [\n",
        "    [token for token in text if frequency[token] > 1]\n",
        "    for text in texts\n",
        "]"
      ],
      "metadata": {
        "id": "9THJr3DF6XYL"
      },
      "execution_count": 54,
      "outputs": []
    },
    {
      "cell_type": "code",
      "source": [
        "dictionary = corpora.Dictionary(texts)"
      ],
      "metadata": {
        "id": "M3MQqNBs6bky"
      },
      "execution_count": 55,
      "outputs": []
    },
    {
      "cell_type": "code",
      "source": [
        "corpus = [dictionary.doc2bow(text) for text in texts]"
      ],
      "metadata": {
        "id": "riPDc5y76kPZ"
      },
      "execution_count": 56,
      "outputs": []
    },
    {
      "cell_type": "code",
      "source": [
        "lda_model = models.LdaModel(corpus=corpus, id2word=dictionary, num_topics=20, passes=50)"
      ],
      "metadata": {
        "id": "UsnzdwVV6nXD"
      },
      "execution_count": 57,
      "outputs": []
    },
    {
      "cell_type": "code",
      "source": [
        "pyLDAvis.enable_notebook()\n",
        "vis = pyLDAvis.gensim.prepare(lda_model, corpus, dictionary)\n",
        "vis"
      ],
      "metadata": {
        "id": "u1H2MY7z6s0U",
        "outputId": "beb11814-f891-41a0-9653-b08f49c08045",
        "colab": {
          "base_uri": "https://localhost:8080/",
          "height": 861
        }
      },
      "execution_count": 58,
      "outputs": [
        {
          "output_type": "execute_result",
          "data": {
            "text/plain": [
              "PreparedData(topic_coordinates=              x         y  topics  cluster       Freq\n",
              "topic                                                \n",
              "19     0.021341 -0.039624       1        1  13.791841\n",
              "15     0.063952  0.036845       2        1  13.625865\n",
              "3      0.053832  0.060573       3        1   6.725389\n",
              "10     0.057308 -0.080026       4        1   6.676288\n",
              "0      0.090148 -0.052326       5        1   6.234665\n",
              "12    -0.050143 -0.102086       6        1   5.271019\n",
              "6     -0.054376 -0.132017       7        1   5.001926\n",
              "7     -0.052466 -0.072326       8        1   4.885966\n",
              "14    -0.099284  0.050083       9        1   4.166486\n",
              "8     -0.118896  0.028847      10        1   4.084666\n",
              "9      0.075187 -0.051482      11        1   3.705435\n",
              "17     0.095416 -0.064802      12        1   3.592342\n",
              "13     0.182484  0.095817      13        1   3.441034\n",
              "1     -0.009356  0.069768      14        1   3.326375\n",
              "4     -0.057369  0.145077      15        1   3.238060\n",
              "5     -0.012533  0.038661      16        1   3.236835\n",
              "16     0.022649  0.010773      17        1   3.210395\n",
              "18    -0.109065 -0.040487      18        1   2.018248\n",
              "2     -0.063388  0.081923      19        1   1.916713\n",
              "11    -0.035443  0.016809      20        1   1.850454, topic_info=      Term        Freq       Total Category  logprob  loglift\n",
              "393  heart   52.000000   52.000000  Default  30.0000  30.0000\n",
              "14     eye   80.000000   80.000000  Default  29.0000  29.0000\n",
              "35    time   67.000000   67.000000  Default  28.0000  28.0000\n",
              "80    love  187.000000  187.000000  Default  27.0000  27.0000\n",
              "30    self   40.000000   40.000000  Default  26.0000  26.0000\n",
              "..     ...         ...         ...      ...      ...      ...\n",
              "198     ah    0.745426    6.517948  Topic20  -5.0091   1.8214\n",
              "311    man    0.745426   24.118714  Topic20  -5.0091   0.5130\n",
              "348   hide    0.745426    8.527365  Topic20  -5.0091   1.5527\n",
              "430  speak    0.745426   11.194501  Topic20  -5.0091   1.2805\n",
              "498  grief    0.745426    6.769771  Topic20  -5.0091   1.7835\n",
              "\n",
              "[1191 rows x 6 columns], token_table=      Topic      Freq      Term\n",
              "term                           \n",
              "998       2  0.744736     abhor\n",
              "622       1  0.206710   absence\n",
              "622       7  0.206710   absence\n",
              "622      15  0.206710   absence\n",
              "622      20  0.206710   absence\n",
              "...     ...       ...       ...\n",
              "65        6  0.134442     youth\n",
              "65        9  0.067221     youth\n",
              "65       11  0.067221     youth\n",
              "65       16  0.134442     youth\n",
              "324      16  0.819589  youthful\n",
              "\n",
              "[2622 rows x 3 columns], R=30, lambda_step=0.01, plot_opts={'xlab': 'PC1', 'ylab': 'PC2'}, topic_order=[20, 16, 4, 11, 1, 13, 7, 8, 15, 9, 10, 18, 14, 2, 5, 6, 17, 19, 3, 12])"
            ],
            "text/html": [
              "\n",
              "<link rel=\"stylesheet\" type=\"text/css\" href=\"https://cdn.jsdelivr.net/gh/bmabey/pyLDAvis@3.4.0/pyLDAvis/js/ldavis.v1.0.0.css\">\n",
              "\n",
              "\n",
              "<div id=\"ldavis_el7051332322720670407185240788\" style=\"background-color:white;\"></div>\n",
              "<script type=\"text/javascript\">\n",
              "\n",
              "var ldavis_el7051332322720670407185240788_data = {\"mdsDat\": {\"x\": [0.021341339718952062, 0.06395156120519038, 0.05383190655386486, 0.057308252904809426, 0.09014843077701523, -0.05014251632440459, -0.054375868389602504, -0.05246574689741341, -0.09928406446765663, -0.11889560352507941, 0.07518667313792605, 0.09541614130718688, 0.18248377439012012, -0.009356364497577629, -0.057368667338113966, -0.012532999779584102, 0.022649489679725455, -0.10906529915758967, -0.06338756170100293, -0.03544287759676547], \"y\": [-0.03962432540288904, 0.03684527798519768, 0.060573455650669725, -0.08002589489244971, -0.05232633681634126, -0.10208629659917222, -0.13201656433485265, -0.0723255873972939, 0.05008297923956352, 0.028847475826028358, -0.05148224376027324, -0.06480187679674301, 0.09581732111923007, 0.06976794978738363, 0.14507673189742823, 0.03866055996649329, 0.010772734114619252, -0.04048715983982348, 0.08192306661439254, 0.016808733638833305], \"topics\": [1, 2, 3, 4, 5, 6, 7, 8, 9, 10, 11, 12, 13, 14, 15, 16, 17, 18, 19, 20], \"cluster\": [1, 1, 1, 1, 1, 1, 1, 1, 1, 1, 1, 1, 1, 1, 1, 1, 1, 1, 1, 1], \"Freq\": [13.79184116795753, 13.62586461619257, 6.725388828576798, 6.676287838208755, 6.234665412368693, 5.271018592750994, 5.001925813740106, 4.885965541943628, 4.166485568549497, 4.0846662063957355, 3.7054347320460486, 3.592341795063922, 3.4410335609660954, 3.326374967893781, 3.2380601339509893, 3.2368352156091325, 3.2103948611003417, 2.018248151923183, 1.916713253084239, 1.8504537416779592]}, \"tinfo\": {\"Term\": [\"heart\", \"eye\", \"time\", \"love\", \"self\", \"think\", \"world\", \"night\", \"sweet\", \"praise\", \"day\", \"fair\", \"hate\", \"thy\", \"thought\", \"look\", \"beauty\", \"muse\", \"tell\", \"face\", \"new\", \"leave\", \"let\", \"hath\", \"woman\", \"shadow\", \"far\", \"truth\", \"mind\", \"pity\", \"god\", \"cool\", \"dust\", \"map\", \"seldom\", \"special\", \"wondrous\", \"bough\", \"rime\", \"peace\", \"expire\", \"creation\", \"beloved\", \"limb\", \"second\", \"antique\", \"feast\", \"black\", \"acquaintance\", \"bastard\", \"burthen\", \"survey\", \"character\", \"divine\", \"wait\", \"cover\", \"express\", \"behold\", \"old\", \"brow\", \"age\", \"love\", \"beauty\", \"save\", \"new\", \"kind\", \"look\", \"day\", \"fair\", \"sweet\", \"time\", \"true\", \"live\", \"hand\", \"make\", \"thought\", \"hath\", \"hour\", \"place\", \"line\", \"fire\", \"false\", \"friend\", \"find\", \"away\", \"death\", \"like\", \"heart\", \"grow\", \"bear\", \"eye\", \"praise\", \"oath\", \"conscience\", \"drink\", \"guilty\", \"hadst\", \"assure\", \"sway\", \"abhor\", \"cupid\", \"lame\", \"kindness\", \"physician\", \"vainly\", \"swear\", \"lest\", \"public\", \"help\", \"alter\", \"pity\", \"bath\", \"cure\", \"vow\", \"disdain\", \"brief\", \"faith\", \"bend\", \"forswear\", \"simple\", \"depend\", \"evermore\", \"mourn\", \"thyself\", \"brand\", \"love\", \"shame\", \"star\", \"truth\", \"know\", \"hate\", \"good\", \"ill\", \"mind\", \"lie\", \"bad\", \"mad\", \"wrong\", \"self\", \"tell\", \"eye\", \"life\", \"bear\", \"find\", \"think\", \"deed\", \"true\", \"desire\", \"new\", \"fire\", \"world\", \"tongue\", \"like\", \"beauty\", \"heart\", \"prove\", \"happy\", \"lamb\", \"translate\", \"sacred\", \"fore\", \"extreme\", \"lust\", \"reason\", \"reign\", \"daily\", \"action\", \"expense\", \"past\", \"king\", \"lead\", \"morrow\", \"burn\", \"convert\", \"appetite\", \"mad\", \"part\", \"physic\", \"reckon\", \"contract\", \"woe\", \"renew\", \"pilgrimage\", \"sullen\", \"pursuit\", \"gate\", \"accident\", \"soon\", \"moan\", \"bury\", \"despise\", \"state\", \"return\", \"thing\", \"feed\", \"strong\", \"like\", \"fault\", \"love\", \"heaven\", \"friend\", \"time\", \"look\", \"eye\", \"grace\", \"man\", \"new\", \"day\", \"think\", \"youth\", \"long\", \"dear\", \"thy\", \"know\", \"thought\", \"hath\", \"sweet\", \"night\", \"ignorance\", \"gold\", \"shade\", \"high\", \"air\", \"slander\", \"suspect\", \"wert\", \"ride\", \"truly\", \"clear\", \"bright\", \"sweetest\", \"pass\", \"mend\", \"wing\", \"paper\", \"flee\", \"limit\", \"influence\", \"fly\", \"crow\", \"dote\", \"kingdom\", \"envy\", \"blessing\", \"mistake\", \"owe\", \"vice\", \"victor\", \"heaven\", \"judgment\", \"believe\", \"dream\", \"touch\", \"use\", \"fair\", \"verse\", \"eye\", \"heavy\", \"tie\", \"eternal\", \"grace\", \"shadow\", \"true\", \"day\", \"write\", \"praise\", \"look\", \"man\", \"love\", \"muse\", \"heart\", \"know\", \"worth\", \"time\", \"hath\", \"summer\", \"face\", \"see\", \"night\", \"beauty\", \"find\", \"woman\", \"angel\", \"unseen\", \"trifle\", \"guess\", \"cxxxiii\", \"woo\", \"win\", \"evil\", \"comfort\", \"commit\", \"beat\", \"besiege\", \"fiend\", \"morn\", \"sourly\", \"careful\", \"thievish\", \"fashion\", \"goodness\", \"policy\", \"doting\", \"forbear\", \"ward\", \"temptation\", \"mountain\", \"purge\", \"soil\", \"small\", \"ay\", \"hell\", \"cloud\", \"rank\", \"hue\", \"add\", \"ill\", \"sick\", \"beauty\", \"weed\", \"sun\", \"use\", \"face\", \"outward\", \"till\", \"soul\", \"praise\", \"gentle\", \"eye\", \"foul\", \"true\", \"heart\", \"love\", \"false\", \"self\", \"worth\", \"see\", \"truth\", \"man\", \"thy\", \"fair\", \"hath\", \"world\", \"well\", \"grow\", \"find\", \"widow\", \"colour\", \"silence\", \"painting\", \"odour\", \"rose\", \"vein\", \"aught\", \"canopy\", \"office\", \"huge\", \"rent\", \"render\", \"wane\", \"nightly\", \"imitate\", \"bounty\", \"gilded\", \"copy\", \"mutual\", \"bounteous\", \"strike\", \"unthrift\", \"aid\", \"pencil\", \"shift\", \"addition\", \"unrespected\", \"victor\", \"enjoy\", \"sea\", \"blood\", \"large\", \"need\", \"truth\", \"let\", \"hue\", \"fast\", \"tomb\", \"seek\", \"muse\", \"shouldst\", \"store\", \"world\", \"ah\", \"verse\", \"beauty\", \"wilt\", \"live\", \"sweet\", \"die\", \"proud\", \"fair\", \"make\", \"hath\", \"look\", \"true\", \"love\", \"eye\", \"nature\", \"form\", \"long\", \"waste\", \"beauteous\", \"spend\", \"issue\", \"mute\", \"decease\", \"deserve\", \"barren\", \"poet\", \"bond\", \"free\", \"report\", \"pay\", \"thank\", \"invent\", \"husbandry\", \"fortify\", \"autumn\", \"counterfeit\", \"quill\", \"choose\", \"mansion\", \"bareness\", \"usurer\", \"unthrift\", \"aid\", \"pencil\", \"pale\", \"owe\", \"vice\", \"mistake\", \"sport\", \"wake\", \"winter\", \"gift\", \"worth\", \"sleep\", \"come\", \"wilt\", \"live\", \"self\", \"sweet\", \"like\", \"life\", \"lose\", \"fair\", \"lovely\", \"paint\", \"find\", \"beauty\", \"decay\", \"dear\", \"sin\", \"bear\", \"time\", \"praise\", \"day\", \"eye\", \"love\", \"pen\", \"ill\", \"see\", \"let\", \"summer\", \"pleasing\", \"wire\", \"review\", \"vantage\", \"snow\", \"red\", \"spur\", \"conquest\", \"wretch\", \"music\", \"sound\", \"depart\", \"deceive\", \"sweetly\", \"beast\", \"hair\", \"hideous\", \"mile\", \"contain\", \"sap\", \"th\", \"bail\", \"meet\", \"tune\", \"concord\", \"ease\", \"wall\", \"usurer\", \"bareness\", \"mutual\", \"groan\", \"sum\", \"joy\", \"mistress\", \"winter\", \"shouldst\", \"ere\", \"self\", \"white\", \"confound\", \"canst\", \"happy\", \"leave\", \"hear\", \"bear\", \"sweet\", \"far\", \"lend\", \"beauty\", \"summer\", \"live\", \"time\", \"love\", \"eye\", \"death\", \"know\", \"rose\", \"go\", \"delight\", \"hath\", \"see\", \"crooked\", \"worthless\", \"main\", \"fame\", \"scythe\", \"quick\", \"forward\", \"slight\", \"sink\", \"element\", \"wasteful\", \"root\", \"send\", \"spoil\", \"humble\", \"fit\", \"wretched\", \"benefit\", \"saucy\", \"quill\", \"gilded\", \"purge\", \"fever\", \"arise\", \"cast\", \"powerful\", \"health\", \"bark\", \"thrive\", \"reserve\", \"hope\", \"return\", \"swift\", \"gainst\", \"muse\", \"spend\", \"word\", \"light\", \"praise\", \"war\", \"whilst\", \"straight\", \"content\", \"time\", \"thought\", \"hold\", \"give\", \"tie\", \"stand\", \"life\", \"decay\", \"tis\", \"pen\", \"fire\", \"love\", \"well\", \"eye\", \"like\", \"end\", \"go\", \"death\", \"come\", \"good\", \"wood\", \"cost\", \"fulfil\", \"hawk\", \"garment\", \"jack\", \"finger\", \"horse\", \"pine\", \"feed\", \"kiss\", \"sinful\", \"store\", \"blushing\", \"fond\", \"lofty\", \"adjunct\", \"servant\", \"nimble\", \"leap\", \"example\", \"saucy\", \"ease\", \"wall\", \"concord\", \"mansion\", \"choose\", \"copy\", \"ay\", \"small\", \"lip\", \"soul\", \"birth\", \"rich\", \"loss\", \"music\", \"have\", \"wealth\", \"make\", \"number\", \"confound\", \"state\", \"glory\", \"body\", \"death\", \"see\", \"let\", \"love\", \"sweet\", \"hold\", \"praise\", \"bad\", \"earth\", \"poor\", \"dead\", \"man\", \"toil\", \"shadow\", \"shape\", \"taste\", \"bird\", \"night\", \"feeling\", \"length\", \"whereof\", \"sensual\", \"bent\", \"invite\", \"bow\", \"replete\", \"enemy\", \"figure\", \"torture\", \"benefit\", \"smell\", \"tune\", \"counterfeit\", \"bounty\", \"imitate\", \"nightly\", \"mountain\", \"dote\", \"crow\", \"serve\", \"play\", \"untrue\", \"far\", \"spring\", \"draw\", \"heavy\", \"blind\", \"spite\", \"mind\", \"woe\", \"grief\", \"proud\", \"sorrow\", \"leave\", \"day\", \"heart\", \"fortune\", \"loss\", \"hath\", \"delight\", \"spirit\", \"flower\", \"wilt\", \"sight\", \"sweet\", \"eye\", \"love\", \"come\", \"beauty\", \"picture\", \"fickle\", \"divide\", \"move\", \"plead\", \"torture\", \"figure\", \"wretched\", \"bail\", \"meet\", \"autumn\", \"render\", \"wane\", \"ward\", \"temptation\", \"quest\", \"guard\", \"yellow\", \"excellence\", \"owner\", \"heart\", \"lily\", \"pace\", \"dial\", \"plea\", \"torment\", \"hard\", \"lord\", \"bar\", \"conquest\", \"turn\", \"weed\", \"cold\", \"canst\", \"base\", \"friend\", \"summer\", \"eye\", \"keep\", \"sight\", \"power\", \"right\", \"flower\", \"fear\", \"nature\", \"hast\", \"far\", \"self\", \"sweet\", \"beauty\", \"see\", \"take\", \"thing\", \"let\", \"thy\", \"thought\", \"time\", \"hath\", \"fair\", \"painter\", \"window\", \"cunning\", \"abundance\", \"foe\", \"aside\", \"glance\", \"proceed\", \"bold\", \"stage\", \"unkindness\", \"wound\", \"plead\", \"enemy\", \"replete\", \"forbear\", \"doting\", \"silent\", \"groan\", \"perfect\", \"slain\", \"bide\", \"fine\", \"fierce\", \"register\", \"draw\", \"writ\", \"strange\", \"strength\", \"power\", \"thy\", \"face\", \"turn\", \"eye\", \"heart\", \"hath\", \"look\", \"hear\", \"cruel\", \"breast\", \"tell\", \"love\", \"lie\", \"think\", \"swear\", \"bear\", \"know\", \"good\", \"beauty\", \"true\", \"sight\", \"tongue\", \"let\", \"fear\", \"duty\", \"ransom\", \"witness\", \"loving\", \"steel\", \"brass\", \"crime\", \"trespass\", \"discontent\", \"unkindness\", \"move\", \"bow\", \"invite\", \"fit\", \"humble\", \"spoil\", \"send\", \"root\", \"example\", \"th\", \"rent\", \"policy\", \"goodness\", \"fashion\", \"gate\", \"drown\", \"accident\", \"strongly\", \"shower\", \"ink\", \"merit\", \"strong\", \"pity\", \"flower\", \"sorrow\", \"weed\", \"time\", \"wit\", \"hate\", \"hold\", \"sin\", \"love\", \"mayst\", \"till\", \"state\", \"dear\", \"grow\", \"thy\", \"good\", \"beauty\", \"woo\", \"hell\", \"fair\", \"yield\", \"nought\", \"table\", \"remember\", \"rehearse\", \"dare\", \"receive\", \"sour\", \"rotten\", \"question\", \"clock\", \"injurious\", \"bold\", \"length\", \"element\", \"servant\", \"adjunct\", \"leap\", \"nimble\", \"mile\", \"limit\", \"flee\", \"sullen\", \"pilgrimage\", \"idle\", \"nay\", \"service\", \"wise\", \"bitterness\", \"affair\", \"moan\", \"earth\", \"think\", \"slave\", \"brain\", \"read\", \"world\", \"go\", \"memory\", \"thought\", \"stay\", \"woe\", \"till\", \"poor\", \"verse\", \"dead\", \"hour\", \"long\", \"time\", \"love\", \"life\", \"man\", \"look\", \"eye\", \"chase\", \"youthful\", \"vanish\", \"catch\", \"dial\", \"wear\", \"memory\", \"knife\", \"babe\", \"wrinkle\", \"run\", \"silver\", \"injurious\", \"trespass\", \"discontent\", \"stage\", \"bent\", \"sensual\", \"whereof\", \"wasteful\", \"contain\", \"sap\", \"fortify\", \"huge\", \"office\", \"sourly\", \"careful\", \"thievish\", \"morn\", \"influence\", \"fly\", \"cry\", \"waste\", \"book\", \"mayst\", \"turn\", \"war\", \"set\", \"glass\", \"stay\", \"child\", \"sin\", \"fault\", \"thy\", \"whilst\", \"time\", \"youth\", \"mind\", \"face\", \"thing\", \"sweet\", \"love\", \"new\", \"look\", \"man\", \"brave\", \"forgot\", \"prime\", \"frown\", \"violet\", \"level\", \"honour\", \"clock\", \"question\", \"silver\", \"proceed\", \"glance\", \"aside\", \"sink\", \"lofty\", \"fond\", \"hideous\", \"husbandry\", \"canopy\", \"renew\", \"mother\", \"unknown\", \"proof\", \"dress\", \"barren\", \"book\", \"window\", \"thousand\", \"white\", \"favour\", \"die\", \"tell\", \"new\", \"time\", \"glass\", \"pride\", \"write\", \"word\", \"love\", \"sun\", \"great\", \"day\", \"face\", \"dear\", \"leave\", \"old\", \"fair\", \"sweet\", \"beauty\", \"grow\", \"follow\", \"breathe\", \"slight\", \"invent\", \"thank\", \"aught\", \"fiend\", \"paper\", \"contract\", \"throw\", \"riper\", \"flame\", \"creature\", \"outlive\", \"decease\", \"anew\", \"forth\", \"heir\", \"tender\", \"vulgar\", \"churl\", \"light\", \"greet\", \"eat\", \"rehearse\", \"grave\", \"sound\", \"hate\", \"say\", \"muse\", \"self\", \"gentle\", \"world\", \"away\", \"sweet\", \"day\", \"time\", \"let\", \"love\", \"give\", \"sight\", \"life\", \"heaven\", \"chide\", \"end\", \"state\", \"tongue\", \"see\", \"teach\", \"hell\", \"fly\", \"lip\", \"vile\", \"slow\", \"speed\", \"frailty\", \"violet\", \"level\", \"run\", \"feeling\", \"forward\", \"blushing\", \"beast\", \"hair\", \"vein\", \"wing\", \"reckon\", \"wilful\", \"robbery\", \"excuse\", \"didst\", \"lily\", \"pace\", \"thorn\", \"horse\", \"spur\", \"colour\", \"white\", \"flesh\", \"haste\", \"breath\", \"will\", \"dull\", \"pride\", \"go\", \"desire\", \"love\", \"bad\", \"sweet\", \"shame\", \"complexion\", \"smell\", \"growth\", \"bud\", \"death\", \"hand\", \"wind\", \"swift\", \"till\", \"cheek\", \"despair\", \"travel\", \"frailty\", \"rotten\", \"sour\", \"divide\", \"deceive\", \"sweetly\", \"depart\", \"beat\", \"besiege\", \"physic\", \"weak\", \"offender\", \"absence\", \"cloud\", \"salve\", \"flame\", \"ransom\", \"didst\", \"stain\", \"torment\", \"cross\", \"home\", \"rain\", \"wouldst\", \"twain\", \"single\", \"leisure\", \"offence\", \"remain\", \"bring\", \"praise\", \"time\", \"leave\", \"let\", \"love\", \"thought\", \"self\", \"day\", \"ill\", \"sweet\", \"rich\", \"tis\", \"bear\", \"lend\", \"disgrace\", \"shame\", \"face\", \"beauteous\", \"strong\", \"way\", \"ah\", \"man\", \"hide\", \"speak\", \"grief\"], \"Freq\": [52.0, 80.0, 67.0, 187.0, 40.0, 23.0, 29.0, 21.0, 54.0, 29.0, 40.0, 47.0, 15.0, 25.0, 25.0, 35.0, 65.0, 14.0, 20.0, 18.0, 25.0, 21.0, 23.0, 37.0, 8.0, 10.0, 16.0, 22.0, 18.0, 10.0, 2.8319741058553367, 1.9034096748309852, 1.9034094811014952, 1.9034094811014952, 1.9034090936425154, 1.9034090936425154, 1.9034090936425154, 1.9034087061835354, 1.9034085124540454, 1.9034069626181254, 1.9033842962677963, 1.9033813903254464, 1.9033573678686873, 1.9033364450837682, 3.7605338873719285, 3.7605342748309085, 2.8319305167200883, 7.474664137464919, 1.9033054483653693, 1.9034096748309852, 1.9034081249950654, 1.9034092873720054, 1.9034081249950654, 1.9034090936425154, 1.9034087061835354, 1.9034081249950654, 1.9034092873720054, 3.7604540708220515, 11.149475437728, 3.7605152893408893, 7.467499246007034, 40.288025034586354, 17.721969237344137, 3.7076108652957616, 8.24394534419433, 4.689092506511581, 9.854400771389388, 10.933913409131241, 12.11741538759334, 12.705471955450232, 14.418538919232708, 9.129431698364955, 9.196302468802628, 5.68982310985306, 5.528289136343385, 6.495582029712149, 7.693467647888235, 4.689079332906261, 3.760442059593672, 3.7599794335715697, 3.7605358246668286, 4.6890192767643635, 4.68909134413464, 5.617643763930612, 4.454984753837833, 4.725506288909561, 5.4849599860706295, 6.282215731154965, 4.6890855322499405, 4.846615504660449, 5.4557560403722105, 4.689093281429541, 3.7596794035697743, 2.8313325327732146, 2.831330618792499, 1.9029781974518638, 1.9029778146557208, 1.9029778146557208, 1.9029770490634346, 1.9029770490634346, 1.9029780060537924, 1.9029770490634346, 1.9029766662672913, 1.9028748424932218, 1.902874268299007, 7.4730397082298525, 5.616344818248304, 2.8313311929867138, 2.8313311929867138, 2.831331001588642, 6.544718484774881, 2.8313311929867138, 3.7596346164210295, 3.759636530401745, 1.9029780060537924, 1.9029774318595776, 2.8313311929867138, 1.9029776232576492, 1.9029776232576492, 1.9029776232576492, 1.9029778146557208, 1.9028715887260053, 2.831331767180928, 3.7596797863659175, 2.831331767180928, 60.48121488741742, 5.616365872036175, 3.7596797863659175, 9.138735783029128, 11.186298571912003, 6.544689392268005, 10.258097546445972, 7.250756878251171, 6.544716187998023, 7.473062675998439, 5.616372379570608, 3.10420876339566, 3.5319796253698152, 8.096095553800785, 5.615979247931625, 11.087031110486075, 5.616372379570608, 5.616372379570608, 5.616365872036175, 4.998220918185317, 3.6181742157120844, 5.528891211391315, 3.9313929490617077, 4.688026657162477, 3.7596794035697743, 4.68802703995862, 4.161038480057141, 4.563587669753466, 4.688025125977905, 3.75968131755049, 3.7596809347543467, 3.7596801691620607, 1.8163523855531414, 1.8163523855531414, 1.816352007675777, 1.8163518187370948, 1.816351251921048, 1.816351251921048, 6.100235269589636, 1.816256593641261, 1.816254893193121, 1.8163516297984126, 1.8163516297984126, 4.386876949544133, 1.8163529523691881, 1.816352007675777, 1.8163521966144591, 1.8163518187370948, 1.8163518187370948, 1.8163300907886406, 2.441966716902974, 2.702413777923736, 0.9302189130752838, 0.9302777674747922, 0.9302777674747922, 4.474527115730814, 0.930278523229521, 0.9302770117200634, 0.9302779564134744, 0.9302771061894044, 0.9302779564134744, 0.9302777674747922, 1.816351251921048, 1.8163514408597303, 1.817019528040025, 1.816352007675777, 3.589221667027742, 1.8162556489478499, 5.36058605189854, 1.8163302797273229, 2.702354640116204, 6.246643476556809, 2.702413777923736, 16.81521018461023, 3.588428502439825, 3.5884708247046397, 6.249479446176781, 4.474529382995001, 6.246644232311537, 2.9778950677653127, 3.588471958336733, 3.5884712025820042, 4.220163124522486, 3.2924144902477575, 2.702413966862418, 2.6280180381714513, 2.7024122664142785, 2.702413777923736, 2.702413022169007, 2.6357465749672517, 2.6286005361287046, 2.7024151004945116, 1.9724314189692334, 1.815916789656647, 1.8156086297743144, 2.7017642909192356, 2.701765228715591, 2.6671984301798863, 1.8159171647751893, 1.8159171647751893, 1.8158957830182898, 1.8158340760181146, 2.700974103710308, 2.701765228715591, 4.473443163347103, 1.8159171647751893, 1.8159171647751893, 1.8159169772159183, 0.930054658770917, 0.9300551276690946, 0.9300551276690946, 0.9300299947267741, 0.930054658770917, 1.8159169772159183, 0.9300551276690946, 0.9300551276690946, 0.9300551276690946, 0.9300551276690946, 0.9300320578787555, 0.9300551276690946, 0.9300551276690946, 0.9300551276690946, 0.9300551276690946, 6.243910027765454, 1.8159179150122735, 1.8158185085986176, 1.8159175398937313, 1.815907974370908, 3.587530203898918, 11.231819643872242, 4.028313997027183, 15.989423355465814, 1.815916414538105, 2.0563987224206026, 1.815916414538105, 3.587611229504011, 2.701764853597049, 6.758308959187562, 7.110264681547237, 2.7333070713278245, 4.406675063802157, 4.473456292496076, 3.587611229504011, 8.743955448027606, 2.7812684152054605, 4.4734574178517015, 3.5875755932425117, 3.0543198278277246, 4.438689555777433, 3.587611229504011, 2.701763540682151, 2.7017654162748617, 2.701765791393404, 2.7017642909192356, 2.877840620716374, 2.70176147753017, 7.955448769055368, 4.439204244352139, 1.8020153335172178, 1.8020149832119798, 1.8020148080593608, 1.801930384497009, 1.8020153335172178, 2.6810350410986348, 1.7436849574263473, 1.8020160341276936, 1.7397103941962873, 0.9229382634530824, 0.9229382634530824, 0.9229378255715349, 0.9229382634530824, 0.9229377379952254, 0.9229379131478443, 0.9229378255715349, 0.9229387889109393, 0.9229375628426064, 0.9229373876899875, 0.9229387889109393, 0.9229377379952254, 0.9229380007241539, 0.9229377379952254, 0.9229382634530824, 0.9229383510293918, 0.9229379131478443, 0.9229380883004634, 0.9229375628426064, 2.6810063160691207, 1.8020156838224557, 1.8020155086698366, 1.8020165595855506, 1.8020155086698366, 4.315698177515135, 1.8020146329067417, 8.83450893689177, 1.8020153335172178, 2.6810804056269526, 2.681082332305761, 3.5601440765157353, 1.8020148080593608, 2.6810802304743335, 2.6810807559321903, 4.4392038940469005, 2.6810807559321903, 7.5948165326652415, 1.7378744444440621, 4.071778188176732, 4.439187079395477, 7.406565300219577, 2.681081456542666, 3.5601451274314493, 2.6810809310848094, 2.6810381938457764, 2.6810797050164763, 2.6810828577636183, 2.6810804056269526, 3.1070582308036294, 2.8534340857628524, 2.6810807559321903, 2.2943427222924804, 2.1073443565304317, 2.1073336722206735, 2.6267319503548645, 1.7654873010776941, 1.765488189561021, 1.7653809792395787, 1.765489670366566, 4.349212364075937, 0.9042364324172357, 0.904236210296404, 0.904236210296404, 0.9042353958533544, 0.9041759415107313, 0.904236210296404, 0.904236210296404, 0.9042361362561268, 0.9042358400950179, 0.9042364324172357, 0.9042361362561268, 0.9042356920144634, 0.9042361362561268, 0.904236210296404, 0.9042361362561268, 0.904235914135295, 0.9042367285783447, 0.9042356920144634, 0.9042351737325227, 0.9042367285783447, 0.9042314717186607, 0.904236506457513, 0.9042358400950179, 0.9042367285783447, 1.7466952863921608, 2.6266623524942596, 1.7260421952979421, 2.6266629448164776, 5.210447684278175, 5.205222809993957, 1.7653803869173608, 1.765488781883239, 1.7654892261249024, 1.7653803869173608, 3.410676921308184, 1.765488781883239, 2.6267304695493197, 5.210453015178136, 1.7654898184471204, 3.0595092172624976, 7.622981408741068, 2.6267283964215573, 5.210453607500354, 6.067273757890263, 2.6267319503548645, 2.4540426289304116, 4.668478185787004, 2.626715069171654, 3.4798115859386476, 2.6267337273215183, 2.127820575092165, 2.21505083156045, 1.7654912992526652, 1.7654908550110018, 1.7654902626887838, 1.7654902626887838, 1.765489670366566, 1.765489670366566, 1.765489670366566, 1.7562198736195704, 1.756219592577895, 1.7562198736195704, 1.7562188899737068, 2.612938885396189, 2.612938885396189, 1.7562177658070055, 1.7562177658070055, 1.7562190304945444, 2.612938042271163, 0.8994903930405462, 0.8994903227801274, 0.8994907443426404, 0.8994905335613839, 0.8994905335613839, 0.8994905335613839, 0.8994905335613839, 0.8994901822592898, 0.8994901822592898, 0.8994911659051533, 0.8994890580925885, 0.8994907443426404, 0.8994903930405462, 0.8994905335613839, 0.8994905335613839, 0.8994903930405462, 0.8994903227801274, 0.8994894796551015, 0.8994903930405462, 0.8994894796551015, 2.6129394474795395, 1.7562177658070055, 4.326371007074245, 1.7562190304945444, 3.4696545246727037, 2.6129357939377607, 5.183088613642487, 5.183087489475786, 6.039803690835651, 4.326370726032569, 3.46965536779773, 2.612937199146137, 5.183088051559136, 1.7562202951820833, 1.756219592577895, 3.469656491964431, 5.183087489475786, 1.756219592577895, 2.612937761229488, 1.7562193115362197, 2.612938885396189, 3.46965536779773, 2.612938885396189, 2.612938885396189, 2.612938885396189, 2.612939728521215, 1.7562207167445962, 1.7562202951820833, 1.7562202951820833, 1.756220014140408, 1.7562198736195704, 1.750288096407237, 1.750288096407237, 1.7502876846178606, 1.750287272828484, 1.7502868610391076, 2.604112916379017, 1.750288370933488, 1.7502876846178606, 1.7502876846178606, 2.6041137399577696, 1.7502885081966135, 0.8964530503326075, 0.8964530503326075, 0.8964530503326075, 0.8964534621219841, 0.8964533248588585, 0.8964522953854173, 0.8964530503326075, 0.8964527071747938, 0.8964522953854173, 0.8964530503326075, 0.8964527071747938, 0.8964522953854173, 0.8964530503326075, 0.8964535307535467, 0.8964530503326075, 0.8964522267538545, 0.8964530503326075, 0.8964516090697898, 0.8964530503326075, 1.7502876846178606, 1.7502879591441114, 2.604112641852766, 2.604112916379017, 2.6041104456427577, 1.7502879591441114, 1.7502876846178606, 6.8732226036097375, 1.750288096407237, 1.7502879591441114, 1.7502879591441114, 2.604112916379017, 3.457934304772659, 1.750288096407237, 3.4579351283514117, 5.165579826822453, 2.604112641852766, 1.7502879591441114, 5.165576532507441, 2.6041104456427577, 3.4579351283514117, 3.4579351283514117, 3.45794006982393, 2.6041120928002637, 1.7502885081966135, 1.750288370933488, 1.750288096407237, 1.750288096407237, 1.750288096407237, 1.750288096407237, 1.750288096407237, 1.7109819514513163, 1.7109728215103714, 1.710977035329269, 1.7109722362577469, 1.7109817173502664, 1.710984526562865, 0.8763279590227968, 0.8763272567196472, 0.8763269640933349, 0.8763269640933349, 0.8763275493459596, 0.8763273737701721, 0.8763271981943848, 0.8763121572019308, 0.8763050171199098, 0.8763008033010121, 0.8763006277252248, 0.8763006862504872, 0.8763054853220095, 0.8763276663964845, 0.8763275493459596, 0.8763270811438598, 0.8763006277252248, 0.8763275493459596, 0.87630478301886, 0.8763273737701721, 0.8763270811438598, 0.8763043148167602, 0.8763041977662352, 0.876327490820697, 2.545621605190531, 1.7109711828030223, 1.71098417541129, 1.7109855800175893, 3.3802735492348646, 2.5456197323821326, 2.5456333102430246, 1.7109825367039408, 4.89921995141878, 1.7109855800175893, 2.5456218392915813, 1.7109810150471167, 1.7109745772682454, 6.427900275256189, 3.380280338165311, 2.5456279259188777, 2.5456283941209774, 1.4844018660128302, 1.710985931169164, 2.5456283941209774, 1.6438421215008685, 1.7109839413102401, 1.7109807809460669, 1.7109849947649645, 4.33174402407257, 1.9237389551477464, 2.0534023764463027, 1.7109853459165394, 1.7109853459165394, 1.7109851118154895, 1.7109849947649645, 1.7109844095123399, 1.71098417541129, 2.5486815545799844, 2.548680177556642, 1.7130345949901864, 1.7130334474707343, 1.7130334474707343, 1.7130334474707343, 2.5486815545799844, 1.7130334474707343, 1.7130342507343508, 2.5486822430916556, 1.7130334474707343, 1.7130342507343508, 4.214937174853638, 0.8773776519811561, 0.8773779388610191, 0.8773732914072385, 0.8773775372292109, 0.877377824109074, 0.8773776519811561, 0.8773776519811561, 0.8773779388610191, 0.8773776519811561, 0.8773780536129643, 0.877377824109074, 0.8773777667331013, 0.877377824109074, 0.8773734635351563, 0.8773779388610191, 0.8773780536129643, 0.8773779388610191, 2.5486815545799844, 4.219974785247909, 1.7130334474707343, 3.3759960311729893, 2.510601351069322, 1.7130334474707343, 1.7130340212304604, 1.7130336769746248, 3.3843297764411795, 1.7130345949901864, 1.7130318409435015, 2.5479723875586493, 1.7130342507343508, 1.7130336769746248, 2.5157801063561887, 2.512959274039287, 2.548683161107217, 5.781718005895834, 2.5486827020994363, 1.7130348244940767, 1.7130344802382411, 1.7130344802382411, 1.7130342507343508, 1.7130340212304604, 1.7130340212304604, 1.7130336769746248, 2.5033666855097136, 4.847604906787881, 2.50342976893637, 1.6826201793865134, 1.6826197629942583, 8.260657714455663, 0.8618028865799366, 0.8617860226936027, 0.8618023660896177, 0.8618027824818728, 0.8618023660896177, 0.8618027824818728, 0.8618023660896177, 0.8618024701876814, 0.8617832120458804, 0.8618021578934901, 0.8617839927813588, 0.8617854501542518, 1.6826197629942583, 0.8618027824818728, 0.8618023660896177, 0.8618023660896177, 0.8618023660896177, 0.8617833681929761, 0.8618024701876814, 0.8618028865799366, 0.8618024701876814, 0.8618027824818728, 1.6825205575394668, 0.8618024701876814, 4.930274592342629, 1.6826197629942583, 1.6826121638356017, 1.6825247214620183, 1.6825418976425437, 1.682619971190386, 3.754124284183288, 2.5034303935247526, 1.6826127884239845, 2.5034295607402424, 1.6135884852669224, 3.32423862979978, 4.606151529788858, 4.965854894153707, 1.682619971190386, 1.682619971190386, 3.3242377970152694, 1.6826197629942583, 1.6825403361715867, 1.6826197629942583, 1.682619971190386, 1.6619165318716276, 2.5034299771324977, 1.7705129852919121, 1.7324707642722073, 1.6826201793865134, 1.6826197629942583, 3.315448917709892, 1.6781924293719686, 0.8595363814937714, 0.8595358768892482, 0.8595363814937714, 0.8595363814937714, 0.8595366842564854, 0.8595357759683434, 0.8595363814937714, 0.8595357759683434, 0.8595366842564854, 0.8595359778101528, 0.8595355741265341, 0.8595363814937714, 0.8595360787310574, 0.8595368860982947, 0.8595363814937714, 0.8595366842564854, 0.8595359778101528, 0.8595356750474388, 15.994146813200187, 0.8595357759683434, 0.8595366842564854, 0.8595366842564854, 0.8595363814937714, 0.8595363814937714, 0.8595368860982947, 0.8595359778101528, 0.8595363814937714, 0.8595363814937714, 1.6781774930780782, 1.6781928330555873, 1.6781934385810153, 1.6781614466542363, 1.6781924293719686, 3.3154927173825173, 3.3154929192243263, 10.224338027392452, 1.6781932367392058, 2.3597467218157306, 1.678192631213778, 1.6781940441064434, 1.6781928330555873, 1.6781934385810153, 1.6781934385810153, 1.6781934385810153, 1.6781627586259968, 2.266861341421493, 2.4968435321258373, 2.496846963436596, 1.6781940441064434, 1.3355686828969704, 1.6781934385810153, 1.6781936404228246, 1.6519693433454905, 1.5896627952230946, 1.930674431166966, 1.6782009067279604, 1.6781955579200132, 2.4811681627965183, 1.6676586899821133, 1.6676613967463114, 1.6675852206681605, 1.6675711068262695, 0.8541439969796115, 0.8541438036393116, 0.8541265963526228, 0.8541212794943761, 0.8541429336079622, 0.8541432236184121, 1.667662170107511, 0.8541430302781122, 0.8541432236184121, 0.8541429336079622, 0.8541432236184121, 0.8541235995779747, 0.8541431269482621, 1.6676438027790228, 0.8541430302781122, 0.8541432236184121, 0.8541432236184121, 0.8541430302781122, 0.8541431269482621, 0.8541429336079622, 1.6676583033015135, 1.6666384332196684, 1.6413750429154912, 1.6676619767672112, 2.4607653476312197, 6.516990317061915, 3.524993107796226, 1.6676602367045121, 8.773671444353187, 6.383566949478793, 4.816425108040933, 4.281618384261759, 1.6676617834269112, 1.667584447306961, 1.6676608167254119, 2.480383201179022, 6.765171206316946, 2.4811381950500375, 2.438267303636167, 1.6676463162029211, 2.3431233820254636, 2.4805225995352327, 2.3704588003234104, 2.2282960645053, 1.8450217341568196, 1.6676619767672112, 1.6676619767672112, 1.6676617834269112, 1.6676617834269112, 2.4656010079056183, 1.6571951477290279, 1.6571949608310153, 1.6571953346270403, 1.6571951477290279, 1.6571951477290279, 1.6571949608310153, 0.8487827461219967, 0.8487827461219967, 0.8487827461219967, 0.8487830264690155, 0.8487827461219967, 0.8487827461219967, 0.8487827461219967, 0.8487827461219967, 0.8487831199180218, 0.8487830264690155, 0.8487830264690155, 0.8487830264690155, 0.8487827461219967, 0.8487830264690155, 0.8487828395710029, 0.8487827461219967, 0.8487829330200092, 0.8487832133670281, 0.8487827461219967, 0.848782559223984, 0.8487830264690155, 0.8487828395710029, 0.8487831199180218, 1.6571953346270403, 2.465601194803631, 2.4656010079056183, 2.465600260313568, 1.6571951477290279, 1.6571944001369774, 6.507617599723715, 1.6571953346270403, 2.465600634109593, 2.465601194803631, 1.6571953346270403, 6.507619842499866, 1.6571953346270403, 1.6571964560151158, 1.6571951477290279, 1.6571947739330026, 1.6571951477290279, 1.6571957084230655, 1.6571958953210781, 1.6571970167091536, 0.8487837740610659, 0.8487836806120596, 0.8487835871630532, 1.6478456078642172, 1.647845425928323, 1.6478459717360052, 1.6478459717360052, 1.6478456078642172, 1.647845425928323, 1.7916608378927725, 0.8439946995054753, 0.8439945175695813, 0.8439947904734223, 0.8439946085375283, 0.8439946085375283, 0.8439946085375283, 0.8439946085375283, 0.8439946995054753, 0.8439953362811045, 0.8439946085375283, 0.8439946995054753, 0.8439945175695813, 0.8439945175695813, 0.8439947904734223, 0.8439950633772634, 0.8439950633772634, 0.8434173259457596, 0.8439946085375283, 0.8439950633772634, 0.8439946085375283, 0.8439950633772634, 0.8439947904734223, 0.8439946085375283, 1.6478457898001113, 3.255532869710178, 6.470806237045018, 1.647845425928323, 1.6478459717360052, 1.6478456078642172, 4.863218494133093, 2.451689693626933, 1.6478456078642172, 3.380000309023621, 1.647845062056535, 1.6478457898001113, 1.6478456078642172, 1.6478463356077933, 1.6478456078642172, 1.6478459717360052, 1.6478459717360052, 1.6478459717360052, 2.451689693626933, 3.255535052940907, 1.6478456078642172, 1.6478456078642172, 1.6868865036213188, 1.6478476091590515, 1.651602334640402, 1.6515750545799137, 1.651546865184076, 2.4572789104049004, 1.651602152773332, 1.651602152773332, 3.262942209873295, 1.6514672074074503, 1.651602334640402, 2.238793633422944, 0.8459189388607814, 0.8459188479272464, 0.8458497384406762, 0.8459188479272464, 0.8459189388607814, 0.8459188479272464, 0.8459189388607814, 0.8459188479272464, 0.8458497384406762, 0.8459187569937114, 0.8459189388607814, 0.8459187569937114, 0.8458500112412811, 0.8459187569937114, 0.8459189388607814, 0.8459188479272464, 0.8459189388607814, 0.8459189388607814, 0.8458499203077462, 0.8459187569937114, 1.651602334640402, 1.651602334640402, 2.4572168937340573, 1.651602152773332, 2.4572787285378306, 1.6516028802416118, 1.651602334640402, 1.651602334640402, 1.651602152773332, 1.651602152773332, 1.651602152773332, 1.651602152773332, 1.651602152773332, 2.4572787285378306, 1.651602334640402, 3.2863368622797213, 1.6516019709062622, 1.651602152773332, 1.6515019440178054, 1.6516030621086817, 1.8347000990240963, 1.9051561293799786, 1.651602152773332, 1.651602152773332, 1.651602152773332, 1.645820409026514, 1.6458200482635665, 1.6458193267376713, 1.6458196875006188, 0.8429580720849786, 0.8429570799868726, 2.448675981662782, 0.842957711322031, 0.842957711322031, 0.842957711322031, 0.8429570799868726, 0.8429570799868726, 0.8429570799868726, 0.842957711322031, 0.8429579818942418, 0.8429568094146619, 0.842957711322031, 0.8429568094146619, 0.842957711322031, 0.8429568094146619, 1.6458182444488283, 0.8429571701776095, 0.8429570799868726, 0.8429570799868726, 1.6458193267376713, 1.6458196875006188, 0.8429568094146619, 0.8429573505590834, 1.6458209501709355, 0.8429573505590834, 3.2515301112472588, 4.054383519305841, 3.251529028958416, 5.660094303815428, 1.645818605211776, 1.645820589407988, 1.645819507119145, 1.6458193267376713, 5.660092139237742, 1.6458193267376713, 1.6458196875006188, 2.448675620899834, 1.6458187855932498, 1.6458193267376713, 1.6458200482635665, 1.6458191463561975, 1.645818605211776, 1.6458211305524093, 1.645820589407988, 0.8429579818942418, 1.493069540404438, 1.4930694270057465, 0.7647281727555558, 0.7647282294549016, 0.7647280593568644, 0.7647280593568644, 0.7647282294549016, 0.7647280593568644, 0.7647195544550086, 0.7647283428535929, 0.7647204049451941, 0.7647193276576257, 0.7647211420366883, 0.7647280593568644, 0.764721028637997, 0.7647282294549016, 1.493069767201821, 0.7647203482458484, 1.4930605819078164, 0.7647281727555558, 0.7647203482458484, 1.4930662518423872, 0.7647282294549016, 0.7647205183438855, 0.7647280593568644, 0.7647205183438855, 0.7647282294549016, 2.9497437708003464, 1.493069767201821, 2.2214062020076266, 3.6780761232532617, 1.493069767201821, 2.2214000784782906, 1.493070334195278, 2.22140484122333, 1.493070334195278, 1.4418908965913535, 0.7647289665463958, 0.7647286830496672, 0.7647285696509758, 0.7647285696509758, 0.7647285696509758, 0.7647285696509758, 0.7647283428535929, 0.7647283428535929, 0.7647283428535929, 0.7647283428535929, 0.7647283428535929, 0.7647283428535929, 0.7647283428535929, 0.7647283428535929, 0.7647283428535929, 1.470100344099631, 2.187232263306703, 1.4701001287120687, 0.7529637940599707, 0.7529641709882046, 0.7529637940599707, 0.7529640632944234, 0.7529637940599707, 0.7529642248350952, 0.7529640632944234, 0.7529641709882046, 0.7529642248350952, 0.7529641709882046, 0.7529641709882046, 0.7529639017537518, 0.7529642248350952, 0.7529640632944234, 2.1872324786942654, 0.7529641709882046, 0.7529643325288763, 0.7529643325288763, 0.7529642248350952, 0.7529641709882046, 0.7529640632944234, 0.7529641709882046, 1.470100344099631, 0.7529640632944234, 0.7529641709882046, 1.470100344099631, 0.7529637940599707, 1.470100344099631, 1.470100344099631, 1.470100344099631, 1.4701001287120687, 4.338625759358516, 1.4701000210182875, 2.1872324786942654, 0.7529643325288763, 0.7529643325288763, 0.7529643325288763, 0.7529643325288763, 0.7529642248350952, 0.7529642248350952, 0.7529642248350952, 0.7529642248350952, 0.7529642248350952, 0.7529642248350952, 0.7529642248350952, 0.7529642248350952, 1.4553823778942037, 0.7454256576016157, 0.7454264893686415, 0.7454259175288113, 0.7454259695142504, 0.7454259695142504, 0.7454259695142504, 0.7454257095870548, 0.7454264893686415, 0.7454256576016157, 0.7454264893686415, 0.7454264893686415, 0.7454264893686415, 1.455382065981569, 1.4553828977485948, 0.7454264893686415, 0.7454257095870548, 0.7454264893686415, 0.7454264893686415, 0.7454257095870548, 0.7454260734851286, 0.7454264893686415, 0.745425813557933, 0.7454264893686415, 0.7454259695142504, 0.7454259695142504, 0.7454259695142504, 0.7454259175288113, 0.7454264893686415, 0.7454259695142504, 1.4553823778942037, 2.16533452346815, 2.875286773012974, 1.4553831056903512, 1.4553825858359601, 2.8752863571294616, 1.4553821699524472, 1.455382065981569, 0.7454273211356672, 0.7454273211356672, 0.7454271131939109, 0.7454266453249588, 0.7454266453249588, 0.7454265933395198, 0.7454265933395198, 0.7454265933395198, 0.7454264893686415, 0.7454264893686415, 0.7454264893686415, 0.7454264893686415, 0.7454264893686415, 0.7454264893686415, 0.7454264893686415, 0.7454264893686415, 0.7454264893686415, 0.7454264893686415], \"Total\": [52.0, 80.0, 67.0, 187.0, 40.0, 23.0, 29.0, 21.0, 54.0, 29.0, 40.0, 47.0, 15.0, 25.0, 25.0, 35.0, 65.0, 14.0, 20.0, 18.0, 25.0, 21.0, 23.0, 37.0, 8.0, 10.0, 16.0, 22.0, 18.0, 10.0, 3.614500694861252, 2.68593607515916, 2.685935950213352, 2.685935953966571, 2.6859354939706903, 2.6859354939706903, 2.6859355422747284, 2.6859355581932474, 2.6859354865100884, 2.6859347878241167, 2.6859123173722157, 2.6859082811704584, 2.685884037386144, 2.685885569190507, 5.404235547493441, 5.428824343628234, 4.4352207308240805, 12.704176798472062, 3.4914675969991857, 3.4942991051062284, 3.4994029730278147, 3.5205234844273363, 3.520531085645083, 3.521531619596768, 3.5425900210916272, 3.542589643298207, 3.6141153984396577, 7.159737824252707, 21.25219867975237, 8.06388149434845, 16.95143474883282, 187.0162875617553, 65.75480177049185, 8.659587916867771, 25.523851390070615, 12.315190232414404, 35.06524802593834, 40.77855158334534, 47.52770039983071, 54.57819969679093, 67.80920084896022, 35.458860962348844, 37.48852927795902, 18.101401178214065, 17.23193462195107, 25.520051061974964, 37.989177842197975, 14.91612873917315, 10.49255729841682, 10.575951634296269, 10.804564177654347, 17.54389940619644, 17.62205374698246, 27.166112162524726, 16.2701853292199, 19.126371293866193, 32.27698461115436, 52.477537019372626, 20.895147896050815, 25.330485420346356, 80.42467252036153, 29.94482689174409, 4.54221746498021, 3.6138694963627223, 3.6138682930690926, 2.685515161041372, 2.6855147782452287, 2.6855149218206495, 2.6855140126529427, 2.6855140126529427, 2.685515511480468, 2.6855144615221236, 2.685514289973429, 2.6854127389674733, 2.685412474750784, 10.718149332622783, 8.088452166815783, 4.41668335652858, 4.448443511109868, 4.4998433504121245, 10.48074169711801, 4.542257837546552, 6.180490386741667, 6.241622694585296, 3.488329959251356, 3.4989821490519075, 5.248083571753586, 3.5392762976420884, 3.5392765151327854, 3.546688870095846, 3.546689653975516, 3.57117476679073, 5.346060217064126, 7.213232255221425, 5.470851224135403, 187.0162875617553, 12.237119564105353, 7.779776908624067, 22.32869492484503, 29.753980603568095, 15.980931084600979, 30.586510901577498, 19.450059402082434, 18.305015346273958, 23.56271678622825, 17.441024014862002, 6.284410926124463, 8.016888022320993, 40.05491223544764, 20.564207287533232, 80.42467252036153, 22.720081617247445, 25.330485420346356, 27.166112162524726, 23.81697769129049, 9.284669309210289, 35.458860962348844, 12.770974160317179, 25.523851390070615, 10.804564177654347, 29.11297488416116, 18.34025397111208, 32.27698461115436, 65.75480177049185, 52.477537019372626, 13.882736196576488, 13.0374062910191, 2.6010037452460706, 2.601003753774316, 2.6010038477931765, 2.6010041380315103, 2.6010042085008958, 2.601004265803653, 8.894770383517999, 3.3180167999315846, 3.4037239122539695, 3.4093672347268567, 3.4196081560400007, 8.693576590923632, 4.263225783555765, 4.333750958195882, 4.350154093550664, 4.363987860161791, 4.390357489501189, 4.408355486678364, 6.284410926124463, 7.033754644002085, 2.424803660061598, 2.432036931245797, 2.443234828755164, 11.919738623871915, 2.517744261399244, 2.518155366812824, 2.5187322587723324, 2.520564524604944, 2.523292374167488, 2.5232921995035875, 5.092155052378314, 5.136835553797157, 5.167627056193421, 5.184531479029911, 12.76633355329303, 5.69718646131164, 22.755547416514542, 5.942479982815374, 10.241846380335204, 32.27698461115436, 10.501757072405821, 187.0162875617553, 17.567054377719664, 17.62205374698246, 67.80920084896022, 35.06524802593834, 80.42467252036153, 14.827064844176837, 24.11871390413833, 25.523851390070615, 40.77855158334534, 23.81697769129049, 14.87633887714117, 16.488768159730906, 20.635761764578422, 25.224049549134552, 29.753980603568095, 25.520051061974964, 37.989177842197975, 54.57819969679093, 21.125517587005085, 2.6005789595576685, 2.600537163784571, 4.307189459569072, 4.322023724937291, 4.320017043400479, 3.4140316527395553, 3.479564422811861, 3.479549388369615, 3.4794837690145712, 5.220190224451597, 6.026602446716158, 10.258880951536664, 4.224818525689054, 4.32214957109171, 4.407951613018876, 2.4318247812409, 2.4430288635341033, 2.518520064130429, 2.5185001586999136, 2.520352016161201, 4.940209667064613, 2.5354792186149777, 2.5354796852942316, 2.5503093516743007, 2.5503130448636333, 2.5502927364990415, 2.571371570981884, 2.571371839660907, 2.571372097011991, 2.5758914809222864, 17.567054377719664, 5.13460242564892, 5.167032507220605, 5.271596959525831, 5.277902160125431, 12.091645519261311, 47.52770039983071, 14.51643683232936, 80.42467252036153, 5.899657050551425, 6.943106682313517, 5.951716518301998, 14.827064844176837, 10.216072934075564, 35.458860962348844, 40.77855158334534, 10.861860898418286, 29.94482689174409, 35.06524802593834, 24.11871390413833, 187.0162875617553, 14.242127662954898, 52.477537019372626, 29.753980603568095, 19.030614433656254, 67.80920084896022, 37.989177842197975, 18.000430218200062, 18.68319887445669, 19.562900562502602, 21.125517587005085, 65.75480177049185, 27.166112162524726, 8.740451072237642, 5.224207692284738, 2.5870171369949855, 2.5870174730597046, 2.5870173022792344, 2.5869332840879897, 3.395380081051815, 5.15539985605375, 4.229292739581307, 4.371850257149499, 4.250614786023208, 2.4178683304953577, 2.4178684878213015, 2.4362513005802824, 2.51350658235373, 2.5135743717208756, 2.513574861199882, 2.5135749701853984, 2.5163030723281765, 2.5163022042667205, 2.5163021381252335, 2.521392467049705, 2.521406953739265, 2.5265437203890997, 2.526543331481604, 2.528701588472025, 2.542534740363177, 2.543531971392235, 2.5435351480555513, 2.543534967152976, 7.703135292697906, 5.633284852058707, 5.870912107029948, 5.948705183056538, 6.004142549884626, 19.450059402082434, 6.161407289118732, 65.75480177049185, 6.643869361515705, 12.058751275879164, 12.091645519261311, 18.68319887445669, 6.887434995623275, 12.714278344289191, 12.808879674385361, 29.94482689174409, 13.598790180005704, 80.42467252036153, 7.140286326803577, 35.458860962348844, 52.477537019372626, 187.0162875617553, 17.54389940619644, 40.05491223544764, 19.030614433656254, 19.562900562502602, 22.32869492484503, 24.11871390413833, 25.224049549134552, 47.52770039983071, 37.989177842197975, 29.11297488416116, 19.916916802453034, 20.895147896050815, 27.166112162524726, 3.412624186289813, 3.2684895846137394, 3.408036630233465, 3.407929819459643, 4.251129938530019, 10.624441131210364, 2.407236646000439, 2.4184401478241293, 2.4929434668575388, 2.4957640131139307, 2.495704105382109, 2.4984913140244847, 2.5087324597968608, 2.508732599241243, 2.5108754742496333, 2.5108906720746305, 2.510890616885741, 2.5247245972455263, 2.5257244169228215, 2.543890434007434, 2.5438906721559174, 2.5438905222782817, 2.5467839339181495, 2.5467832305453224, 2.5467837116800855, 2.569114722590983, 2.5691106820240655, 2.57589188890979, 2.5758914809222864, 2.5761041034232917, 4.983035518670687, 7.57551974482666, 5.044806619405407, 9.260683059299978, 22.32869492484503, 23.616963830039037, 5.948705183056538, 5.973616888607471, 6.025002927635676, 6.027552946446077, 14.242127662954898, 6.072919708296675, 10.376326668366806, 29.11297488416116, 6.5179482547190695, 14.51643683232936, 65.75480177049185, 12.83785899893805, 37.48852927795902, 54.57819969679093, 14.332226971693963, 12.998598802134824, 47.52770039983071, 17.23193462195107, 37.989177842197975, 35.06524802593834, 35.458860962348844, 187.0162875617553, 80.42467252036153, 14.50915040860195, 10.308232942444365, 16.488768159730906, 9.199874455961083, 8.504763257795277, 11.136406685847643, 2.5423384436134864, 2.5423382066015647, 3.2706437518175178, 3.3507009909288747, 5.0047350553882275, 6.099071430125833, 4.153515291181096, 4.257274014065851, 4.356490441225198, 6.886043569767232, 2.4139206634819868, 2.413920571491489, 2.4884240806652387, 2.4911762170146217, 2.504213384554467, 2.506371158345893, 2.520205073349362, 2.5212013718865385, 2.5212051930880124, 2.5393710985941653, 2.5393703206501312, 2.5467839339181495, 2.5467832305453224, 2.5467837116800855, 2.5645943352452196, 2.571371839660907, 2.571372097011991, 2.571371570981884, 2.571583922792141, 2.6137436586103844, 9.364805990162855, 5.927673528665494, 19.030614433656254, 6.170875572134082, 19.034351452155548, 12.83785899893805, 37.48852927795902, 40.05491223544764, 54.57819969679093, 32.27698461115436, 22.720081617247445, 14.607021568654483, 47.52770039983071, 7.692844700504631, 7.746082146079162, 27.166112162524726, 65.75480177049185, 9.13729013722074, 20.635761764578422, 10.138610315666035, 25.330485420346356, 67.80920084896022, 29.94482689174409, 40.77855158334534, 80.42467252036153, 187.0162875617553, 10.390860323568267, 19.450059402082434, 19.562900562502602, 23.616963830039037, 18.000430218200062, 2.5365511968333743, 2.5365511968333743, 2.536550785043998, 2.5365506282180053, 2.536550743165931, 4.107484005727251, 3.253658977732691, 3.3551547892731706, 3.357313339195638, 5.990015862176088, 4.100458995578617, 2.392644902260766, 2.3926449841572337, 2.3926450337242127, 2.3998241766149686, 2.399824411684773, 2.48553108294135, 2.4865191429820745, 2.488351086197526, 2.4883514983020008, 2.4910792502099977, 2.501319902143173, 2.5013200958914954, 2.5034786870867776, 2.5183121316940564, 2.51831193815298, 2.518312258245149, 2.5393703206501312, 2.5393710985941653, 2.543890434007434, 4.98213020261722, 5.011439827484207, 7.677745122889952, 8.801508547622522, 9.364805990162855, 6.072919708296675, 6.091121546488015, 40.05491223544764, 6.397235517264097, 6.726950813424974, 6.958661476889021, 13.0374062910191, 21.043612441900997, 7.548719231449713, 25.330485420346356, 54.57819969679093, 16.61403626629877, 8.408002792661785, 65.75480177049185, 18.000430218200062, 37.48852927795902, 67.80920084896022, 187.0162875617553, 80.42467252036153, 19.126371293866193, 29.753980603568095, 10.624441131210364, 12.498455103275129, 10.469257095465016, 37.989177842197975, 19.562900562502602, 2.498204884155037, 2.498196805091933, 3.3337923150188455, 3.3337924307834483, 4.114487418025167, 4.121785122086962, 2.3806579886393453, 2.3918614835386482, 2.466364636002123, 2.467352737047228, 2.469185202887788, 2.4719129695025135, 2.471912588642415, 2.4719046201134347, 2.471891358470687, 2.4718859810895095, 2.4821273419097203, 2.484270180480523, 2.499124735238789, 2.520205073349362, 2.5247245972455263, 2.542534740363177, 2.5494450764921606, 2.5495250884012592, 2.5495033849592503, 2.591728210966713, 2.5917293779313733, 2.591707397963039, 2.591707797412966, 2.5919388077317427, 7.617861320829194, 5.69718646131164, 5.757702320257912, 5.96321910152071, 14.242127662954898, 11.136406685847643, 11.160111180227046, 6.580355916227573, 29.94482689174409, 6.638548103651136, 11.956326216704065, 6.686077151476569, 6.822808316133017, 67.80920084896022, 25.520051061974964, 16.869087446054266, 17.093102185596475, 6.943106682313517, 9.856003226088754, 22.720081617247445, 9.13729013722074, 10.291308583651901, 10.390860323568267, 10.804564177654347, 187.0162875617553, 19.916916802453034, 80.42467252036153, 32.27698461115436, 11.108434120319684, 12.498455103275129, 19.126371293866193, 19.034351452155548, 30.586510901577498, 3.3358550084224987, 3.335854187625583, 2.500206491754121, 2.5002064985175156, 2.5002066088997554, 2.5002066525238336, 4.221830092561607, 3.2173147664547512, 3.428593280416793, 5.942479982815374, 4.184827150579761, 4.194332662682504, 10.376326668366806, 2.3816580409084764, 2.4673648045678407, 2.4673615433508034, 2.4683524847905, 2.4683532949012967, 2.468353130842833, 2.4683532246549538, 2.472912703418086, 2.499124735238789, 2.51831193815298, 2.518312258245149, 2.5183121316940564, 2.5212051930880124, 2.5212013718865385, 2.5257244169228215, 2.543534967152976, 2.5435351480555513, 7.582858576875706, 12.808879674385361, 5.159588815572146, 12.685337658506025, 9.363112861578095, 5.990015862176088, 6.011781527205433, 6.103921322865936, 17.23193462195107, 6.691385897340434, 6.726950813424974, 12.76633355329303, 7.70459435171419, 7.755578002900932, 19.126371293866193, 19.562900562502602, 23.616963830039037, 187.0162875617553, 54.57819969679093, 16.869087446054266, 29.94482689174409, 17.441024014862002, 10.906986525610222, 13.579515341019725, 14.802752736085969, 24.11871390413833, 4.125886465511915, 10.216072934075564, 5.8449715370365825, 4.204348330137853, 4.255576700806689, 21.125517587005085, 2.366824614294784, 2.4535038872568213, 2.455283149961561, 2.4553518536856904, 2.455351384761239, 2.45807978280084, 2.4580787541512237, 2.463184102238715, 2.4631688904413673, 2.4683207732735775, 2.468305215246607, 2.484270180480523, 4.885231820227914, 2.5034786870867776, 2.506371158345893, 2.510890616885741, 2.5108906720746305, 2.5108754742496333, 2.528701588472025, 2.5354796852942316, 2.5354792186149777, 2.5356915055525535, 4.991039699665214, 2.577894702324976, 16.61403626629877, 5.874384062157171, 5.8825582222151285, 5.899657050551425, 6.005856460585431, 6.183835994494927, 18.305015346273958, 11.919738623871915, 6.769771478264391, 12.998598802134824, 6.61688272251655, 21.043612441900997, 40.77855158334534, 52.477537019372626, 8.680989556862501, 9.363112861578095, 37.989177842197975, 10.469257095465016, 11.17440143133511, 11.628990633053785, 12.83785899893805, 15.209512074400298, 54.57819969679093, 80.42467252036153, 187.0162875617553, 19.034351452155548, 65.75480177049185, 4.103496434398309, 2.4662153988795956, 2.357486938177442, 2.4559211186267493, 2.4610259936373016, 2.468305215246607, 2.4683207732735775, 2.4821273419097203, 2.501319902143173, 2.5013200958914954, 2.504213384554467, 2.5087324597968608, 2.508732599241243, 2.5265437203890997, 2.526543331481604, 2.5335334235392377, 2.5335329872359784, 2.5759461839599607, 2.5759461827351426, 2.575946045823997, 52.477537019372626, 3.1854285012442647, 3.1992623992034375, 3.258876998807975, 3.2615562855196574, 3.2856662214780856, 3.3125759220487225, 3.3125759367937664, 3.329358429970913, 3.3551547892731706, 6.56115988304573, 6.643869361515705, 6.919598461189802, 6.958661476889021, 7.421006975619973, 17.62205374698246, 18.000430218200062, 80.42467252036153, 7.897468142510888, 15.209512074400298, 9.244712743073126, 10.419521842058494, 11.628990633053785, 13.70069574206467, 14.50915040860195, 15.55776406268702, 16.61403626629877, 40.05491223544764, 54.57819969679093, 65.75480177049185, 19.562900562502602, 10.45011951872428, 22.755547416514542, 23.616963830039037, 25.224049549134552, 25.520051061974964, 67.80920084896022, 37.989177842197975, 47.52770039983071, 3.269452857403641, 3.2587558244035617, 3.3417038918091695, 4.245226090942532, 4.263039763971793, 2.445237079237713, 2.4452368858974136, 2.445221201203435, 2.4462094517900486, 2.4480572895536277, 2.4507845040315996, 4.792836450746067, 2.4610259936373016, 2.4631688904413673, 2.463184102238715, 2.521406953739265, 2.521392467049705, 2.5283973699327973, 4.98213020261722, 2.570600378410175, 2.5708073355070375, 2.570809369666682, 2.5708099716719732, 2.5708102901526764, 2.5708098545741924, 5.8825582222151285, 5.909592279257217, 5.939661806790165, 6.0845504893828934, 9.244712743073126, 25.224049549134552, 18.68319887445669, 6.56115988304573, 80.42467252036153, 52.477537019372626, 37.989177842197975, 35.06524802593834, 7.548719231449713, 7.65717368779349, 7.683777398855052, 20.564207287533232, 187.0162875617553, 23.56271678622825, 23.81697769129049, 10.718149332622783, 25.330485420346356, 29.753980603568095, 30.586510901577498, 65.75480177049185, 35.458860962348844, 15.209512074400298, 18.34025397111208, 23.616963830039037, 13.70069574206467, 3.2541350122123984, 3.155658079613012, 3.2591819993867595, 3.374116822746977, 4.125507783408906, 4.211899750952525, 4.302710754046315, 2.442951884049551, 2.4429525394538016, 2.4507845040315996, 2.4559211186267493, 2.4580787541512237, 2.45807978280084, 2.4718859810895095, 2.471891358470687, 2.4719046201134347, 2.471912588642415, 2.4719129695025135, 2.472912703418086, 2.4910792502099977, 2.4984913140244847, 2.5163021381252335, 2.5163022042667205, 2.5163030723281765, 2.523292374167488, 2.5232925523249885, 2.5232921995035875, 2.5654955579966345, 2.56570363117269, 2.5657053756688675, 6.084438858781753, 10.241846380335204, 10.48074169711801, 11.628990633053785, 6.61688272251655, 6.643869361515705, 67.80920084896022, 7.700503117347274, 15.980931084600979, 16.869087446054266, 10.138610315666035, 187.0162875617553, 11.08457526534342, 12.714278344289191, 12.76633355329303, 20.635761764578422, 20.895147896050815, 25.224049549134552, 30.586510901577498, 65.75480177049185, 3.395380081051815, 7.703135292697906, 47.52770039983071, 2.4366079161311776, 3.242243578834238, 3.2500759526765295, 3.2903696728393435, 4.026034756569569, 4.058423418811236, 4.932791627277134, 2.3426861891729955, 2.342685840990055, 2.4355722713149865, 2.435572238908836, 2.4383241859644267, 2.4462094517900486, 2.4535038872568213, 2.467352737047228, 2.4683532949012967, 2.4683524847905, 2.4683532246549538, 2.468353130842833, 2.4865191429820745, 2.5185001586999136, 2.518520064130429, 2.5187322587723324, 2.518155366812824, 2.560891643842819, 2.560934403528441, 2.5609344903522753, 2.560936795471602, 2.560936235470653, 2.560937010525117, 5.136835553797157, 10.906986525610222, 23.81697769129049, 5.842144930476065, 5.960398797607392, 5.985628539880488, 29.11297488416116, 12.498455103275129, 7.2221689804770834, 25.520051061974964, 9.451385508057067, 11.919738623871915, 12.714278344289191, 13.579515341019725, 14.51643683232936, 14.802752736085969, 14.91612873917315, 16.488768159730906, 67.80920084896022, 187.0162875617553, 22.720081617247445, 24.11871390413833, 35.06524802593834, 80.42467252036153, 2.4402727768184134, 2.4402465857982576, 2.4402203131962055, 4.066711460403422, 3.258876998807975, 3.2748687329060417, 7.2221689804770834, 4.150564048966516, 4.254633145711281, 5.938970405936459, 2.3516973378064887, 2.437404317229624, 2.4383241859644267, 2.442951884049551, 2.4429525394538016, 2.4480572895536277, 2.455351384761239, 2.4553518536856904, 2.455283149961561, 2.469185202887788, 2.488351086197526, 2.4883514983020008, 2.4911762170146217, 2.495704105382109, 2.4957640131139307, 2.5135743717208756, 2.513574861199882, 2.5135749701853984, 2.51350658235373, 2.520352016161201, 4.940209667064613, 5.089022310583161, 9.199874455961083, 5.860079657299089, 11.08457526534342, 6.56115988304573, 6.638548103651136, 8.516811854509777, 9.297311692807872, 9.451385508057067, 9.455149124351937, 10.138610315666035, 10.501757072405821, 25.224049549134552, 11.956326216704065, 67.80920084896022, 14.87633887714117, 18.305015346273958, 18.68319887445669, 22.755547416514542, 54.57819969679093, 187.0162875617553, 25.523851390070615, 35.06524802593834, 24.11871390413833, 3.2402670109513982, 4.166611910926383, 4.1770494422728905, 4.248922910592225, 2.348877158438644, 2.3488767853815973, 6.879056017092166, 2.435572238908836, 2.4355722713149865, 2.437404317229624, 2.445221201203435, 2.4452368858974136, 2.445237079237713, 2.466364636002123, 2.4673615433508034, 2.4673648045678407, 2.48553108294135, 2.4884240806652387, 2.4929434668575388, 2.517744261399244, 4.955143596175314, 2.559947468173843, 2.560156407636784, 2.560157447465773, 5.0047350553882275, 5.860079657299089, 3.2587558244035617, 3.2659838022556373, 6.397235517264097, 3.3137052868361363, 14.332226971693963, 20.564207287533232, 25.523851390070615, 67.80920084896022, 9.297311692807872, 10.030173511933054, 10.861860898418286, 11.160111180227046, 187.0162875617553, 12.058751275879164, 12.936687299382818, 40.77855158334534, 18.68319887445669, 20.635761764578422, 21.043612441900997, 21.25219867975237, 47.52770039983071, 54.57819969679093, 65.75480177049185, 20.895147896050815, 3.9702280746237224, 3.975173447020755, 2.3918614835386482, 2.413920571491489, 2.4139206634819868, 2.4184401478241293, 2.4362513005802824, 2.4430288635341033, 2.443234828755164, 2.4854445962059653, 2.48564739373878, 3.1531634993325484, 3.1836567672819833, 3.25303641701766, 3.2706437518175178, 3.2775782058913827, 6.500728156399346, 3.3394099562890713, 6.561597468112023, 3.3644299044807946, 3.3646335378738406, 6.580355916227573, 3.371628380706766, 3.988948897311927, 4.026034756569569, 4.052672171513217, 4.100458995578617, 15.980931084600979, 9.29983280362944, 14.242127662954898, 40.05491223544764, 13.598790180005704, 29.11297488416116, 16.2701853292199, 54.57819969679093, 40.77855158334534, 67.80920084896022, 23.616963830039037, 187.0162875617553, 17.093102185596475, 15.209512074400298, 22.720081617247445, 17.567054377719664, 5.739103193992912, 11.108434120319684, 12.76633355329303, 18.34025397111208, 19.562900562502602, 8.639725001186353, 7.703135292697906, 4.940209667064613, 7.582858576875706, 3.0670017011179307, 4.602738217257983, 3.1169606147597717, 2.2559908255633685, 2.348877158438644, 2.3488767853815973, 2.3516973378064887, 2.366824614294784, 2.3806579886393453, 2.3816580409084764, 2.3998241766149686, 2.399824411684773, 2.407236646000439, 2.4318247812409, 2.432036931245797, 2.474241149743923, 2.4742411232069705, 7.267982061491232, 3.184245262526244, 3.1854285012442647, 3.1992623992034375, 3.2128718370468676, 3.2173147664547512, 3.253658977732691, 3.2684895846137394, 6.397235517264097, 3.278044987392542, 3.2878571124422704, 6.4248972468844086, 3.310045649717152, 6.666400998220572, 10.030173511933054, 12.498455103275129, 12.770974160317179, 187.0162875617553, 17.441024014862002, 54.57819969679093, 12.237119564105353, 3.3600043006989275, 4.885231820227914, 3.3604249658523595, 6.569457319929576, 19.126371293866193, 18.101401178214065, 4.16281864827644, 5.757702320257912, 12.714278344289191, 8.584510750678405, 3.353227069249695, 4.030928366460019, 2.2559908255633685, 2.342685840990055, 2.3426861891729955, 2.357486938177442, 2.3926449841572337, 2.3926450337242127, 2.392644902260766, 2.4178683304953577, 2.4178684878213015, 2.424803660061598, 2.4672709311000434, 2.46727132403368, 4.837685027482988, 5.633284852058707, 3.152880805128575, 3.1531634993325484, 3.155658079613012, 3.184245262526244, 3.223503340390079, 3.2856662214780856, 3.2880333618183792, 3.3236726275863635, 3.3282325346161814, 3.3530364926934952, 3.3954487376375653, 4.056634728643411, 4.079436150199344, 4.112920630736545, 4.1246246552993275, 11.681942358552632, 29.94482689174409, 67.80920084896022, 21.043612441900997, 23.616963830039037, 187.0162875617553, 25.520051061974964, 40.05491223544764, 40.77855158334534, 19.450059402082434, 54.57819969679093, 12.685337658506025, 10.291308583651901, 25.330485420346356, 8.408002792661785, 7.793693480277702, 12.237119564105353, 18.68319887445669, 8.504763257795277, 10.241846380335204, 5.8180633403073125, 6.5179482547190695, 24.11871390413833, 8.527365015213128, 11.194500588451522, 6.769771478264391], \"Category\": [\"Default\", \"Default\", \"Default\", \"Default\", \"Default\", \"Default\", \"Default\", \"Default\", \"Default\", \"Default\", \"Default\", \"Default\", \"Default\", \"Default\", \"Default\", \"Default\", \"Default\", \"Default\", \"Default\", \"Default\", \"Default\", \"Default\", \"Default\", \"Default\", \"Default\", \"Default\", \"Default\", \"Default\", \"Default\", \"Default\", \"Topic1\", \"Topic1\", \"Topic1\", \"Topic1\", \"Topic1\", \"Topic1\", \"Topic1\", \"Topic1\", \"Topic1\", \"Topic1\", \"Topic1\", \"Topic1\", \"Topic1\", \"Topic1\", \"Topic1\", \"Topic1\", \"Topic1\", \"Topic1\", \"Topic1\", \"Topic1\", \"Topic1\", \"Topic1\", \"Topic1\", \"Topic1\", \"Topic1\", \"Topic1\", \"Topic1\", \"Topic1\", \"Topic1\", \"Topic1\", \"Topic1\", \"Topic1\", \"Topic1\", \"Topic1\", \"Topic1\", \"Topic1\", \"Topic1\", \"Topic1\", \"Topic1\", \"Topic1\", \"Topic1\", \"Topic1\", \"Topic1\", \"Topic1\", \"Topic1\", \"Topic1\", \"Topic1\", \"Topic1\", \"Topic1\", \"Topic1\", \"Topic1\", \"Topic1\", \"Topic1\", \"Topic1\", \"Topic1\", \"Topic1\", \"Topic1\", \"Topic1\", \"Topic1\", \"Topic1\", \"Topic1\", \"Topic1\", \"Topic2\", \"Topic2\", \"Topic2\", \"Topic2\", \"Topic2\", \"Topic2\", \"Topic2\", \"Topic2\", \"Topic2\", \"Topic2\", \"Topic2\", \"Topic2\", \"Topic2\", \"Topic2\", \"Topic2\", \"Topic2\", \"Topic2\", \"Topic2\", \"Topic2\", \"Topic2\", \"Topic2\", \"Topic2\", \"Topic2\", \"Topic2\", \"Topic2\", \"Topic2\", \"Topic2\", \"Topic2\", \"Topic2\", \"Topic2\", \"Topic2\", \"Topic2\", \"Topic2\", \"Topic2\", \"Topic2\", \"Topic2\", \"Topic2\", \"Topic2\", \"Topic2\", \"Topic2\", \"Topic2\", \"Topic2\", \"Topic2\", \"Topic2\", \"Topic2\", \"Topic2\", \"Topic2\", \"Topic2\", \"Topic2\", \"Topic2\", \"Topic2\", \"Topic2\", \"Topic2\", \"Topic2\", \"Topic2\", \"Topic2\", \"Topic2\", \"Topic2\", \"Topic2\", \"Topic2\", \"Topic2\", \"Topic2\", \"Topic2\", \"Topic2\", \"Topic2\", \"Topic3\", \"Topic3\", \"Topic3\", \"Topic3\", \"Topic3\", \"Topic3\", \"Topic3\", \"Topic3\", \"Topic3\", \"Topic3\", \"Topic3\", \"Topic3\", \"Topic3\", \"Topic3\", \"Topic3\", \"Topic3\", \"Topic3\", \"Topic3\", \"Topic3\", \"Topic3\", \"Topic3\", \"Topic3\", \"Topic3\", \"Topic3\", \"Topic3\", \"Topic3\", \"Topic3\", \"Topic3\", \"Topic3\", \"Topic3\", \"Topic3\", \"Topic3\", \"Topic3\", \"Topic3\", \"Topic3\", \"Topic3\", \"Topic3\", \"Topic3\", \"Topic3\", \"Topic3\", \"Topic3\", \"Topic3\", \"Topic3\", \"Topic3\", \"Topic3\", \"Topic3\", \"Topic3\", \"Topic3\", \"Topic3\", \"Topic3\", \"Topic3\", \"Topic3\", \"Topic3\", \"Topic3\", \"Topic3\", \"Topic3\", \"Topic3\", \"Topic3\", \"Topic3\", \"Topic3\", \"Topic3\", \"Topic4\", \"Topic4\", \"Topic4\", \"Topic4\", \"Topic4\", \"Topic4\", \"Topic4\", \"Topic4\", \"Topic4\", \"Topic4\", \"Topic4\", \"Topic4\", \"Topic4\", \"Topic4\", \"Topic4\", \"Topic4\", \"Topic4\", \"Topic4\", \"Topic4\", \"Topic4\", \"Topic4\", \"Topic4\", \"Topic4\", \"Topic4\", \"Topic4\", \"Topic4\", \"Topic4\", \"Topic4\", \"Topic4\", \"Topic4\", \"Topic4\", \"Topic4\", \"Topic4\", \"Topic4\", \"Topic4\", \"Topic4\", \"Topic4\", \"Topic4\", \"Topic4\", \"Topic4\", \"Topic4\", \"Topic4\", \"Topic4\", \"Topic4\", \"Topic4\", \"Topic4\", \"Topic4\", \"Topic4\", \"Topic4\", \"Topic4\", \"Topic4\", \"Topic4\", \"Topic4\", \"Topic4\", \"Topic4\", \"Topic4\", \"Topic4\", \"Topic4\", \"Topic4\", \"Topic4\", \"Topic4\", \"Topic4\", \"Topic4\", \"Topic5\", \"Topic5\", \"Topic5\", \"Topic5\", \"Topic5\", \"Topic5\", \"Topic5\", \"Topic5\", \"Topic5\", \"Topic5\", \"Topic5\", \"Topic5\", \"Topic5\", \"Topic5\", \"Topic5\", \"Topic5\", \"Topic5\", \"Topic5\", \"Topic5\", \"Topic5\", \"Topic5\", \"Topic5\", \"Topic5\", \"Topic5\", \"Topic5\", \"Topic5\", \"Topic5\", \"Topic5\", \"Topic5\", \"Topic5\", \"Topic5\", \"Topic5\", \"Topic5\", \"Topic5\", \"Topic5\", \"Topic5\", \"Topic5\", \"Topic5\", \"Topic5\", \"Topic5\", \"Topic5\", \"Topic5\", \"Topic5\", \"Topic5\", \"Topic5\", \"Topic5\", \"Topic5\", \"Topic5\", \"Topic5\", \"Topic5\", \"Topic5\", \"Topic5\", \"Topic5\", \"Topic5\", \"Topic5\", \"Topic5\", \"Topic5\", \"Topic5\", \"Topic5\", \"Topic5\", \"Topic5\", \"Topic5\", \"Topic5\", \"Topic5\", \"Topic5\", \"Topic6\", \"Topic6\", \"Topic6\", \"Topic6\", \"Topic6\", \"Topic6\", \"Topic6\", \"Topic6\", \"Topic6\", \"Topic6\", \"Topic6\", \"Topic6\", \"Topic6\", \"Topic6\", \"Topic6\", \"Topic6\", \"Topic6\", \"Topic6\", \"Topic6\", \"Topic6\", \"Topic6\", \"Topic6\", \"Topic6\", \"Topic6\", \"Topic6\", \"Topic6\", \"Topic6\", \"Topic6\", \"Topic6\", \"Topic6\", \"Topic6\", \"Topic6\", \"Topic6\", \"Topic6\", \"Topic6\", \"Topic6\", \"Topic6\", \"Topic6\", \"Topic6\", \"Topic6\", \"Topic6\", \"Topic6\", \"Topic6\", \"Topic6\", \"Topic6\", \"Topic6\", \"Topic6\", \"Topic6\", \"Topic6\", \"Topic6\", \"Topic6\", \"Topic6\", \"Topic6\", \"Topic6\", \"Topic6\", \"Topic6\", \"Topic6\", \"Topic6\", \"Topic6\", \"Topic6\", \"Topic6\", \"Topic6\", \"Topic6\", \"Topic6\", \"Topic6\", \"Topic7\", \"Topic7\", \"Topic7\", \"Topic7\", \"Topic7\", \"Topic7\", \"Topic7\", \"Topic7\", \"Topic7\", \"Topic7\", \"Topic7\", \"Topic7\", \"Topic7\", \"Topic7\", \"Topic7\", \"Topic7\", \"Topic7\", \"Topic7\", \"Topic7\", \"Topic7\", \"Topic7\", \"Topic7\", \"Topic7\", \"Topic7\", \"Topic7\", \"Topic7\", \"Topic7\", \"Topic7\", \"Topic7\", \"Topic7\", \"Topic7\", \"Topic7\", \"Topic7\", \"Topic7\", \"Topic7\", \"Topic7\", \"Topic7\", \"Topic7\", \"Topic7\", \"Topic7\", \"Topic7\", \"Topic7\", \"Topic7\", \"Topic7\", \"Topic7\", \"Topic7\", \"Topic7\", \"Topic7\", \"Topic7\", \"Topic7\", \"Topic7\", \"Topic7\", \"Topic7\", \"Topic7\", \"Topic7\", \"Topic7\", \"Topic7\", \"Topic7\", \"Topic7\", \"Topic7\", \"Topic7\", \"Topic8\", \"Topic8\", \"Topic8\", \"Topic8\", \"Topic8\", \"Topic8\", \"Topic8\", \"Topic8\", \"Topic8\", \"Topic8\", \"Topic8\", \"Topic8\", \"Topic8\", \"Topic8\", \"Topic8\", \"Topic8\", \"Topic8\", \"Topic8\", \"Topic8\", \"Topic8\", \"Topic8\", \"Topic8\", \"Topic8\", \"Topic8\", \"Topic8\", \"Topic8\", \"Topic8\", \"Topic8\", \"Topic8\", \"Topic8\", \"Topic8\", \"Topic8\", \"Topic8\", \"Topic8\", \"Topic8\", \"Topic8\", \"Topic8\", \"Topic8\", \"Topic8\", \"Topic8\", \"Topic8\", \"Topic8\", \"Topic8\", \"Topic8\", \"Topic8\", \"Topic8\", \"Topic8\", \"Topic8\", \"Topic8\", \"Topic8\", \"Topic8\", \"Topic8\", \"Topic8\", \"Topic8\", \"Topic8\", \"Topic8\", \"Topic8\", \"Topic8\", \"Topic8\", \"Topic8\", \"Topic8\", \"Topic9\", \"Topic9\", \"Topic9\", \"Topic9\", \"Topic9\", \"Topic9\", \"Topic9\", \"Topic9\", \"Topic9\", \"Topic9\", \"Topic9\", \"Topic9\", \"Topic9\", \"Topic9\", \"Topic9\", \"Topic9\", \"Topic9\", \"Topic9\", \"Topic9\", \"Topic9\", \"Topic9\", \"Topic9\", \"Topic9\", \"Topic9\", \"Topic9\", \"Topic9\", \"Topic9\", \"Topic9\", \"Topic9\", \"Topic9\", \"Topic9\", \"Topic9\", \"Topic9\", \"Topic9\", \"Topic9\", \"Topic9\", \"Topic9\", \"Topic9\", \"Topic9\", \"Topic9\", \"Topic9\", \"Topic9\", \"Topic9\", \"Topic9\", \"Topic9\", \"Topic9\", \"Topic9\", \"Topic9\", \"Topic9\", \"Topic9\", \"Topic9\", \"Topic9\", \"Topic9\", \"Topic9\", \"Topic9\", \"Topic9\", \"Topic9\", \"Topic9\", \"Topic9\", \"Topic9\", \"Topic9\", \"Topic9\", \"Topic9\", \"Topic10\", \"Topic10\", \"Topic10\", \"Topic10\", \"Topic10\", \"Topic10\", \"Topic10\", \"Topic10\", \"Topic10\", \"Topic10\", \"Topic10\", \"Topic10\", \"Topic10\", \"Topic10\", \"Topic10\", \"Topic10\", \"Topic10\", \"Topic10\", \"Topic10\", \"Topic10\", \"Topic10\", \"Topic10\", \"Topic10\", \"Topic10\", \"Topic10\", \"Topic10\", \"Topic10\", \"Topic10\", \"Topic10\", \"Topic10\", \"Topic10\", \"Topic10\", \"Topic10\", \"Topic10\", \"Topic10\", \"Topic10\", \"Topic10\", \"Topic10\", \"Topic10\", \"Topic10\", \"Topic10\", \"Topic10\", \"Topic10\", \"Topic10\", \"Topic10\", \"Topic10\", \"Topic10\", \"Topic10\", \"Topic10\", \"Topic10\", \"Topic10\", \"Topic10\", \"Topic10\", \"Topic10\", \"Topic10\", \"Topic10\", \"Topic11\", \"Topic11\", \"Topic11\", \"Topic11\", \"Topic11\", \"Topic11\", \"Topic11\", \"Topic11\", \"Topic11\", \"Topic11\", \"Topic11\", \"Topic11\", \"Topic11\", \"Topic11\", \"Topic11\", \"Topic11\", \"Topic11\", \"Topic11\", \"Topic11\", \"Topic11\", \"Topic11\", \"Topic11\", \"Topic11\", \"Topic11\", \"Topic11\", \"Topic11\", \"Topic11\", \"Topic11\", \"Topic11\", \"Topic11\", \"Topic11\", \"Topic11\", \"Topic11\", \"Topic11\", \"Topic11\", \"Topic11\", \"Topic11\", \"Topic11\", \"Topic11\", \"Topic11\", \"Topic11\", \"Topic11\", \"Topic11\", \"Topic11\", \"Topic11\", \"Topic11\", \"Topic11\", \"Topic11\", \"Topic11\", \"Topic11\", \"Topic11\", \"Topic11\", \"Topic11\", \"Topic11\", \"Topic11\", \"Topic11\", \"Topic11\", \"Topic12\", \"Topic12\", \"Topic12\", \"Topic12\", \"Topic12\", \"Topic12\", \"Topic12\", \"Topic12\", \"Topic12\", \"Topic12\", \"Topic12\", \"Topic12\", \"Topic12\", \"Topic12\", \"Topic12\", \"Topic12\", \"Topic12\", \"Topic12\", \"Topic12\", \"Topic12\", \"Topic12\", \"Topic12\", \"Topic12\", \"Topic12\", \"Topic12\", \"Topic12\", \"Topic12\", \"Topic12\", \"Topic12\", \"Topic12\", \"Topic12\", \"Topic12\", \"Topic12\", \"Topic12\", \"Topic12\", \"Topic12\", \"Topic12\", \"Topic12\", \"Topic12\", \"Topic12\", \"Topic12\", \"Topic12\", \"Topic12\", \"Topic12\", \"Topic12\", \"Topic12\", \"Topic12\", \"Topic12\", \"Topic12\", \"Topic12\", \"Topic12\", \"Topic12\", \"Topic12\", \"Topic12\", \"Topic12\", \"Topic12\", \"Topic12\", \"Topic12\", \"Topic12\", \"Topic13\", \"Topic13\", \"Topic13\", \"Topic13\", \"Topic13\", \"Topic13\", \"Topic13\", \"Topic13\", \"Topic13\", \"Topic13\", \"Topic13\", \"Topic13\", \"Topic13\", \"Topic13\", \"Topic13\", \"Topic13\", \"Topic13\", \"Topic13\", \"Topic13\", \"Topic13\", \"Topic13\", \"Topic13\", \"Topic13\", \"Topic13\", \"Topic13\", \"Topic13\", \"Topic13\", \"Topic13\", \"Topic13\", \"Topic13\", \"Topic13\", \"Topic13\", \"Topic13\", \"Topic13\", \"Topic13\", \"Topic13\", \"Topic13\", \"Topic13\", \"Topic13\", \"Topic13\", \"Topic13\", \"Topic13\", \"Topic13\", \"Topic13\", \"Topic13\", \"Topic13\", \"Topic13\", \"Topic13\", \"Topic13\", \"Topic13\", \"Topic13\", \"Topic13\", \"Topic13\", \"Topic13\", \"Topic14\", \"Topic14\", \"Topic14\", \"Topic14\", \"Topic14\", \"Topic14\", \"Topic14\", \"Topic14\", \"Topic14\", \"Topic14\", \"Topic14\", \"Topic14\", \"Topic14\", \"Topic14\", \"Topic14\", \"Topic14\", \"Topic14\", \"Topic14\", \"Topic14\", \"Topic14\", \"Topic14\", \"Topic14\", \"Topic14\", \"Topic14\", \"Topic14\", \"Topic14\", \"Topic14\", \"Topic14\", \"Topic14\", \"Topic14\", \"Topic14\", \"Topic14\", \"Topic14\", \"Topic14\", \"Topic14\", \"Topic14\", \"Topic14\", \"Topic14\", \"Topic14\", \"Topic14\", \"Topic14\", \"Topic14\", \"Topic14\", \"Topic14\", \"Topic14\", \"Topic14\", \"Topic14\", \"Topic14\", \"Topic14\", \"Topic14\", \"Topic14\", \"Topic14\", \"Topic14\", \"Topic15\", \"Topic15\", \"Topic15\", \"Topic15\", \"Topic15\", \"Topic15\", \"Topic15\", \"Topic15\", \"Topic15\", \"Topic15\", \"Topic15\", \"Topic15\", \"Topic15\", \"Topic15\", \"Topic15\", \"Topic15\", \"Topic15\", \"Topic15\", \"Topic15\", \"Topic15\", \"Topic15\", \"Topic15\", \"Topic15\", \"Topic15\", \"Topic15\", \"Topic15\", \"Topic15\", \"Topic15\", \"Topic15\", \"Topic15\", \"Topic15\", \"Topic15\", \"Topic15\", \"Topic15\", \"Topic15\", \"Topic15\", \"Topic15\", \"Topic15\", \"Topic15\", \"Topic15\", \"Topic15\", \"Topic15\", \"Topic15\", \"Topic15\", \"Topic15\", \"Topic15\", \"Topic15\", \"Topic15\", \"Topic15\", \"Topic15\", \"Topic15\", \"Topic15\", \"Topic15\", \"Topic15\", \"Topic16\", \"Topic16\", \"Topic16\", \"Topic16\", \"Topic16\", \"Topic16\", \"Topic16\", \"Topic16\", \"Topic16\", \"Topic16\", \"Topic16\", \"Topic16\", \"Topic16\", \"Topic16\", \"Topic16\", \"Topic16\", \"Topic16\", \"Topic16\", \"Topic16\", \"Topic16\", \"Topic16\", \"Topic16\", \"Topic16\", \"Topic16\", \"Topic16\", \"Topic16\", \"Topic16\", \"Topic16\", \"Topic16\", \"Topic16\", \"Topic16\", \"Topic16\", \"Topic16\", \"Topic16\", \"Topic16\", \"Topic16\", \"Topic16\", \"Topic16\", \"Topic16\", \"Topic16\", \"Topic16\", \"Topic16\", \"Topic16\", \"Topic16\", \"Topic16\", \"Topic16\", \"Topic16\", \"Topic16\", \"Topic16\", \"Topic16\", \"Topic16\", \"Topic16\", \"Topic16\", \"Topic16\", \"Topic16\", \"Topic17\", \"Topic17\", \"Topic17\", \"Topic17\", \"Topic17\", \"Topic17\", \"Topic17\", \"Topic17\", \"Topic17\", \"Topic17\", \"Topic17\", \"Topic17\", \"Topic17\", \"Topic17\", \"Topic17\", \"Topic17\", \"Topic17\", \"Topic17\", \"Topic17\", \"Topic17\", \"Topic17\", \"Topic17\", \"Topic17\", \"Topic17\", \"Topic17\", \"Topic17\", \"Topic17\", \"Topic17\", \"Topic17\", \"Topic17\", \"Topic17\", \"Topic17\", \"Topic17\", \"Topic17\", \"Topic17\", \"Topic17\", \"Topic17\", \"Topic17\", \"Topic17\", \"Topic17\", \"Topic17\", \"Topic17\", \"Topic17\", \"Topic17\", \"Topic17\", \"Topic17\", \"Topic17\", \"Topic17\", \"Topic17\", \"Topic17\", \"Topic18\", \"Topic18\", \"Topic18\", \"Topic18\", \"Topic18\", \"Topic18\", \"Topic18\", \"Topic18\", \"Topic18\", \"Topic18\", \"Topic18\", \"Topic18\", \"Topic18\", \"Topic18\", \"Topic18\", \"Topic18\", \"Topic18\", \"Topic18\", \"Topic18\", \"Topic18\", \"Topic18\", \"Topic18\", \"Topic18\", \"Topic18\", \"Topic18\", \"Topic18\", \"Topic18\", \"Topic18\", \"Topic18\", \"Topic18\", \"Topic18\", \"Topic18\", \"Topic18\", \"Topic18\", \"Topic18\", \"Topic18\", \"Topic18\", \"Topic18\", \"Topic18\", \"Topic18\", \"Topic18\", \"Topic18\", \"Topic18\", \"Topic18\", \"Topic18\", \"Topic18\", \"Topic18\", \"Topic18\", \"Topic18\", \"Topic18\", \"Topic18\", \"Topic18\", \"Topic19\", \"Topic19\", \"Topic19\", \"Topic19\", \"Topic19\", \"Topic19\", \"Topic19\", \"Topic19\", \"Topic19\", \"Topic19\", \"Topic19\", \"Topic19\", \"Topic19\", \"Topic19\", \"Topic19\", \"Topic19\", \"Topic19\", \"Topic19\", \"Topic19\", \"Topic19\", \"Topic19\", \"Topic19\", \"Topic19\", \"Topic19\", \"Topic19\", \"Topic19\", \"Topic19\", \"Topic19\", \"Topic19\", \"Topic19\", \"Topic19\", \"Topic19\", \"Topic19\", \"Topic19\", \"Topic19\", \"Topic19\", \"Topic19\", \"Topic19\", \"Topic19\", \"Topic19\", \"Topic19\", \"Topic19\", \"Topic19\", \"Topic19\", \"Topic19\", \"Topic19\", \"Topic19\", \"Topic19\", \"Topic19\", \"Topic20\", \"Topic20\", \"Topic20\", \"Topic20\", \"Topic20\", \"Topic20\", \"Topic20\", \"Topic20\", \"Topic20\", \"Topic20\", \"Topic20\", \"Topic20\", \"Topic20\", \"Topic20\", \"Topic20\", \"Topic20\", \"Topic20\", \"Topic20\", \"Topic20\", \"Topic20\", \"Topic20\", \"Topic20\", \"Topic20\", \"Topic20\", \"Topic20\", \"Topic20\", \"Topic20\", \"Topic20\", \"Topic20\", \"Topic20\", \"Topic20\", \"Topic20\", \"Topic20\", \"Topic20\", \"Topic20\", \"Topic20\", \"Topic20\", \"Topic20\", \"Topic20\", \"Topic20\", \"Topic20\", \"Topic20\", \"Topic20\", \"Topic20\", \"Topic20\", \"Topic20\", \"Topic20\", \"Topic20\", \"Topic20\", \"Topic20\", \"Topic20\", \"Topic20\", \"Topic20\", \"Topic20\", \"Topic20\", \"Topic20\"], \"logprob\": [30.0, 29.0, 28.0, 27.0, 26.0, 25.0, 24.0, 23.0, 22.0, 21.0, 20.0, 19.0, 18.0, 17.0, 16.0, 15.0, 14.0, 13.0, 12.0, 11.0, 10.0, 9.0, 8.0, 7.0, 6.0, 5.0, 4.0, 3.0, 2.0, 1.0, -5.6829, -6.0803, -6.0803, -6.0803, -6.0803, -6.0803, -6.0803, -6.0803, -6.0803, -6.0803, -6.0803, -6.0803, -6.0803, -6.0803, -5.3993, -5.3993, -5.6829, -4.7124, -6.0803, -6.0803, -6.0803, -6.0803, -6.0803, -6.0803, -6.0803, -6.0803, -6.0803, -5.3994, -4.3125, -5.3994, -4.7133, -3.0279, -3.8491, -5.4135, -4.6144, -5.1787, -4.436, -4.332, -4.2293, -4.1819, -4.0554, -4.5124, -4.5051, -4.9852, -5.014, -4.8528, -4.6835, -5.1787, -5.3994, -5.3995, -5.3993, -5.1787, -5.1787, -4.998, -5.2299, -5.1709, -5.0219, -4.8862, -5.1787, -5.1456, -5.0272, -5.1787, -5.3875, -5.6711, -5.6711, -6.0684, -6.0684, -6.0684, -6.0684, -6.0684, -6.0684, -6.0684, -6.0684, -6.0684, -6.0684, -4.7005, -4.9861, -5.6711, -5.6711, -5.6711, -4.8331, -5.6711, -5.3875, -5.3875, -6.0684, -6.0684, -5.6711, -6.0684, -6.0684, -6.0684, -6.0684, -6.0684, -5.6711, -5.3875, -5.6711, -2.6095, -4.9861, -5.3875, -4.4993, -4.2971, -4.8331, -4.3837, -4.7307, -4.8331, -4.7005, -4.9861, -5.579, -5.4499, -4.6204, -4.9862, -4.306, -4.9861, -4.9861, -4.9861, -5.1027, -5.4258, -5.0018, -5.3428, -5.1668, -5.3875, -5.1668, -5.286, -5.1937, -5.1668, -5.3875, -5.3875, -5.3875, -5.4089, -5.4089, -5.4089, -5.4089, -5.4089, -5.4089, -4.1974, -5.4089, -5.4089, -5.4089, -5.4089, -4.5271, -5.4089, -5.4089, -5.4089, -5.4089, -5.4089, -5.4089, -5.1129, -5.0116, -6.0781, -6.078, -6.078, -4.5073, -6.078, -6.078, -6.078, -6.078, -6.078, -6.078, -5.4089, -5.4089, -5.4085, -5.4089, -4.7278, -5.4089, -4.3266, -5.4089, -5.0116, -4.1737, -5.0116, -3.1834, -4.728, -4.728, -4.1732, -4.5073, -4.1737, -4.9145, -4.728, -4.728, -4.5658, -4.8141, -5.0116, -5.0395, -5.0116, -5.0116, -5.0116, -5.0366, -5.0393, -5.0116, -5.3265, -5.4018, -5.402, -5.0045, -5.0045, -5.0174, -5.4018, -5.4018, -5.4018, -5.4018, -5.0048, -5.0045, -4.5002, -5.4018, -5.4018, -5.4018, -6.0709, -6.0709, -6.0709, -6.0709, -6.0709, -5.4018, -6.0709, -6.0709, -6.0709, -6.0709, -6.0709, -6.0709, -6.0709, -6.0709, -6.0709, -4.1668, -5.4018, -5.4019, -5.4018, -5.4018, -4.7209, -3.5796, -4.605, -3.2265, -5.4018, -5.2774, -5.4018, -4.7209, -5.0045, -4.0876, -4.0369, -4.9929, -4.5153, -4.5002, -4.7209, -3.83, -4.9755, -4.5002, -4.7209, -4.8818, -4.508, -4.7209, -5.0045, -5.0045, -5.0045, -5.0045, -4.9414, -5.0045, -3.8561, -4.4395, -5.341, -5.341, -5.341, -5.3411, -5.341, -4.9438, -5.374, -5.341, -5.3762, -6.0101, -6.0101, -6.0101, -6.0101, -6.0101, -6.0101, -6.0101, -6.0101, -6.0101, -6.0101, -6.0101, -6.0101, -6.0101, -6.0101, -6.0101, -6.0101, -6.0101, -6.0101, -6.0101, -4.9438, -5.341, -5.341, -5.341, -5.341, -4.4677, -5.341, -3.7513, -5.341, -4.9437, -4.9437, -4.6602, -5.341, -4.9437, -4.9437, -4.4395, -4.9437, -3.9025, -5.3773, -4.5259, -4.4395, -3.9276, -4.9437, -4.6602, -4.9437, -4.9438, -4.9437, -4.9437, -4.9437, -4.7963, -4.8814, -4.9437, -5.0995, -5.1845, -5.1845, -4.7963, -5.1936, -5.1936, -5.1937, -5.1936, -4.2921, -5.8627, -5.8627, -5.8627, -5.8627, -5.8628, -5.8627, -5.8627, -5.8627, -5.8627, -5.8627, -5.8627, -5.8627, -5.8627, -5.8627, -5.8627, -5.8627, -5.8627, -5.8627, -5.8627, -5.8627, -5.8627, -5.8627, -5.8627, -5.8627, -5.2043, -4.7963, -5.2162, -4.7963, -4.1114, -4.1124, -5.1937, -5.1936, -5.1936, -5.1937, -4.5351, -5.1936, -4.7963, -4.1114, -5.1936, -4.6438, -3.7309, -4.7963, -4.1114, -3.9591, -4.7963, -4.8643, -4.2212, -4.7963, -4.5151, -4.7963, -5.007, -4.9668, -5.1936, -5.1936, -5.1936, -5.1936, -5.1936, -5.1936, -5.1936, -5.1465, -5.1465, -5.1465, -5.1465, -4.7492, -4.7492, -5.1465, -5.1465, -5.1465, -4.7492, -5.8156, -5.8156, -5.8156, -5.8156, -5.8156, -5.8156, -5.8156, -5.8156, -5.8156, -5.8156, -5.8156, -5.8156, -5.8156, -5.8156, -5.8156, -5.8156, -5.8156, -5.8156, -5.8156, -5.8156, -4.7492, -5.1465, -4.2449, -5.1465, -4.4656, -4.7492, -4.0643, -4.0643, -3.9113, -4.2449, -4.4656, -4.7492, -4.0643, -5.1465, -5.1465, -4.4656, -4.0643, -5.1465, -4.7492, -5.1465, -4.7492, -4.4656, -4.7492, -4.7492, -4.7492, -4.7492, -5.1465, -5.1465, -5.1465, -5.1465, -5.1465, -5.1264, -5.1264, -5.1264, -5.1264, -5.1264, -4.7291, -5.1264, -5.1264, -5.1264, -4.7291, -5.1264, -5.7955, -5.7955, -5.7955, -5.7955, -5.7955, -5.7955, -5.7955, -5.7955, -5.7955, -5.7955, -5.7955, -5.7955, -5.7955, -5.7955, -5.7955, -5.7955, -5.7955, -5.7955, -5.7955, -5.1264, -5.1264, -4.7291, -4.7291, -4.7291, -5.1264, -5.1264, -3.7586, -5.1264, -5.1264, -5.1264, -4.7291, -4.4455, -5.1264, -4.4455, -4.0442, -4.7291, -5.1264, -4.0442, -4.7291, -4.4455, -4.4455, -4.4455, -4.7291, -5.1264, -5.1264, -5.1264, -5.1264, -5.1264, -5.1264, -5.1264, -4.9898, -4.9898, -4.9898, -4.9898, -4.9898, -4.9898, -5.6589, -5.6589, -5.6589, -5.6589, -5.6589, -5.6589, -5.6589, -5.6589, -5.6589, -5.6589, -5.6589, -5.6589, -5.6589, -5.6589, -5.6589, -5.6589, -5.6589, -5.6589, -5.6589, -5.6589, -5.6589, -5.6589, -5.6589, -5.6589, -4.5925, -4.9898, -4.9898, -4.9898, -4.3089, -4.5925, -4.5925, -4.9898, -3.9378, -4.9898, -4.5925, -4.9898, -4.9898, -3.6663, -4.3089, -4.5925, -4.5925, -5.1319, -4.9898, -4.5925, -5.0299, -4.9898, -4.9898, -4.9898, -4.0609, -4.8726, -4.8074, -4.9898, -4.9898, -4.9898, -4.9898, -4.9898, -4.9898, -4.5715, -4.5715, -4.9688, -4.9688, -4.9688, -4.9688, -4.5715, -4.9688, -4.9688, -4.5715, -4.9688, -4.9688, -4.0684, -5.6379, -5.6379, -5.6379, -5.6379, -5.6379, -5.6379, -5.6379, -5.6379, -5.6379, -5.6379, -5.6379, -5.6379, -5.6379, -5.6379, -5.6379, -5.6379, -5.6379, -4.5715, -4.0672, -4.9688, -4.2904, -4.5865, -4.9688, -4.9688, -4.9688, -4.2879, -4.9688, -4.9688, -4.5718, -4.9688, -4.9688, -4.5845, -4.5856, -4.5715, -3.7524, -4.5715, -4.9688, -4.9688, -4.9688, -4.9688, -4.9688, -4.9688, -4.9688, -4.492, -3.8311, -4.492, -4.8893, -4.8893, -3.2981, -5.5584, -5.5584, -5.5584, -5.5584, -5.5584, -5.5584, -5.5584, -5.5584, -5.5584, -5.5584, -5.5584, -5.5584, -4.8893, -5.5584, -5.5584, -5.5584, -5.5584, -5.5584, -5.5584, -5.5584, -5.5584, -5.5584, -4.8893, -5.5584, -3.8142, -4.8893, -4.8893, -4.8893, -4.8893, -4.8893, -4.0868, -4.492, -4.8893, -4.492, -4.9312, -4.2084, -3.8822, -3.807, -4.8893, -4.8893, -4.2084, -4.8893, -4.8893, -4.8893, -4.8893, -4.9017, -4.492, -4.8384, -4.8601, -4.8893, -4.8893, -4.18, -4.8609, -5.53, -5.53, -5.53, -5.53, -5.53, -5.53, -5.53, -5.53, -5.53, -5.53, -5.53, -5.53, -5.53, -5.53, -5.53, -5.53, -5.53, -5.53, -2.6064, -5.53, -5.53, -5.53, -5.53, -5.53, -5.53, -5.53, -5.53, -5.53, -4.8609, -4.8609, -4.8609, -4.8609, -4.8609, -4.18, -4.18, -3.0539, -4.8609, -4.5201, -4.8609, -4.8609, -4.8609, -4.8609, -4.8609, -4.8609, -4.8609, -4.5602, -4.4636, -4.4636, -4.8609, -5.0893, -4.8609, -4.8609, -4.8767, -4.9151, -4.7208, -4.8609, -4.8609, -4.4269, -4.8242, -4.8242, -4.8242, -4.8242, -5.4933, -5.4933, -5.4933, -5.4933, -5.4933, -5.4933, -4.8242, -5.4933, -5.4933, -5.4933, -5.4933, -5.4933, -5.4933, -4.8242, -5.4933, -5.4933, -5.4933, -5.4933, -5.4933, -5.4933, -4.8242, -4.8248, -4.8401, -4.8242, -4.4351, -3.4612, -4.0757, -4.8242, -3.1638, -3.4819, -3.7636, -3.8813, -4.8242, -4.8242, -4.8242, -4.4272, -3.4238, -4.4269, -4.4443, -4.8242, -4.4841, -4.4271, -4.4725, -4.5344, -4.7231, -4.8242, -4.8242, -4.8242, -4.8242, -4.3993, -4.7966, -4.7966, -4.7966, -4.7966, -4.7966, -4.7966, -5.4657, -5.4657, -5.4657, -5.4657, -5.4657, -5.4657, -5.4657, -5.4657, -5.4657, -5.4657, -5.4657, -5.4657, -5.4657, -5.4657, -5.4657, -5.4657, -5.4657, -5.4657, -5.4657, -5.4657, -5.4657, -5.4657, -5.4657, -4.7966, -4.3993, -4.3993, -4.3993, -4.7966, -4.7966, -3.4287, -4.7966, -4.3993, -4.3993, -4.7966, -3.4287, -4.7966, -4.7966, -4.7966, -4.7966, -4.7966, -4.7966, -4.7966, -4.7966, -5.4657, -5.4657, -5.4657, -4.7753, -4.7753, -4.7753, -4.7753, -4.7753, -4.7753, -4.6917, -5.4444, -5.4444, -5.4444, -5.4444, -5.4444, -5.4444, -5.4444, -5.4444, -5.4444, -5.4444, -5.4444, -5.4444, -5.4444, -5.4444, -5.4444, -5.4444, -5.4451, -5.4444, -5.4444, -5.4444, -5.4444, -5.4444, -5.4444, -4.7753, -4.0944, -3.4075, -4.7753, -4.7753, -4.7753, -3.6931, -4.378, -4.7753, -4.0569, -4.7753, -4.7753, -4.7753, -4.7753, -4.7753, -4.7753, -4.7753, -4.7753, -4.378, -4.0944, -4.7753, -4.7753, -4.7519, -4.7753, -4.7727, -4.7727, -4.7727, -4.3754, -4.7727, -4.7727, -4.0918, -4.7728, -4.7727, -4.4685, -5.4418, -5.4418, -5.4418, -5.4418, -5.4418, -5.4418, -5.4418, -5.4418, -5.4418, -5.4418, -5.4418, -5.4418, -5.4418, -5.4418, -5.4418, -5.4418, -5.4418, -5.4418, -5.4418, -5.4418, -4.7727, -4.7727, -4.3754, -4.7727, -4.3754, -4.7727, -4.7727, -4.7727, -4.7727, -4.7727, -4.7727, -4.7727, -4.7727, -4.3754, -4.7727, -4.0847, -4.7727, -4.7727, -4.7727, -4.7727, -4.6675, -4.6299, -4.7727, -4.7727, -4.7727, -4.768, -4.768, -4.768, -4.768, -5.4371, -5.4371, -4.3707, -5.4371, -5.4371, -5.4371, -5.4371, -5.4371, -5.4371, -5.4371, -5.4371, -5.4371, -5.4371, -5.4371, -5.4371, -5.4371, -4.768, -5.4371, -5.4371, -5.4371, -4.768, -4.768, -5.4371, -5.4371, -4.768, -5.4371, -4.0871, -3.8664, -4.0871, -3.5328, -4.768, -4.768, -4.768, -4.768, -3.5328, -4.768, -4.768, -4.3707, -4.768, -4.768, -4.768, -4.768, -4.768, -4.768, -4.768, -5.4371, -4.4012, -4.4012, -5.0703, -5.0703, -5.0703, -5.0703, -5.0703, -5.0703, -5.0703, -5.0703, -5.0703, -5.0703, -5.0703, -5.0703, -5.0703, -5.0703, -4.4012, -5.0703, -4.4012, -5.0703, -5.0703, -4.4012, -5.0703, -5.0703, -5.0703, -5.0703, -5.0703, -3.7203, -4.4012, -4.0039, -3.4997, -4.4012, -4.0039, -4.4012, -4.0039, -4.4012, -4.4361, -5.0703, -5.0703, -5.0703, -5.0703, -5.0703, -5.0703, -5.0703, -5.0703, -5.0703, -5.0703, -5.0703, -5.0703, -5.0703, -5.0703, -5.0703, -4.3651, -3.9678, -4.3651, -5.0342, -5.0342, -5.0342, -5.0342, -5.0342, -5.0342, -5.0342, -5.0342, -5.0342, -5.0342, -5.0342, -5.0342, -5.0342, -5.0342, -3.9678, -5.0342, -5.0342, -5.0342, -5.0342, -5.0342, -5.0342, -5.0342, -4.3651, -5.0342, -5.0342, -4.3651, -5.0342, -4.3651, -4.3651, -4.3651, -4.3651, -3.2829, -4.3651, -3.9678, -5.0342, -5.0342, -5.0342, -5.0342, -5.0342, -5.0342, -5.0342, -5.0342, -5.0342, -5.0342, -5.0342, -5.0342, -4.34, -5.0091, -5.0091, -5.0091, -5.0091, -5.0091, -5.0091, -5.0091, -5.0091, -5.0091, -5.0091, -5.0091, -5.0091, -4.34, -4.34, -5.0091, -5.0091, -5.0091, -5.0091, -5.0091, -5.0091, -5.0091, -5.0091, -5.0091, -5.0091, -5.0091, -5.0091, -5.0091, -5.0091, -5.0091, -4.34, -3.9427, -3.6591, -4.34, -4.34, -3.6591, -4.34, -4.34, -5.0091, -5.0091, -5.0091, -5.0091, -5.0091, -5.0091, -5.0091, -5.0091, -5.0091, -5.0091, -5.0091, -5.0091, -5.0091, -5.0091, -5.0091, -5.0091, -5.0091, -5.0091], \"loglift\": [30.0, 29.0, 28.0, 27.0, 26.0, 25.0, 24.0, 23.0, 22.0, 21.0, 20.0, 19.0, 18.0, 17.0, 16.0, 15.0, 14.0, 13.0, 12.0, 11.0, 10.0, 9.0, 8.0, 7.0, 6.0, 5.0, 4.0, 3.0, 2.0, 1.0, 1.7371, 1.6367, 1.6367, 1.6367, 1.6367, 1.6367, 1.6367, 1.6367, 1.6367, 1.6367, 1.6367, 1.6367, 1.6367, 1.6367, 1.6185, 1.6139, 1.5325, 1.4507, 1.3744, 1.3736, 1.3721, 1.3661, 1.3661, 1.3658, 1.3599, 1.3599, 1.3399, 1.3372, 1.336, 1.2183, 1.1613, 0.446, 0.67, 1.1328, 0.851, 1.0155, 0.7118, 0.6648, 0.6144, 0.5235, 0.4329, 0.6242, 0.5759, 0.8238, 0.8442, 0.6128, 0.3842, 0.8239, 0.955, 0.9469, 0.9257, 0.6616, 0.6572, 0.405, 0.6858, 0.583, 0.2087, -0.1416, 0.4868, 0.3274, -0.7096, 0.127, 1.8041, 1.7492, 1.7492, 1.6487, 1.6487, 1.6487, 1.6487, 1.6487, 1.6487, 1.6487, 1.6487, 1.6487, 1.6487, 1.6326, 1.6284, 1.5486, 1.5414, 1.5299, 1.5223, 1.5205, 1.4961, 1.4863, 1.3872, 1.3841, 1.3761, 1.3727, 1.3727, 1.3706, 1.3706, 1.3637, 1.3576, 1.3416, 1.3345, 0.8643, 1.2144, 1.266, 1.0998, 1.0149, 1.1005, 0.9007, 1.0065, 0.9647, 0.8448, 0.8601, 1.2879, 1.1735, 0.3943, 0.6953, 0.0117, 0.5956, 0.4869, 0.4169, 0.4319, 1.0508, 0.1348, 0.815, 0.2986, 0.9376, 0.167, 0.5099, 0.037, -0.6477, -0.6429, 0.6869, 0.7497, 2.3402, 2.3402, 2.3402, 2.3402, 2.3402, 2.3402, 2.3221, 2.0967, 2.0712, 2.0696, 2.0666, 2.0153, 1.8461, 1.8297, 1.8259, 1.8227, 1.8167, 1.8126, 1.754, 1.7427, 1.7412, 1.7383, 1.7337, 1.7195, 1.7036, 1.7035, 1.7033, 1.7025, 1.7014, 1.7014, 1.6684, 1.6597, 1.6541, 1.6504, 1.4304, 1.5561, 1.2535, 1.514, 1.3669, 1.057, 1.3419, 0.2904, 1.111, 1.1079, 0.3151, 0.6405, 0.144, 1.094, 0.794, 0.7374, 0.431, 0.7205, 0.9937, 0.8628, 0.6664, 0.4656, 0.3005, 0.429, 0.0284, -0.3062, 0.3281, 2.3475, 2.3473, 2.2402, 2.2368, 2.2244, 2.0753, 2.0563, 2.0563, 2.0563, 2.0477, 1.9043, 1.8766, 1.8622, 1.8394, 1.8198, 1.7455, 1.7409, 1.7104, 1.7104, 1.7097, 1.7058, 1.7037, 1.7037, 1.6979, 1.6979, 1.6979, 1.6897, 1.6897, 1.6897, 1.6879, 1.6722, 1.6672, 1.6608, 1.6409, 1.6397, 1.4916, 1.264, 1.4247, 1.0912, 1.5283, 1.4898, 1.5195, 1.2876, 1.3766, 1.049, 0.96, 1.3269, 0.7904, 0.6476, 0.8011, -0.3562, 1.0733, 0.2444, 0.5911, 0.8771, -0.0197, 0.3468, 0.8101, 0.7729, 0.7269, 0.65, -0.4223, 0.3985, 2.6809, 2.6122, 2.4134, 2.4134, 2.4134, 2.4134, 2.1415, 2.1212, 1.889, 1.8888, 1.8817, 1.812, 1.812, 1.8044, 1.7732, 1.7731, 1.7731, 1.7731, 1.7721, 1.7721, 1.7721, 1.77, 1.77, 1.768, 1.768, 1.7671, 1.7617, 1.7613, 1.7613, 1.7613, 1.7196, 1.6353, 1.5939, 1.5808, 1.5715, 1.2695, 1.5456, 0.7678, 1.4703, 1.2715, 1.2688, 1.1172, 1.4343, 1.2185, 1.2111, 0.8662, 1.1513, 0.4152, 1.362, 0.6108, 0.3051, -0.4538, 0.8966, 0.3546, 0.8152, 0.7876, 0.6554, 0.5783, 0.5335, 0.0474, 0.1863, 0.3901, 0.6139, 0.481, 0.2185, 2.6812, 2.327, 2.2852, 2.2852, 2.0642, 2.0498, 1.9638, 1.9592, 1.9288, 1.9277, 1.9276, 1.9266, 1.9225, 1.9225, 1.9216, 1.9216, 1.9216, 1.9161, 1.9158, 1.9086, 1.9086, 1.9086, 1.9075, 1.9075, 1.9074, 1.8987, 1.8987, 1.8961, 1.8961, 1.896, 1.8946, 1.8837, 1.8704, 1.6829, 1.4877, 1.4306, 1.7281, 1.724, 1.7155, 1.715, 1.5137, 1.7075, 1.5692, 1.2224, 1.6368, 1.3859, 0.7882, 1.3563, 0.9696, 0.7462, 1.2462, 1.2758, 0.6225, 1.0619, 0.5526, 0.3515, 0.1297, -1.493, -0.8759, 0.8366, 1.1784, 0.7087, 1.2922, 1.3707, 1.1012, 2.6254, 2.6254, 2.3735, 2.3493, 2.3454, 2.1477, 2.1346, 2.1099, 2.0868, 2.0263, 2.0082, 2.0082, 1.9778, 1.9767, 1.9714, 1.9706, 1.9651, 1.9647, 1.9647, 1.9575, 1.9575, 1.9546, 1.9546, 1.9546, 1.9476, 1.945, 1.945, 1.945, 1.9449, 1.9286, 1.7189, 1.7789, 1.514, 1.7387, 1.2932, 1.4034, 1.0167, 0.9505, 0.7941, 0.9857, 1.1162, 1.2743, 0.7794, 1.5182, 1.5113, 0.9374, 0.4548, 1.3461, 0.9288, 1.2422, 0.7238, 0.0227, 0.5565, 0.2477, -0.4315, -1.2754, 1.2176, 0.5907, 0.5849, 0.3965, 0.6681, 2.6478, 2.6478, 2.6478, 2.6478, 2.6478, 2.5631, 2.3988, 2.3681, 2.3674, 2.1858, 2.1675, 2.0371, 2.0371, 2.0371, 2.0341, 2.0341, 1.999, 1.9986, 1.9979, 1.9979, 1.9968, 1.9927, 1.9927, 1.9918, 1.9859, 1.9859, 1.9859, 1.9776, 1.9776, 1.9758, 1.9727, 1.9669, 1.9376, 1.801, 1.7389, 1.7747, 1.7718, 1.2562, 1.7227, 1.6725, 1.6386, 1.4081, 1.2129, 1.5572, 1.0275, 0.6612, 1.1656, 1.4494, 0.4749, 1.0855, 0.6354, 0.0428, -0.9717, -0.4114, 0.6275, 0.1856, 1.2154, 1.053, 1.2301, -0.0587, 0.6049, 2.7996, 2.7996, 2.5111, 2.511, 2.3007, 2.2989, 2.1787, 2.174, 2.1433, 2.1429, 2.1422, 2.1411, 2.1411, 2.1411, 2.1411, 2.1411, 2.1369, 2.1361, 2.1301, 2.1217, 2.1199, 2.1129, 2.1102, 2.1102, 2.1102, 2.0938, 2.0938, 2.0937, 2.0937, 2.0937, 2.082, 1.9752, 1.9646, 1.9296, 1.7398, 1.7023, 1.7001, 1.8311, 1.3678, 1.8223, 1.6312, 1.8151, 1.7949, 0.822, 1.1566, 1.287, 1.2738, 1.6354, 1.4271, 0.9892, 1.4628, 1.3839, 1.3742, 1.3352, -0.5871, 0.8408, -0.4897, 0.2408, 1.3075, 1.1896, 0.7641, 0.7689, 0.2946, 2.9288, 2.9288, 2.8198, 2.8198, 2.8198, 2.8198, 2.6932, 2.5676, 2.504, 2.3514, 2.3047, 2.3025, 2.297, 2.1993, 2.164, 2.164, 2.1636, 2.1636, 2.1636, 2.1636, 2.1617, 2.1512, 2.1435, 2.1435, 2.1435, 2.1424, 2.1424, 2.1406, 2.1336, 2.1336, 2.1076, 2.0876, 2.0953, 1.8742, 1.8817, 1.9461, 1.9425, 1.9273, 1.5703, 1.8354, 1.8301, 1.5864, 1.6944, 1.6878, 1.1694, 1.1458, 0.9715, -0.2786, 0.1339, 0.9107, 0.3368, 0.8774, 1.3468, 1.1276, 1.0414, 0.5532, 2.7957, 2.5499, 2.4474, 2.3796, 2.3675, 2.3564, 2.2851, 2.2491, 2.2484, 2.2484, 2.2484, 2.2473, 2.2473, 2.2452, 2.2452, 2.2431, 2.2431, 2.2366, 2.2295, 2.229, 2.2278, 2.226, 2.226, 2.226, 2.2189, 2.2163, 2.2163, 2.2162, 2.208, 2.1997, 2.0805, 2.0451, 2.0437, 2.0408, 2.0229, 1.9938, 1.711, 1.7348, 1.9033, 1.6482, 1.8842, 1.45, 1.1146, 0.9376, 1.6546, 1.5789, 0.8593, 1.4673, 1.402, 1.3622, 1.2633, 1.0814, 0.2134, -0.5207, -1.3863, 0.8695, -0.3702, 3.1131, 2.9414, 2.3174, 2.2765, 2.2744, 2.2715, 2.2715, 2.2659, 2.2582, 2.2582, 2.257, 2.2552, 2.2552, 2.2482, 2.2482, 2.2454, 2.2454, 2.2288, 2.2288, 2.2288, 2.1382, 2.0164, 2.0121, 1.9936, 1.9928, 1.9854, 1.9773, 1.9773, 1.9722, 1.9645, 1.9629, 1.9504, 1.9097, 1.9041, 1.8398, 1.6558, 1.6346, 1.2638, 1.7775, 1.463, 1.62, 1.5004, 1.3906, 1.2266, 1.1693, 1.0995, 1.0338, 0.4545, 0.2418, 0.0555, 0.8704, 1.2691, 0.7193, 0.6821, 0.6005, 0.5504, -0.2325, 0.2068, -0.0172, 3.0935, 2.6995, 2.6743, 2.435, 2.4308, 2.3176, 2.3176, 2.3176, 2.3172, 2.3164, 2.3153, 2.3137, 2.3112, 2.3103, 2.3103, 2.2869, 2.2869, 2.2842, 2.275, 2.2676, 2.2675, 2.2675, 2.2675, 2.2675, 2.2675, 2.1088, 2.1036, 2.0833, 2.0751, 2.0458, 2.016, 1.7017, 1.9997, 1.1538, 1.2627, 1.3041, 1.2665, 1.8594, 1.8451, 1.8417, 1.2543, 0.05, 1.1185, 1.0903, 1.5089, 0.9889, 0.8849, 0.8119, -0.0153, 0.4135, 1.1589, 0.9717, 0.7189, 1.2634, 3.1258, 2.7592, 2.7269, 2.6923, 2.4912, 2.4705, 2.4492, 2.3461, 2.3461, 2.3429, 2.3408, 2.34, 2.34, 2.3344, 2.3344, 2.3343, 2.3343, 2.3343, 2.3339, 2.3266, 2.3236, 2.3165, 2.3165, 2.3165, 2.3138, 2.3138, 2.3138, 2.2972, 2.2971, 2.2971, 2.1027, 1.9792, 1.9562, 1.8522, 2.0188, 2.0147, 1.0596, 1.8671, 1.5343, 1.4802, 1.5921, 0.0451, 1.5029, 1.3657, 1.3616, 0.8814, 0.8689, 0.6806, 0.4879, -0.2775, 2.0169, 1.1977, -0.622, 3.0391, 2.7534, 2.751, 2.7387, 2.5369, 2.5289, 2.4174, 2.4093, 2.4093, 2.3704, 2.3704, 2.3693, 2.366, 2.3631, 2.3574, 2.357, 2.357, 2.357, 2.357, 2.3497, 2.3369, 2.3369, 2.3368, 2.3364, 2.3202, 2.3202, 2.3202, 2.3202, 2.3202, 2.3202, 2.2932, 2.2211, 2.1271, 2.1646, 2.1445, 2.1403, 1.6407, 1.8014, 1.9525, 1.4086, 1.6835, 1.4515, 1.3869, 1.3211, 1.2544, 1.2349, 1.2272, 1.127, 0.1103, -0.6206, 0.8064, 0.7467, 0.3959, -0.4577, 3.0402, 3.0402, 3.0402, 2.9268, 2.7509, 2.746, 2.636, 2.509, 2.4843, 2.455, 2.4081, 2.3723, 2.3718, 2.37, 2.37, 2.3679, 2.365, 2.365, 2.3649, 2.3594, 2.3516, 2.3516, 2.3504, 2.3487, 2.3486, 2.3415, 2.3415, 2.3415, 2.3415, 2.3388, 2.3349, 2.3052, 2.1104, 2.1642, 1.9241, 2.0512, 2.0394, 1.7903, 1.7026, 1.6862, 1.6858, 1.616, 1.5808, 1.1018, 1.4511, 0.4036, 1.2325, 1.0251, 1.0046, 0.8075, 0.0378, -1.1561, 0.6927, 0.3751, 0.7493, 2.7614, 2.5099, 2.5074, 2.4903, 2.414, 2.414, 2.4058, 2.3778, 2.3778, 2.377, 2.3738, 2.3738, 2.3738, 2.3652, 2.3648, 2.3648, 2.3575, 2.3563, 2.3545, 2.3446, 2.3366, 2.328, 2.3279, 2.3279, 2.3266, 2.1689, 2.0866, 2.0844, 2.0811, 2.0699, 1.9554, 1.815, 1.3783, 0.9555, 1.7073, 1.6314, 1.5518, 1.5247, -0.059, 1.4472, 1.3769, 0.6262, 1.0094, 0.91, 0.8904, 0.8806, 0.0757, -0.0626, -0.2489, 0.2284, 2.925, 2.9237, 2.7626, 2.7535, 2.7535, 2.7516, 2.7442, 2.7415, 2.7414, 2.7243, 2.7242, 2.4863, 2.4767, 2.4551, 2.4497, 2.4476, 2.4319, 2.4289, 2.4225, 2.4214, 2.4214, 2.4197, 2.4193, 2.2512, 2.2419, 2.2353, 2.2236, 2.2133, 2.0738, 2.0449, 1.5151, 1.6938, 1.3299, 1.5144, 0.7014, 0.5956, 0.0522, 0.4727, -1.5965, 0.796, 0.9128, 0.5115, 0.7687, 1.8874, 1.227, 1.0879, 0.7256, 0.6611, 1.4783, 1.5931, 2.0373, 1.6088, 3.2192, 3.2105, 3.203, 2.8572, 2.8169, 2.8169, 2.8157, 2.8093, 2.8034, 2.803, 2.7954, 2.7954, 2.7923, 2.7822, 2.7821, 2.7649, 2.7649, 2.7537, 2.5126, 2.5122, 2.5079, 2.5037, 2.5023, 2.491, 2.4865, 2.484, 2.4836, 2.4806, 2.4797, 2.4739, 2.4428, 2.0343, 1.8143, 1.7927, 0.1909, 1.4811, 0.7376, 1.1663, 2.4589, 2.0846, 2.4588, 1.7884, 0.7198, 0.7748, 2.2446, 1.9203, 1.1281, 1.5209, 2.4609, 2.971, 2.8824, 2.8446, 2.8446, 2.8383, 2.8235, 2.8235, 2.8235, 2.8131, 2.8131, 2.8102, 2.7928, 2.7928, 2.7886, 2.6363, 2.5476, 2.5475, 2.5467, 2.5377, 2.5255, 2.5064, 2.5057, 2.4949, 2.4935, 2.4861, 2.4735, 2.2956, 2.29, 2.2818, 2.279, 1.907, 1.363, 0.8292, 1.3184, 1.203, -0.1853, 1.1255, 0.6748, -0.0122, 0.7281, -0.3037, 1.1555, 1.3646, 0.4639, 1.5668, 1.6426, 1.1915, 0.7683, 1.5553, 1.3695, 1.935, 1.8214, 0.513, 1.5527, 1.2805, 1.7835]}, \"token.table\": {\"Topic\": [2, 1, 7, 15, 20, 2, 6, 13, 3, 14, 1, 16, 3, 14, 4, 5, 6, 9, 10, 5, 6, 10, 15, 2, 15, 1, 2, 3, 4, 5, 6, 12, 17, 6, 11, 12, 13, 15, 20, 6, 7, 4, 9, 2, 3, 4, 9, 18, 5, 1, 4, 1, 3, 5, 3, 9, 13, 17, 2, 6, 18, 7, 12, 1, 2, 3, 6, 7, 8, 9, 10, 11, 16, 18, 5, 10, 1, 3, 16, 1, 2, 4, 5, 6, 10, 11, 12, 19, 8, 12, 5, 12, 17, 7, 8, 2, 9, 7, 17, 3, 5, 8, 11, 12, 16, 20, 1, 14, 1, 2, 1, 2, 4, 6, 7, 8, 12, 13, 16, 20, 8, 19, 5, 20, 1, 2, 5, 6, 8, 10, 12, 20, 1, 2, 3, 4, 5, 6, 7, 8, 9, 11, 12, 13, 14, 16, 17, 1, 2, 4, 17, 2, 4, 20, 1, 2, 8, 9, 11, 11, 16, 5, 20, 1, 13, 1, 7, 11, 1, 2, 10, 17, 2, 15, 1, 2, 8, 14, 4, 10, 2, 4, 10, 11, 1, 5, 6, 19, 20, 10, 19, 2, 8, 10, 13, 15, 13, 15, 7, 14, 17, 1, 4, 16, 17, 1, 6, 8, 6, 11, 11, 14, 1, 6, 15, 16, 1, 2, 1, 10, 14, 16, 17, 1, 2, 5, 8, 13, 20, 6, 8, 9, 14, 15, 19, 4, 15, 18, 2, 13, 3, 4, 5, 9, 14, 18, 1, 2, 3, 4, 5, 7, 15, 16, 17, 18, 20, 1, 2, 5, 9, 4, 6, 7, 16, 18, 19, 1, 3, 9, 1, 13, 2, 3, 10, 17, 6, 17, 2, 8, 12, 5, 16, 3, 9, 11, 16, 1, 9, 16, 1, 2, 6, 7, 8, 11, 19, 2, 5, 8, 15, 18, 19, 1, 2, 4, 5, 6, 8, 14, 16, 7, 10, 1, 5, 18, 3, 4, 10, 12, 15, 17, 5, 11, 16, 20, 1, 2, 5, 6, 7, 12, 6, 19, 1, 2, 3, 4, 5, 7, 9, 10, 11, 18, 2, 5, 7, 5, 6, 16, 2, 4, 19, 8, 10, 5, 8, 9, 10, 16, 8, 12, 2, 8, 16, 1, 2, 3, 8, 9, 18, 3, 18, 2, 3, 6, 1, 6, 10, 10, 7, 11, 1, 7, 1, 11, 16, 18, 1, 14, 9, 1, 11, 20, 4, 11, 2, 3, 9, 12, 13, 16, 2, 3, 9, 16, 4, 13, 2, 1, 2, 20, 5, 3, 17, 13, 14, 15, 1, 2, 3, 4, 5, 6, 7, 11, 14, 16, 17, 18, 20, 1, 2, 3, 4, 6, 8, 10, 12, 15, 1, 2, 3, 5, 7, 12, 13, 14, 15, 17, 20, 1, 2, 3, 4, 6, 7, 8, 9, 10, 15, 19, 6, 7, 9, 10, 13, 14, 15, 16, 7, 18, 8, 20, 2, 5, 11, 12, 13, 19, 20, 1, 2, 8, 10, 11, 13, 8, 20, 2, 6, 7, 14, 1, 2, 3, 9, 11, 13, 15, 19, 2, 5, 19, 2, 3, 9, 11, 12, 16, 1, 19, 20, 1, 2, 6, 10, 12, 14, 15, 17, 18, 14, 16, 2, 17, 1, 3, 4, 5, 12, 20, 12, 20, 1, 10, 4, 11, 5, 13, 1, 7, 11, 13, 1, 3, 4, 7, 1, 17, 2, 3, 14, 1, 4, 7, 15, 19, 1, 14, 1, 3, 6, 8, 10, 14, 15, 8, 10, 5, 10, 18, 19, 9, 15, 1, 2, 3, 6, 7, 8, 9, 10, 15, 18, 11, 13, 3, 6, 4, 10, 1, 5, 8, 12, 1, 4, 7, 10, 18, 2, 4, 2, 5, 19, 10, 14, 1, 12, 1, 5, 6, 13, 16, 19, 3, 12, 1, 1, 2, 3, 1, 2, 3, 4, 5, 6, 7, 8, 9, 11, 12, 13, 14, 15, 17, 19, 1, 2, 4, 5, 12, 13, 16, 17, 20, 1, 2, 4, 5, 6, 7, 8, 9, 12, 14, 17, 18, 2, 11, 13, 1, 2, 4, 5, 6, 8, 14, 19, 20, 9, 10, 5, 7, 8, 9, 10, 11, 12, 14, 15, 17, 5, 14, 2, 6, 7, 9, 17, 2, 3, 4, 5, 8, 16, 6, 11, 17, 1, 2, 3, 5, 6, 9, 10, 12, 13, 14, 1, 11, 3, 9, 10, 11, 19, 3, 9, 12, 5, 18, 1, 13, 11, 12, 1, 2, 3, 4, 5, 7, 9, 10, 13, 14, 16, 17, 19, 1, 13, 3, 10, 1, 2, 5, 9, 9, 14, 3, 18, 20, 4, 15, 2, 15, 19, 1, 5, 6, 7, 8, 11, 12, 14, 19, 4, 16, 18, 2, 5, 13, 5, 16, 18, 10, 17, 5, 13, 3, 2, 15, 17, 1, 4, 6, 7, 9, 11, 13, 17, 2, 8, 2, 4, 7, 9, 18, 20, 7, 16, 1, 2, 3, 11, 14, 17, 9, 19, 1, 2, 4, 5, 19, 20, 6, 7, 8, 1, 2, 3, 4, 5, 7, 8, 12, 1, 3, 17, 10, 2, 9, 16, 17, 10, 3, 14, 2, 3, 5, 7, 8, 9, 10, 11, 15, 18, 4, 6, 7, 9, 15, 6, 9, 1, 2, 4, 6, 7, 8, 9, 12, 17, 18, 20, 13, 17, 1, 4, 5, 8, 12, 16, 17, 2, 7, 8, 9, 10, 17, 1, 2, 3, 4, 8, 9, 12, 15, 19, 1, 4, 1, 2, 3, 4, 5, 6, 9, 10, 13, 14, 17, 19, 20, 5, 14, 2, 3, 4, 6, 7, 11, 12, 13, 3, 15, 16, 18, 2, 4, 5, 6, 7, 8, 10, 14, 17, 1, 3, 18, 1, 2, 5, 8, 11, 20, 8, 12, 13, 1, 2, 3, 5, 6, 7, 8, 9, 10, 11, 14, 16, 17, 1, 3, 19, 3, 12, 5, 2, 2, 8, 19, 1, 2, 3, 5, 8, 9, 10, 12, 14, 15, 18, 19, 1, 2, 4, 7, 8, 10, 11, 15, 17, 7, 12, 14, 1, 2, 3, 4, 5, 6, 7, 8, 12, 16, 19, 1, 13, 19, 2, 3, 11, 14, 16, 17, 18, 1, 2, 3, 4, 5, 6, 7, 8, 9, 10, 11, 12, 13, 14, 15, 3, 4, 8, 10, 10, 2, 9, 2, 8, 9, 12, 13, 15, 1, 2, 3, 4, 5, 6, 7, 11, 12, 13, 14, 15, 18, 20, 1, 2, 3, 4, 5, 8, 12, 18, 4, 8, 11, 15, 1, 8, 18, 1, 3, 5, 14, 18, 2, 9, 1, 3, 4, 5, 6, 8, 14, 20, 8, 17, 4, 10, 1, 2, 5, 7, 9, 10, 11, 12, 13, 14, 15, 16, 2, 7, 20, 2, 7, 17, 1, 3, 7, 9, 14, 16, 10, 19, 1, 2, 5, 7, 8, 10, 12, 14, 15, 5, 6, 11, 12, 6, 16, 9, 14, 7, 17, 2, 15, 4, 1, 2, 4, 5, 7, 10, 15, 20, 6, 11, 4, 16, 15, 16, 1, 14, 7, 18, 11, 14, 7, 10, 1, 3, 8, 9, 10, 17, 3, 4, 9, 13, 1, 2, 6, 7, 12, 1, 2, 5, 7, 16, 20, 2, 3, 7, 16, 4, 10, 5, 10, 16, 7, 8, 16, 2, 3, 4, 5, 6, 7, 8, 10, 11, 13, 16, 17, 19, 3, 2, 6, 7, 10, 15, 3, 5, 8, 10, 15, 1, 2, 3, 5, 6, 7, 8, 11, 16, 17, 19, 20, 1, 14, 15, 20, 2, 4, 7, 8, 9, 10, 11, 20, 11, 15, 2, 4, 15, 1, 2, 3, 6, 7, 8, 10, 12, 13, 15, 17, 18, 20, 17, 19, 1, 2, 3, 4, 5, 6, 8, 12, 13, 14, 15, 17, 20, 1, 2, 4, 6, 7, 8, 9, 15, 18, 3, 4, 8, 9, 18, 1, 2, 3, 4, 5, 6, 7, 8, 9, 11, 12, 15, 18, 20, 11, 12, 19, 1, 4, 15, 1, 3, 4, 6, 7, 8, 15, 1, 2, 8, 10, 14, 18, 1, 2, 3, 4, 5, 6, 7, 8, 9, 10, 12, 14, 15, 16, 17, 20, 10, 17, 1, 2, 3, 4, 6, 7, 9, 15, 18, 1, 2, 3, 4, 5, 6, 7, 13, 15, 16, 17, 7, 12, 14, 1, 2, 4, 6, 7, 8, 9, 10, 19, 20, 1, 3, 10, 11, 20, 1, 2, 3, 4, 5, 6, 7, 8, 9, 10, 11, 12, 13, 14, 15, 16, 17, 18, 19, 20, 1, 4, 6, 7, 8, 12, 17, 1, 14, 3, 2, 3, 9, 10, 1, 3, 6, 7, 10, 11, 12, 16, 18, 1, 2, 3, 4, 5, 7, 10, 11, 15, 16, 19, 20, 7, 10, 1, 1, 2, 5, 6, 10, 14, 16, 8, 12, 9, 15, 16, 18, 1, 4, 5, 1, 2, 8, 14, 8, 15, 1, 2, 3, 5, 6, 8, 11, 16, 17, 4, 7, 1, 2, 5, 8, 12, 2, 3, 15, 5, 16, 1, 3, 11, 6, 8, 16, 17, 5, 11, 1, 2, 15, 12, 14, 1, 4, 6, 7, 9, 18, 1, 8, 10, 7, 6, 8, 1, 2, 4, 5, 6, 8, 9, 10, 12, 15, 20, 2, 15, 2, 6, 7, 14, 15, 16, 19, 1, 2, 3, 5, 10, 11, 13, 16, 17, 1, 3, 4, 6, 11, 14, 16, 17, 18, 6, 11, 10, 15, 15, 16, 4, 7, 9, 10, 18, 2, 5, 6, 11, 1, 19, 20, 1, 20, 6, 16, 1, 2, 3, 4, 5, 7, 12, 13, 17, 18, 6, 9, 18, 1, 5, 6, 7, 10, 12, 4, 7, 1, 12, 9, 12, 19, 1, 5, 6, 7, 10, 11, 13, 6, 7, 5, 7, 4, 18, 2, 3, 4, 5, 8, 3, 4, 10, 2, 3, 4, 13, 17, 3, 6, 7, 8, 1, 1, 4, 7, 8, 9, 10, 12, 6, 7, 2, 13, 3, 20, 2, 12, 3, 15, 1, 10, 2, 14, 18, 1, 4, 6, 7, 8, 9, 15, 6, 8, 11, 16, 12, 14, 16, 12, 13, 8, 1, 4, 7, 5, 14, 1, 2, 3, 6, 10, 12, 14, 15, 16, 19, 1, 2, 9, 10, 12, 13, 14, 2, 9, 1, 2, 4, 5, 6, 7, 9, 10, 11, 18, 20, 1, 2, 4, 5, 10, 12, 17, 19, 4, 7, 17, 13, 17, 1, 17, 1, 2, 4, 5, 6, 10, 11, 17, 1, 2, 5, 6, 8, 10, 14, 17, 20, 2, 17, 5, 9, 3, 16, 3, 12, 15, 17, 9, 11, 17, 7, 9, 2, 6, 20, 1, 5, 9, 15, 19, 14, 20, 1, 2, 5, 13, 15, 2, 3, 2, 6, 15, 19, 3, 19, 8, 19, 1, 13, 6, 15, 18, 3, 19, 2, 8, 15, 20, 8, 15, 6, 12, 3, 17, 6, 14, 11, 13, 2, 3, 7, 1, 9, 3, 9, 19, 20, 8, 1, 3, 6, 7, 10, 12, 16, 20, 4, 5, 1, 2, 4, 5, 6, 8, 12, 17, 1, 1, 18, 2, 19, 9, 14, 6, 8, 11, 16, 18, 19, 20, 15, 20, 16, 19, 3, 14, 16, 20, 8, 16, 9, 10, 1, 2, 5, 15, 17, 20, 1, 2, 3, 10, 12, 17, 18, 9, 13, 17, 6, 11, 14, 15, 1, 6, 1, 3, 4, 5, 6, 7, 8, 10, 11, 12, 18, 19, 2, 3, 6, 8, 14, 1, 1, 2, 3, 5, 6, 7, 8, 12, 14, 16, 17, 18, 20, 9, 14, 11, 16, 10, 15, 3, 11, 2, 15, 1, 7, 8, 9, 11, 16, 4, 11, 2, 4, 6, 11, 1, 2, 3, 5, 6, 7, 19, 20, 5, 6, 11, 13, 5, 6, 2, 4, 6, 8, 1, 14, 2, 5, 6, 7, 1, 2, 3, 4, 11, 12, 13, 16, 17, 18, 6, 7, 3, 13, 16, 17, 2, 6, 2, 5, 6, 7, 11, 14, 16, 4, 10, 14, 6, 8, 17, 20, 9, 17, 1, 13, 4, 13, 1, 10, 11, 12, 15, 1, 4, 7, 9, 18, 12, 15, 19, 5, 10, 5, 11, 12, 19, 8, 5, 10, 3, 5, 14, 15, 2, 3, 11, 14, 20, 1, 2, 5, 6, 10, 14, 20, 8, 10, 18, 15, 20, 5, 16, 1, 2, 7, 8, 9, 11, 13, 20, 1, 8, 19, 1, 2, 6, 8, 9, 10, 15, 17, 1, 3, 5, 6, 8, 9, 11, 1, 2, 11, 9, 14, 3, 7, 1, 11, 12, 18, 8, 19, 13, 16, 5, 16, 20, 2, 6, 7, 9, 10, 12, 14, 15, 18, 19, 2, 11, 14, 16, 17, 2, 3, 5, 10, 14, 16, 18, 1, 2, 4, 5, 8, 15, 16, 6, 12, 14, 1, 2, 6, 10, 2, 3, 9, 18, 19, 2, 11, 13, 17, 2, 3, 13, 6, 8, 1, 2, 3, 9, 14, 20, 2, 14, 3, 15, 3, 5, 8, 20, 1, 3, 4, 6, 7, 8, 11, 12, 14, 17, 1, 2, 3, 4, 5, 8, 13, 16, 17, 1, 9, 4, 5, 2, 2, 10, 13, 1, 2, 3, 4, 6, 7, 8, 10, 11, 12, 14, 15, 16, 17, 18, 19, 20, 4, 12, 16, 8, 20, 1, 9, 14, 16, 19, 13, 15, 1, 2, 5, 12, 14, 16, 17, 2, 11, 16, 2, 4, 6, 8, 10, 18, 2, 3, 4, 5, 7, 9, 10, 11, 13, 17, 5, 12, 1, 7, 9, 10, 11, 18, 8, 14, 7, 18, 5, 16, 1, 2, 3, 4, 5, 7, 10, 11, 12, 13, 16, 1, 2, 3, 4, 7, 8, 9, 13, 15, 19, 6, 16, 19, 1, 2, 3, 5, 6, 8, 9, 12, 14, 15, 19, 20, 11, 13, 17, 2, 9, 2, 18, 2, 3, 4, 5, 7, 8, 10, 11, 12, 13, 14, 15, 16, 1, 2, 3, 7, 2, 4, 9, 17, 1, 3, 4, 5, 9, 14, 15, 19, 1, 2, 3, 4, 6, 7, 8, 9, 10, 12, 13, 14, 15, 16, 17, 18, 20, 1, 2, 5, 7, 9, 11, 13, 20, 9, 11, 1, 4, 6, 7, 17, 1, 2, 4, 5, 7, 9, 11, 13, 15, 18, 2, 12, 20, 11, 12, 1, 2, 4, 11, 3, 1, 8, 20, 14, 16, 5, 1, 2, 3, 4, 5, 6, 8, 9, 11, 13, 14, 15, 2, 4, 16, 1, 2, 3, 4, 5, 6, 9, 8, 11, 7, 12, 13, 16, 1, 2, 20, 13, 14, 2, 17, 4, 6, 5, 6, 7, 2, 11, 3, 4, 5, 7, 8, 12, 13, 7, 8, 2, 16, 8, 6, 19, 1, 4, 6, 7, 9, 15, 17, 18, 4, 7, 4, 6, 15, 19, 17, 19, 2, 3, 13, 2, 5, 18, 1, 7, 2, 7, 8, 10, 6, 12, 7, 8, 9, 12, 16, 5, 12, 1, 3, 6, 16, 17, 18, 9, 16, 3, 5, 7, 8, 15, 20, 1, 20, 1, 2, 3, 6, 10, 9, 16, 5, 12, 14, 17, 1, 2, 4, 5, 6, 7, 8, 9, 10, 19, 20, 4, 5, 11, 16, 1, 2, 7, 9, 10, 15, 16, 17, 8, 11, 17, 19, 6, 2, 19, 1, 10, 19, 1, 2, 5, 6, 7, 8, 11, 12, 16, 5, 8, 10, 2, 4, 17, 19, 13, 17, 4, 19, 3, 5, 7, 8, 11, 12, 8, 2, 15, 1, 2, 10, 11, 13, 14, 13, 14, 1, 3, 8, 11, 14, 15, 5, 1, 5, 14, 10, 1, 2, 4, 7, 9, 14, 17, 1, 2, 3, 4, 5, 6, 9, 11, 15, 17, 18, 1, 2, 4, 5, 7, 8, 9, 18, 20, 9, 2, 3, 20, 12, 13, 14, 20, 8, 11, 9, 12, 1, 16, 17, 2, 3, 10, 13, 15, 4, 6, 7, 9, 10, 14, 17, 18, 1, 2, 5, 8, 13, 1, 12, 15, 1, 2, 3, 5, 6, 9, 11, 16, 16], \"Freq\": [0.7447363858750664, 0.2067104398734063, 0.2067104398734063, 0.2067104398734063, 0.2067104398734063, 0.23555871432467765, 0.23555871432467765, 0.4711174286493553, 0.3963076492673865, 0.3963076492673865, 0.5728250211226195, 0.28641251056130973, 0.5866191179490909, 0.29330955897454547, 0.16655167522949896, 0.3331033504589979, 0.16655167522949896, 0.16655167522949896, 0.16655167522949896, 0.38923975015827394, 0.38923975015827394, 0.405128524455807, 0.405128524455807, 0.3904820758535374, 0.3904820758535374, 0.4129443969621498, 0.05899205670887854, 0.11798411341775708, 0.11798411341775708, 0.05899205670887854, 0.11798411341775708, 0.05899205670887854, 0.05899205670887854, 0.30684502574134076, 0.15342251287067038, 0.15342251287067038, 0.15342251287067038, 0.15342251287067038, 0.15342251287067038, 0.39265218492344084, 0.39265218492344084, 0.694441704711092, 0.23148056823703067, 0.6666898748209181, 0.22222995827363937, 0.30510332238679144, 0.30510332238679144, 0.30510332238679144, 0.7656663432250821, 0.7368077776719313, 0.18420194441798282, 0.2268419602325416, 0.4536839204650832, 0.2268419602325416, 0.3922299115821111, 0.3922299115821111, 0.4089583003999529, 0.4089583003999529, 0.7447361337482707, 0.4134896622931521, 0.4134896622931521, 0.3993269927266655, 0.3993269927266655, 0.24584845956341583, 0.06146211489085396, 0.06146211489085396, 0.06146211489085396, 0.12292422978170792, 0.06146211489085396, 0.06146211489085396, 0.12292422978170792, 0.06146211489085396, 0.06146211489085396, 0.06146211489085396, 0.39315362788950287, 0.39315362788950287, 0.2350378906364727, 0.2350378906364727, 0.4700757812729454, 0.1720082489103629, 0.3440164978207258, 0.11467216594024193, 0.057336082970120966, 0.057336082970120966, 0.11467216594024193, 0.057336082970120966, 0.057336082970120966, 0.057336082970120966, 0.399788927095324, 0.399788927095324, 0.3003581684080607, 0.3003581684080607, 0.3003581684080607, 0.3937982914563434, 0.3937982914563434, 0.38584602597729717, 0.38584602597729717, 0.5994323309422988, 0.39962155396153254, 0.13475260207749057, 0.13475260207749057, 0.13475260207749057, 0.13475260207749057, 0.26950520415498114, 0.13475260207749057, 0.13475260207749057, 0.5723608482964136, 0.2861804241482068, 0.2201548295506136, 0.6604644886518408, 0.1973906112349438, 0.23686873348193258, 0.07895624449397752, 0.03947812224698876, 0.11843436674096629, 0.11843436674096629, 0.03947812224698876, 0.07895624449397752, 0.03947812224698876, 0.03947812224698876, 0.416697193796311, 0.416697193796311, 0.413587451139296, 0.413587451139296, 0.117581168303941, 0.117581168303941, 0.117581168303941, 0.235162336607882, 0.117581168303941, 0.117581168303941, 0.117581168303941, 0.117581168303941, 0.27374426681151803, 0.07604007411431056, 0.030416029645724225, 0.04562404446858634, 0.13687213340575902, 0.1216641185828969, 0.07604007411431056, 0.07604007411431056, 0.015208014822862112, 0.030416029645724225, 0.030416029645724225, 0.030416029645724225, 0.030416029645724225, 0.015208014822862112, 0.030416029645724225, 0.5586796748968246, 0.13966991872420614, 0.13966991872420614, 0.13966991872420614, 0.3870693666442247, 0.3870693666442247, 0.19353468332211235, 0.7446337861802721, 0.5650872754219347, 0.28254363771096735, 0.40253270673102626, 0.40253270673102626, 0.407273682376521, 0.407273682376521, 0.41358742422797456, 0.41358742422797456, 0.38898255615493377, 0.38898255615493377, 0.23498577755875946, 0.23498577755875946, 0.4699715551175189, 0.1938138940416922, 0.1938138940416922, 0.3876277880833844, 0.1938138940416922, 0.39048219403097256, 0.39048219403097256, 0.5509998885438916, 0.23614280937595356, 0.07871426979198451, 0.07871426979198451, 0.39211184884319095, 0.39211184884319095, 0.16650414583876408, 0.33300829167752816, 0.16650414583876408, 0.33300829167752816, 0.26400828819247746, 0.13200414409623873, 0.3960124322887162, 0.13200414409623873, 0.13200414409623873, 0.41987555846537605, 0.41987555846537605, 0.38681836465030284, 0.12893945488343428, 0.25787890976686856, 0.12893945488343428, 0.12893945488343428, 0.4087957387574624, 0.4087957387574624, 0.48151983555868383, 0.24075991777934191, 0.24075991777934191, 0.17064614450324728, 0.17064614450324728, 0.34129228900649455, 0.34129228900649455, 0.7446195028392056, 0.3930986543350591, 0.3930986543350591, 0.39826505912882043, 0.39826505912882043, 0.406821790518791, 0.406821790518791, 0.3355480174921911, 0.16777400874609555, 0.3355480174921911, 0.16777400874609555, 0.36557382353530804, 0.5483607353029621, 0.2374225549347059, 0.2374225549347059, 0.4748451098694118, 0.3086165419763919, 0.6172330839527838, 0.2602886440070501, 0.13014432200352505, 0.13014432200352505, 0.13014432200352505, 0.2602886440070501, 0.13014432200352505, 0.1556445125227372, 0.1556445125227372, 0.1556445125227372, 0.1556445125227372, 0.1556445125227372, 0.1556445125227372, 0.2515613502976739, 0.2515613502976739, 0.2515613502976739, 0.5715947995167465, 0.28579739975837326, 0.1949530372219031, 0.3899060744438062, 0.09747651861095155, 0.09747651861095155, 0.09747651861095155, 0.09747651861095155, 0.1712044057926507, 0.08560220289632535, 0.08560220289632535, 0.08560220289632535, 0.08560220289632535, 0.08560220289632535, 0.08560220289632535, 0.08560220289632535, 0.08560220289632535, 0.08560220289632535, 0.08560220289632535, 0.49603903564349117, 0.12400975891087279, 0.24801951782174558, 0.12400975891087279, 0.3044391496284871, 0.15221957481424356, 0.15221957481424356, 0.15221957481424356, 0.15221957481424356, 0.15221957481424356, 0.2291482084835419, 0.4582964169670838, 0.2291482084835419, 0.5715260618497804, 0.2857630309248902, 0.1935124166519517, 0.3870248333039034, 0.1935124166519517, 0.1935124166519517, 0.40113224118176355, 0.40113224118176355, 0.4311173937636635, 0.2874115958424423, 0.2874115958424423, 0.3978397522334542, 0.3978397522334542, 0.39223325056145525, 0.39223325056145525, 0.24589893080361275, 0.4917978616072255, 0.5680961057707947, 0.28404805288539736, 0.8195805071462405, 0.11648887502656728, 0.23297775005313456, 0.23297775005313456, 0.11648887502656728, 0.11648887502656728, 0.11648887502656728, 0.11648887502656728, 0.1742432512882317, 0.1742432512882317, 0.1742432512882317, 0.1742432512882317, 0.1742432512882317, 0.1742432512882317, 0.10576247786769209, 0.10576247786769209, 0.10576247786769209, 0.10576247786769209, 0.10576247786769209, 0.10576247786769209, 0.10576247786769209, 0.21152495573538418, 0.39663630646517156, 0.39663630646517156, 0.2972091874920542, 0.2972091874920542, 0.2972091874920542, 0.1659309716944895, 0.4977929150834685, 0.1659309716944895, 0.1659309716944895, 0.4105811291592038, 0.4105811291592038, 0.35503264126064776, 0.17751632063032388, 0.17751632063032388, 0.17751632063032388, 0.14451705624375977, 0.14451705624375977, 0.14451705624375977, 0.14451705624375977, 0.14451705624375977, 0.28903411248751953, 0.611903433749615, 0.3059517168748075, 0.15760978289913127, 0.10507318859942084, 0.10507318859942084, 0.10507318859942084, 0.05253659429971042, 0.15760978289913127, 0.10507318859942084, 0.10507318859942084, 0.10507318859942084, 0.05253659429971042, 0.22873610512268835, 0.4574722102453767, 0.22873610512268835, 0.4705201719469764, 0.2352600859734882, 0.2352600859734882, 0.297618666676107, 0.297618666676107, 0.297618666676107, 0.39709136425725944, 0.39709136425725944, 0.14865576213286713, 0.29731152426573426, 0.14865576213286713, 0.29731152426573426, 0.14865576213286713, 0.5960976841945529, 0.29804884209727645, 0.8301351233129564, 0.40187255148473033, 0.40187255148473033, 0.1465672130397433, 0.1465672130397433, 0.1465672130397433, 0.1465672130397433, 0.2931344260794866, 0.1465672130397433, 0.40929344499787734, 0.40929344499787734, 0.22777188472495327, 0.45554376944990654, 0.22777188472495327, 0.7446193595212374, 0.3959260136615914, 0.3959260136615914, 0.8993198836833335, 0.39898320592707465, 0.39898320592707465, 0.5645587554244551, 0.28227937771222755, 0.7446270649005352, 0.31410421194799226, 0.31410421194799226, 0.31410421194799226, 0.46482325081210224, 0.46482325081210224, 0.8005748498392101, 0.3041331671424923, 0.3041331671424923, 0.3041331671424923, 0.3944027593120075, 0.3944027593120075, 0.2611929781857051, 0.13059648909285254, 0.13059648909285254, 0.13059648909285254, 0.2611929781857051, 0.13059648909285254, 0.1965013982981356, 0.1965013982981356, 0.1965013982981356, 0.3930027965962712, 0.2992485367872043, 0.5984970735744086, 0.7447359702262313, 0.161799458849607, 0.647197835398428, 0.161799458849607, 0.7731161883075349, 0.5875917235236586, 0.2937958617618293, 0.24640110131557263, 0.24640110131557263, 0.49280220263114527, 0.26974964958030995, 0.049045390832783635, 0.09809078166556727, 0.17165886791474272, 0.049045390832783635, 0.024522695416391817, 0.07356808624917545, 0.12261347708195908, 0.024522695416391817, 0.024522695416391817, 0.049045390832783635, 0.024522695416391817, 0.024522695416391817, 0.2702200105152638, 0.06755500262881595, 0.1351100052576319, 0.06755500262881595, 0.1351100052576319, 0.06755500262881595, 0.1351100052576319, 0.06755500262881595, 0.1351100052576319, 0.19383825252654627, 0.1453786893949097, 0.1453786893949097, 0.04845956313163657, 0.1453786893949097, 0.04845956313163657, 0.04845956313163657, 0.09691912626327313, 0.04845956313163657, 0.09691912626327313, 0.04845956313163657, 0.261419164313907, 0.1045676657255628, 0.1045676657255628, 0.0522838328627814, 0.0522838328627814, 0.0522838328627814, 0.1045676657255628, 0.1045676657255628, 0.15685149858834418, 0.0522838328627814, 0.0522838328627814, 0.10944163805486501, 0.21888327610973002, 0.21888327610973002, 0.10944163805486501, 0.10944163805486501, 0.10944163805486501, 0.10944163805486501, 0.10944163805486501, 0.6115004114674939, 0.30575020573374695, 0.41794750438173844, 0.41794750438173844, 0.43081771324176776, 0.10770442831044194, 0.10770442831044194, 0.10770442831044194, 0.10770442831044194, 0.10770442831044194, 0.10770442831044194, 0.2865532838332449, 0.1910355225554966, 0.1910355225554966, 0.0955177612777483, 0.1910355225554966, 0.0955177612777483, 0.41794751868742347, 0.41794751868742347, 0.5639061195439478, 0.2819530597719739, 0.5968900255243498, 0.2984450127621749, 0.07830256231410025, 0.313210249256401, 0.07830256231410025, 0.07830256231410025, 0.07830256231410025, 0.1566051246282005, 0.07830256231410025, 0.07830256231410025, 0.29822018591295585, 0.29822018591295585, 0.29822018591295585, 0.1928814597895184, 0.3857629195790368, 0.1928814597895184, 0.1928814597895184, 0.3068541710429015, 0.613708342085803, 0.31404616088103804, 0.31404616088103804, 0.31404616088103804, 0.13954565497392585, 0.13954565497392585, 0.2093184824608888, 0.06977282748696292, 0.06977282748696292, 0.06977282748696292, 0.06977282748696292, 0.2093184824608888, 0.06977282748696292, 0.4093407398833795, 0.4093407398833795, 0.5733402583364642, 0.2866701291682321, 0.38492660862165506, 0.1283088695405517, 0.1283088695405517, 0.1283088695405517, 0.1283088695405517, 0.1283088695405517, 0.42418050501399324, 0.42418050501399324, 0.5679346988879258, 0.2839673494439629, 0.3944026867184125, 0.3944026867184125, 0.39660624558385604, 0.39660624558385604, 0.16999406758501087, 0.16999406758501087, 0.33998813517002174, 0.33998813517002174, 0.18969583746211657, 0.18969583746211657, 0.37939167492423315, 0.18969583746211657, 0.3906009769008041, 0.3906009769008041, 0.830135399719351, 0.3963075938533522, 0.3963075938533522, 0.30001195555650634, 0.15000597777825317, 0.15000597777825317, 0.15000597777825317, 0.15000597777825317, 0.7446193941598398, 0.6146026493966069, 0.0916843527450908, 0.0916843527450908, 0.0916843527450908, 0.1833687054901816, 0.1833687054901816, 0.0916843527450908, 0.27505305823527243, 0.397091394775119, 0.397091394775119, 0.2506926074369817, 0.2506926074369817, 0.2506926074369817, 0.2506926074369817, 0.40529267866123464, 0.40529267866123464, 0.09002168885088743, 0.18004337770177486, 0.09002168885088743, 0.09002168885088743, 0.09002168885088743, 0.09002168885088743, 0.18004337770177486, 0.09002168885088743, 0.09002168885088743, 0.09002168885088743, 0.40598109365566615, 0.40598109365566615, 0.38818307019158743, 0.38818307019158743, 0.3921087264224344, 0.3921087264224344, 0.32834675596863583, 0.16417337798431791, 0.32834675596863583, 0.16417337798431791, 0.1680187550809789, 0.3360375101619578, 0.1680187550809789, 0.1680187550809789, 0.1680187550809789, 0.5600397993955695, 0.28001989969778474, 0.23644615342918973, 0.47289230685837946, 0.23644615342918973, 0.4043814399989896, 0.4043814399989896, 0.3882068681024224, 0.3882068681024224, 0.1375897727236302, 0.1375897727236302, 0.1375897727236302, 0.1375897727236302, 0.1375897727236302, 0.2751795454472604, 0.5848623318047219, 0.29243116590236096, 0.7446259459269007, 0.5533857609702976, 0.2766928804851488, 0.7689337808310245, 0.062169976492401934, 0.13677394828328426, 0.07460397179088232, 0.1989439247756862, 0.0994719623878431, 0.024867990596960775, 0.03730198589544116, 0.03730198589544116, 0.024867990596960775, 0.024867990596960775, 0.12433995298480387, 0.11190595768632348, 0.012433995298480388, 0.024867990596960775, 0.012433995298480388, 0.012433995298480388, 0.16057207441609705, 0.05352402480536568, 0.16057207441609705, 0.21409609922146272, 0.05352402480536568, 0.21409609922146272, 0.10704804961073136, 0.10704804961073136, 0.05352402480536568, 0.25248433858674013, 0.08416144619558004, 0.2314439770378451, 0.06312108464668503, 0.10520180774447505, 0.10520180774447505, 0.02104036154889501, 0.02104036154889501, 0.04208072309779002, 0.02104036154889501, 0.04208072309779002, 0.02104036154889501, 0.5716372384286527, 0.19054574614288425, 0.19054574614288425, 0.2849993541478024, 0.22799948331824194, 0.11399974165912097, 0.17099961248868145, 0.056999870829560484, 0.056999870829560484, 0.056999870829560484, 0.056999870829560484, 0.056999870829560484, 0.5999173738390172, 0.2999586869195086, 0.0601900696478242, 0.0601900696478242, 0.1805702089434726, 0.1203801392956484, 0.0601900696478242, 0.300950348239121, 0.1203801392956484, 0.0601900696478242, 0.0601900696478242, 0.0601900696478242, 0.39740840878708744, 0.39740840878708744, 0.16740276764436315, 0.3348055352887263, 0.16740276764436315, 0.16740276764436315, 0.16740276764436315, 0.2856664822196975, 0.2856664822196975, 0.09522216073989917, 0.09522216073989917, 0.09522216073989917, 0.19044432147979834, 0.30177698782464185, 0.30177698782464185, 0.30177698782464185, 0.07298899405011543, 0.14597798810023085, 0.07298899405011543, 0.07298899405011543, 0.14597798810023085, 0.07298899405011543, 0.07298899405011543, 0.14597798810023085, 0.14597798810023085, 0.07298899405011543, 0.6764037647890838, 0.22546792159636128, 0.33655982111570504, 0.16827991055785252, 0.5048397316735576, 0.42250701381097416, 0.42250701381097416, 0.39224222134485937, 0.39224222134485937, 0.8109591728721677, 0.41046668698003913, 0.41046668698003913, 0.3889824168786144, 0.3889824168786144, 0.4051337293060834, 0.4051337293060834, 0.22086340379161493, 0.22086340379161493, 0.036810567298602485, 0.11043170189580746, 0.07362113459720497, 0.11043170189580746, 0.036810567298602485, 0.036810567298602485, 0.036810567298602485, 0.036810567298602485, 0.036810567298602485, 0.036810567298602485, 0.036810567298602485, 0.38898246506708223, 0.38898246506708223, 0.2368641034990698, 0.7105923104972095, 0.37021391462255104, 0.37021391462255104, 0.09255347865563776, 0.18510695731127552, 0.4045494038358677, 0.4045494038358677, 0.317141816531771, 0.317141816531771, 0.317141816531771, 0.3970585798550192, 0.3970585798550192, 0.305059876800358, 0.305059876800358, 0.305059876800358, 0.08599198602479216, 0.08599198602479216, 0.08599198602479216, 0.08599198602479216, 0.08599198602479216, 0.17198397204958432, 0.17198397204958432, 0.17198397204958432, 0.08599198602479216, 0.4048411170346876, 0.4048411170346876, 0.2024205585173438, 0.2345744012174822, 0.2345744012174822, 0.4691488024349644, 0.2518746986833432, 0.2518746986833432, 0.2518746986833432, 0.4052906964339836, 0.4052906964339836, 0.3966039668911806, 0.3966039668911806, 0.7689338016638598, 0.24000315397208788, 0.24000315397208788, 0.48000630794417576, 0.1940196744841648, 0.1940196744841648, 0.1940196744841648, 0.0970098372420824, 0.0970098372420824, 0.0970098372420824, 0.0970098372420824, 0.0970098372420824, 0.5650872406969775, 0.28254362034848873, 0.1538289213056226, 0.1538289213056226, 0.1538289213056226, 0.1538289213056226, 0.1538289213056226, 0.1538289213056226, 0.4014168059128234, 0.4014168059128234, 0.11519424063924595, 0.3455827219177378, 0.11519424063924595, 0.2303884812784919, 0.11519424063924595, 0.11519424063924595, 0.4200519372257859, 0.4200519372257859, 0.1400504061365366, 0.2801008122730732, 0.2801008122730732, 0.2801008122730732, 0.44326421396251864, 0.44326421396251864, 0.2348920921453594, 0.4697841842907188, 0.2348920921453594, 0.28373537340142224, 0.1134941493605689, 0.2269882987211378, 0.05674707468028445, 0.05674707468028445, 0.05674707468028445, 0.05674707468028445, 0.17024122404085335, 0.2353537640108932, 0.2353537640108932, 0.4707075280217864, 0.7999339280960026, 0.3353893200888712, 0.3353893200888712, 0.1676946600444356, 0.1676946600444356, 0.7999338906155932, 0.39630762183471935, 0.39630762183471935, 0.22060785998528742, 0.07353595332842915, 0.22060785998528742, 0.07353595332842915, 0.07353595332842915, 0.07353595332842915, 0.07353595332842915, 0.07353595332842915, 0.07353595332842915, 0.07353595332842915, 0.16870024895334132, 0.16870024895334132, 0.33740049790668264, 0.16870024895334132, 0.16870024895334132, 0.3960828048694894, 0.3960828048694894, 0.23401252485172674, 0.058503131212931686, 0.11700626242586337, 0.11700626242586337, 0.058503131212931686, 0.11700626242586337, 0.17550939363879506, 0.058503131212931686, 0.058503131212931686, 0.058503131212931686, 0.058503131212931686, 0.4089583327355195, 0.4089583327355195, 0.10755797299702996, 0.21511594599405992, 0.10755797299702996, 0.10755797299702996, 0.10755797299702996, 0.21511594599405992, 0.21511594599405992, 0.2595853731812657, 0.12979268659063284, 0.12979268659063284, 0.12979268659063284, 0.2595853731812657, 0.12979268659063284, 0.08000988856118364, 0.08000988856118364, 0.08000988856118364, 0.08000988856118364, 0.16001977712236728, 0.16001977712236728, 0.08000988856118364, 0.16001977712236728, 0.08000988856118364, 0.8299901572200858, 0.7690718778613388, 0.13077660321804474, 0.32694150804511185, 0.06538830160902237, 0.06538830160902237, 0.06538830160902237, 0.06538830160902237, 0.06538830160902237, 0.032694150804511185, 0.06538830160902237, 0.06538830160902237, 0.032694150804511185, 0.032694150804511185, 0.032694150804511185, 0.39740854588306956, 0.39740854588306956, 0.20233269575119017, 0.20233269575119017, 0.26977692766825356, 0.06744423191706339, 0.06744423191706339, 0.06744423191706339, 0.06744423191706339, 0.06744423191706339, 0.24675077521175676, 0.24675077521175676, 0.24675077521175676, 0.24675077521175676, 0.23189862524876237, 0.07729954174958746, 0.15459908349917492, 0.15459908349917492, 0.07729954174958746, 0.07729954174958746, 0.07729954174958746, 0.07729954174958746, 0.15459908349917492, 0.296592591793992, 0.296592591793992, 0.296592591793992, 0.14771547358883322, 0.14771547358883322, 0.14771547358883322, 0.14771547358883322, 0.29543094717766644, 0.14771547358883322, 0.4014347113909944, 0.2007173556954972, 0.4014347113909944, 0.2392900028692786, 0.14357400172156715, 0.04785800057385572, 0.09571600114771144, 0.04785800057385572, 0.09571600114771144, 0.04785800057385572, 0.04785800057385572, 0.04785800057385572, 0.04785800057385572, 0.09571600114771144, 0.04785800057385572, 0.04785800057385572, 0.2975814101376174, 0.2975814101376174, 0.2975814101376174, 0.39470573504984247, 0.39470573504984247, 0.7730910799235645, 0.7447360674085537, 0.7447361735640277, 0.4166971529796048, 0.4166971529796048, 0.33146605287226594, 0.055244342145377656, 0.11048868429075531, 0.11048868429075531, 0.055244342145377656, 0.055244342145377656, 0.11048868429075531, 0.055244342145377656, 0.055244342145377656, 0.055244342145377656, 0.055244342145377656, 0.055244342145377656, 0.07670237297804061, 0.30680949191216245, 0.07670237297804061, 0.07670237297804061, 0.23010711893412183, 0.07670237297804061, 0.07670237297804061, 0.07670237297804061, 0.07670237297804061, 0.3018798734072582, 0.3018798734072582, 0.3018798734072582, 0.06427658858758188, 0.19282976576274563, 0.12855317717516376, 0.12855317717516376, 0.06427658858758188, 0.12855317717516376, 0.06427658858758188, 0.06427658858758188, 0.12855317717516376, 0.06427658858758188, 0.06427658858758188, 0.304149470552017, 0.304149470552017, 0.304149470552017, 0.43802203782388566, 0.06257457683198367, 0.06257457683198367, 0.12514915366396734, 0.06257457683198367, 0.06257457683198367, 0.187723730495951, 0.21058628942250193, 0.02632328617781274, 0.07896985853343823, 0.10529314471125097, 0.07896985853343823, 0.07896985853343823, 0.02632328617781274, 0.05264657235562548, 0.02632328617781274, 0.05264657235562548, 0.07896985853343823, 0.05264657235562548, 0.1316164308890637, 0.02632328617781274, 0.02632328617781274, 0.3326800867512058, 0.1663400433756029, 0.1663400433756029, 0.3326800867512058, 0.7999339259320738, 0.3858427536898797, 0.3858427536898797, 0.13247280357623692, 0.26494560715247384, 0.13247280357623692, 0.13247280357623692, 0.26494560715247384, 0.13247280357623692, 0.1143346342223538, 0.0762230894815692, 0.0190557723703923, 0.0762230894815692, 0.0762230894815692, 0.0190557723703923, 0.0190557723703923, 0.09527886185196151, 0.3048923579262768, 0.1143346342223538, 0.0190557723703923, 0.0190557723703923, 0.0190557723703923, 0.0190557723703923, 0.11384947965645309, 0.11384947965645309, 0.22769895931290618, 0.34154843896935927, 0.056924739828226545, 0.056924739828226545, 0.056924739828226545, 0.056924739828226545, 0.3390027560691965, 0.16950137803459825, 0.3390027560691965, 0.16950137803459825, 0.29945409910415816, 0.29945409910415816, 0.29945409910415816, 0.12981727076089886, 0.2596345415217977, 0.3894518122826966, 0.12981727076089886, 0.12981727076089886, 0.6743931877537797, 0.22479772925125988, 0.11726951974214353, 0.23453903948428706, 0.11726951974214353, 0.11726951974214353, 0.11726951974214353, 0.11726951974214353, 0.11726951974214353, 0.11726951974214353, 0.4023285030966545, 0.4023285030966545, 0.6941192809031902, 0.23137309363439673, 0.11856005882925258, 0.05928002941462629, 0.05928002941462629, 0.11856005882925258, 0.17784008824387887, 0.11856005882925258, 0.05928002941462629, 0.05928002941462629, 0.05928002941462629, 0.11856005882925258, 0.05928002941462629, 0.05928002941462629, 0.30087199073098714, 0.30087199073098714, 0.30087199073098714, 0.4361063483922791, 0.14536878279742635, 0.2907375655948527, 0.13127043902279273, 0.13127043902279273, 0.13127043902279273, 0.3938113170683782, 0.13127043902279273, 0.13127043902279273, 0.6216364096087047, 0.31081820480435235, 0.3352076190431946, 0.20112457142591678, 0.06704152380863893, 0.06704152380863893, 0.06704152380863893, 0.06704152380863893, 0.06704152380863893, 0.06704152380863893, 0.13408304761727785, 0.3362076180370345, 0.3362076180370345, 0.16810380901851724, 0.16810380901851724, 0.40068852627338736, 0.40068852627338736, 0.4045485237743949, 0.4045485237743949, 0.4018607631110316, 0.4018607631110316, 0.39048899331774206, 0.39048899331774206, 0.7690595175545754, 0.10282744945169003, 0.3598960730809151, 0.05141372472584502, 0.20565489890338007, 0.10282744945169003, 0.05141372472584502, 0.05141372472584502, 0.05141372472584502, 0.39826505037503174, 0.39826505037503174, 0.3967699724434209, 0.3967699724434209, 0.4101177381400872, 0.4101177381400872, 0.3897563646563685, 0.3897563646563685, 0.41426383776253667, 0.41426383776253667, 0.40682162027326785, 0.40682162027326785, 0.7866773226138029, 0.7999338766581955, 0.1302465742212075, 0.1302465742212075, 0.3907397226636225, 0.1302465742212075, 0.1302465742212075, 0.1302465742212075, 0.19475704584345074, 0.3895140916869015, 0.19475704584345074, 0.19475704584345074, 0.25324571924947686, 0.25324571924947686, 0.12662285962473843, 0.12662285962473843, 0.25324571924947686, 0.40600266058738305, 0.1624010642349532, 0.1624010642349532, 0.1624010642349532, 0.0812005321174766, 0.0812005321174766, 0.7447363089696271, 0.4691283318172958, 0.2345641659086479, 0.2345641659086479, 0.392109294248359, 0.392109294248359, 0.23895849554060103, 0.47791699108120206, 0.23895849554060103, 0.24093110917033034, 0.24093110917033034, 0.4818622183406607, 0.3696984328436673, 0.10082684532100018, 0.13443579376133358, 0.033608948440333394, 0.033608948440333394, 0.06721789688066679, 0.06721789688066679, 0.033608948440333394, 0.033608948440333394, 0.06721789688066679, 0.033608948440333394, 0.033608948440333394, 0.033608948440333394, 0.7689339177828781, 0.7447362613964177, 0.3964473072777019, 0.19822365363885094, 0.19822365363885094, 0.19822365363885094, 0.46149398507028877, 0.23074699253514439, 0.23074699253514439, 0.40512840302254066, 0.40512840302254066, 0.14256107444872673, 0.04752035814957557, 0.09504071629915115, 0.09504071629915115, 0.04752035814957557, 0.04752035814957557, 0.14256107444872673, 0.14256107444872673, 0.04752035814957557, 0.09504071629915115, 0.04752035814957557, 0.04752035814957557, 0.24513191607402274, 0.24513191607402274, 0.24513191607402274, 0.24513191607402274, 0.11893430873652487, 0.11893430873652487, 0.11893430873652487, 0.23786861747304974, 0.11893430873652487, 0.11893430873652487, 0.11893430873652487, 0.11893430873652487, 0.40758036096615513, 0.40758036096615513, 0.741798291719644, 0.12363304861994065, 0.12363304861994065, 0.08468489067405639, 0.1270273360110846, 0.042342445337028196, 0.21171222668514098, 0.08468489067405639, 0.042342445337028196, 0.1270273360110846, 0.08468489067405639, 0.08468489067405639, 0.042342445337028196, 0.042342445337028196, 0.042342445337028196, 0.042342445337028196, 0.4257354009471981, 0.4257354009471981, 0.1273197835044818, 0.29707949484379087, 0.08487985566965453, 0.08487985566965453, 0.042439927834827265, 0.042439927834827265, 0.042439927834827265, 0.042439927834827265, 0.08487985566965453, 0.042439927834827265, 0.042439927834827265, 0.042439927834827265, 0.042439927834827265, 0.17605570558177436, 0.26408355837266156, 0.08802785279088718, 0.04401392639544359, 0.13204177918633078, 0.08802785279088718, 0.13204177918633078, 0.08802785279088718, 0.04401392639544359, 0.15196746387743815, 0.15196746387743815, 0.15196746387743815, 0.3039349277548763, 0.15196746387743815, 0.1549091422335681, 0.1549091422335681, 0.18589097068028174, 0.03098182844671362, 0.06196365689342724, 0.03098182844671362, 0.12392731378685448, 0.03098182844671362, 0.06196365689342724, 0.03098182844671362, 0.03098182844671362, 0.03098182844671362, 0.03098182844671362, 0.03098182844671362, 0.31392950732040875, 0.31392950732040875, 0.31392950732040875, 0.7446333615034745, 0.39706171808073837, 0.39706171808073837, 0.37821655566470097, 0.09455413891617524, 0.18910827783235049, 0.09455413891617524, 0.09455413891617524, 0.09455413891617524, 0.09455413891617524, 0.1318763880219985, 0.1318763880219985, 0.1318763880219985, 0.3956291640659955, 0.1318763880219985, 0.1318763880219985, 0.24007343508382054, 0.10669930448169802, 0.026674826120424506, 0.05334965224084901, 0.026674826120424506, 0.13337413060212253, 0.13337413060212253, 0.08002447836127352, 0.026674826120424506, 0.026674826120424506, 0.026674826120424506, 0.026674826120424506, 0.026674826120424506, 0.026674826120424506, 0.026674826120424506, 0.026674826120424506, 0.4052912321239914, 0.4052912321239914, 0.24258937728100602, 0.060647344320251505, 0.1819420329607545, 0.12129468864050301, 0.12129468864050301, 0.060647344320251505, 0.12129468864050301, 0.12129468864050301, 0.060647344320251505, 0.28518263987760295, 0.08555479196328088, 0.11407305595104117, 0.11407305595104117, 0.028518263987760292, 0.08555479196328088, 0.028518263987760292, 0.11407305595104117, 0.057036527975520585, 0.057036527975520585, 0.028518263987760292, 0.30187987206352085, 0.30187987206352085, 0.30187987206352085, 0.27384090460875915, 0.06846022615218979, 0.06846022615218979, 0.06846022615218979, 0.20538067845656938, 0.13692045230437958, 0.06846022615218979, 0.06846022615218979, 0.06846022615218979, 0.06846022615218979, 0.3204062627836752, 0.10680208759455839, 0.3204062627836752, 0.21360417518911679, 0.10680208759455839, 0.21388511408019187, 0.3208276711202878, 0.09090117348408155, 0.048124150668043174, 0.03742989496403358, 0.010694255704009593, 0.01604138355601439, 0.01604138355601439, 0.021388511408019187, 0.03208276711202878, 0.010694255704009593, 0.005347127852004797, 0.03742989496403358, 0.03742989496403358, 0.01604138355601439, 0.010694255704009593, 0.03208276711202878, 0.005347127852004797, 0.021388511408019187, 0.01604138355601439, 0.12999092519499353, 0.12999092519499353, 0.12999092519499353, 0.25998185038998706, 0.12999092519499353, 0.12999092519499353, 0.12999092519499353, 0.29637385204281924, 0.5927477040856385, 0.7689337638906348, 0.47737171156789265, 0.3182478077119284, 0.5999173946709078, 0.2999586973354539, 0.34819073607422124, 0.05803178934570354, 0.17409536803711062, 0.05803178934570354, 0.17409536803711062, 0.05803178934570354, 0.05803178934570354, 0.05803178934570354, 0.05803178934570354, 0.12438474173721407, 0.12438474173721407, 0.16584632231628543, 0.16584632231628543, 0.12438474173721407, 0.04146158057907136, 0.08292316115814272, 0.04146158057907136, 0.08292316115814272, 0.08292316115814272, 0.04146158057907136, 0.04146158057907136, 0.3966357053132927, 0.3966357053132927, 0.7446193931193387, 0.09021545490575171, 0.18043090981150342, 0.09021545490575171, 0.18043090981150342, 0.09021545490575171, 0.18043090981150342, 0.18043090981150342, 0.3997888961283022, 0.3997888961283022, 0.13846255919837835, 0.2769251183967567, 0.41538767759513506, 0.13846255919837835, 0.2268627443746211, 0.4537254887492422, 0.2268627443746211, 0.16435369361246624, 0.3287073872249325, 0.16435369361246624, 0.3287073872249325, 0.4021686311253181, 0.4021686311253181, 0.05462983674600159, 0.3824088572220111, 0.05462983674600159, 0.05462983674600159, 0.05462983674600159, 0.05462983674600159, 0.21851934698400635, 0.10925967349200318, 0.05462983674600159, 0.3888975095179059, 0.3888975095179059, 0.22723377352627164, 0.22723377352627164, 0.11361688676313582, 0.3408506602894074, 0.11361688676313582, 0.19467237943032814, 0.3893447588606563, 0.3893447588606563, 0.39785055946166137, 0.39785055946166137, 0.2298769143563336, 0.4597538287126672, 0.2298769143563336, 0.20181049864465317, 0.20181049864465317, 0.20181049864465317, 0.40362099728930634, 0.3954598694281885, 0.3954598694281885, 0.18705363564893884, 0.5611609069468165, 0.18705363564893884, 0.4071792014880181, 0.4071792014880181, 0.07021422807500127, 0.2106426842250038, 0.2106426842250038, 0.07021422807500127, 0.2106426842250038, 0.14042845615000255, 0.16694446609306876, 0.5008333982792063, 0.3338889321861375, 0.7866773959525519, 0.3930986911353265, 0.3930986911353265, 0.13784404625196195, 0.06892202312598097, 0.06892202312598097, 0.13784404625196195, 0.13784404625196195, 0.13784404625196195, 0.06892202312598097, 0.06892202312598097, 0.13784404625196195, 0.06892202312598097, 0.06892202312598097, 0.39048247335902303, 0.39048247335902303, 0.2159667906992577, 0.32395018604888653, 0.10798339534962885, 0.10798339534962885, 0.10798339534962885, 0.10798339534962885, 0.10798339534962885, 0.31343232170330654, 0.19589520106456657, 0.15671616085165327, 0.03917904021291332, 0.03917904021291332, 0.03917904021291332, 0.03917904021291332, 0.07835808042582663, 0.11753712063873994, 0.14200835495010009, 0.09467223663340006, 0.14200835495010009, 0.04733611831670003, 0.37868894653360025, 0.04733611831670003, 0.04733611831670003, 0.04733611831670003, 0.04733611831670003, 0.39826746099339977, 0.39826746099339977, 0.405128418419833, 0.405128418419833, 0.6168568003515357, 0.30842840017576784, 0.2988917439053877, 0.14944587195269385, 0.14944587195269385, 0.2988917439053877, 0.14944587195269385, 0.8806271454062642, 0.2352315771241248, 0.4704631542482496, 0.2352315771241248, 0.4862724520025174, 0.2431362260012587, 0.2431362260012587, 0.40530605217958965, 0.40530605217958965, 0.40067890824033225, 0.40067890824033225, 0.5175935048301633, 0.0470539549845603, 0.0470539549845603, 0.0470539549845603, 0.0941079099691206, 0.0470539549845603, 0.0470539549845603, 0.0470539549845603, 0.0941079099691206, 0.0470539549845603, 0.30740510458742004, 0.30740510458742004, 0.30740510458742004, 0.14519193293809163, 0.29038386587618326, 0.14519193293809163, 0.14519193293809163, 0.14519193293809163, 0.14519193293809163, 0.3888974688825527, 0.3888974688825527, 0.38820688873555914, 0.38820688873555914, 0.3125720479348562, 0.3125720479348562, 0.3125720479348562, 0.12909752067452196, 0.2581950413490439, 0.12909752067452196, 0.2581950413490439, 0.12909752067452196, 0.12909752067452196, 0.6117231497836163, 0.5868665453671571, 0.29343327268357855, 0.3899252159520904, 0.3899252159520904, 0.4093279514321385, 0.4093279514321385, 0.14217157842614445, 0.4265147352784333, 0.14217157842614445, 0.14217157842614445, 0.14217157842614445, 0.23136635684438264, 0.4627327136887653, 0.23136635684438264, 0.1150274561385968, 0.4601098245543872, 0.1150274561385968, 0.1150274561385968, 0.1150274561385968, 0.29044254218501925, 0.14522127109250962, 0.4356638132775289, 0.14522127109250962, 0.7446197164080092, 0.2887152657798201, 0.09623842192660671, 0.19247684385321343, 0.09623842192660671, 0.19247684385321343, 0.09623842192660671, 0.09623842192660671, 0.3926521107441475, 0.3926521107441475, 0.3890141806555185, 0.3890141806555185, 0.4124045243211967, 0.4124045243211967, 0.7447644717619792, 0.7310838568913942, 0.39711608472581217, 0.39711608472581217, 0.2916648077541691, 0.5833296155083382, 0.6678916628510039, 0.1908261893860011, 0.09541309469300055, 0.38122260248257533, 0.09530565062064383, 0.09530565062064383, 0.09530565062064383, 0.19061130124128767, 0.09530565062064383, 0.09530565062064383, 0.2003590554623473, 0.2003590554623473, 0.4007181109246946, 0.2003590554623473, 0.30660209803513233, 0.30660209803513233, 0.30660209803513233, 0.40633459483377443, 0.40633459483377443, 0.7884721595593246, 0.1639593848762923, 0.3279187697525846, 0.4918781546288769, 0.3974085563290298, 0.3974085563290298, 0.14728066133248421, 0.14728066133248421, 0.07364033066624211, 0.14728066133248421, 0.14728066133248421, 0.07364033066624211, 0.07364033066624211, 0.14728066133248421, 0.07364033066624211, 0.07364033066624211, 0.1081699375407072, 0.1081699375407072, 0.1081699375407072, 0.1081699375407072, 0.2163398750814144, 0.2163398750814144, 0.1081699375407072, 0.38584292742139065, 0.38584292742139065, 0.16697374869041304, 0.06678949947616522, 0.13357899895233044, 0.13357899895233044, 0.03339474973808261, 0.10018424921424783, 0.16697374869041304, 0.06678949947616522, 0.03339474973808261, 0.03339474973808261, 0.06678949947616522, 0.09969917258263622, 0.09969917258263622, 0.19939834516527244, 0.09969917258263622, 0.09969917258263622, 0.09969917258263622, 0.19939834516527244, 0.09969917258263622, 0.23940343867604838, 0.23940343867604838, 0.47880687735209676, 0.4089609559690723, 0.4089609559690723, 0.39060113554666565, 0.39060113554666565, 0.07693136892845444, 0.2307941067853633, 0.07693136892845444, 0.07693136892845444, 0.15386273785690888, 0.07693136892845444, 0.2307941067853633, 0.07693136892845444, 0.14406381938549004, 0.2881276387709801, 0.14406381938549004, 0.07203190969274502, 0.14406381938549004, 0.07203190969274502, 0.07203190969274502, 0.07203190969274502, 0.07203190969274502, 0.6792427162715909, 0.22641423875719696, 0.39330829354062613, 0.39330829354062613, 0.39673652082234756, 0.39673652082234756, 0.3947056670770275, 0.3947056670770275, 0.41058112369627664, 0.41058112369627664, 0.4852266532000461, 0.24261332660002305, 0.24261332660002305, 0.39679310647168736, 0.39679310647168736, 0.3004597754511531, 0.3004597754511531, 0.3004597754511531, 0.17033128443578296, 0.34066256887156593, 0.17033128443578296, 0.17033128443578296, 0.17033128443578296, 0.6337822253053683, 0.31689111265268416, 0.16706683238648928, 0.16706683238648928, 0.16706683238648928, 0.16706683238648928, 0.33413366477297857, 0.22485122310813083, 0.6745536693243925, 0.20272496297436202, 0.20272496297436202, 0.40544992594872403, 0.20272496297436202, 0.41117796656474115, 0.41117796656474115, 0.7303741160810278, 0.2434580386936759, 0.3889824827848389, 0.3889824827848389, 0.24838334998679, 0.49676669997358, 0.24838334998679, 0.6027697026854231, 0.30138485134271153, 0.24244630325700003, 0.24244630325700003, 0.24244630325700003, 0.24244630325700003, 0.30391721886285034, 0.6078344377257007, 0.3986076698194326, 0.3986076698194326, 0.39718092712253744, 0.39718092712253744, 0.40024153551658104, 0.40024153551658104, 0.4059785864528476, 0.4059785864528476, 0.22954256723188515, 0.22954256723188515, 0.4590851344637703, 0.38581157742497785, 0.38581157742497785, 0.3510504726467296, 0.3510504726467296, 0.1755252363233648, 0.1755252363233648, 0.7884722875616736, 0.15766233850771172, 0.07883116925385586, 0.15766233850771172, 0.15766233850771172, 0.23649350776156755, 0.07883116925385586, 0.07883116925385586, 0.07883116925385586, 0.5747979104861358, 0.2873989552430679, 0.0959736939140039, 0.1919473878280078, 0.1919473878280078, 0.0959736939140039, 0.0959736939140039, 0.0959736939140039, 0.1919473878280078, 0.0959736939140039, 0.7446195227118639, 0.4023096769553676, 0.4023096769553676, 0.4041643276480091, 0.4041643276480091, 0.40454498695447827, 0.40454498695447827, 0.3764903914098218, 0.1882451957049109, 0.09412259785245546, 0.09412259785245546, 0.09412259785245546, 0.09412259785245546, 0.09412259785245546, 0.42686047890116785, 0.42686047890116785, 0.4252247871882763, 0.4252247871882763, 0.7689338874669106, 0.31717025216220307, 0.31717025216220307, 0.31717025216220307, 0.40187248492923094, 0.40187248492923094, 0.40014009140862306, 0.40014009140862306, 0.46191574453658596, 0.11547893613414649, 0.11547893613414649, 0.11547893613414649, 0.11547893613414649, 0.11547893613414649, 0.21505762976937187, 0.10752881488468594, 0.21505762976937187, 0.10752881488468594, 0.10752881488468594, 0.10752881488468594, 0.10752881488468594, 0.4860872805779392, 0.2430436402889696, 0.2430436402889696, 0.40136177888082475, 0.20068088944041237, 0.20068088944041237, 0.20068088944041237, 0.7401601882166767, 0.18504004705416918, 0.10223432837119877, 0.05111716418559938, 0.15335149255679814, 0.15335149255679814, 0.05111716418559938, 0.10223432837119877, 0.10223432837119877, 0.15335149255679814, 0.05111716418559938, 0.10223432837119877, 0.05111716418559938, 0.05111716418559938, 0.1659048056292252, 0.1659048056292252, 0.3318096112584504, 0.1659048056292252, 0.1659048056292252, 0.7446195206435678, 0.07489718070946294, 0.1997258152252345, 0.049931453806308625, 0.09986290761261725, 0.024965726903154312, 0.12482863451577157, 0.1747600883220802, 0.049931453806308625, 0.024965726903154312, 0.024965726903154312, 0.024965726903154312, 0.09986290761261725, 0.024965726903154312, 0.4045450492847744, 0.4045450492847744, 0.40727360459516854, 0.40727360459516854, 0.4051283914930774, 0.4051283914930774, 0.3943697400926891, 0.3943697400926891, 0.39048246012042376, 0.39048246012042376, 0.23482965623350838, 0.11741482811675419, 0.23482965623350838, 0.11741482811675419, 0.11741482811675419, 0.23482965623350838, 0.696509876837446, 0.23216995894581535, 0.09788497071751655, 0.2936549121525497, 0.09788497071751655, 0.48942485358758275, 0.08171857721593728, 0.4903114632956237, 0.08171857721593728, 0.08171857721593728, 0.08171857721593728, 0.08171857721593728, 0.08171857721593728, 0.08171857721593728, 0.1710872317621247, 0.1710872317621247, 0.5132616952863741, 0.1710872317621247, 0.3892391379827087, 0.3892391379827087, 0.16466544068314032, 0.16466544068314032, 0.32933088136628064, 0.32933088136628064, 0.38975662966300445, 0.38975662966300445, 0.32460116758261903, 0.32460116758261903, 0.16230058379130952, 0.16230058379130952, 0.13149665750068837, 0.06574832875034418, 0.13149665750068837, 0.06574832875034418, 0.13149665750068837, 0.13149665750068837, 0.13149665750068837, 0.06574832875034418, 0.06574832875034418, 0.06574832875034418, 0.586848152469239, 0.2934240762346195, 0.39550745143615584, 0.39550745143615584, 0.41027251528651154, 0.41027251528651154, 0.5639062441769672, 0.2819531220884836, 0.09863284699430792, 0.19726569398861585, 0.09863284699430792, 0.19726569398861585, 0.09863284699430792, 0.19726569398861585, 0.19726569398861585, 0.23841694982782927, 0.47683389965565853, 0.23841694982782927, 0.24650974684487117, 0.24650974684487117, 0.24650974684487117, 0.24650974684487117, 0.40545505129402093, 0.40545505129402093, 0.3889828639386433, 0.3889828639386433, 0.5858176500487686, 0.2929088250243843, 0.17117000894370346, 0.17117000894370346, 0.17117000894370346, 0.17117000894370346, 0.3423400178874069, 0.32410311577686496, 0.32410311577686496, 0.32410311577686496, 0.418084411192803, 0.418084411192803, 0.21726197597997135, 0.21726197597997135, 0.4345239519599427, 0.3931535999274345, 0.3931535999274345, 0.20469857660784382, 0.40939715321568765, 0.20469857660784382, 0.20469857660784382, 0.7884723005792311, 0.3931540909441123, 0.3931540909441123, 0.392761017570722, 0.196380508785361, 0.196380508785361, 0.196380508785361, 0.15112856641649489, 0.15112856641649489, 0.30225713283298977, 0.30225713283298977, 0.15112856641649489, 0.1561416806810601, 0.07807084034053005, 0.23421252102159013, 0.07807084034053005, 0.3122833613621202, 0.07807084034053005, 0.07807084034053005, 0.48775027433673424, 0.24387513716836712, 0.24387513716836712, 0.4268604154588095, 0.4268604154588095, 0.39783982970647774, 0.39783982970647774, 0.08932957679520073, 0.35731830718080293, 0.08932957679520073, 0.08932957679520073, 0.17865915359040146, 0.08932957679520073, 0.08932957679520073, 0.08932957679520073, 0.7446195206435678, 0.3208253563630836, 0.3208253563630836, 0.17959114249496994, 0.08979557124748497, 0.17959114249496994, 0.08979557124748497, 0.26938671374245493, 0.08979557124748497, 0.08979557124748497, 0.08979557124748497, 0.08949025199647949, 0.17898050399295898, 0.17898050399295898, 0.17898050399295898, 0.08949025199647949, 0.17898050399295898, 0.17898050399295898, 0.16171192135273899, 0.48513576405821696, 0.32342384270547797, 0.4045463533921104, 0.4045463533921104, 0.3888653958118672, 0.3888653958118672, 0.3404612260345754, 0.3404612260345754, 0.1702306130172877, 0.1702306130172877, 0.6146925703300652, 0.3073462851650326, 0.40848717236610804, 0.40848717236610804, 0.31022148712245146, 0.31022148712245146, 0.31022148712245146, 0.1014610057505875, 0.1014610057505875, 0.1014610057505875, 0.202922011501175, 0.1014610057505875, 0.1014610057505875, 0.1014610057505875, 0.1014610057505875, 0.1014610057505875, 0.1014610057505875, 0.5141535608258774, 0.12853839020646934, 0.12853839020646934, 0.12853839020646934, 0.12853839020646934, 0.15666205114029055, 0.3133241022805811, 0.07833102557014528, 0.23499307671043584, 0.15666205114029055, 0.07833102557014528, 0.07833102557014528, 0.10580459332100307, 0.21160918664200615, 0.10580459332100307, 0.10580459332100307, 0.10580459332100307, 0.21160918664200615, 0.21160918664200615, 0.2423944039135227, 0.2423944039135227, 0.4847888078270454, 0.09637321876619331, 0.19274643753238663, 0.28911965629857994, 0.38549287506477325, 0.29912906397712075, 0.14956453198856037, 0.29912906397712075, 0.14956453198856037, 0.14956453198856037, 0.33671950778638926, 0.16835975389319463, 0.33671950778638926, 0.16835975389319463, 0.3287013565734819, 0.3287013565734819, 0.3287013565734819, 0.39309867749513466, 0.39309867749513466, 0.19527728943875666, 0.09763864471937833, 0.292915934158135, 0.09763864471937833, 0.19527728943875666, 0.09763864471937833, 0.38978824067069845, 0.38978824067069845, 0.3970251290176491, 0.3970251290176491, 0.19954345146792077, 0.19954345146792077, 0.39908690293584154, 0.19954345146792077, 0.16666268326002168, 0.05555422775334056, 0.16666268326002168, 0.05555422775334056, 0.11110845550668112, 0.16666268326002168, 0.05555422775334056, 0.16666268326002168, 0.05555422775334056, 0.05555422775334056, 0.08292732614862672, 0.08292732614862672, 0.08292732614862672, 0.16585465229725344, 0.24878197844588015, 0.08292732614862672, 0.08292732614862672, 0.08292732614862672, 0.16585465229725344, 0.5680973323560512, 0.2840486661780256, 0.5747845870845483, 0.28739229354227414, 0.7447363858750664, 0.6530978233988709, 0.09329968905698155, 0.1865993781139631, 0.2381903410559797, 0.05496700178214916, 0.05496700178214916, 0.018322333927383055, 0.10993400356429832, 0.10993400356429832, 0.09161166963691526, 0.05496700178214916, 0.05496700178214916, 0.03664466785476611, 0.018322333927383055, 0.018322333927383055, 0.03664466785476611, 0.03664466785476611, 0.03664466785476611, 0.03664466785476611, 0.018322333927383055, 0.47339311448266447, 0.23669655724133223, 0.23669655724133223, 0.417947495723373, 0.417947495723373, 0.17368039269442567, 0.34736078538885135, 0.17368039269442567, 0.17368039269442567, 0.17368039269442567, 0.3076851170744092, 0.6153702341488184, 0.28707805634420447, 0.19138537089613633, 0.09569268544806817, 0.09569268544806817, 0.09569268544806817, 0.09569268544806817, 0.09569268544806817, 0.2378489890649027, 0.4756979781298054, 0.2378489890649027, 0.34723327415954314, 0.11574442471984771, 0.23148884943969542, 0.11574442471984771, 0.11574442471984771, 0.11574442471984771, 0.2917690877215295, 0.04862818128692158, 0.09725636257384317, 0.04862818128692158, 0.04862818128692158, 0.04862818128692158, 0.04862818128692158, 0.09725636257384317, 0.09725636257384317, 0.19451272514768633, 0.3957976843459022, 0.3957976843459022, 0.15240191201301034, 0.15240191201301034, 0.15240191201301034, 0.15240191201301034, 0.15240191201301034, 0.15240191201301034, 0.4014324313109268, 0.4014324313109268, 0.4142638219756315, 0.4142638219756315, 0.39783973498361225, 0.39783973498361225, 0.13183598465413268, 0.17578131287217694, 0.21972664109022116, 0.13183598465413268, 0.043945328218044234, 0.043945328218044234, 0.043945328218044234, 0.043945328218044234, 0.08789065643608847, 0.043945328218044234, 0.08789065643608847, 0.041986855467630764, 0.2099342773381538, 0.1259605664028923, 0.041986855467630764, 0.041986855467630764, 0.041986855467630764, 0.08397371093526153, 0.08397371093526153, 0.2519211328057846, 0.041986855467630764, 0.3112480206864263, 0.3112480206864263, 0.3112480206864263, 0.23510924744739392, 0.039184874574565653, 0.11755462372369696, 0.07836974914913131, 0.039184874574565653, 0.039184874574565653, 0.11755462372369696, 0.07836974914913131, 0.039184874574565653, 0.11755462372369696, 0.039184874574565653, 0.039184874574565653, 0.306186454234511, 0.306186454234511, 0.306186454234511, 0.38584596650833736, 0.38584596650833736, 0.40234250303808883, 0.40234250303808883, 0.07928940973986554, 0.1189341146097983, 0.03964470486993277, 0.1189341146097983, 0.03964470486993277, 0.03964470486993277, 0.03964470486993277, 0.03964470486993277, 0.07928940973986554, 0.2775129340895294, 0.07928940973986554, 0.03964470486993277, 0.07928940973986554, 0.1386341052967111, 0.5545364211868444, 0.1386341052967111, 0.1386341052967111, 0.2880554903606319, 0.2880554903606319, 0.14402774518031594, 0.14402774518031594, 0.07865173098472907, 0.15730346196945813, 0.15730346196945813, 0.2359551929541872, 0.07865173098472907, 0.15730346196945813, 0.15730346196945813, 0.07865173098472907, 0.2064616574848585, 0.029494522497836927, 0.08848356749351079, 0.05898904499567385, 0.014747261248918463, 0.04424178374675539, 0.04424178374675539, 0.08848356749351079, 0.014747261248918463, 0.029494522497836927, 0.014747261248918463, 0.10323082874242925, 0.029494522497836927, 0.04424178374675539, 0.08848356749351079, 0.014747261248918463, 0.04424178374675539, 0.09716937276456121, 0.2915081182936836, 0.09716937276456121, 0.09716937276456121, 0.19433874552912242, 0.09716937276456121, 0.09716937276456121, 0.09716937276456121, 0.24237215647084612, 0.7271164694125383, 0.16597502308474707, 0.16597502308474707, 0.33195004616949414, 0.16597502308474707, 0.16597502308474707, 0.2180994879514995, 0.2180994879514995, 0.054524871987874875, 0.10904974397574975, 0.054524871987874875, 0.10904974397574975, 0.054524871987874875, 0.10904974397574975, 0.054524871987874875, 0.054524871987874875, 0.3043522782268922, 0.3043522782268922, 0.3043522782268922, 0.405136282913088, 0.405136282913088, 0.1894692189550241, 0.1894692189550241, 0.3789384379100482, 0.1894692189550241, 0.7689339152616756, 0.24808180872690747, 0.24808180872690747, 0.24808180872690747, 0.4093408497028412, 0.4093408497028412, 0.7730910288884016, 0.2538152595921352, 0.16921017306142344, 0.028201695510237244, 0.19741186857166068, 0.11280678204094897, 0.05640339102047449, 0.028201695510237244, 0.028201695510237244, 0.028201695510237244, 0.05640339102047449, 0.028201695510237244, 0.028201695510237244, 0.19156390035672582, 0.5746917010701774, 0.19156390035672582, 0.04478542088401704, 0.40306878795615336, 0.04478542088401704, 0.08957084176803408, 0.13435626265205114, 0.2239271044200852, 0.04478542088401704, 0.39944418347082866, 0.39944418347082866, 0.15241207619159464, 0.3048241523831893, 0.3048241523831893, 0.3048241523831893, 0.2945118826019341, 0.2945118826019341, 0.2945118826019341, 0.4080326109272259, 0.4080326109272259, 0.3906330158850319, 0.3906330158850319, 0.38821505060262285, 0.38821505060262285, 0.7730911293162712, 0.39265207648044587, 0.39265207648044587, 0.38791343924874455, 0.38791343924874455, 0.08270172975275004, 0.3308069190110002, 0.24810518925825015, 0.08270172975275004, 0.1654034595055001, 0.08270172975275004, 0.08270172975275004, 0.39379841209768074, 0.39379841209768074, 0.7447645450390661, 0.8195981277528159, 0.7884723363101385, 0.41541408139555946, 0.41541408139555946, 0.13777485639904602, 0.27554971279809204, 0.20666228459856903, 0.06888742819952301, 0.06888742819952301, 0.13777485639904602, 0.06888742819952301, 0.06888742819952301, 0.38889742996045923, 0.38889742996045923, 0.3882151120908069, 0.3882151120908069, 0.3260513352944986, 0.3260513352944986, 0.4257353333303835, 0.4257353333303835, 0.6408589874344794, 0.16021474685861986, 0.16021474685861986, 0.2972271761905891, 0.2972271761905891, 0.2972271761905891, 0.5645586952180576, 0.2822793476090288, 0.382592989448574, 0.382592989448574, 0.39709134430248777, 0.39709134430248777, 0.3986076476633844, 0.3986076476633844, 0.15063534742634613, 0.15063534742634613, 0.30127069485269226, 0.15063534742634613, 0.30127069485269226, 0.395797623421294, 0.395797623421294, 0.10869713546493531, 0.21739427092987063, 0.21739427092987063, 0.21739427092987063, 0.10869713546493531, 0.10869713546493531, 0.40499189725844353, 0.40499189725844353, 0.1718785000280144, 0.1718785000280144, 0.1718785000280144, 0.1718785000280144, 0.1718785000280144, 0.1718785000280144, 0.40530611672798567, 0.40530611672798567, 0.1638291103546656, 0.1638291103546656, 0.1638291103546656, 0.1638291103546656, 0.3276582207093312, 0.3053557505838176, 0.6107115011676352, 0.3010293988597826, 0.3010293988597826, 0.3010293988597826, 0.1505146994298913, 0.20083429778184075, 0.15062572333638055, 0.10041714889092038, 0.10041714889092038, 0.05020857444546019, 0.05020857444546019, 0.10041714889092038, 0.10041714889092038, 0.10041714889092038, 0.05020857444546019, 0.05020857444546019, 0.5747870706146592, 0.2873935353073296, 0.4072850009236839, 0.4072850009236839, 0.0836377313461814, 0.2509131940385442, 0.0836377313461814, 0.2509131940385442, 0.0836377313461814, 0.0836377313461814, 0.1672754626923628, 0.0836377313461814, 0.31263504284040167, 0.15631752142020083, 0.31263504284040167, 0.15631752142020083, 0.8790888876813547, 0.40416432331322966, 0.40416432331322966, 0.3021106370800207, 0.3021106370800207, 0.3021106370800207, 0.07789460844543629, 0.07789460844543629, 0.07789460844543629, 0.23368382533630885, 0.23368382533630885, 0.07789460844543629, 0.15578921689087258, 0.07789460844543629, 0.07789460844543629, 0.5819141257253281, 0.19397137524177602, 0.19397137524177602, 0.2402218507438552, 0.2402218507438552, 0.2402218507438552, 0.2402218507438552, 0.6137311623726988, 0.3068655811863494, 0.41121383732660405, 0.41121383732660405, 0.1067827781003085, 0.1067827781003085, 0.3203483343009255, 0.3203483343009255, 0.1067827781003085, 0.1067827781003085, 0.7884721595593246, 0.390482108644094, 0.390482108644094, 0.1298616447212721, 0.2597232894425442, 0.1298616447212721, 0.1298616447212721, 0.1298616447212721, 0.2597232894425442, 0.3068254550338575, 0.613650910067715, 0.08389445704768045, 0.3355778281907218, 0.08389445704768045, 0.25168337114304135, 0.08389445704768045, 0.1677889140953609, 0.9152845698559492, 0.7446195072522823, 0.5890356756114454, 0.2945178378057227, 0.8993196624030365, 0.08960484208900646, 0.17920968417801292, 0.17920968417801292, 0.08960484208900646, 0.2688145262670194, 0.08960484208900646, 0.17920968417801292, 0.1373957836983602, 0.17174472962295026, 0.03434894592459005, 0.0686978918491801, 0.10304683777377015, 0.17174472962295026, 0.03434894592459005, 0.03434894592459005, 0.17174472962295026, 0.03434894592459005, 0.0686978918491801, 0.10509382169305767, 0.1576407325395865, 0.1576407325395865, 0.1576407325395865, 0.21018764338611534, 0.052546910846528835, 0.052546910846528835, 0.052546910846528835, 0.052546910846528835, 0.8005774388645095, 0.298237135855536, 0.298237135855536, 0.298237135855536, 0.2086447159790602, 0.4172894319581204, 0.2086447159790602, 0.2086447159790602, 0.5957144293475956, 0.2978572146737978, 0.402880216141776, 0.402880216141776, 0.33675870787314344, 0.33675870787314344, 0.16837935393657172, 0.1692164116820748, 0.1692164116820748, 0.1692164116820748, 0.3384328233641496, 0.1692164116820748, 0.27619576682636976, 0.09206525560878992, 0.09206525560878992, 0.09206525560878992, 0.09206525560878992, 0.09206525560878992, 0.18413051121757984, 0.09206525560878992, 0.12473668051939274, 0.49894672207757096, 0.12473668051939274, 0.12473668051939274, 0.12473668051939274, 0.3882068679178367, 0.3882068679178367, 0.8208132243022426, 0.2016625209183537, 0.1344416806122358, 0.2016625209183537, 0.1344416806122358, 0.1344416806122358, 0.0672208403061179, 0.0672208403061179, 0.1344416806122358, 0.8195893036546372], \"Term\": [\"abhor\", \"absence\", \"absence\", \"absence\", \"absence\", \"abundance\", \"abundance\", \"abundance\", \"accident\", \"accident\", \"acquaintance\", \"acquaintance\", \"action\", \"action\", \"add\", \"add\", \"add\", \"add\", \"add\", \"addition\", \"addition\", \"adjunct\", \"adjunct\", \"affair\", \"affair\", \"age\", \"age\", \"age\", \"age\", \"age\", \"age\", \"age\", \"age\", \"ah\", \"ah\", \"ah\", \"ah\", \"ah\", \"ah\", \"aid\", \"aid\", \"air\", \"air\", \"alter\", \"alter\", \"anew\", \"anew\", \"anew\", \"angel\", \"antique\", \"antique\", \"appetite\", \"appetite\", \"appetite\", \"arise\", \"arise\", \"aside\", \"aside\", \"assure\", \"aught\", \"aught\", \"autumn\", \"autumn\", \"away\", \"away\", \"away\", \"away\", \"away\", \"away\", \"away\", \"away\", \"away\", \"away\", \"away\", \"ay\", \"ay\", \"babe\", \"babe\", \"babe\", \"bad\", \"bad\", \"bad\", \"bad\", \"bad\", \"bad\", \"bad\", \"bad\", \"bad\", \"bail\", \"bail\", \"bar\", \"bar\", \"bar\", \"bareness\", \"bareness\", \"bark\", \"bark\", \"barren\", \"barren\", \"base\", \"base\", \"base\", \"base\", \"base\", \"base\", \"base\", \"bastard\", \"bastard\", \"bath\", \"bath\", \"bear\", \"bear\", \"bear\", \"bear\", \"bear\", \"bear\", \"bear\", \"bear\", \"bear\", \"bear\", \"beast\", \"beast\", \"beat\", \"beat\", \"beauteous\", \"beauteous\", \"beauteous\", \"beauteous\", \"beauteous\", \"beauteous\", \"beauteous\", \"beauteous\", \"beauty\", \"beauty\", \"beauty\", \"beauty\", \"beauty\", \"beauty\", \"beauty\", \"beauty\", \"beauty\", \"beauty\", \"beauty\", \"beauty\", \"beauty\", \"beauty\", \"beauty\", \"behold\", \"behold\", \"behold\", \"behold\", \"believe\", \"believe\", \"believe\", \"beloved\", \"bend\", \"bend\", \"benefit\", \"benefit\", \"bent\", \"bent\", \"besiege\", \"besiege\", \"bide\", \"bide\", \"bird\", \"bird\", \"bird\", \"birth\", \"birth\", \"birth\", \"birth\", \"bitterness\", \"bitterness\", \"black\", \"black\", \"black\", \"black\", \"blessing\", \"blessing\", \"blind\", \"blind\", \"blind\", \"blind\", \"blood\", \"blood\", \"blood\", \"blood\", \"blood\", \"blushing\", \"blushing\", \"body\", \"body\", \"body\", \"body\", \"body\", \"bold\", \"bold\", \"bond\", \"bond\", \"bond\", \"book\", \"book\", \"book\", \"book\", \"bough\", \"bounteous\", \"bounteous\", \"bounty\", \"bounty\", \"bow\", \"bow\", \"brain\", \"brain\", \"brain\", \"brain\", \"brand\", \"brand\", \"brass\", \"brass\", \"brass\", \"brave\", \"brave\", \"breast\", \"breast\", \"breast\", \"breast\", \"breast\", \"breast\", \"breath\", \"breath\", \"breath\", \"breath\", \"breath\", \"breath\", \"breathe\", \"breathe\", \"breathe\", \"brief\", \"brief\", \"bright\", \"bright\", \"bright\", \"bright\", \"bright\", \"bright\", \"bring\", \"bring\", \"bring\", \"bring\", \"bring\", \"bring\", \"bring\", \"bring\", \"bring\", \"bring\", \"bring\", \"brow\", \"brow\", \"brow\", \"brow\", \"bud\", \"bud\", \"bud\", \"bud\", \"bud\", \"bud\", \"burn\", \"burn\", \"burn\", \"burthen\", \"burthen\", \"bury\", \"bury\", \"bury\", \"bury\", \"canopy\", \"canopy\", \"canst\", \"canst\", \"canst\", \"careful\", \"careful\", \"cast\", \"cast\", \"catch\", \"catch\", \"character\", \"character\", \"chase\", \"cheek\", \"cheek\", \"cheek\", \"cheek\", \"cheek\", \"cheek\", \"cheek\", \"chide\", \"chide\", \"chide\", \"chide\", \"chide\", \"chide\", \"child\", \"child\", \"child\", \"child\", \"child\", \"child\", \"child\", \"child\", \"choose\", \"choose\", \"churl\", \"churl\", \"churl\", \"clear\", \"clear\", \"clear\", \"clear\", \"clock\", \"clock\", \"cloud\", \"cloud\", \"cloud\", \"cloud\", \"cold\", \"cold\", \"cold\", \"cold\", \"cold\", \"cold\", \"colour\", \"colour\", \"come\", \"come\", \"come\", \"come\", \"come\", \"come\", \"come\", \"come\", \"come\", \"come\", \"comfort\", \"comfort\", \"comfort\", \"commit\", \"commit\", \"commit\", \"complexion\", \"complexion\", \"complexion\", \"concord\", \"concord\", \"confound\", \"confound\", \"confound\", \"confound\", \"confound\", \"conquest\", \"conquest\", \"conscience\", \"contain\", \"contain\", \"content\", \"content\", \"content\", \"content\", \"content\", \"content\", \"contract\", \"contract\", \"convert\", \"convert\", \"convert\", \"cool\", \"copy\", \"copy\", \"cost\", \"counterfeit\", \"counterfeit\", \"cover\", \"cover\", \"creation\", \"creature\", \"creature\", \"creature\", \"crime\", \"crime\", \"crooked\", \"cross\", \"cross\", \"cross\", \"crow\", \"crow\", \"cruel\", \"cruel\", \"cruel\", \"cruel\", \"cruel\", \"cruel\", \"cry\", \"cry\", \"cry\", \"cry\", \"cunning\", \"cunning\", \"cupid\", \"cure\", \"cure\", \"cure\", \"cxxxiii\", \"daily\", \"daily\", \"dare\", \"dare\", \"dare\", \"day\", \"day\", \"day\", \"day\", \"day\", \"day\", \"day\", \"day\", \"day\", \"day\", \"day\", \"day\", \"day\", \"dead\", \"dead\", \"dead\", \"dead\", \"dead\", \"dead\", \"dead\", \"dead\", \"dead\", \"dear\", \"dear\", \"dear\", \"dear\", \"dear\", \"dear\", \"dear\", \"dear\", \"dear\", \"dear\", \"dear\", \"death\", \"death\", \"death\", \"death\", \"death\", \"death\", \"death\", \"death\", \"death\", \"death\", \"death\", \"decay\", \"decay\", \"decay\", \"decay\", \"decay\", \"decay\", \"decay\", \"decay\", \"decease\", \"decease\", \"deceive\", \"deceive\", \"deed\", \"deed\", \"deed\", \"deed\", \"deed\", \"deed\", \"deed\", \"delight\", \"delight\", \"delight\", \"delight\", \"delight\", \"delight\", \"depart\", \"depart\", \"depend\", \"depend\", \"deserve\", \"deserve\", \"desire\", \"desire\", \"desire\", \"desire\", \"desire\", \"desire\", \"desire\", \"desire\", \"despair\", \"despair\", \"despair\", \"despise\", \"despise\", \"despise\", \"despise\", \"dial\", \"dial\", \"didst\", \"didst\", \"didst\", \"die\", \"die\", \"die\", \"die\", \"die\", \"die\", \"die\", \"die\", \"die\", \"discontent\", \"discontent\", \"disdain\", \"disdain\", \"disgrace\", \"disgrace\", \"disgrace\", \"disgrace\", \"disgrace\", \"disgrace\", \"divide\", \"divide\", \"divine\", \"divine\", \"dote\", \"dote\", \"doting\", \"doting\", \"draw\", \"draw\", \"draw\", \"draw\", \"dream\", \"dream\", \"dream\", \"dream\", \"dress\", \"dress\", \"drink\", \"drown\", \"drown\", \"dull\", \"dull\", \"dull\", \"dull\", \"dull\", \"dust\", \"duty\", \"earth\", \"earth\", \"earth\", \"earth\", \"earth\", \"earth\", \"earth\", \"ease\", \"ease\", \"eat\", \"eat\", \"eat\", \"eat\", \"element\", \"element\", \"end\", \"end\", \"end\", \"end\", \"end\", \"end\", \"end\", \"end\", \"end\", \"end\", \"enemy\", \"enemy\", \"enjoy\", \"enjoy\", \"envy\", \"envy\", \"ere\", \"ere\", \"ere\", \"ere\", \"eternal\", \"eternal\", \"eternal\", \"eternal\", \"eternal\", \"evermore\", \"evermore\", \"evil\", \"evil\", \"evil\", \"example\", \"example\", \"excellence\", \"excellence\", \"excuse\", \"excuse\", \"excuse\", \"excuse\", \"excuse\", \"excuse\", \"expense\", \"expense\", \"expire\", \"express\", \"express\", \"extreme\", \"eye\", \"eye\", \"eye\", \"eye\", \"eye\", \"eye\", \"eye\", \"eye\", \"eye\", \"eye\", \"eye\", \"eye\", \"eye\", \"eye\", \"eye\", \"eye\", \"face\", \"face\", \"face\", \"face\", \"face\", \"face\", \"face\", \"face\", \"face\", \"fair\", \"fair\", \"fair\", \"fair\", \"fair\", \"fair\", \"fair\", \"fair\", \"fair\", \"fair\", \"fair\", \"fair\", \"faith\", \"faith\", \"faith\", \"false\", \"false\", \"false\", \"false\", \"false\", \"false\", \"false\", \"false\", \"false\", \"fame\", \"fame\", \"far\", \"far\", \"far\", \"far\", \"far\", \"far\", \"far\", \"far\", \"far\", \"far\", \"fashion\", \"fashion\", \"fast\", \"fast\", \"fast\", \"fast\", \"fast\", \"fault\", \"fault\", \"fault\", \"fault\", \"fault\", \"fault\", \"favour\", \"favour\", \"favour\", \"fear\", \"fear\", \"fear\", \"fear\", \"fear\", \"fear\", \"fear\", \"fear\", \"fear\", \"fear\", \"feast\", \"feast\", \"feed\", \"feed\", \"feed\", \"feeling\", \"feeling\", \"fever\", \"fever\", \"fickle\", \"fiend\", \"fiend\", \"fierce\", \"fierce\", \"figure\", \"figure\", \"find\", \"find\", \"find\", \"find\", \"find\", \"find\", \"find\", \"find\", \"find\", \"find\", \"find\", \"find\", \"find\", \"fine\", \"fine\", \"finger\", \"finger\", \"fire\", \"fire\", \"fire\", \"fire\", \"fit\", \"fit\", \"flame\", \"flame\", \"flame\", \"flee\", \"flee\", \"flesh\", \"flesh\", \"flesh\", \"flower\", \"flower\", \"flower\", \"flower\", \"flower\", \"flower\", \"flower\", \"flower\", \"flower\", \"fly\", \"fly\", \"fly\", \"foe\", \"foe\", \"foe\", \"follow\", \"follow\", \"follow\", \"fond\", \"fond\", \"forbear\", \"forbear\", \"fore\", \"forgot\", \"forgot\", \"forgot\", \"form\", \"form\", \"form\", \"form\", \"form\", \"form\", \"form\", \"form\", \"forswear\", \"forswear\", \"forth\", \"forth\", \"forth\", \"forth\", \"forth\", \"forth\", \"fortify\", \"fortify\", \"fortune\", \"fortune\", \"fortune\", \"fortune\", \"fortune\", \"fortune\", \"forward\", \"forward\", \"foul\", \"foul\", \"foul\", \"foul\", \"frailty\", \"frailty\", \"free\", \"free\", \"free\", \"friend\", \"friend\", \"friend\", \"friend\", \"friend\", \"friend\", \"friend\", \"friend\", \"frown\", \"frown\", \"frown\", \"fulfil\", \"gainst\", \"gainst\", \"gainst\", \"gainst\", \"garment\", \"gate\", \"gate\", \"gentle\", \"gentle\", \"gentle\", \"gentle\", \"gentle\", \"gentle\", \"gentle\", \"gentle\", \"gentle\", \"gentle\", \"gift\", \"gift\", \"gift\", \"gift\", \"gift\", \"gilded\", \"gilded\", \"give\", \"give\", \"give\", \"give\", \"give\", \"give\", \"give\", \"give\", \"give\", \"give\", \"give\", \"glance\", \"glance\", \"glass\", \"glass\", \"glass\", \"glass\", \"glass\", \"glass\", \"glass\", \"glory\", \"glory\", \"glory\", \"glory\", \"glory\", \"glory\", \"go\", \"go\", \"go\", \"go\", \"go\", \"go\", \"go\", \"go\", \"go\", \"god\", \"gold\", \"good\", \"good\", \"good\", \"good\", \"good\", \"good\", \"good\", \"good\", \"good\", \"good\", \"good\", \"good\", \"good\", \"goodness\", \"goodness\", \"grace\", \"grace\", \"grace\", \"grace\", \"grace\", \"grace\", \"grace\", \"grace\", \"grave\", \"grave\", \"grave\", \"grave\", \"great\", \"great\", \"great\", \"great\", \"great\", \"great\", \"great\", \"great\", \"great\", \"greet\", \"greet\", \"greet\", \"grief\", \"grief\", \"grief\", \"grief\", \"grief\", \"grief\", \"groan\", \"groan\", \"groan\", \"grow\", \"grow\", \"grow\", \"grow\", \"grow\", \"grow\", \"grow\", \"grow\", \"grow\", \"grow\", \"grow\", \"grow\", \"grow\", \"growth\", \"growth\", \"growth\", \"guard\", \"guard\", \"guess\", \"guilty\", \"hadst\", \"hair\", \"hair\", \"hand\", \"hand\", \"hand\", \"hand\", \"hand\", \"hand\", \"hand\", \"hand\", \"hand\", \"hand\", \"hand\", \"hand\", \"happy\", \"happy\", \"happy\", \"happy\", \"happy\", \"happy\", \"happy\", \"happy\", \"happy\", \"hard\", \"hard\", \"hard\", \"hast\", \"hast\", \"hast\", \"hast\", \"hast\", \"hast\", \"hast\", \"hast\", \"hast\", \"hast\", \"hast\", \"haste\", \"haste\", \"haste\", \"hate\", \"hate\", \"hate\", \"hate\", \"hate\", \"hate\", \"hate\", \"hath\", \"hath\", \"hath\", \"hath\", \"hath\", \"hath\", \"hath\", \"hath\", \"hath\", \"hath\", \"hath\", \"hath\", \"hath\", \"hath\", \"hath\", \"have\", \"have\", \"have\", \"have\", \"hawk\", \"health\", \"health\", \"hear\", \"hear\", \"hear\", \"hear\", \"hear\", \"hear\", \"heart\", \"heart\", \"heart\", \"heart\", \"heart\", \"heart\", \"heart\", \"heart\", \"heart\", \"heart\", \"heart\", \"heart\", \"heart\", \"heart\", \"heaven\", \"heaven\", \"heaven\", \"heaven\", \"heaven\", \"heaven\", \"heaven\", \"heaven\", \"heavy\", \"heavy\", \"heavy\", \"heavy\", \"heir\", \"heir\", \"heir\", \"hell\", \"hell\", \"hell\", \"hell\", \"hell\", \"help\", \"help\", \"hide\", \"hide\", \"hide\", \"hide\", \"hide\", \"hide\", \"hide\", \"hide\", \"hideous\", \"hideous\", \"high\", \"high\", \"hold\", \"hold\", \"hold\", \"hold\", \"hold\", \"hold\", \"hold\", \"hold\", \"hold\", \"hold\", \"hold\", \"hold\", \"home\", \"home\", \"home\", \"honour\", \"honour\", \"honour\", \"hope\", \"hope\", \"hope\", \"hope\", \"hope\", \"hope\", \"horse\", \"horse\", \"hour\", \"hour\", \"hour\", \"hour\", \"hour\", \"hour\", \"hour\", \"hour\", \"hour\", \"hue\", \"hue\", \"hue\", \"hue\", \"huge\", \"huge\", \"humble\", \"humble\", \"husbandry\", \"husbandry\", \"idle\", \"idle\", \"ignorance\", \"ill\", \"ill\", \"ill\", \"ill\", \"ill\", \"ill\", \"ill\", \"ill\", \"imitate\", \"imitate\", \"influence\", \"influence\", \"injurious\", \"injurious\", \"ink\", \"ink\", \"invent\", \"invent\", \"invite\", \"invite\", \"issue\", \"jack\", \"joy\", \"joy\", \"joy\", \"joy\", \"joy\", \"joy\", \"judgment\", \"judgment\", \"judgment\", \"judgment\", \"keep\", \"keep\", \"keep\", \"keep\", \"keep\", \"kind\", \"kind\", \"kind\", \"kind\", \"kind\", \"kind\", \"kindness\", \"king\", \"king\", \"king\", \"kingdom\", \"kingdom\", \"kiss\", \"kiss\", \"kiss\", \"knife\", \"knife\", \"knife\", \"know\", \"know\", \"know\", \"know\", \"know\", \"know\", \"know\", \"know\", \"know\", \"know\", \"know\", \"know\", \"know\", \"lamb\", \"lame\", \"large\", \"large\", \"large\", \"large\", \"lead\", \"lead\", \"lead\", \"leap\", \"leap\", \"leave\", \"leave\", \"leave\", \"leave\", \"leave\", \"leave\", \"leave\", \"leave\", \"leave\", \"leave\", \"leave\", \"leave\", \"leisure\", \"leisure\", \"leisure\", \"leisure\", \"lend\", \"lend\", \"lend\", \"lend\", \"lend\", \"lend\", \"lend\", \"lend\", \"length\", \"length\", \"lest\", \"lest\", \"lest\", \"let\", \"let\", \"let\", \"let\", \"let\", \"let\", \"let\", \"let\", \"let\", \"let\", \"let\", \"let\", \"let\", \"level\", \"level\", \"lie\", \"lie\", \"lie\", \"lie\", \"lie\", \"lie\", \"lie\", \"lie\", \"lie\", \"lie\", \"lie\", \"lie\", \"lie\", \"life\", \"life\", \"life\", \"life\", \"life\", \"life\", \"life\", \"life\", \"life\", \"light\", \"light\", \"light\", \"light\", \"light\", \"like\", \"like\", \"like\", \"like\", \"like\", \"like\", \"like\", \"like\", \"like\", \"like\", \"like\", \"like\", \"like\", \"like\", \"lily\", \"lily\", \"lily\", \"limb\", \"limit\", \"limit\", \"line\", \"line\", \"line\", \"line\", \"line\", \"line\", \"line\", \"lip\", \"lip\", \"lip\", \"lip\", \"lip\", \"lip\", \"live\", \"live\", \"live\", \"live\", \"live\", \"live\", \"live\", \"live\", \"live\", \"live\", \"live\", \"live\", \"live\", \"live\", \"live\", \"live\", \"lofty\", \"lofty\", \"long\", \"long\", \"long\", \"long\", \"long\", \"long\", \"long\", \"long\", \"long\", \"look\", \"look\", \"look\", \"look\", \"look\", \"look\", \"look\", \"look\", \"look\", \"look\", \"look\", \"lord\", \"lord\", \"lord\", \"lose\", \"lose\", \"lose\", \"lose\", \"lose\", \"lose\", \"lose\", \"lose\", \"lose\", \"lose\", \"loss\", \"loss\", \"loss\", \"loss\", \"loss\", \"love\", \"love\", \"love\", \"love\", \"love\", \"love\", \"love\", \"love\", \"love\", \"love\", \"love\", \"love\", \"love\", \"love\", \"love\", \"love\", \"love\", \"love\", \"love\", \"love\", \"lovely\", \"lovely\", \"lovely\", \"lovely\", \"lovely\", \"lovely\", \"lovely\", \"loving\", \"loving\", \"lust\", \"mad\", \"mad\", \"main\", \"main\", \"make\", \"make\", \"make\", \"make\", \"make\", \"make\", \"make\", \"make\", \"make\", \"man\", \"man\", \"man\", \"man\", \"man\", \"man\", \"man\", \"man\", \"man\", \"man\", \"man\", \"man\", \"mansion\", \"mansion\", \"map\", \"mayst\", \"mayst\", \"mayst\", \"mayst\", \"mayst\", \"mayst\", \"mayst\", \"meet\", \"meet\", \"memory\", \"memory\", \"memory\", \"memory\", \"mend\", \"mend\", \"mend\", \"merit\", \"merit\", \"merit\", \"merit\", \"mile\", \"mile\", \"mind\", \"mind\", \"mind\", \"mind\", \"mind\", \"mind\", \"mind\", \"mind\", \"mind\", \"mistake\", \"mistake\", \"mistress\", \"mistress\", \"mistress\", \"mistress\", \"mistress\", \"moan\", \"moan\", \"moan\", \"morn\", \"morn\", \"morrow\", \"morrow\", \"morrow\", \"mother\", \"mother\", \"mother\", \"mother\", \"mountain\", \"mountain\", \"mourn\", \"mourn\", \"mourn\", \"move\", \"move\", \"muse\", \"muse\", \"muse\", \"muse\", \"muse\", \"muse\", \"music\", \"music\", \"music\", \"mute\", \"mutual\", \"mutual\", \"nature\", \"nature\", \"nature\", \"nature\", \"nature\", \"nature\", \"nature\", \"nature\", \"nature\", \"nature\", \"nature\", \"nay\", \"nay\", \"need\", \"need\", \"need\", \"need\", \"need\", \"need\", \"need\", \"new\", \"new\", \"new\", \"new\", \"new\", \"new\", \"new\", \"new\", \"new\", \"night\", \"night\", \"night\", \"night\", \"night\", \"night\", \"night\", \"night\", \"night\", \"nightly\", \"nightly\", \"nimble\", \"nimble\", \"nought\", \"nought\", \"number\", \"number\", \"number\", \"number\", \"number\", \"oath\", \"odour\", \"odour\", \"odour\", \"offence\", \"offence\", \"offence\", \"offender\", \"offender\", \"office\", \"office\", \"old\", \"old\", \"old\", \"old\", \"old\", \"old\", \"old\", \"old\", \"old\", \"old\", \"outlive\", \"outlive\", \"outlive\", \"outward\", \"outward\", \"outward\", \"outward\", \"outward\", \"outward\", \"owe\", \"owe\", \"owner\", \"owner\", \"pace\", \"pace\", \"pace\", \"paint\", \"paint\", \"paint\", \"paint\", \"paint\", \"paint\", \"painter\", \"painting\", \"painting\", \"pale\", \"pale\", \"paper\", \"paper\", \"part\", \"part\", \"part\", \"part\", \"part\", \"pass\", \"pass\", \"pass\", \"past\", \"past\", \"past\", \"past\", \"past\", \"pay\", \"pay\", \"pay\", \"pay\", \"peace\", \"pen\", \"pen\", \"pen\", \"pen\", \"pen\", \"pen\", \"pen\", \"pencil\", \"pencil\", \"perfect\", \"perfect\", \"physic\", \"physic\", \"physician\", \"picture\", \"pilgrimage\", \"pilgrimage\", \"pine\", \"pine\", \"pity\", \"pity\", \"pity\", \"place\", \"place\", \"place\", \"place\", \"place\", \"place\", \"place\", \"play\", \"play\", \"play\", \"play\", \"plea\", \"plea\", \"plea\", \"plead\", \"plead\", \"pleasing\", \"poet\", \"poet\", \"poet\", \"policy\", \"policy\", \"poor\", \"poor\", \"poor\", \"poor\", \"poor\", \"poor\", \"poor\", \"poor\", \"poor\", \"poor\", \"power\", \"power\", \"power\", \"power\", \"power\", \"power\", \"power\", \"powerful\", \"powerful\", \"praise\", \"praise\", \"praise\", \"praise\", \"praise\", \"praise\", \"praise\", \"praise\", \"praise\", \"praise\", \"praise\", \"pride\", \"pride\", \"pride\", \"pride\", \"pride\", \"pride\", \"pride\", \"pride\", \"prime\", \"prime\", \"prime\", \"proceed\", \"proceed\", \"proof\", \"proof\", \"proud\", \"proud\", \"proud\", \"proud\", \"proud\", \"proud\", \"proud\", \"proud\", \"prove\", \"prove\", \"prove\", \"prove\", \"prove\", \"prove\", \"prove\", \"prove\", \"prove\", \"public\", \"public\", \"purge\", \"purge\", \"pursuit\", \"pursuit\", \"quest\", \"quest\", \"question\", \"question\", \"quick\", \"quick\", \"quick\", \"quill\", \"quill\", \"rain\", \"rain\", \"rain\", \"rank\", \"rank\", \"rank\", \"rank\", \"rank\", \"ransom\", \"ransom\", \"read\", \"read\", \"read\", \"read\", \"read\", \"reason\", \"reason\", \"receive\", \"receive\", \"receive\", \"receive\", \"reckon\", \"reckon\", \"red\", \"red\", \"register\", \"register\", \"rehearse\", \"rehearse\", \"rehearse\", \"reign\", \"reign\", \"remain\", \"remain\", \"remain\", \"remain\", \"remember\", \"remember\", \"render\", \"render\", \"renew\", \"renew\", \"rent\", \"rent\", \"replete\", \"replete\", \"report\", \"report\", \"report\", \"reserve\", \"reserve\", \"return\", \"return\", \"return\", \"return\", \"review\", \"rich\", \"rich\", \"rich\", \"rich\", \"rich\", \"rich\", \"rich\", \"rich\", \"ride\", \"ride\", \"right\", \"right\", \"right\", \"right\", \"right\", \"right\", \"right\", \"right\", \"rime\", \"riper\", \"riper\", \"robbery\", \"robbery\", \"root\", \"root\", \"rose\", \"rose\", \"rose\", \"rose\", \"rose\", \"rose\", \"rose\", \"rotten\", \"rotten\", \"run\", \"run\", \"sacred\", \"salve\", \"salve\", \"salve\", \"sap\", \"sap\", \"saucy\", \"saucy\", \"save\", \"save\", \"save\", \"save\", \"save\", \"save\", \"say\", \"say\", \"say\", \"say\", \"say\", \"say\", \"say\", \"scythe\", \"scythe\", \"scythe\", \"sea\", \"sea\", \"sea\", \"sea\", \"second\", \"second\", \"see\", \"see\", \"see\", \"see\", \"see\", \"see\", \"see\", \"see\", \"see\", \"see\", \"see\", \"see\", \"seek\", \"seek\", \"seek\", \"seek\", \"seek\", \"seldom\", \"self\", \"self\", \"self\", \"self\", \"self\", \"self\", \"self\", \"self\", \"self\", \"self\", \"self\", \"self\", \"self\", \"send\", \"send\", \"sensual\", \"sensual\", \"servant\", \"servant\", \"serve\", \"serve\", \"service\", \"service\", \"set\", \"set\", \"set\", \"set\", \"set\", \"set\", \"shade\", \"shade\", \"shadow\", \"shadow\", \"shadow\", \"shadow\", \"shame\", \"shame\", \"shame\", \"shame\", \"shame\", \"shame\", \"shame\", \"shame\", \"shape\", \"shape\", \"shape\", \"shape\", \"shift\", \"shift\", \"shouldst\", \"shouldst\", \"shouldst\", \"shouldst\", \"shower\", \"shower\", \"sick\", \"sick\", \"sick\", \"sick\", \"sight\", \"sight\", \"sight\", \"sight\", \"sight\", \"sight\", \"sight\", \"sight\", \"sight\", \"sight\", \"silence\", \"silence\", \"silent\", \"silent\", \"silver\", \"silver\", \"simple\", \"simple\", \"sin\", \"sin\", \"sin\", \"sin\", \"sin\", \"sin\", \"sin\", \"sinful\", \"sinful\", \"sinful\", \"single\", \"single\", \"single\", \"single\", \"sink\", \"sink\", \"slain\", \"slain\", \"slander\", \"slander\", \"slave\", \"slave\", \"slave\", \"slave\", \"slave\", \"sleep\", \"sleep\", \"sleep\", \"slight\", \"slight\", \"slow\", \"slow\", \"slow\", \"small\", \"small\", \"smell\", \"smell\", \"smell\", \"smell\", \"snow\", \"soil\", \"soil\", \"soon\", \"soon\", \"soon\", \"soon\", \"sorrow\", \"sorrow\", \"sorrow\", \"sorrow\", \"sorrow\", \"soul\", \"soul\", \"soul\", \"soul\", \"soul\", \"soul\", \"soul\", \"sound\", \"sound\", \"sound\", \"sour\", \"sour\", \"sourly\", \"sourly\", \"speak\", \"speak\", \"speak\", \"speak\", \"speak\", \"speak\", \"speak\", \"speak\", \"special\", \"speed\", \"speed\", \"spend\", \"spend\", \"spend\", \"spend\", \"spend\", \"spend\", \"spend\", \"spend\", \"spirit\", \"spirit\", \"spirit\", \"spirit\", \"spirit\", \"spirit\", \"spirit\", \"spite\", \"spite\", \"spite\", \"spoil\", \"spoil\", \"sport\", \"sport\", \"spring\", \"spring\", \"spring\", \"spring\", \"spur\", \"spur\", \"stage\", \"stage\", \"stain\", \"stain\", \"stain\", \"stand\", \"stand\", \"stand\", \"stand\", \"stand\", \"stand\", \"stand\", \"stand\", \"stand\", \"stand\", \"star\", \"star\", \"star\", \"star\", \"star\", \"state\", \"state\", \"state\", \"state\", \"state\", \"state\", \"state\", \"stay\", \"stay\", \"stay\", \"stay\", \"stay\", \"stay\", \"stay\", \"steel\", \"steel\", \"steel\", \"store\", \"store\", \"store\", \"store\", \"straight\", \"straight\", \"straight\", \"straight\", \"straight\", \"strange\", \"strange\", \"strange\", \"strange\", \"strength\", \"strength\", \"strength\", \"strike\", \"strike\", \"strong\", \"strong\", \"strong\", \"strong\", \"strong\", \"strong\", \"strongly\", \"strongly\", \"sullen\", \"sullen\", \"sum\", \"sum\", \"sum\", \"sum\", \"summer\", \"summer\", \"summer\", \"summer\", \"summer\", \"summer\", \"summer\", \"summer\", \"summer\", \"summer\", \"sun\", \"sun\", \"sun\", \"sun\", \"sun\", \"sun\", \"sun\", \"sun\", \"sun\", \"survey\", \"survey\", \"suspect\", \"suspect\", \"sway\", \"swear\", \"swear\", \"swear\", \"sweet\", \"sweet\", \"sweet\", \"sweet\", \"sweet\", \"sweet\", \"sweet\", \"sweet\", \"sweet\", \"sweet\", \"sweet\", \"sweet\", \"sweet\", \"sweet\", \"sweet\", \"sweet\", \"sweet\", \"sweetest\", \"sweetest\", \"sweetest\", \"sweetly\", \"sweetly\", \"swift\", \"swift\", \"swift\", \"swift\", \"swift\", \"table\", \"table\", \"take\", \"take\", \"take\", \"take\", \"take\", \"take\", \"take\", \"taste\", \"taste\", \"taste\", \"teach\", \"teach\", \"teach\", \"teach\", \"teach\", \"teach\", \"tell\", \"tell\", \"tell\", \"tell\", \"tell\", \"tell\", \"tell\", \"tell\", \"tell\", \"tell\", \"temptation\", \"temptation\", \"tender\", \"tender\", \"tender\", \"tender\", \"tender\", \"tender\", \"th\", \"th\", \"thank\", \"thank\", \"thievish\", \"thievish\", \"thing\", \"thing\", \"thing\", \"thing\", \"thing\", \"thing\", \"thing\", \"thing\", \"thing\", \"thing\", \"thing\", \"think\", \"think\", \"think\", \"think\", \"think\", \"think\", \"think\", \"think\", \"think\", \"think\", \"thorn\", \"thorn\", \"thorn\", \"thought\", \"thought\", \"thought\", \"thought\", \"thought\", \"thought\", \"thought\", \"thought\", \"thought\", \"thought\", \"thought\", \"thought\", \"thousand\", \"thousand\", \"thousand\", \"thrive\", \"thrive\", \"throw\", \"throw\", \"thy\", \"thy\", \"thy\", \"thy\", \"thy\", \"thy\", \"thy\", \"thy\", \"thy\", \"thy\", \"thy\", \"thy\", \"thy\", \"thyself\", \"thyself\", \"thyself\", \"thyself\", \"tie\", \"tie\", \"tie\", \"tie\", \"till\", \"till\", \"till\", \"till\", \"till\", \"till\", \"till\", \"till\", \"time\", \"time\", \"time\", \"time\", \"time\", \"time\", \"time\", \"time\", \"time\", \"time\", \"time\", \"time\", \"time\", \"time\", \"time\", \"time\", \"time\", \"tis\", \"tis\", \"tis\", \"tis\", \"tis\", \"tis\", \"tis\", \"tis\", \"toil\", \"toil\", \"tomb\", \"tomb\", \"tomb\", \"tomb\", \"tomb\", \"tongue\", \"tongue\", \"tongue\", \"tongue\", \"tongue\", \"tongue\", \"tongue\", \"tongue\", \"tongue\", \"tongue\", \"torment\", \"torment\", \"torment\", \"torture\", \"torture\", \"touch\", \"touch\", \"touch\", \"touch\", \"translate\", \"travel\", \"travel\", \"travel\", \"trespass\", \"trespass\", \"trifle\", \"true\", \"true\", \"true\", \"true\", \"true\", \"true\", \"true\", \"true\", \"true\", \"true\", \"true\", \"true\", \"truly\", \"truly\", \"truly\", \"truth\", \"truth\", \"truth\", \"truth\", \"truth\", \"truth\", \"truth\", \"tune\", \"tune\", \"turn\", \"turn\", \"turn\", \"turn\", \"twain\", \"twain\", \"twain\", \"unkindness\", \"unkindness\", \"unknown\", \"unknown\", \"unrespected\", \"unrespected\", \"unseen\", \"unthrift\", \"unthrift\", \"untrue\", \"untrue\", \"use\", \"use\", \"use\", \"use\", \"use\", \"use\", \"use\", \"usurer\", \"usurer\", \"vainly\", \"vanish\", \"vantage\", \"vein\", \"vein\", \"verse\", \"verse\", \"verse\", \"verse\", \"verse\", \"verse\", \"verse\", \"verse\", \"vice\", \"vice\", \"victor\", \"victor\", \"vile\", \"vile\", \"violet\", \"violet\", \"vow\", \"vow\", \"vow\", \"vulgar\", \"vulgar\", \"vulgar\", \"wait\", \"wait\", \"wake\", \"wake\", \"wall\", \"wall\", \"wane\", \"wane\", \"war\", \"war\", \"war\", \"war\", \"war\", \"ward\", \"ward\", \"waste\", \"waste\", \"waste\", \"waste\", \"waste\", \"waste\", \"wasteful\", \"wasteful\", \"way\", \"way\", \"way\", \"way\", \"way\", \"way\", \"weak\", \"weak\", \"wealth\", \"wealth\", \"wealth\", \"wealth\", \"wealth\", \"wear\", \"wear\", \"weed\", \"weed\", \"weed\", \"weed\", \"well\", \"well\", \"well\", \"well\", \"well\", \"well\", \"well\", \"well\", \"well\", \"well\", \"well\", \"wert\", \"wert\", \"whereof\", \"whereof\", \"whilst\", \"whilst\", \"whilst\", \"whilst\", \"whilst\", \"whilst\", \"whilst\", \"whilst\", \"white\", \"white\", \"white\", \"white\", \"widow\", \"wilful\", \"wilful\", \"will\", \"will\", \"will\", \"wilt\", \"wilt\", \"wilt\", \"wilt\", \"wilt\", \"wilt\", \"wilt\", \"wilt\", \"wilt\", \"win\", \"win\", \"win\", \"wind\", \"wind\", \"wind\", \"wind\", \"window\", \"window\", \"wing\", \"wing\", \"winter\", \"winter\", \"winter\", \"winter\", \"winter\", \"winter\", \"wire\", \"wise\", \"wise\", \"wit\", \"wit\", \"wit\", \"wit\", \"wit\", \"wit\", \"witness\", \"witness\", \"woe\", \"woe\", \"woe\", \"woe\", \"woe\", \"woe\", \"woman\", \"wondrous\", \"woo\", \"woo\", \"wood\", \"word\", \"word\", \"word\", \"word\", \"word\", \"word\", \"word\", \"world\", \"world\", \"world\", \"world\", \"world\", \"world\", \"world\", \"world\", \"world\", \"world\", \"world\", \"worth\", \"worth\", \"worth\", \"worth\", \"worth\", \"worth\", \"worth\", \"worth\", \"worth\", \"worthless\", \"wouldst\", \"wouldst\", \"wouldst\", \"wound\", \"wound\", \"wound\", \"wound\", \"wretch\", \"wretch\", \"wretched\", \"wretched\", \"wrinkle\", \"wrinkle\", \"wrinkle\", \"writ\", \"writ\", \"writ\", \"writ\", \"writ\", \"write\", \"write\", \"write\", \"write\", \"write\", \"write\", \"write\", \"write\", \"wrong\", \"wrong\", \"wrong\", \"wrong\", \"wrong\", \"yellow\", \"yellow\", \"yield\", \"youth\", \"youth\", \"youth\", \"youth\", \"youth\", \"youth\", \"youth\", \"youth\", \"youthful\"]}, \"R\": 30, \"lambda.step\": 0.01, \"plot.opts\": {\"xlab\": \"PC1\", \"ylab\": \"PC2\"}, \"topic.order\": [20, 16, 4, 11, 1, 13, 7, 8, 15, 9, 10, 18, 14, 2, 5, 6, 17, 19, 3, 12]};\n",
              "\n",
              "function LDAvis_load_lib(url, callback){\n",
              "  var s = document.createElement('script');\n",
              "  s.src = url;\n",
              "  s.async = true;\n",
              "  s.onreadystatechange = s.onload = callback;\n",
              "  s.onerror = function(){console.warn(\"failed to load library \" + url);};\n",
              "  document.getElementsByTagName(\"head\")[0].appendChild(s);\n",
              "}\n",
              "\n",
              "if(typeof(LDAvis) !== \"undefined\"){\n",
              "   // already loaded: just create the visualization\n",
              "   !function(LDAvis){\n",
              "       new LDAvis(\"#\" + \"ldavis_el7051332322720670407185240788\", ldavis_el7051332322720670407185240788_data);\n",
              "   }(LDAvis);\n",
              "}else if(typeof define === \"function\" && define.amd){\n",
              "   // require.js is available: use it to load d3/LDAvis\n",
              "   require.config({paths: {d3: \"https://d3js.org/d3.v5\"}});\n",
              "   require([\"d3\"], function(d3){\n",
              "      window.d3 = d3;\n",
              "      LDAvis_load_lib(\"https://cdn.jsdelivr.net/gh/bmabey/pyLDAvis@3.4.0/pyLDAvis/js/ldavis.v3.0.0.js\", function(){\n",
              "        new LDAvis(\"#\" + \"ldavis_el7051332322720670407185240788\", ldavis_el7051332322720670407185240788_data);\n",
              "      });\n",
              "    });\n",
              "}else{\n",
              "    // require.js not available: dynamically load d3 & LDAvis\n",
              "    LDAvis_load_lib(\"https://d3js.org/d3.v5.js\", function(){\n",
              "         LDAvis_load_lib(\"https://cdn.jsdelivr.net/gh/bmabey/pyLDAvis@3.4.0/pyLDAvis/js/ldavis.v3.0.0.js\", function(){\n",
              "                 new LDAvis(\"#\" + \"ldavis_el7051332322720670407185240788\", ldavis_el7051332322720670407185240788_data);\n",
              "            })\n",
              "         });\n",
              "}\n",
              "</script>"
            ]
          },
          "metadata": {},
          "execution_count": 58
        }
      ]
    },
    {
      "cell_type": "markdown",
      "source": [
        "## Discussion"
      ],
      "metadata": {
        "id": "H-MnXaAaExKd"
      }
    },
    {
      "cell_type": "markdown",
      "source": [
        "Because the corpus chosen was so small (154 14-line poems), the topic model is not as expansive as it could be if the corpus was larger, and the topics that it creates are quite repetitive. However, certain patterns do emerge across these topics.\n",
        "\n",
        "Based on the topic model created from the *Sonnets* dataset, it seems that \"love\" is the most salient term across all of the sonnets, and that topics 1 and 2 are related to the word \"love.\" This is not a surprise, since we already know that many of the sonnets are about love. However, it is interesting that it recurs across so many different topics and alongside quite different words. Topic 1 also includes \"beauty,\" \"time,\" \"sweet,\" and \"old,\" and so seems to be words associated with affectionate love towards another person, or love towards something that is ephemeral. Topic 2, however, also includes \"know,\" \"eye,\" \"truth,\" and \"good.\" The \"love\" with which topic 2 is associated may be more of an intellectual or spiritual love, or one that is more nebulous, less directed towards a particular person or object. A further development of this project could be to explore these various associations with love that Shakespeare makes through a philosophical lens and to see how they are similar or different.\n",
        "\n",
        "Topics 15 and 18 are also interesting. These two topics are two of the most unique from the others, as we see in the visualization from the fact that they are towards the outside of the axes. Topic 18 does not include the word \"love\" at all but does include \"hate,\" and is one of the few topics to do so. Based on this topic, it appears that the left side of the axes are less associated with the word and idea of \"love.\" The most salient term for topic 15 is \"think,\" and other words include \"world\" and \"earth.\" \"Think\" is also associated with topic 2, which we could perhaps call intellectual love, whereas \"world\" and \"earth\" are not associated with topic 2 at all but are associated with topic 1, which we could perhaps call earthly or ephemeral love. Thus the distinction created by the two most salient topics holds as we examine other topics throughout the corpus.\n",
        "\n",
        "In short, even a cursory topic model analysis of Shakespeare's sonnets can reveal an interesting pattern, which is that there are different connotations to the word \"love\" as it is used across the poems. Exploring this difference further, especially in connection with philosophical analyses of love (I am thinking particularly of Spinoza), could be enlightening as to how Elizabethan conceptions of love varied across usage, and how they may be similar or different to how we understand the concept today."
      ],
      "metadata": {
        "id": "6PifBnSWE15X"
      }
    }
  ]
}