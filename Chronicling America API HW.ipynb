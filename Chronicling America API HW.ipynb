{
 "cells": [
  {
   "cell_type": "code",
   "execution_count": 11,
   "id": "506aae48",
   "metadata": {},
   "outputs": [],
   "source": [
    "import requests\n",
    "import json\n",
    "import math\n",
    "import pandas as pd\n",
    "import spacy"
   ]
  },
  {
   "cell_type": "code",
   "execution_count": 30,
   "id": "b2e0d11d",
   "metadata": {},
   "outputs": [],
   "source": [
    "# searching for \"cinema\" in New York between 1890 and 1963\n",
    "url = 'https://chroniclingamerica.loc.gov/search/pages/results/?state=New+York&date1=1890&date2=1963&proxtext=cinema&x=20&y=8&dateFilterType=yearRange&rows=20&searchType=basic&format=json'\n",
    "response = requests.get(url)\n",
    "raw = response.text\n",
    "results = json.loads(raw)"
   ]
  },
  {
   "cell_type": "code",
   "execution_count": 31,
   "id": "bd1e655e",
   "metadata": {},
   "outputs": [
    {
     "data": {
      "text/plain": [
       "dict_keys(['totalItems', 'endIndex', 'startIndex', 'itemsPerPage', 'items'])"
      ]
     },
     "execution_count": 31,
     "metadata": {},
     "output_type": "execute_result"
    }
   ],
   "source": [
    "results.keys()"
   ]
  },
  {
   "cell_type": "code",
   "execution_count": 32,
   "id": "9a6e66f6",
   "metadata": {},
   "outputs": [
    {
     "name": "stdout",
     "output_type": "stream",
     "text": [
      "{'sequence': 58, 'county': ['New York'], 'edition': None, 'frequency': 'Daily', 'id': '/lccn/sn83030214/1917-02-04/ed-1/seq-58/', 'subject': ['New York (N.Y.)--Newspapers.', 'New York (State)--New York County.--fast--(OCoLC)fst01234953', 'New York (State)--New York.--fast--(OCoLC)fst01204333', 'New York County (N.Y.)--Newspapers.'], 'city': ['New York'], 'date': '19170204', 'title': 'New-York tribune. [volume]', 'end_year': 1924, 'note': ['Also available in digital format on the Library of Congress website.', 'Archived issues are available in digital format as part of the Library of Congress Chronicling America online collection.', 'Available on microfilm from University Microfilms International, and Recordak.', 'Evening ed.: Evening edition of the tribune, 1866.', 'Merged with: New York herald (New York, N.Y. : 1920); to form: New York herald, New York tribune.', 'Semiweekly ed.: New-York tribune (New York, N.Y. : 1866 : Semiweekly), 1866-<1899>.', 'Triweekly eds.: New-York tri-weekly tribune, <1900>-1903, and: New York tribune (New York, N.Y. : 1903), 1903-<1909>.', 'Weekly ed.: New-York tribune (New York, N.Y. : 1866 : Weekly), 1866-<1906>.'], 'state': ['New York'], 'section_label': '', 'type': 'page', 'place_of_publication': 'New York [N.Y.]', 'start_year': 1866, 'edition_label': '', 'publisher': 'New York Tribune', 'language': ['English'], 'alt_title': ['Combined New York morning newspapers', 'Combined New York Sunday newspapers', 'New-York daily tribune'], 'lccn': 'sn83030214', 'country': 'New York', 'ocr_eng': 'NhW YORK lRlBUNb\\nFEBRUARY 4.\\nI\\n*\\nGeraldine\\nFarrar adds\\nan achieve?\\nment to her\\ncinema\\ncareer in\\n\"Joan the\\nWoman, a\\nfilm story of\\nthe life of\\nJoan of Arc.\\nJoan prays for strength to break the Governor\\'s sword.\\n?\\nJoan is made commander in chief of the armies of France.\\nJoan tells Eric Trent that her love belongs to God and France.\\nJoan is captured and insulted by the English soldiers.\\nJoan is taken before the Bishop for trial.\\nJoan watches her executioner light the fagots.\\nm\\nwm\\nJ', 'batch': 'dlc_thompson_ver01', 'title_normal': 'new-york tribune.', 'url': 'https://chroniclingamerica.loc.gov/lccn/sn83030214/1917-02-04/ed-1/seq-58.json', 'place': ['New York--New York--New York'], 'page': ''}\n"
     ]
    }
   ],
   "source": [
    "print(results['items'][0])"
   ]
  },
  {
   "cell_type": "code",
   "execution_count": 33,
   "id": "a40588f0",
   "metadata": {},
   "outputs": [
    {
     "name": "stdout",
     "output_type": "stream",
     "text": [
      "Total items: 2953\n",
      "End index: 20\n",
      "Start index: 1\n",
      "Items per page: 20\n",
      "Length and type of items: 20 <class 'list'>\n"
     ]
    }
   ],
   "source": [
    "print('Total items:', results['totalItems'])\n",
    "print('End index:', results['endIndex'])\n",
    "print('Start index:', results['startIndex'])\n",
    "print('Items per page:', results['itemsPerPage'])\n",
    "print('Length and type of items:', len(results['items']), type(results['items']))"
   ]
  },
  {
   "cell_type": "code",
   "execution_count": 34,
   "id": "631395de",
   "metadata": {},
   "outputs": [
    {
     "name": "stdout",
     "output_type": "stream",
     "text": [
      "148\n"
     ]
    }
   ],
   "source": [
    "total_pages = math.ceil(results['totalItems'] / results['itemsPerPage'])\n",
    "print(total_pages)"
   ]
  },
  {
   "cell_type": "code",
   "execution_count": 35,
   "id": "a1da8f89",
   "metadata": {},
   "outputs": [],
   "source": [
    "data = []"
   ]
  },
  {
   "cell_type": "code",
   "execution_count": 38,
   "id": "4ea03f5e",
   "metadata": {},
   "outputs": [],
   "source": [
    "start_date = '1890'\n",
    "end_date = '1963'\n",
    "search_term = 'cinema'\n",
    "state = 'New York'"
   ]
  },
  {
   "cell_type": "code",
   "execution_count": 39,
   "id": "2eaa65f2",
   "metadata": {},
   "outputs": [
    {
     "name": "stdout",
     "output_type": "stream",
     "text": [
      "page 1 status code: 200\n",
      "page 2 status code: 200\n",
      "page 3 status code: 200\n",
      "page 4 status code: 200\n",
      "page 5 status code: 200\n",
      "page 6 status code: 200\n",
      "page 7 status code: 200\n",
      "page 8 status code: 200\n",
      "page 9 status code: 200\n",
      "page 10 status code: 200\n"
     ]
    }
   ],
   "source": [
    "for i in range(1, 11):  # for sake of time I'm doing only 10, you will want to put total_pages+1\n",
    "    url = (f'https://chroniclingamerica.loc.gov/search/pages/results/?state={state}&date1={start_date}'\n",
    "           f'&date2={end_date}&proxtext={search_term}&x=16&y=8&dateFilterType=yearRange&rows=20'\n",
    "           f'&searchType=basic&format=json&page={i}')  # f-string\n",
    "    response = requests.get(url)\n",
    "    raw = response.text\n",
    "    print(f'page {i} status code:', response.status_code)  # checking for errors\n",
    "    results = json.loads(raw)\n",
    "    items_ = results['items']\n",
    "    for item_ in items_:\n",
    "        row_data = {}\n",
    "        try:\n",
    "          row_data['title'] = item_['title_normal']\n",
    "        except:\n",
    "          row_data['title'] = \"none\"\n",
    "        try:\n",
    "          row_data['city'] = item_['city']\n",
    "        except:\n",
    "          row_data['city'] = \"none\"\n",
    "        try:\n",
    "          row_data['date'] = item_['date']\n",
    "        except:\n",
    "          row_data['date'] = \"none\"\n",
    "        try:\n",
    "          row_data['raw_text'] = item_['ocr_eng']\n",
    "        except:\n",
    "          row_data['raw_text'] = 'none'\n",
    "    data.append(row_data)"
   ]
  },
  {
   "cell_type": "code",
   "execution_count": 43,
   "id": "37723a9d",
   "metadata": {},
   "outputs": [],
   "source": [
    "df = pd.DataFrame.from_dict(data)"
   ]
  },
  {
   "cell_type": "code",
   "execution_count": 44,
   "id": "b2728335",
   "metadata": {},
   "outputs": [
    {
     "data": {
      "text/html": [
       "<div>\n",
       "<style scoped>\n",
       "    .dataframe tbody tr th:only-of-type {\n",
       "        vertical-align: middle;\n",
       "    }\n",
       "\n",
       "    .dataframe tbody tr th {\n",
       "        vertical-align: top;\n",
       "    }\n",
       "\n",
       "    .dataframe thead th {\n",
       "        text-align: right;\n",
       "    }\n",
       "</style>\n",
       "<table border=\"1\" class=\"dataframe\">\n",
       "  <thead>\n",
       "    <tr style=\"text-align: right;\">\n",
       "      <th></th>\n",
       "      <th>title</th>\n",
       "      <th>city</th>\n",
       "      <th>date</th>\n",
       "      <th>raw_text</th>\n",
       "    </tr>\n",
       "  </thead>\n",
       "  <tbody>\n",
       "    <tr>\n",
       "      <th>0</th>\n",
       "      <td>opinión.</td>\n",
       "      <td>[Los Angeles]</td>\n",
       "      <td>19370117</td>\n",
       "      <td>none</td>\n",
       "    </tr>\n",
       "    <tr>\n",
       "      <th>1</th>\n",
       "      <td>opinión.</td>\n",
       "      <td>[Los Angeles]</td>\n",
       "      <td>19321030</td>\n",
       "      <td>none</td>\n",
       "    </tr>\n",
       "    <tr>\n",
       "      <th>2</th>\n",
       "      <td>opinión.</td>\n",
       "      <td>[Los Angeles]</td>\n",
       "      <td>19420104</td>\n",
       "      <td>none</td>\n",
       "    </tr>\n",
       "    <tr>\n",
       "      <th>3</th>\n",
       "      <td>opinión.</td>\n",
       "      <td>[Los Angeles]</td>\n",
       "      <td>19380213</td>\n",
       "      <td>none</td>\n",
       "    </tr>\n",
       "    <tr>\n",
       "      <th>4</th>\n",
       "      <td>opinión.</td>\n",
       "      <td>[Los Angeles]</td>\n",
       "      <td>19310308</td>\n",
       "      <td>none</td>\n",
       "    </tr>\n",
       "  </tbody>\n",
       "</table>\n",
       "</div>"
      ],
      "text/plain": [
       "       title           city      date raw_text\n",
       "0  opinión.  [Los Angeles]  19370117     none\n",
       "1  opinión.  [Los Angeles]  19321030     none\n",
       "2  opinión.  [Los Angeles]  19420104     none\n",
       "3  opinión.  [Los Angeles]  19380213     none\n",
       "4  opinión.  [Los Angeles]  19310308     none"
      ]
     },
     "execution_count": 44,
     "metadata": {},
     "output_type": "execute_result"
    }
   ],
   "source": [
    "df.head()"
   ]
  },
  {
   "cell_type": "code",
   "execution_count": 45,
   "id": "488630eb",
   "metadata": {},
   "outputs": [],
   "source": [
    "df['date'] = pd.to_datetime(df['date'])"
   ]
  },
  {
   "cell_type": "code",
   "execution_count": 46,
   "id": "a86d3daa",
   "metadata": {},
   "outputs": [],
   "source": [
    "df = df.sort_values(by='date')"
   ]
  },
  {
   "cell_type": "code",
   "execution_count": 47,
   "id": "f7c2c7fb",
   "metadata": {},
   "outputs": [
    {
     "data": {
      "text/html": [
       "<div>\n",
       "<style scoped>\n",
       "    .dataframe tbody tr th:only-of-type {\n",
       "        vertical-align: middle;\n",
       "    }\n",
       "\n",
       "    .dataframe tbody tr th {\n",
       "        vertical-align: top;\n",
       "    }\n",
       "\n",
       "    .dataframe thead th {\n",
       "        text-align: right;\n",
       "    }\n",
       "</style>\n",
       "<table border=\"1\" class=\"dataframe\">\n",
       "  <thead>\n",
       "    <tr style=\"text-align: right;\">\n",
       "      <th></th>\n",
       "      <th>title</th>\n",
       "      <th>city</th>\n",
       "      <th>date</th>\n",
       "      <th>raw_text</th>\n",
       "    </tr>\n",
       "  </thead>\n",
       "  <tbody>\n",
       "    <tr>\n",
       "      <th>17</th>\n",
       "      <td>new-york tribune.</td>\n",
       "      <td>[New York]</td>\n",
       "      <td>1909-06-27</td>\n",
       "      <td>4\\nE. B. BALDWINS PLAN TO DRIFT ACROSS THE ARC...</td>\n",
       "    </tr>\n",
       "    <tr>\n",
       "      <th>10</th>\n",
       "      <td>sun and the new york herald.</td>\n",
       "      <td>[New York]</td>\n",
       "      <td>1920-03-21</td>\n",
       "      <td>THE SUN AND NEW YORK HERALD, SUNDAY, MARCH T!t...</td>\n",
       "    </tr>\n",
       "    <tr>\n",
       "      <th>7</th>\n",
       "      <td>imperial valley press.</td>\n",
       "      <td>[El Centro]</td>\n",
       "      <td>1920-07-29</td>\n",
       "      <td>4\\nPut Your Faith—\\nand Ice-—ln Ata\\nAUTOMATIC...</td>\n",
       "    </tr>\n",
       "    <tr>\n",
       "      <th>11</th>\n",
       "      <td>new-york tribune.</td>\n",
       "      <td>[New York]</td>\n",
       "      <td>1922-01-08</td>\n",
       "      <td>p=H_S^\\n\"OUR MARY\" VTEL.\\nCOMED HOME. Thou\\nsa...</td>\n",
       "    </tr>\n",
       "    <tr>\n",
       "      <th>13</th>\n",
       "      <td>new-york tribune.</td>\n",
       "      <td>[New York]</td>\n",
       "      <td>1922-02-26</td>\n",
       "      <td>V 1NKAR DOZKN STKATOIN I HIA TKICAL l \\R(,E I ...</td>\n",
       "    </tr>\n",
       "  </tbody>\n",
       "</table>\n",
       "</div>"
      ],
      "text/plain": [
       "                           title         city       date  \\\n",
       "17             new-york tribune.   [New York] 1909-06-27   \n",
       "10  sun and the new york herald.   [New York] 1920-03-21   \n",
       "7         imperial valley press.  [El Centro] 1920-07-29   \n",
       "11             new-york tribune.   [New York] 1922-01-08   \n",
       "13             new-york tribune.   [New York] 1922-02-26   \n",
       "\n",
       "                                             raw_text  \n",
       "17  4\\nE. B. BALDWINS PLAN TO DRIFT ACROSS THE ARC...  \n",
       "10  THE SUN AND NEW YORK HERALD, SUNDAY, MARCH T!t...  \n",
       "7   4\\nPut Your Faith—\\nand Ice-—ln Ata\\nAUTOMATIC...  \n",
       "11  p=H_S^\\n\"OUR MARY\" VTEL.\\nCOMED HOME. Thou\\nsa...  \n",
       "13  V 1NKAR DOZKN STKATOIN I HIA TKICAL l \\R(,E I ...  "
      ]
     },
     "execution_count": 47,
     "metadata": {},
     "output_type": "execute_result"
    }
   ],
   "source": [
    "df.head()"
   ]
  },
  {
   "cell_type": "code",
   "execution_count": 48,
   "id": "599f2e98",
   "metadata": {},
   "outputs": [],
   "source": [
    "nlp = spacy.load(\"en_core_web_sm\")\n",
    "nlp.disable_pipes('ner', 'parser')  # these are unnecessary for the task at hand\n",
    "\n",
    "def process_text(text):\n",
    "    \"\"\"Remove new line characters and lemmatize text. Returns string of lemmas\"\"\"\n",
    "    text = text.replace('\\n', ' ')\n",
    "    doc = nlp(text)\n",
    "    tokens = [token for token in doc]\n",
    "    no_stops = [token for token in tokens if not token.is_stop]\n",
    "    no_punct = [token for token in no_stops if token.is_alpha]\n",
    "    lemmas = [token.lemma_ for token in no_punct]\n",
    "    lemmas_lower = [lemma.lower() for lemma in lemmas]\n",
    "    lemmas_string = ' '.join(lemmas_lower)\n",
    "    return lemmas_string"
   ]
  },
  {
   "cell_type": "code",
   "execution_count": 49,
   "id": "4735d210",
   "metadata": {},
   "outputs": [],
   "source": [
    "df['lemmas'] = df['raw_text'].apply(process_text)"
   ]
  },
  {
   "cell_type": "code",
   "execution_count": 50,
   "id": "babf486f",
   "metadata": {},
   "outputs": [
    {
     "data": {
      "text/html": [
       "<div>\n",
       "<style scoped>\n",
       "    .dataframe tbody tr th:only-of-type {\n",
       "        vertical-align: middle;\n",
       "    }\n",
       "\n",
       "    .dataframe tbody tr th {\n",
       "        vertical-align: top;\n",
       "    }\n",
       "\n",
       "    .dataframe thead th {\n",
       "        text-align: right;\n",
       "    }\n",
       "</style>\n",
       "<table border=\"1\" class=\"dataframe\">\n",
       "  <thead>\n",
       "    <tr style=\"text-align: right;\">\n",
       "      <th></th>\n",
       "      <th>title</th>\n",
       "      <th>city</th>\n",
       "      <th>date</th>\n",
       "      <th>raw_text</th>\n",
       "      <th>lemmas</th>\n",
       "    </tr>\n",
       "  </thead>\n",
       "  <tbody>\n",
       "    <tr>\n",
       "      <th>17</th>\n",
       "      <td>new-york tribune.</td>\n",
       "      <td>[New York]</td>\n",
       "      <td>1909-06-27</td>\n",
       "      <td>4\\nE. B. BALDWINS PLAN TO DRIFT ACROSS THE ARC...</td>\n",
       "      <td>baldwins plan drift arctic ocean camped ice pa...</td>\n",
       "    </tr>\n",
       "    <tr>\n",
       "      <th>10</th>\n",
       "      <td>sun and the new york herald.</td>\n",
       "      <td>[New York]</td>\n",
       "      <td>1920-03-21</td>\n",
       "      <td>THE SUN AND NEW YORK HERALD, SUNDAY, MARCH T!t...</td>\n",
       "      <td>sun new york herald sunday march great sportin...</td>\n",
       "    </tr>\n",
       "    <tr>\n",
       "      <th>7</th>\n",
       "      <td>imperial valley press.</td>\n",
       "      <td>[El Centro]</td>\n",
       "      <td>1920-07-29</td>\n",
       "      <td>4\\nPut Your Faith—\\nand Ice-—ln Ata\\nAUTOMATIC...</td>\n",
       "      <td>faith ata automatic refrigerator tjte patent j...</td>\n",
       "    </tr>\n",
       "    <tr>\n",
       "      <th>11</th>\n",
       "      <td>new-york tribune.</td>\n",
       "      <td>[New York]</td>\n",
       "      <td>1922-01-08</td>\n",
       "      <td>p=H_S^\\n\"OUR MARY\" VTEL.\\nCOMED HOME. Thou\\nsa...</td>\n",
       "      <td>p mary vtel comed home thou sand person jam l ...</td>\n",
       "    </tr>\n",
       "    <tr>\n",
       "      <th>13</th>\n",
       "      <td>new-york tribune.</td>\n",
       "      <td>[New York]</td>\n",
       "      <td>1922-02-26</td>\n",
       "      <td>V 1NKAR DOZKN STKATOIN I HIA TKICAL l \\R(,E I ...</td>\n",
       "      <td>v dozkn stkatoin hia tkical l s sanderson amnu...</td>\n",
       "    </tr>\n",
       "  </tbody>\n",
       "</table>\n",
       "</div>"
      ],
      "text/plain": [
       "                           title         city       date  \\\n",
       "17             new-york tribune.   [New York] 1909-06-27   \n",
       "10  sun and the new york herald.   [New York] 1920-03-21   \n",
       "7         imperial valley press.  [El Centro] 1920-07-29   \n",
       "11             new-york tribune.   [New York] 1922-01-08   \n",
       "13             new-york tribune.   [New York] 1922-02-26   \n",
       "\n",
       "                                             raw_text  \\\n",
       "17  4\\nE. B. BALDWINS PLAN TO DRIFT ACROSS THE ARC...   \n",
       "10  THE SUN AND NEW YORK HERALD, SUNDAY, MARCH T!t...   \n",
       "7   4\\nPut Your Faith—\\nand Ice-—ln Ata\\nAUTOMATIC...   \n",
       "11  p=H_S^\\n\"OUR MARY\" VTEL.\\nCOMED HOME. Thou\\nsa...   \n",
       "13  V 1NKAR DOZKN STKATOIN I HIA TKICAL l \\R(,E I ...   \n",
       "\n",
       "                                               lemmas  \n",
       "17  baldwins plan drift arctic ocean camped ice pa...  \n",
       "10  sun new york herald sunday march great sportin...  \n",
       "7   faith ata automatic refrigerator tjte patent j...  \n",
       "11  p mary vtel comed home thou sand person jam l ...  \n",
       "13  v dozkn stkatoin hia tkical l s sanderson amnu...  "
      ]
     },
     "execution_count": 50,
     "metadata": {},
     "output_type": "execute_result"
    }
   ],
   "source": [
    "df.head()"
   ]
  },
  {
   "cell_type": "code",
   "execution_count": 51,
   "id": "d0ebf240",
   "metadata": {},
   "outputs": [],
   "source": [
    "df.to_csv(f'{search_term}{start_date}-{end_date}.csv', index=False)"
   ]
  },
  {
   "cell_type": "code",
   "execution_count": null,
   "id": "0a1ba93f",
   "metadata": {},
   "outputs": [],
   "source": []
  }
 ],
 "metadata": {
  "kernelspec": {
   "display_name": "Python 3 (ipykernel)",
   "language": "python",
   "name": "python3"
  },
  "language_info": {
   "codemirror_mode": {
    "name": "ipython",
    "version": 3
   },
   "file_extension": ".py",
   "mimetype": "text/x-python",
   "name": "python",
   "nbconvert_exporter": "python",
   "pygments_lexer": "ipython3",
   "version": "3.11.4"
  }
 },
 "nbformat": 4,
 "nbformat_minor": 5
}
