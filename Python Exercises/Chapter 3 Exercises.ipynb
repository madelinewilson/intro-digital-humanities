{
 "cells": [
  {
   "cell_type": "markdown",
   "id": "b7be4a7a",
   "metadata": {},
   "source": [
    "# Chapter 3 HW"
   ]
  },
  {
   "cell_type": "markdown",
   "id": "5104984b",
   "metadata": {},
   "source": [
    "## 3.1"
   ]
  },
  {
   "cell_type": "code",
   "execution_count": 1,
   "id": "2cba9023",
   "metadata": {},
   "outputs": [],
   "source": [
    "friends = ['Maddy', 'Dahlia', 'Sabrina']"
   ]
  },
  {
   "cell_type": "code",
   "execution_count": 4,
   "id": "1f26629e",
   "metadata": {},
   "outputs": [
    {
     "name": "stdout",
     "output_type": "stream",
     "text": [
      "Maddy\n",
      "Dahlia\n",
      "Sabrina\n"
     ]
    }
   ],
   "source": [
    "print(friends[0])\n",
    "print(friends[1])\n",
    "print(friends[2])"
   ]
  },
  {
   "cell_type": "markdown",
   "id": "78aa0837",
   "metadata": {},
   "source": [
    "## 3.2"
   ]
  },
  {
   "cell_type": "code",
   "execution_count": 6,
   "id": "f5f9be93",
   "metadata": {},
   "outputs": [
    {
     "name": "stdout",
     "output_type": "stream",
     "text": [
      "Maddy is me\n",
      "Dahlia is my roommate\n",
      "Sabrina is also my roommate\n"
     ]
    }
   ],
   "source": [
    "print(friends[0] + \" is me\")\n",
    "print(friends[1] + \" is my roommate\")\n",
    "print(friends[2] + \" is also my roommate\")"
   ]
  },
  {
   "cell_type": "markdown",
   "id": "5b4a92ea",
   "metadata": {},
   "source": [
    "## 3.2"
   ]
  },
  {
   "cell_type": "code",
   "execution_count": 7,
   "id": "3a5b8923",
   "metadata": {},
   "outputs": [],
   "source": [
    "transport = ['new bike', 'Volkswagen Golf', 'Vespa']"
   ]
  },
  {
   "cell_type": "code",
   "execution_count": 8,
   "id": "ce030ed0",
   "metadata": {},
   "outputs": [
    {
     "name": "stdout",
     "output_type": "stream",
     "text": [
      "I want a new bike\n",
      "My mom drives a Volkswagen Golf\n",
      "I would like to drive a Vespa\n"
     ]
    }
   ],
   "source": [
    "print(\"I want a \" + transport[0])\n",
    "print(\"My mom drives a \" + transport[1])\n",
    "print(\"I would like to drive a \" + transport[2])"
   ]
  },
  {
   "cell_type": "markdown",
   "id": "542f3a3f",
   "metadata": {},
   "source": [
    "## 3.4"
   ]
  },
  {
   "cell_type": "code",
   "execution_count": 1,
   "id": "8852b8ad",
   "metadata": {},
   "outputs": [],
   "source": [
    "dinner = ['Susan Sontag', 'Virginia Woolf', 'Sylvia Plath']"
   ]
  },
  {
   "cell_type": "code",
   "execution_count": 3,
   "id": "923ae820",
   "metadata": {},
   "outputs": [
    {
     "name": "stdout",
     "output_type": "stream",
     "text": [
      "Susan Sontag, please come to dinner at my house.\n"
     ]
    }
   ],
   "source": [
    "print(dinner[0] + \", please come to dinner at my house.\")"
   ]
  },
  {
   "cell_type": "code",
   "execution_count": 4,
   "id": "74bdbe67",
   "metadata": {},
   "outputs": [
    {
     "name": "stdout",
     "output_type": "stream",
     "text": [
      "Virginia Woolf, please come to dinner at my house.\n",
      "Sylvia Plath, please come to dinner at my house.\n"
     ]
    }
   ],
   "source": [
    "print(dinner[1] + \", please come to dinner at my house.\")\n",
    "print(dinner[2] + \", please come to dinner at my house.\")"
   ]
  },
  {
   "cell_type": "markdown",
   "id": "29a947eb",
   "metadata": {},
   "source": [
    "## 3.5"
   ]
  },
  {
   "cell_type": "code",
   "execution_count": 5,
   "id": "74bb7851",
   "metadata": {},
   "outputs": [
    {
     "name": "stdout",
     "output_type": "stream",
     "text": [
      "Sylvia Plath can't make it.\n"
     ]
    }
   ],
   "source": [
    "print(dinner[2] + \" can't make it.\")"
   ]
  },
  {
   "cell_type": "code",
   "execution_count": 6,
   "id": "98ae3b53",
   "metadata": {},
   "outputs": [
    {
     "name": "stdout",
     "output_type": "stream",
     "text": [
      "['Susan Sontag', 'Virginia Woolf', 'Lady Gaga']\n"
     ]
    }
   ],
   "source": [
    "dinner[2] = \"Lady Gaga\"\n",
    "print(dinner)"
   ]
  },
  {
   "cell_type": "code",
   "execution_count": 7,
   "id": "5e3e0fed",
   "metadata": {},
   "outputs": [
    {
     "name": "stdout",
     "output_type": "stream",
     "text": [
      "Susan Sontag, please come to dinner at my house.\n",
      "Virginia Woolf, please come to dinner at my house.\n",
      "Lady Gaga, please come to dinner at my house.\n"
     ]
    }
   ],
   "source": [
    "print(dinner[0] + \", please come to dinner at my house.\")\n",
    "print(dinner[1] + \", please come to dinner at my house.\")\n",
    "print(dinner[2] + \", please come to dinner at my house.\")"
   ]
  },
  {
   "cell_type": "markdown",
   "id": "fbf6544f",
   "metadata": {},
   "source": [
    "## 3.6"
   ]
  },
  {
   "cell_type": "code",
   "execution_count": 8,
   "id": "a661b013",
   "metadata": {},
   "outputs": [
    {
     "name": "stdout",
     "output_type": "stream",
     "text": [
      "We found a bigger table!\n"
     ]
    }
   ],
   "source": [
    "print(\"We found a bigger table!\")"
   ]
  },
  {
   "cell_type": "code",
   "execution_count": 10,
   "id": "2d87156a",
   "metadata": {},
   "outputs": [],
   "source": [
    "dinner.insert(0, \"Larry David\")"
   ]
  },
  {
   "cell_type": "code",
   "execution_count": 11,
   "id": "abc1742c",
   "metadata": {},
   "outputs": [],
   "source": [
    "dinner.insert(2, \"Marcel Proust\")"
   ]
  },
  {
   "cell_type": "code",
   "execution_count": 12,
   "id": "b2788bfe",
   "metadata": {},
   "outputs": [],
   "source": [
    "dinner.append(\"Joan of Arc\")"
   ]
  },
  {
   "cell_type": "code",
   "execution_count": 13,
   "id": "6b458bbb",
   "metadata": {},
   "outputs": [
    {
     "name": "stdout",
     "output_type": "stream",
     "text": [
      "Larry David, please come to dinner at my house.\n",
      "Susan Sontag, please come to dinner at my house.\n",
      "Marcel Proust, please come to dinner at my house.\n",
      "Virginia Woolf, please come to dinner at my house.\n",
      "Lady Gaga, please come to dinner at my house.\n",
      "Joan of Arc, please come to dinner at my house.\n"
     ]
    }
   ],
   "source": [
    "print(dinner[0] + \", please come to dinner at my house.\")\n",
    "print(dinner[1] + \", please come to dinner at my house.\")\n",
    "print(dinner[2] + \", please come to dinner at my house.\")\n",
    "print(dinner[3] + \", please come to dinner at my house.\")\n",
    "print(dinner[4] + \", please come to dinner at my house.\")\n",
    "print(dinner[5] + \", please come to dinner at my house.\")"
   ]
  },
  {
   "cell_type": "markdown",
   "id": "4464e257",
   "metadata": {},
   "source": [
    "## 3.7"
   ]
  },
  {
   "cell_type": "code",
   "execution_count": 15,
   "id": "572bee8f",
   "metadata": {},
   "outputs": [
    {
     "name": "stdout",
     "output_type": "stream",
     "text": [
      "The table won't be here in time!\n"
     ]
    }
   ],
   "source": [
    "print(\"The table won't be here in time!\")"
   ]
  },
  {
   "cell_type": "code",
   "execution_count": 16,
   "id": "e4b3f63b",
   "metadata": {},
   "outputs": [],
   "source": [
    "new_dinner = dinner.pop()"
   ]
  },
  {
   "cell_type": "code",
   "execution_count": 17,
   "id": "1a407eb5",
   "metadata": {
    "scrolled": true
   },
   "outputs": [
    {
     "name": "stdout",
     "output_type": "stream",
     "text": [
      "['Larry David', 'Susan Sontag', 'Marcel Proust', 'Virginia Woolf', 'Lady Gaga']\n"
     ]
    }
   ],
   "source": [
    "print(dinner)"
   ]
  },
  {
   "cell_type": "code",
   "execution_count": 19,
   "id": "5557f157",
   "metadata": {},
   "outputs": [
    {
     "name": "stdout",
     "output_type": "stream",
     "text": [
      "Joan of Arc, you have been uninvited.\n"
     ]
    }
   ],
   "source": [
    "print(new_dinner + \", you have been uninvited.\")"
   ]
  },
  {
   "cell_type": "code",
   "execution_count": 22,
   "id": "7cf12b58",
   "metadata": {},
   "outputs": [],
   "source": [
    "new_dinner = dinner.pop()"
   ]
  },
  {
   "cell_type": "code",
   "execution_count": 23,
   "id": "e1060c9c",
   "metadata": {},
   "outputs": [
    {
     "name": "stdout",
     "output_type": "stream",
     "text": [
      "Lady Gaga, you have been uninvited.\n"
     ]
    }
   ],
   "source": [
    "print(new_dinner + \", you have been uninvited.\")"
   ]
  },
  {
   "cell_type": "code",
   "execution_count": 24,
   "id": "f62a6bc4",
   "metadata": {},
   "outputs": [],
   "source": [
    "new_dinner = dinner.pop()"
   ]
  },
  {
   "cell_type": "code",
   "execution_count": 25,
   "id": "ccd8d6d3",
   "metadata": {},
   "outputs": [
    {
     "name": "stdout",
     "output_type": "stream",
     "text": [
      "Virginia Woolf, you have been uninvited.\n"
     ]
    }
   ],
   "source": [
    "print(new_dinner + \", you have been uninvited.\")"
   ]
  },
  {
   "cell_type": "code",
   "execution_count": 26,
   "id": "e29f02ad",
   "metadata": {},
   "outputs": [],
   "source": [
    "new_dinner = dinner.pop()"
   ]
  },
  {
   "cell_type": "code",
   "execution_count": 27,
   "id": "006e7f36",
   "metadata": {},
   "outputs": [
    {
     "name": "stdout",
     "output_type": "stream",
     "text": [
      "Marcel Proust, you have been uninvited.\n"
     ]
    }
   ],
   "source": [
    "print(new_dinner + \", you have been uninvited.\")"
   ]
  },
  {
   "cell_type": "code",
   "execution_count": 28,
   "id": "fbe55783",
   "metadata": {},
   "outputs": [
    {
     "data": {
      "text/plain": [
       "['Larry David', 'Susan Sontag']"
      ]
     },
     "execution_count": 28,
     "metadata": {},
     "output_type": "execute_result"
    }
   ],
   "source": [
    "dinner"
   ]
  },
  {
   "cell_type": "code",
   "execution_count": 29,
   "id": "eb0373ce",
   "metadata": {},
   "outputs": [
    {
     "name": "stdout",
     "output_type": "stream",
     "text": [
      "Larry David, you can join me at my table.\n"
     ]
    }
   ],
   "source": [
    "print(dinner[0] + \", you can join me at my table.\")"
   ]
  },
  {
   "cell_type": "code",
   "execution_count": 30,
   "id": "060a73a7",
   "metadata": {},
   "outputs": [
    {
     "name": "stdout",
     "output_type": "stream",
     "text": [
      "Susan Sontag, you can join me at my table.\n"
     ]
    }
   ],
   "source": [
    "print(dinner[1] + \", you can join me at my table.\")"
   ]
  },
  {
   "cell_type": "code",
   "execution_count": 32,
   "id": "d413a01b",
   "metadata": {},
   "outputs": [
    {
     "name": "stdout",
     "output_type": "stream",
     "text": [
      "[]\n"
     ]
    }
   ],
   "source": [
    "del dinner[0]\n",
    "print(dinner)"
   ]
  },
  {
   "cell_type": "markdown",
   "id": "eb0f6f3b",
   "metadata": {},
   "source": [
    "## 3.8"
   ]
  },
  {
   "cell_type": "code",
   "execution_count": 1,
   "id": "0cb5dc09",
   "metadata": {},
   "outputs": [],
   "source": [
    "visit = ['Mexico City', 'Tokyo', 'Normandy', 'Sydney', 'Copenhagen']"
   ]
  },
  {
   "cell_type": "code",
   "execution_count": 2,
   "id": "88420d6b",
   "metadata": {},
   "outputs": [
    {
     "name": "stdout",
     "output_type": "stream",
     "text": [
      "['Mexico City', 'Tokyo', 'Normandy', 'Sydney', 'Copenhagen']\n"
     ]
    }
   ],
   "source": [
    "print(visit)"
   ]
  },
  {
   "cell_type": "code",
   "execution_count": 3,
   "id": "6d449f26",
   "metadata": {},
   "outputs": [
    {
     "name": "stdout",
     "output_type": "stream",
     "text": [
      "['Copenhagen', 'Mexico City', 'Normandy', 'Sydney', 'Tokyo']\n"
     ]
    }
   ],
   "source": [
    "print(sorted(visit))"
   ]
  },
  {
   "cell_type": "code",
   "execution_count": 5,
   "id": "85c48ae5",
   "metadata": {},
   "outputs": [
    {
     "name": "stdout",
     "output_type": "stream",
     "text": [
      "['Mexico City', 'Tokyo', 'Normandy', 'Sydney', 'Copenhagen']\n"
     ]
    }
   ],
   "source": [
    "print(visit)"
   ]
  },
  {
   "cell_type": "code",
   "execution_count": 7,
   "id": "73e6eb6e",
   "metadata": {},
   "outputs": [
    {
     "data": {
      "text/plain": [
       "['Tokyo', 'Sydney', 'Normandy', 'Mexico City', 'Copenhagen']"
      ]
     },
     "execution_count": 7,
     "metadata": {},
     "output_type": "execute_result"
    }
   ],
   "source": [
    "sorted(visit, reverse=True)"
   ]
  },
  {
   "cell_type": "code",
   "execution_count": 8,
   "id": "2b32a305",
   "metadata": {},
   "outputs": [
    {
     "name": "stdout",
     "output_type": "stream",
     "text": [
      "['Mexico City', 'Tokyo', 'Normandy', 'Sydney', 'Copenhagen']\n"
     ]
    }
   ],
   "source": [
    "print(visit)"
   ]
  },
  {
   "cell_type": "code",
   "execution_count": 9,
   "id": "4183b830",
   "metadata": {},
   "outputs": [],
   "source": [
    "visit.reverse()"
   ]
  },
  {
   "cell_type": "code",
   "execution_count": 10,
   "id": "caa29384",
   "metadata": {},
   "outputs": [
    {
     "name": "stdout",
     "output_type": "stream",
     "text": [
      "['Copenhagen', 'Sydney', 'Normandy', 'Tokyo', 'Mexico City']\n"
     ]
    }
   ],
   "source": [
    "print(visit)"
   ]
  },
  {
   "cell_type": "code",
   "execution_count": 11,
   "id": "1ab982d2",
   "metadata": {},
   "outputs": [],
   "source": [
    "visit.reverse()"
   ]
  },
  {
   "cell_type": "code",
   "execution_count": 12,
   "id": "5f373778",
   "metadata": {},
   "outputs": [
    {
     "name": "stdout",
     "output_type": "stream",
     "text": [
      "['Mexico City', 'Tokyo', 'Normandy', 'Sydney', 'Copenhagen']\n"
     ]
    }
   ],
   "source": [
    "print(visit)"
   ]
  },
  {
   "cell_type": "code",
   "execution_count": 13,
   "id": "51061c9a",
   "metadata": {},
   "outputs": [
    {
     "name": "stdout",
     "output_type": "stream",
     "text": [
      "['Copenhagen', 'Mexico City', 'Normandy', 'Sydney', 'Tokyo']\n"
     ]
    }
   ],
   "source": [
    "visit.sort()\n",
    "print(visit)"
   ]
  },
  {
   "cell_type": "code",
   "execution_count": 14,
   "id": "9c3eee4a",
   "metadata": {},
   "outputs": [
    {
     "name": "stdout",
     "output_type": "stream",
     "text": [
      "['Tokyo', 'Sydney', 'Normandy', 'Mexico City', 'Copenhagen']\n"
     ]
    }
   ],
   "source": [
    "visit.sort(reverse=True)\n",
    "print(visit)"
   ]
  },
  {
   "cell_type": "code",
   "execution_count": null,
   "id": "dce6e66d",
   "metadata": {},
   "outputs": [],
   "source": []
  }
 ],
 "metadata": {
  "kernelspec": {
   "display_name": "Python 3 (ipykernel)",
   "language": "python",
   "name": "python3"
  },
  "language_info": {
   "codemirror_mode": {
    "name": "ipython",
    "version": 3
   },
   "file_extension": ".py",
   "mimetype": "text/x-python",
   "name": "python",
   "nbconvert_exporter": "python",
   "pygments_lexer": "ipython3",
   "version": "3.11.4"
  }
 },
 "nbformat": 4,
 "nbformat_minor": 5
}
