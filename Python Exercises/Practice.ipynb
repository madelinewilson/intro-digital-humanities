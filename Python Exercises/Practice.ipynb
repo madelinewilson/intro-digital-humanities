{
 "cells": [
  {
   "cell_type": "markdown",
   "id": "2b8569f0",
   "metadata": {},
   "source": [
    "This is my first jupyter notebook"
   ]
  },
  {
   "cell_type": "markdown",
   "id": "44d9de4e",
   "metadata": {},
   "source": [
    "# Heading 1"
   ]
  },
  {
   "cell_type": "markdown",
   "id": "b9f0daf7",
   "metadata": {},
   "source": [
    "## Heading 2"
   ]
  },
  {
   "cell_type": "code",
   "execution_count": 1,
   "id": "902bd7ab",
   "metadata": {},
   "outputs": [
    {
     "name": "stdout",
     "output_type": "stream",
     "text": [
      "Hello, World!\n"
     ]
    }
   ],
   "source": [
    "print(\"Hello, World!\")"
   ]
  },
  {
   "cell_type": "markdown",
   "id": "e943bccf",
   "metadata": {},
   "source": [
    "## Variables"
   ]
  },
  {
   "cell_type": "code",
   "execution_count": 2,
   "id": "50ef68e0",
   "metadata": {},
   "outputs": [],
   "source": [
    "greeting = \"Hello, World!\""
   ]
  },
  {
   "cell_type": "code",
   "execution_count": 3,
   "id": "b59dc66f",
   "metadata": {},
   "outputs": [
    {
     "name": "stdout",
     "output_type": "stream",
     "text": [
      "Hello, World!\n"
     ]
    }
   ],
   "source": [
    "print(greeting)"
   ]
  },
  {
   "cell_type": "code",
   "execution_count": 4,
   "id": "e7e22f43",
   "metadata": {},
   "outputs": [
    {
     "ename": "NameError",
     "evalue": "name 'greating' is not defined",
     "output_type": "error",
     "traceback": [
      "\u001b[0;31m---------------------------------------------------------------------------\u001b[0m",
      "\u001b[0;31mNameError\u001b[0m                                 Traceback (most recent call last)",
      "Cell \u001b[0;32mIn[4], line 1\u001b[0m\n\u001b[0;32m----> 1\u001b[0m \u001b[38;5;28mprint\u001b[39m(greating)\n",
      "\u001b[0;31mNameError\u001b[0m: name 'greating' is not defined"
     ]
    }
   ],
   "source": [
    "print(greating)"
   ]
  },
  {
   "cell_type": "code",
   "execution_count": 1,
   "id": "7e280ccd",
   "metadata": {},
   "outputs": [],
   "source": [
    "greeting = \"Goodbye, World!\""
   ]
  },
  {
   "cell_type": "code",
   "execution_count": 2,
   "id": "9a236e0b",
   "metadata": {},
   "outputs": [
    {
     "name": "stdout",
     "output_type": "stream",
     "text": [
      "Goodbye, World!\n"
     ]
    }
   ],
   "source": [
    "print(greeting)"
   ]
  },
  {
   "cell_type": "code",
   "execution_count": 3,
   "id": "55a10310",
   "metadata": {},
   "outputs": [],
   "source": [
    "historian = \"edward gibbon\""
   ]
  },
  {
   "cell_type": "code",
   "execution_count": 4,
   "id": "66c509eb",
   "metadata": {},
   "outputs": [
    {
     "name": "stdout",
     "output_type": "stream",
     "text": [
      "edward gibbon\n"
     ]
    }
   ],
   "source": [
    "print(historian)"
   ]
  },
  {
   "cell_type": "code",
   "execution_count": 5,
   "id": "ae201696",
   "metadata": {},
   "outputs": [
    {
     "name": "stdout",
     "output_type": "stream",
     "text": [
      "Edward Gibbon\n"
     ]
    }
   ],
   "source": [
    "print(historian.title())"
   ]
  },
  {
   "cell_type": "code",
   "execution_count": 6,
   "id": "0d1d003f",
   "metadata": {},
   "outputs": [],
   "source": [
    "novelist = \"Becky Chambers\""
   ]
  },
  {
   "cell_type": "code",
   "execution_count": 7,
   "id": "79071d00",
   "metadata": {},
   "outputs": [
    {
     "name": "stdout",
     "output_type": "stream",
     "text": [
      "Becky Chambers\n",
      "BECKY CHAMBERS\n",
      "becky chambers\n"
     ]
    }
   ],
   "source": [
    "print(novelist)\n",
    "print(novelist.upper())\n",
    "print(novelist.lower())\n"
   ]
  },
  {
   "cell_type": "code",
   "execution_count": null,
   "id": "4e825238",
   "metadata": {},
   "outputs": [],
   "source": []
  }
 ],
 "metadata": {
  "kernelspec": {
   "display_name": "Python 3 (ipykernel)",
   "language": "python",
   "name": "python3"
  },
  "language_info": {
   "codemirror_mode": {
    "name": "ipython",
    "version": 3
   },
   "file_extension": ".py",
   "mimetype": "text/x-python",
   "name": "python",
   "nbconvert_exporter": "python",
   "pygments_lexer": "ipython3",
   "version": "3.11.4"
  }
 },
 "nbformat": 4,
 "nbformat_minor": 5
}
