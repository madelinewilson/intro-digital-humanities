{
 "cells": [
  {
   "cell_type": "markdown",
   "id": "74465b71",
   "metadata": {},
   "source": [
    "# Chapter 8 HW"
   ]
  },
  {
   "cell_type": "markdown",
   "id": "f58aafdc",
   "metadata": {},
   "source": [
    "## 8.1"
   ]
  },
  {
   "cell_type": "code",
   "execution_count": 2,
   "id": "72012a97",
   "metadata": {},
   "outputs": [
    {
     "name": "stdout",
     "output_type": "stream",
     "text": [
      "I am learning about functions.\n"
     ]
    }
   ],
   "source": [
    "def display_message():\n",
    "    \"\"\"tells what I am learning about in this chapter\"\"\"\n",
    "    print(\"I am learning about functions.\")\n",
    "display_message()"
   ]
  },
  {
   "cell_type": "markdown",
   "id": "f4e7203b",
   "metadata": {},
   "source": [
    "## 8.2"
   ]
  },
  {
   "cell_type": "code",
   "execution_count": 5,
   "id": "6a7138f0",
   "metadata": {},
   "outputs": [
    {
     "name": "stdout",
     "output_type": "stream",
     "text": [
      "One of my favorite books is Mrs. Dalloway.\n"
     ]
    }
   ],
   "source": [
    "def favorite_book(title):\n",
    "    \"\"\"states my favorite book\"\"\"\n",
    "    print(\"One of my favorite books is \" + title.title() + \".\")\n",
    "favorite_book('Mrs. Dalloway')"
   ]
  },
  {
   "cell_type": "markdown",
   "id": "cf0b0716",
   "metadata": {},
   "source": [
    "## 8.3"
   ]
  },
  {
   "cell_type": "code",
   "execution_count": 7,
   "id": "6b18df12",
   "metadata": {},
   "outputs": [
    {
     "name": "stdout",
     "output_type": "stream",
     "text": [
      "I would like a size small that says \"The Beatles\".\n"
     ]
    }
   ],
   "source": [
    "def make_shirt(size, text):\n",
    "    \"\"\"states the size of the shirt and what it says\"\"\"\n",
    "    print(\"I would like a size \" + size + \" that says \" + text + \".\")\n",
    "make_shirt('small', '\"The Beatles\"')"
   ]
  },
  {
   "cell_type": "code",
   "execution_count": 8,
   "id": "667a99cf",
   "metadata": {},
   "outputs": [
    {
     "name": "stdout",
     "output_type": "stream",
     "text": [
      "I would like a size small that says \"The Beatles\".\n"
     ]
    }
   ],
   "source": [
    "def make_shirt(size, text):\n",
    "    \"\"\"states the size of the shirt and what it says\"\"\"\n",
    "    print(\"I would like a size \" + size + \" that says \" + text + \".\")\n",
    "make_shirt(size = 'small', text = '\"The Beatles\"')"
   ]
  },
  {
   "cell_type": "code",
   "execution_count": null,
   "id": "f587f649",
   "metadata": {},
   "outputs": [],
   "source": []
  },
  {
   "cell_type": "markdown",
   "id": "4cd6dfc4",
   "metadata": {},
   "source": [
    "## 8.5"
   ]
  },
  {
   "cell_type": "code",
   "execution_count": 11,
   "id": "39130e4b",
   "metadata": {},
   "outputs": [
    {
     "name": "stdout",
     "output_type": "stream",
     "text": [
      "Arles is in France.\n",
      "Lyon is in France.\n",
      "Madrid is in France.\n"
     ]
    }
   ],
   "source": [
    "def describe_city(city, country = 'france'):\n",
    "    \"\"\"describes the location of a city\"\"\"\n",
    "    print(city.title() + \" is in \" + country.title() + \".\")\n",
    "describe_city(city = 'arles')\n",
    "describe_city(city = 'lyon')\n",
    "describe_city(city = 'madrid')"
   ]
  },
  {
   "cell_type": "markdown",
   "id": "2f42d549",
   "metadata": {},
   "source": [
    "## 8.6"
   ]
  },
  {
   "cell_type": "code",
   "execution_count": 18,
   "id": "a7060fca",
   "metadata": {},
   "outputs": [
    {
     "name": "stdout",
     "output_type": "stream",
     "text": [
      "Cannes, France\n",
      "Stockholm, Sweden\n",
      "Berlin, Germany\n"
     ]
    }
   ],
   "source": [
    "def city_country(city, country):\n",
    "    \"\"\"returns a city/country pair\"\"\"\n",
    "    print(city.title() + ', ' + country.title())\n",
    "city_country('cannes', 'france')\n",
    "city_country('stockholm', 'sweden')\n",
    "city_country('berlin', 'germany')"
   ]
  },
  {
   "cell_type": "markdown",
   "id": "6a0752ed",
   "metadata": {},
   "source": [
    "## 8.7"
   ]
  },
  {
   "cell_type": "code",
   "execution_count": 37,
   "id": "95482545",
   "metadata": {},
   "outputs": [
    {
     "name": "stdout",
     "output_type": "stream",
     "text": [
      "{'artist': 'Yo La Tengo', 'title': 'This Stupid World'}\n",
      "{'artist': 'Belle and Sebastian', 'title': \"If You're Feeling Sinister\"}\n",
      "{'artist': 'Joni Mitchell', 'title': 'Blue'}\n"
     ]
    }
   ],
   "source": [
    "def make_album(artist_name, album_title):\n",
    "    \"\"\"builds a dictionary describing an album\"\"\"\n",
    "    albums = {'artist': artist_name, 'title': album_title}\n",
    "    return albums\n",
    "album_1 = make_album('Yo La Tengo', 'This Stupid World')\n",
    "album_2 = make_album('Belle and Sebastian', \"If You're Feeling Sinister\")\n",
    "album_3 = make_album('Joni Mitchell', 'Blue')\n",
    "print(album_1)\n",
    "print(album_2)\n",
    "print(album_3)"
   ]
  },
  {
   "cell_type": "code",
   "execution_count": 38,
   "id": "a6391026",
   "metadata": {},
   "outputs": [
    {
     "name": "stdout",
     "output_type": "stream",
     "text": [
      "{'artist': 'Yo La Tengo', 'title': 'This Stupid World', 'tracks': '9 songs'}\n",
      "{'artist': 'Belle and Sebastian', 'title': \"If You're Feeling Sinister\", 'tracks': '10 songs'}\n",
      "{'artist': 'Joni Mitchell', 'title': 'Blue'}\n"
     ]
    }
   ],
   "source": [
    "def make_album(artist_name, album_title, track_number = ''):\n",
    "    \"\"\"builds a dictionary describing an album\"\"\"\n",
    "    if track_number:\n",
    "        albums = {'artist': artist_name, 'title': album_title, 'tracks': track_number}\n",
    "    else:\n",
    "        albums = {'artist': artist_name, 'title': album_title}\n",
    "    return albums\n",
    "album_1 = make_album('Yo La Tengo', 'This Stupid World', '9 songs')\n",
    "album_2 = make_album('Belle and Sebastian', \"If You're Feeling Sinister\", '10 songs')\n",
    "album_3 = make_album('Joni Mitchell', 'Blue')\n",
    "print(album_1)\n",
    "print(album_2)\n",
    "print(album_3)"
   ]
  },
  {
   "cell_type": "code",
   "execution_count": null,
   "id": "3878f78d",
   "metadata": {},
   "outputs": [],
   "source": []
  }
 ],
 "metadata": {
  "kernelspec": {
   "display_name": "Python 3 (ipykernel)",
   "language": "python",
   "name": "python3"
  },
  "language_info": {
   "codemirror_mode": {
    "name": "ipython",
    "version": 3
   },
   "file_extension": ".py",
   "mimetype": "text/x-python",
   "name": "python",
   "nbconvert_exporter": "python",
   "pygments_lexer": "ipython3",
   "version": "3.11.4"
  }
 },
 "nbformat": 4,
 "nbformat_minor": 5
}
