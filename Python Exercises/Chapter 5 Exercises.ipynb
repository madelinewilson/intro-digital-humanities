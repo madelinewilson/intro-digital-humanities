{
 "cells": [
  {
   "cell_type": "markdown",
   "id": "32cae161",
   "metadata": {},
   "source": [
    "# Chapter 5 HW"
   ]
  },
  {
   "cell_type": "markdown",
   "id": "348e5aac",
   "metadata": {},
   "source": [
    "## 5.1"
   ]
  },
  {
   "cell_type": "code",
   "execution_count": 1,
   "id": "9de38c2e",
   "metadata": {},
   "outputs": [],
   "source": [
    "pasta = 'farfalle'"
   ]
  },
  {
   "cell_type": "code",
   "execution_count": 2,
   "id": "46664c53",
   "metadata": {},
   "outputs": [
    {
     "name": "stdout",
     "output_type": "stream",
     "text": [
      "Is pasta == 'farfalle'? I predict True.\n"
     ]
    }
   ],
   "source": [
    "print(\"Is pasta == 'farfalle'? I predict True.\")"
   ]
  },
  {
   "cell_type": "code",
   "execution_count": 3,
   "id": "d4ed6435",
   "metadata": {},
   "outputs": [
    {
     "name": "stdout",
     "output_type": "stream",
     "text": [
      "True\n"
     ]
    }
   ],
   "source": [
    "print(pasta == 'farfalle')"
   ]
  },
  {
   "cell_type": "code",
   "execution_count": 5,
   "id": "0c982375",
   "metadata": {},
   "outputs": [
    {
     "name": "stdout",
     "output_type": "stream",
     "text": [
      "Is pasta == 'penne'? I predict False.\n",
      "False\n"
     ]
    }
   ],
   "source": [
    "print(\"Is pasta == 'penne'? I predict False.\")\n",
    "print(pasta == 'penne')"
   ]
  },
  {
   "cell_type": "code",
   "execution_count": 9,
   "id": "34564f44",
   "metadata": {},
   "outputs": [
    {
     "name": "stdout",
     "output_type": "stream",
     "text": [
      "Is dinner == 'soup'? I predict True.\n",
      "True\n",
      "Is dinner == 'chicken'? I predict False.\n",
      "False\n"
     ]
    }
   ],
   "source": [
    "dinner = 'soup'\n",
    "print(\"Is dinner == 'soup'? I predict True.\")\n",
    "print(dinner == 'soup')\n",
    "print(\"Is dinner == 'chicken'? I predict False.\")\n",
    "print(dinner == 'chicken')"
   ]
  },
  {
   "cell_type": "code",
   "execution_count": 4,
   "id": "2c19d62e",
   "metadata": {},
   "outputs": [
    {
     "name": "stdout",
     "output_type": "stream",
     "text": [
      "Is name == 'madeline'? I predict True.\n",
      "True\n",
      "Is name == 'sabrina'? I predict False.\n",
      "False\n"
     ]
    }
   ],
   "source": [
    "name = 'madeline'\n",
    "print(\"Is name == 'madeline'? I predict True.\")\n",
    "print(name == 'madeline')\n",
    "print(\"Is name == 'sabrina'? I predict False.\")\n",
    "print(name == 'sabrina')"
   ]
  },
  {
   "cell_type": "code",
   "execution_count": 5,
   "id": "153fc863",
   "metadata": {},
   "outputs": [
    {
     "name": "stdout",
     "output_type": "stream",
     "text": [
      "Is movie == 'Finding Nemo'? I predict True.\n",
      "True\n",
      "Is movie == 'Cars'? I predict False.\n",
      "False\n"
     ]
    }
   ],
   "source": [
    "movie = 'Finding Nemo'\n",
    "print(\"Is movie == 'Finding Nemo'? I predict True.\")\n",
    "print(movie == 'Finding Nemo')\n",
    "print(\"Is movie == 'Cars'? I predict False.\")\n",
    "print(movie == 'Cars')"
   ]
  },
  {
   "cell_type": "code",
   "execution_count": 7,
   "id": "ec04226f",
   "metadata": {},
   "outputs": [
    {
     "name": "stdout",
     "output_type": "stream",
     "text": [
      "Is weather == 'rainy'? I predict True.\n",
      "True\n",
      "Is weather == 'sunny'? I predict False.\n",
      "False\n"
     ]
    }
   ],
   "source": [
    "weather = 'rainy'\n",
    "print(\"Is weather == 'rainy'? I predict True.\")\n",
    "print(weather == 'rainy')\n",
    "print(\"Is weather == 'sunny'? I predict False.\") \n",
    "print(weather == 'sunny')"
   ]
  },
  {
   "cell_type": "markdown",
   "id": "32c25b45",
   "metadata": {},
   "source": [
    "## 5.2"
   ]
  },
  {
   "cell_type": "code",
   "execution_count": 5,
   "id": "80ffea26",
   "metadata": {},
   "outputs": [],
   "source": [
    "book = 'Pride and Prejudice'"
   ]
  },
  {
   "cell_type": "code",
   "execution_count": 2,
   "id": "13132b7c",
   "metadata": {},
   "outputs": [
    {
     "data": {
      "text/plain": [
       "False"
      ]
     },
     "execution_count": 2,
     "metadata": {},
     "output_type": "execute_result"
    }
   ],
   "source": [
    "book == 'pride and prejudice'"
   ]
  },
  {
   "cell_type": "code",
   "execution_count": 3,
   "id": "2608245b",
   "metadata": {},
   "outputs": [
    {
     "data": {
      "text/plain": [
       "True"
      ]
     },
     "execution_count": 3,
     "metadata": {},
     "output_type": "execute_result"
    }
   ],
   "source": [
    "book.lower() == 'pride and prejudice'"
   ]
  },
  {
   "cell_type": "code",
   "execution_count": 6,
   "id": "4d481fbe",
   "metadata": {},
   "outputs": [
    {
     "data": {
      "text/plain": [
       "False"
      ]
     },
     "execution_count": 6,
     "metadata": {},
     "output_type": "execute_result"
    }
   ],
   "source": [
    "book != 'Pride and Prejudice'"
   ]
  },
  {
   "cell_type": "code",
   "execution_count": 7,
   "id": "a9abe580",
   "metadata": {},
   "outputs": [
    {
     "data": {
      "text/plain": [
       "True"
      ]
     },
     "execution_count": 7,
     "metadata": {},
     "output_type": "execute_result"
    }
   ],
   "source": [
    "book != 'Moby Dick'"
   ]
  },
  {
   "cell_type": "code",
   "execution_count": 8,
   "id": "0ff7b5fe",
   "metadata": {},
   "outputs": [],
   "source": [
    "pages = 496"
   ]
  },
  {
   "cell_type": "code",
   "execution_count": 9,
   "id": "9eebe47b",
   "metadata": {},
   "outputs": [
    {
     "data": {
      "text/plain": [
       "False"
      ]
     },
     "execution_count": 9,
     "metadata": {},
     "output_type": "execute_result"
    }
   ],
   "source": [
    "pages == 500"
   ]
  },
  {
   "cell_type": "code",
   "execution_count": 10,
   "id": "dba266a6",
   "metadata": {},
   "outputs": [
    {
     "data": {
      "text/plain": [
       "True"
      ]
     },
     "execution_count": 10,
     "metadata": {},
     "output_type": "execute_result"
    }
   ],
   "source": [
    "pages == 496"
   ]
  },
  {
   "cell_type": "code",
   "execution_count": 11,
   "id": "3a438962",
   "metadata": {},
   "outputs": [
    {
     "data": {
      "text/plain": [
       "True"
      ]
     },
     "execution_count": 11,
     "metadata": {},
     "output_type": "execute_result"
    }
   ],
   "source": [
    "pages < 500"
   ]
  },
  {
   "cell_type": "code",
   "execution_count": 12,
   "id": "d7035061",
   "metadata": {},
   "outputs": [
    {
     "data": {
      "text/plain": [
       "False"
      ]
     },
     "execution_count": 12,
     "metadata": {},
     "output_type": "execute_result"
    }
   ],
   "source": [
    "pages < 495"
   ]
  },
  {
   "cell_type": "code",
   "execution_count": 13,
   "id": "caa3b2e9",
   "metadata": {},
   "outputs": [
    {
     "data": {
      "text/plain": [
       "True"
      ]
     },
     "execution_count": 13,
     "metadata": {},
     "output_type": "execute_result"
    }
   ],
   "source": [
    "pages <= 496"
   ]
  },
  {
   "cell_type": "code",
   "execution_count": 14,
   "id": "4d840c54",
   "metadata": {},
   "outputs": [
    {
     "data": {
      "text/plain": [
       "False"
      ]
     },
     "execution_count": 14,
     "metadata": {},
     "output_type": "execute_result"
    }
   ],
   "source": [
    "pages <= 400"
   ]
  },
  {
   "cell_type": "code",
   "execution_count": 15,
   "id": "29b9457f",
   "metadata": {},
   "outputs": [
    {
     "data": {
      "text/plain": [
       "True"
      ]
     },
     "execution_count": 15,
     "metadata": {},
     "output_type": "execute_result"
    }
   ],
   "source": [
    "pages >= 400"
   ]
  },
  {
   "cell_type": "code",
   "execution_count": 16,
   "id": "a7548cda",
   "metadata": {},
   "outputs": [
    {
     "data": {
      "text/plain": [
       "False"
      ]
     },
     "execution_count": 16,
     "metadata": {},
     "output_type": "execute_result"
    }
   ],
   "source": [
    "pages >= 500"
   ]
  },
  {
   "cell_type": "code",
   "execution_count": 17,
   "id": "204d37ad",
   "metadata": {},
   "outputs": [
    {
     "data": {
      "text/plain": [
       "True"
      ]
     },
     "execution_count": 17,
     "metadata": {},
     "output_type": "execute_result"
    }
   ],
   "source": [
    "pages > 495"
   ]
  },
  {
   "cell_type": "code",
   "execution_count": 18,
   "id": "0e15c7be",
   "metadata": {},
   "outputs": [
    {
     "data": {
      "text/plain": [
       "False"
      ]
     },
     "execution_count": 18,
     "metadata": {},
     "output_type": "execute_result"
    }
   ],
   "source": [
    "pages > 500"
   ]
  },
  {
   "cell_type": "code",
   "execution_count": 19,
   "id": "bf4b7d80",
   "metadata": {},
   "outputs": [],
   "source": [
    "pages_2 = 228"
   ]
  },
  {
   "cell_type": "code",
   "execution_count": 20,
   "id": "29443f16",
   "metadata": {},
   "outputs": [
    {
     "data": {
      "text/plain": [
       "False"
      ]
     },
     "execution_count": 20,
     "metadata": {},
     "output_type": "execute_result"
    }
   ],
   "source": [
    "pages > 400 and pages_2 > 500"
   ]
  },
  {
   "cell_type": "code",
   "execution_count": 21,
   "id": "04772bcb",
   "metadata": {},
   "outputs": [
    {
     "data": {
      "text/plain": [
       "True"
      ]
     },
     "execution_count": 21,
     "metadata": {},
     "output_type": "execute_result"
    }
   ],
   "source": [
    "pages > 400 and pages_2 < 400"
   ]
  },
  {
   "cell_type": "code",
   "execution_count": 22,
   "id": "42c921b9",
   "metadata": {},
   "outputs": [
    {
     "data": {
      "text/plain": [
       "True"
      ]
     },
     "execution_count": 22,
     "metadata": {},
     "output_type": "execute_result"
    }
   ],
   "source": [
    "pages > 400 or pages_2 > 500"
   ]
  },
  {
   "cell_type": "code",
   "execution_count": 23,
   "id": "f637b74c",
   "metadata": {},
   "outputs": [
    {
     "data": {
      "text/plain": [
       "False"
      ]
     },
     "execution_count": 23,
     "metadata": {},
     "output_type": "execute_result"
    }
   ],
   "source": [
    "pages < 400 or pages_2 > 500"
   ]
  },
  {
   "cell_type": "code",
   "execution_count": 24,
   "id": "98a29a1e",
   "metadata": {},
   "outputs": [],
   "source": [
    "novels = ['Pride and Prejudice', 'Moby Dick', 'Jane Eyre']"
   ]
  },
  {
   "cell_type": "code",
   "execution_count": 25,
   "id": "5a24fa28",
   "metadata": {},
   "outputs": [
    {
     "data": {
      "text/plain": [
       "True"
      ]
     },
     "execution_count": 25,
     "metadata": {},
     "output_type": "execute_result"
    }
   ],
   "source": [
    "'Pride and Prejudice' in novels"
   ]
  },
  {
   "cell_type": "code",
   "execution_count": 26,
   "id": "0b8c8796",
   "metadata": {},
   "outputs": [
    {
     "data": {
      "text/plain": [
       "False"
      ]
     },
     "execution_count": 26,
     "metadata": {},
     "output_type": "execute_result"
    }
   ],
   "source": [
    "'Wuthering Heights' in novels"
   ]
  },
  {
   "cell_type": "code",
   "execution_count": 27,
   "id": "bdc5e6c2",
   "metadata": {},
   "outputs": [
    {
     "data": {
      "text/plain": [
       "False"
      ]
     },
     "execution_count": 27,
     "metadata": {},
     "output_type": "execute_result"
    }
   ],
   "source": [
    "'Pride and Prejudice' not in novels"
   ]
  },
  {
   "cell_type": "code",
   "execution_count": 28,
   "id": "bbb856f3",
   "metadata": {},
   "outputs": [
    {
     "data": {
      "text/plain": [
       "True"
      ]
     },
     "execution_count": 28,
     "metadata": {},
     "output_type": "execute_result"
    }
   ],
   "source": [
    "'Wuthering Heights' not in novels"
   ]
  },
  {
   "cell_type": "markdown",
   "id": "1f6f3954",
   "metadata": {},
   "source": [
    "## 5.6"
   ]
  },
  {
   "cell_type": "code",
   "execution_count": 37,
   "id": "31e51257",
   "metadata": {},
   "outputs": [],
   "source": [
    "age = 66"
   ]
  },
  {
   "cell_type": "code",
   "execution_count": 38,
   "id": "2e7a1f7d",
   "metadata": {},
   "outputs": [
    {
     "name": "stdout",
     "output_type": "stream",
     "text": [
      "You are an elder!\n"
     ]
    }
   ],
   "source": [
    "if age < 2:\n",
    "    print(\"You are a baby!\")\n",
    "elif age >= 2 and age < 4:\n",
    "    print(\"You are a toddler!\")\n",
    "elif age >= 4 and age < 13:\n",
    "    print(\"You are a kid!\")\n",
    "elif age >= 13 and age < 20:\n",
    "    print(\"You are a teenager!\")\n",
    "elif age >= 20 and age < 65:\n",
    "    print(\"You are an adult!\")\n",
    "else:\n",
    "    print(\"You are an elder!\")"
   ]
  },
  {
   "cell_type": "markdown",
   "id": "8bc37ca9",
   "metadata": {},
   "source": [
    "## 5.7"
   ]
  },
  {
   "cell_type": "code",
   "execution_count": 39,
   "id": "0ea13925",
   "metadata": {},
   "outputs": [],
   "source": [
    "fruits = ['mango', 'raspberry', 'apple', 'pineapple', 'grape']"
   ]
  },
  {
   "cell_type": "code",
   "execution_count": 41,
   "id": "453b4d16",
   "metadata": {},
   "outputs": [
    {
     "name": "stdout",
     "output_type": "stream",
     "text": [
      "Mango is my favorite fruit!\n",
      "Raspberries are another of my favorite fruits!\n",
      "Apples are also some of my favorite fruits!\n",
      "I also love pineapple!\n",
      "Grapes as well!\n",
      "I like bananas but they are not my favorite!\n"
     ]
    }
   ],
   "source": [
    "if 'mango' in fruits:\n",
    "    print('Mango is my favorite fruit!')\n",
    "if 'raspberry' in fruits:\n",
    "    print('Raspberries are another of my favorite fruits!')\n",
    "if 'apple' in fruits:\n",
    "    print('Apples are also some of my favorite fruits!')\n",
    "if 'pineapple' in fruits:\n",
    "    print('I also love pineapple!')\n",
    "if 'grape' in fruits:\n",
    "    print('Grapes as well!')\n",
    "if 'banana' not in fruits:\n",
    "    print('I like bananas but they are not my favorite!')"
   ]
  },
  {
   "cell_type": "markdown",
   "id": "f06fcdd4",
   "metadata": {},
   "source": [
    "## 5.8"
   ]
  },
  {
   "cell_type": "code",
   "execution_count": 42,
   "id": "a9660893",
   "metadata": {},
   "outputs": [],
   "source": [
    "usernames = ['admin', 'mangoman1', 'raspberryfan2', 'appleluvr3', 'grapesrgreat']"
   ]
  },
  {
   "cell_type": "code",
   "execution_count": 46,
   "id": "4e9d09bf",
   "metadata": {},
   "outputs": [
    {
     "name": "stdout",
     "output_type": "stream",
     "text": [
      "Hello, admin. Would you like to see a status report?\n",
      "Hello, mangoman1. How are you?\n",
      "Hello, raspberryfan2. How are you?\n",
      "Hello, appleluvr3. How are you?\n",
      "Hello, grapesrgreat. How are you?\n"
     ]
    }
   ],
   "source": [
    "for username in usernames:\n",
    "    if username == 'admin':\n",
    "        print('Hello, admin. Would you like to see a status report?')\n",
    "    else:\n",
    "        print('Hello, ' + username + \". How are you?\")"
   ]
  },
  {
   "cell_type": "markdown",
   "id": "6f5be1a7",
   "metadata": {},
   "source": [
    "## 5.9"
   ]
  },
  {
   "cell_type": "code",
   "execution_count": 47,
   "id": "31b8c345",
   "metadata": {},
   "outputs": [],
   "source": [
    "usernames = []"
   ]
  },
  {
   "cell_type": "code",
   "execution_count": 48,
   "id": "658c6291",
   "metadata": {},
   "outputs": [
    {
     "name": "stdout",
     "output_type": "stream",
     "text": [
      "We need to find some users!\n"
     ]
    }
   ],
   "source": [
    "if usernames:\n",
    "    for username in usernames:\n",
    "        print('Hello, ' + username + \". How are you?\")\n",
    "else:\n",
    "    print('We need to find some users!')"
   ]
  },
  {
   "cell_type": "markdown",
   "id": "c41d7b3c",
   "metadata": {},
   "source": [
    "## 5.10"
   ]
  },
  {
   "cell_type": "code",
   "execution_count": 49,
   "id": "b249cec3",
   "metadata": {},
   "outputs": [],
   "source": [
    "current_users = ['mangoman1', 'raspberryfan2', 'appleluvr3', 'grapesrgreat', 'banana4']"
   ]
  },
  {
   "cell_type": "code",
   "execution_count": 50,
   "id": "ac2bbe1e",
   "metadata": {},
   "outputs": [],
   "source": [
    "new_users = ['veggieguy', 'mangoman1', 'onionhead3', 'beets4ever', 'to_mater']"
   ]
  },
  {
   "cell_type": "code",
   "execution_count": 54,
   "id": "e21de407",
   "metadata": {},
   "outputs": [
    {
     "name": "stdout",
     "output_type": "stream",
     "text": [
      "Welcome aboard, veggieguy!\n",
      "We're sorry, mangoman1 is already taken.\n",
      "Welcome aboard, onionhead3!\n",
      "Welcome aboard, beets4ever!\n",
      "Welcome aboard, to_mater!\n"
     ]
    }
   ],
   "source": [
    "for username in new_users:\n",
    "    if username in current_users:\n",
    "        print(\"We're sorry, \" + username + \" is already taken.\")\n",
    "    else:\n",
    "        print(\"Welcome aboard, \" + username + \"!\")"
   ]
  }
 ],
 "metadata": {
  "kernelspec": {
   "display_name": "Python 3 (ipykernel)",
   "language": "python",
   "name": "python3"
  },
  "language_info": {
   "codemirror_mode": {
    "name": "ipython",
    "version": 3
   },
   "file_extension": ".py",
   "mimetype": "text/x-python",
   "name": "python",
   "nbconvert_exporter": "python",
   "pygments_lexer": "ipython3",
   "version": "3.11.4"
  }
 },
 "nbformat": 4,
 "nbformat_minor": 5
}
