{
 "cells": [
  {
   "cell_type": "markdown",
   "id": "1d7bb6b1",
   "metadata": {},
   "source": [
    "# Chapter 6 HW\n",
    "#### (I accidentally did chapter 8 for this week! so sorry)"
   ]
  },
  {
   "cell_type": "markdown",
   "id": "58693645",
   "metadata": {},
   "source": [
    "## 6.1"
   ]
  },
  {
   "cell_type": "code",
   "execution_count": 2,
   "id": "8d2e37af",
   "metadata": {},
   "outputs": [
    {
     "name": "stdout",
     "output_type": "stream",
     "text": [
      "Mehek\n",
      "Singh\n",
      "21\n",
      "Hamilton, NY\n"
     ]
    }
   ],
   "source": [
    "bestie = {'first name': 'Mehek', 'last name': 'Singh', 'age': '21', 'city': 'Hamilton, NY'}\n",
    "print(bestie['first name'])\n",
    "print(bestie['last name'])\n",
    "print(bestie['age'])\n",
    "print(bestie['city'])"
   ]
  },
  {
   "cell_type": "markdown",
   "id": "f9a6e69e",
   "metadata": {},
   "source": [
    "## 6.2"
   ]
  },
  {
   "cell_type": "code",
   "execution_count": 13,
   "id": "719d18a9",
   "metadata": {},
   "outputs": [
    {
     "name": "stdout",
     "output_type": "stream",
     "text": [
      "maddy : 2\n",
      "sabrina : 4\n",
      "dahlia : 6\n",
      "vicky : 8\n",
      "daniella : 10\n"
     ]
    }
   ],
   "source": [
    "favorite_numbers = {'maddy': '2', 'sabrina': '4', 'dahlia': '6', 'vicky': '8', 'daniella': '10'}\n",
    "for name, number in favorite_numbers.items():\n",
    "    print(name, ':', number)"
   ]
  },
  {
   "cell_type": "markdown",
   "id": "6a4a1767",
   "metadata": {},
   "source": [
    "## 6.3"
   ]
  },
  {
   "cell_type": "code",
   "execution_count": 16,
   "id": "5e9b8e62",
   "metadata": {},
   "outputs": [
    {
     "name": "stdout",
     "output_type": "stream",
     "text": [
      "string : collection of characters\n",
      "if statement : executes a condition if it is true\n",
      "function : block of code that runs when it is called\n",
      "variable : container for storing values\n",
      "dictionary : used to store data in value, key pairs\n"
     ]
    }
   ],
   "source": [
    "terms = {'string': 'collection of characters', 'if statement': 'executes a condition if it is true', 'function': 'block of code that runs when it is called', 'variable': 'container for storing values', 'dictionary': 'used to store data in value, key pairs'}\n",
    "for term, definition in terms.items():\n",
    "    print(term, ':', definition)"
   ]
  },
  {
   "cell_type": "markdown",
   "id": "d32a0f18",
   "metadata": {},
   "source": [
    "## 6.4"
   ]
  },
  {
   "cell_type": "code",
   "execution_count": 17,
   "id": "50602a94",
   "metadata": {},
   "outputs": [],
   "source": [
    "terms['markdown'] = 'used for storing formatted data'\n",
    "terms['integer'] = 'whole numbers'\n",
    "terms['float'] = 'number with decimals'\n",
    "terms['list'] = 'collection of things separated by commas'\n",
    "terms['for loop'] = 'repeatedly executes statements if conditions are met'"
   ]
  },
  {
   "cell_type": "code",
   "execution_count": 18,
   "id": "61674398",
   "metadata": {},
   "outputs": [
    {
     "name": "stdout",
     "output_type": "stream",
     "text": [
      "string : collection of characters\n",
      "if statement : executes a condition if it is true\n",
      "function : block of code that runs when it is called\n",
      "variable : container for storing values\n",
      "dictionary : used to store data in value, key pairs\n",
      "markdown : used for storing formatted data\n",
      "integer : whole numbers\n",
      "float : number with decimals\n",
      "list : collection of things separated by commas\n",
      "for loop : repeatedly executes statements if conditions are met\n"
     ]
    }
   ],
   "source": [
    "for term, definition in terms.items():\n",
    "    print(term, ':', definition)"
   ]
  },
  {
   "cell_type": "markdown",
   "id": "e6a89e0a",
   "metadata": {},
   "source": [
    "## 6.5"
   ]
  },
  {
   "cell_type": "code",
   "execution_count": 27,
   "id": "5d522996",
   "metadata": {},
   "outputs": [
    {
     "name": "stdout",
     "output_type": "stream",
     "text": [
      "The Mississippi runs through the United States\n",
      "The Rhine runs through Switzerland\n",
      "The Indus runs through Pakistan\n"
     ]
    }
   ],
   "source": [
    "rivers = {'Mississippi': 'the United States', 'Rhine': 'Switzerland', 'Indus': 'Pakistan'}\n",
    "for river, country in rivers.items():\n",
    "    print('The',river,'runs through',country)"
   ]
  },
  {
   "cell_type": "markdown",
   "id": "aad88522",
   "metadata": {},
   "source": [
    "## 6.7"
   ]
  },
  {
   "cell_type": "code",
   "execution_count": 43,
   "id": "0a2f8e74",
   "metadata": {},
   "outputs": [
    {
     "name": "stdout",
     "output_type": "stream",
     "text": [
      "Mehek Singh 21 Hamilton, NY\n",
      "Eliza Cranston 21 San Diego\n",
      "Caroline Kleis 21 Lancaster\n"
     ]
    }
   ],
   "source": [
    "bestie_2 = {'first name': 'Eliza', 'last name': 'Cranston', 'age': '21', 'city': 'San Diego'}\n",
    "bestie_3 = {'first name': 'Caroline', 'last name': 'Kleis', 'age': '21', 'city': 'Lancaster'}\n",
    "besties = [bestie, bestie_2, bestie_3]\n",
    "print(besties[0]['first name'], besties[0]['last name'], besties[0]['age'], besties[0]['city'])\n",
    "print(besties[1]['first name'], besties[1]['last name'], besties[1]['age'], besties[1]['city'])\n",
    "print(besties[2]['first name'], besties[2]['last name'], besties[2]['age'], besties[2]['city'])"
   ]
  },
  {
   "cell_type": "markdown",
   "id": "a447f0c5",
   "metadata": {},
   "source": [
    "## 6.8"
   ]
  },
  {
   "cell_type": "code",
   "execution_count": 46,
   "id": "392e6e9f",
   "metadata": {},
   "outputs": [
    {
     "name": "stdout",
     "output_type": "stream",
     "text": [
      "Patrick cat Vicky\n",
      "Sevi dog Sabrina\n",
      "Chloe cat Maddy\n"
     ]
    }
   ],
   "source": [
    "pet_1 = {'name': 'Patrick', 'animal': 'cat', 'owner': 'Vicky'}\n",
    "pet_2 = {'name': 'Sevi', 'animal': 'dog', 'owner': 'Sabrina'}\n",
    "pet_3 = {'name': 'Chloe', 'animal': 'cat', 'owner': 'Maddy'}\n",
    "pets = [pet_1, pet_2, pet_3]\n",
    "print(pets[0]['name'], pets[0]['animal'], pets[0]['owner'])\n",
    "print(pets[1]['name'], pets[1]['animal'], pets[1]['owner'])\n",
    "print(pets[2]['name'], pets[2]['animal'], pets[2]['owner'])"
   ]
  },
  {
   "cell_type": "markdown",
   "id": "a6e5aff6",
   "metadata": {},
   "source": [
    "## 6.9"
   ]
  },
  {
   "cell_type": "code",
   "execution_count": 54,
   "id": "9c8bdb04",
   "metadata": {},
   "outputs": [
    {
     "name": "stdout",
     "output_type": "stream",
     "text": [
      "Maddy 's favorite places are Norfolk and Stockholm\n",
      "Vicky 's favorite places are Miami and Monterey\n",
      "Sabrina 's favorite places are Portland and Coruña\n"
     ]
    }
   ],
   "source": [
    "favorite_places = {'Maddy': ['Norfolk', 'Stockholm'], 'Vicky': ['Miami', 'Monterey'], 'Sabrina': ['Portland', 'Coruña']}\n",
    "for name, place in favorite_places.items():\n",
    "    print(name,\"'s favorite places are\",place[0],'and',place[1])"
   ]
  },
  {
   "cell_type": "markdown",
   "id": "3068a293",
   "metadata": {},
   "source": [
    "## 6.11"
   ]
  },
  {
   "cell_type": "code",
   "execution_count": 99,
   "id": "80fb27ab",
   "metadata": {},
   "outputs": [
    {
     "name": "stdout",
     "output_type": "stream",
     "text": [
      "Berlin : Germany, 3.6 million, The Berlin Wall fell in 1989\n",
      "Dublin : Ireland, 544,000, Dublin is home to the largest park in Europe\n",
      "Philadelphia : The United States, 1.5 million, The liberty bell is located in Philadelphia\n"
     ]
    }
   ],
   "source": [
    "cities = {'Berlin': {'country': 'Germany', 'population': '3.6 million', 'fact': 'The Berlin Wall fell in 1989'}, 'Dublin': {'country': 'Ireland', 'population': '544,000', 'fact': 'Dublin is home to the largest park in Europe'}, 'Philadelphia': {'country': 'The United States', 'population': '1.5 million', 'fact': 'The liberty bell is located in Philadelphia'}}\n",
    "for city,info in cities.items():\n",
    "    stuff = info['country'] + ', ' + info['population'] + ', ' + info['fact']\n",
    "    print(city,':',stuff)\n"
   ]
  },
  {
   "cell_type": "code",
   "execution_count": null,
   "id": "8eb3952d",
   "metadata": {},
   "outputs": [],
   "source": []
  }
 ],
 "metadata": {
  "kernelspec": {
   "display_name": "Python 3 (ipykernel)",
   "language": "python",
   "name": "python3"
  },
  "language_info": {
   "codemirror_mode": {
    "name": "ipython",
    "version": 3
   },
   "file_extension": ".py",
   "mimetype": "text/x-python",
   "name": "python",
   "nbconvert_exporter": "python",
   "pygments_lexer": "ipython3",
   "version": "3.11.4"
  }
 },
 "nbformat": 4,
 "nbformat_minor": 5
}
