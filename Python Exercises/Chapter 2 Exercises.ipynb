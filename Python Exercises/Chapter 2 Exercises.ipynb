{
 "cells": [
  {
   "cell_type": "markdown",
   "id": "51f03efb",
   "metadata": {},
   "source": [
    "# Chapter 2 Homework"
   ]
  },
  {
   "cell_type": "markdown",
   "id": "d8c6cdf0",
   "metadata": {},
   "source": [
    "## 2.1"
   ]
  },
  {
   "cell_type": "code",
   "execution_count": 1,
   "id": "65f03a50",
   "metadata": {},
   "outputs": [],
   "source": [
    "message = \"This is me storing a message in a variable.\""
   ]
  },
  {
   "cell_type": "code",
   "execution_count": 2,
   "id": "2de738bb",
   "metadata": {},
   "outputs": [
    {
     "name": "stdout",
     "output_type": "stream",
     "text": [
      "This is me storing a message in a variable.\n"
     ]
    }
   ],
   "source": [
    "print(message)"
   ]
  },
  {
   "cell_type": "markdown",
   "id": "d1f53e75",
   "metadata": {},
   "source": [
    "## 2.2"
   ]
  },
  {
   "cell_type": "code",
   "execution_count": 3,
   "id": "d795c27f",
   "metadata": {},
   "outputs": [],
   "source": [
    "massage = \"This is the second message I'm storing.\""
   ]
  },
  {
   "cell_type": "code",
   "execution_count": 4,
   "id": "41598f57",
   "metadata": {},
   "outputs": [
    {
     "name": "stdout",
     "output_type": "stream",
     "text": [
      "This is the second message I'm storing.\n"
     ]
    }
   ],
   "source": [
    "print(massage)"
   ]
  },
  {
   "cell_type": "code",
   "execution_count": 5,
   "id": "1246e7a4",
   "metadata": {},
   "outputs": [],
   "source": [
    "massage = \"The message has changed.\""
   ]
  },
  {
   "cell_type": "code",
   "execution_count": 6,
   "id": "ef96c537",
   "metadata": {},
   "outputs": [
    {
     "name": "stdout",
     "output_type": "stream",
     "text": [
      "The message has changed.\n"
     ]
    }
   ],
   "source": [
    "print(massage)"
   ]
  },
  {
   "cell_type": "markdown",
   "id": "76cba59a",
   "metadata": {},
   "source": [
    "## 2.3"
   ]
  },
  {
   "cell_type": "code",
   "execution_count": 7,
   "id": "2a6e0331",
   "metadata": {},
   "outputs": [],
   "source": [
    "name = \"Maddy\""
   ]
  },
  {
   "cell_type": "code",
   "execution_count": 8,
   "id": "f91af838",
   "metadata": {},
   "outputs": [
    {
     "name": "stdout",
     "output_type": "stream",
     "text": [
      "Maddyis currently working on her homework.\n"
     ]
    }
   ],
   "source": [
    "print(name + \"is currently working on her homework.\")"
   ]
  },
  {
   "cell_type": "code",
   "execution_count": 9,
   "id": "d3d18ef3",
   "metadata": {
    "scrolled": true
   },
   "outputs": [
    {
     "name": "stdout",
     "output_type": "stream",
     "text": [
      "Maddy forgot to add a space in the last line.\n"
     ]
    }
   ],
   "source": [
    "print(name + \" forgot to add a space in the last line.\")"
   ]
  },
  {
   "cell_type": "markdown",
   "id": "d9404e65",
   "metadata": {},
   "source": [
    "## 2.3"
   ]
  },
  {
   "cell_type": "markdown",
   "id": "6e246981",
   "metadata": {},
   "source": [
    "## 2.4"
   ]
  },
  {
   "cell_type": "code",
   "execution_count": 10,
   "id": "f70a7db0",
   "metadata": {},
   "outputs": [],
   "source": [
    "name = \"madeline wilson\""
   ]
  },
  {
   "cell_type": "code",
   "execution_count": 11,
   "id": "57c6834f",
   "metadata": {},
   "outputs": [
    {
     "name": "stdout",
     "output_type": "stream",
     "text": [
      "Madeline Wilson\n"
     ]
    }
   ],
   "source": [
    "print(name.title())"
   ]
  },
  {
   "cell_type": "code",
   "execution_count": 12,
   "id": "3e3fdb29",
   "metadata": {},
   "outputs": [
    {
     "name": "stdout",
     "output_type": "stream",
     "text": [
      "MADELINE WILSON\n"
     ]
    }
   ],
   "source": [
    "print(name.upper())"
   ]
  },
  {
   "cell_type": "code",
   "execution_count": 13,
   "id": "2d72ab76",
   "metadata": {},
   "outputs": [
    {
     "name": "stdout",
     "output_type": "stream",
     "text": [
      "madeline wilson\n"
     ]
    }
   ],
   "source": [
    "print(name.lower())"
   ]
  },
  {
   "cell_type": "markdown",
   "id": "2607476b",
   "metadata": {},
   "source": [
    "## 2.5"
   ]
  },
  {
   "cell_type": "code",
   "execution_count": 17,
   "id": "417a86b6",
   "metadata": {},
   "outputs": [
    {
     "name": "stdout",
     "output_type": "stream",
     "text": [
      "Jacques Derrida once said, \"There is nothing outside the text\"\n"
     ]
    }
   ],
   "source": [
    "print('Jacques Derrida once said, \"There is nothing outside the text\"')"
   ]
  },
  {
   "cell_type": "markdown",
   "id": "c427cdb0",
   "metadata": {},
   "source": [
    "## 2.6"
   ]
  },
  {
   "cell_type": "code",
   "execution_count": 2,
   "id": "37271758",
   "metadata": {},
   "outputs": [],
   "source": [
    "# This is for exercise 2.10"
   ]
  },
  {
   "cell_type": "code",
   "execution_count": 14,
   "id": "8f6242e1",
   "metadata": {},
   "outputs": [],
   "source": [
    "name = \"Jacques Derrida\""
   ]
  },
  {
   "cell_type": "code",
   "execution_count": 15,
   "id": "0a66a9e9",
   "metadata": {},
   "outputs": [],
   "source": [
    "quote = '\"There is nothing outside the text.\"'"
   ]
  },
  {
   "cell_type": "code",
   "execution_count": 16,
   "id": "200d9b23",
   "metadata": {},
   "outputs": [
    {
     "name": "stdout",
     "output_type": "stream",
     "text": [
      "Jacques Derrida once said, \"There is nothing outside the text.\"\n"
     ]
    }
   ],
   "source": [
    "print(name + \" once said, \" + quote)"
   ]
  },
  {
   "cell_type": "markdown",
   "id": "841ecfba",
   "metadata": {},
   "source": [
    "## 2.7"
   ]
  },
  {
   "cell_type": "code",
   "execution_count": 3,
   "id": "3447ef3c",
   "metadata": {},
   "outputs": [],
   "source": [
    "# This is also for exercise 2.10"
   ]
  },
  {
   "cell_type": "code",
   "execution_count": 22,
   "id": "7d4025db",
   "metadata": {},
   "outputs": [
    {
     "name": "stdout",
     "output_type": "stream",
     "text": [
      "Madeline Wilson\n"
     ]
    }
   ],
   "source": [
    "print(\"Madeline Wilson\")"
   ]
  },
  {
   "cell_type": "code",
   "execution_count": 25,
   "id": "77fb65ff",
   "metadata": {},
   "outputs": [
    {
     "name": "stdout",
     "output_type": "stream",
     "text": [
      "\tMadeline Wilson\n"
     ]
    }
   ],
   "source": [
    "print(\"\\tMadeline Wilson\")"
   ]
  },
  {
   "cell_type": "code",
   "execution_count": 26,
   "id": "01111967",
   "metadata": {},
   "outputs": [
    {
     "name": "stdout",
     "output_type": "stream",
     "text": [
      "Madeline\n",
      "\tWilson\n"
     ]
    }
   ],
   "source": [
    "print(\"Madeline\\n\\tWilson\")"
   ]
  },
  {
   "cell_type": "code",
   "execution_count": 32,
   "id": "05b04d51",
   "metadata": {},
   "outputs": [],
   "source": [
    "name = \"Madeline Wilson  \""
   ]
  },
  {
   "cell_type": "code",
   "execution_count": 34,
   "id": "d83fdf16",
   "metadata": {},
   "outputs": [
    {
     "data": {
      "text/plain": [
       "'Madeline Wilson  '"
      ]
     },
     "execution_count": 34,
     "metadata": {},
     "output_type": "execute_result"
    }
   ],
   "source": [
    "name"
   ]
  },
  {
   "cell_type": "code",
   "execution_count": 36,
   "id": "0a55dc24",
   "metadata": {},
   "outputs": [
    {
     "data": {
      "text/plain": [
       "'Madeline Wilson'"
      ]
     },
     "execution_count": 36,
     "metadata": {},
     "output_type": "execute_result"
    }
   ],
   "source": [
    "name.rstrip()"
   ]
  },
  {
   "cell_type": "code",
   "execution_count": 37,
   "id": "1910ca93",
   "metadata": {},
   "outputs": [],
   "source": [
    "name = \"  Madeline Wilson\""
   ]
  },
  {
   "cell_type": "code",
   "execution_count": 38,
   "id": "04799976",
   "metadata": {},
   "outputs": [
    {
     "data": {
      "text/plain": [
       "'  Madeline Wilson'"
      ]
     },
     "execution_count": 38,
     "metadata": {},
     "output_type": "execute_result"
    }
   ],
   "source": [
    "name"
   ]
  },
  {
   "cell_type": "code",
   "execution_count": 39,
   "id": "9a3558e3",
   "metadata": {},
   "outputs": [
    {
     "data": {
      "text/plain": [
       "'Madeline Wilson'"
      ]
     },
     "execution_count": 39,
     "metadata": {},
     "output_type": "execute_result"
    }
   ],
   "source": [
    "name.lstrip()"
   ]
  },
  {
   "cell_type": "code",
   "execution_count": 40,
   "id": "ccdf8ae2",
   "metadata": {},
   "outputs": [],
   "source": [
    "name = \" Madeline Wilson \""
   ]
  },
  {
   "cell_type": "code",
   "execution_count": 41,
   "id": "8c6780c1",
   "metadata": {},
   "outputs": [
    {
     "data": {
      "text/plain": [
       "' Madeline Wilson '"
      ]
     },
     "execution_count": 41,
     "metadata": {},
     "output_type": "execute_result"
    }
   ],
   "source": [
    "name"
   ]
  },
  {
   "cell_type": "code",
   "execution_count": 42,
   "id": "24af7b34",
   "metadata": {},
   "outputs": [
    {
     "data": {
      "text/plain": [
       "'Madeline Wilson'"
      ]
     },
     "execution_count": 42,
     "metadata": {},
     "output_type": "execute_result"
    }
   ],
   "source": [
    "name.strip()"
   ]
  },
  {
   "cell_type": "code",
   "execution_count": null,
   "id": "a13b4ba6",
   "metadata": {},
   "outputs": [],
   "source": []
  }
 ],
 "metadata": {
  "kernelspec": {
   "display_name": "Python 3 (ipykernel)",
   "language": "python",
   "name": "python3"
  },
  "language_info": {
   "codemirror_mode": {
    "name": "ipython",
    "version": 3
   },
   "file_extension": ".py",
   "mimetype": "text/x-python",
   "name": "python",
   "nbconvert_exporter": "python",
   "pygments_lexer": "ipython3",
   "version": "3.11.4"
  }
 },
 "nbformat": 4,
 "nbformat_minor": 5
}
