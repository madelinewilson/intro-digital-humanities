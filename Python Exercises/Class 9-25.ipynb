{
 "cells": [
  {
   "cell_type": "markdown",
   "id": "06088ede",
   "metadata": {},
   "source": [
    "# Conditionals"
   ]
  },
  {
   "cell_type": "code",
   "execution_count": 1,
   "id": "3bf37e06",
   "metadata": {},
   "outputs": [],
   "source": [
    "list_of_lists = [['a', 'b', 'c'], [1, 2, 3]]"
   ]
  },
  {
   "cell_type": "code",
   "execution_count": 2,
   "id": "1e93412f",
   "metadata": {},
   "outputs": [
    {
     "data": {
      "text/plain": [
       "2"
      ]
     },
     "execution_count": 2,
     "metadata": {},
     "output_type": "execute_result"
    }
   ],
   "source": [
    "len(list_of_lists)"
   ]
  },
  {
   "cell_type": "code",
   "execution_count": 3,
   "id": "3d29000f",
   "metadata": {
    "scrolled": true
   },
   "outputs": [
    {
     "name": "stdout",
     "output_type": "stream",
     "text": [
      "['a', 'b', 'c']\n"
     ]
    }
   ],
   "source": [
    "print(list_of_lists[0])"
   ]
  },
  {
   "cell_type": "code",
   "execution_count": 6,
   "id": "ce830057",
   "metadata": {},
   "outputs": [
    {
     "name": "stdout",
     "output_type": "stream",
     "text": [
      "2\n"
     ]
    }
   ],
   "source": [
    "print(list_of_lists[1][1])"
   ]
  },
  {
   "cell_type": "markdown",
   "id": "f86c1eec",
   "metadata": {},
   "source": [
    "## Booleans"
   ]
  },
  {
   "cell_type": "code",
   "execution_count": 7,
   "id": "1904d735",
   "metadata": {},
   "outputs": [],
   "source": [
    "# Either true or false"
   ]
  },
  {
   "cell_type": "code",
   "execution_count": 9,
   "id": "70b9bdb3",
   "metadata": {},
   "outputs": [],
   "source": [
    "a = True\n",
    "b = False"
   ]
  },
  {
   "cell_type": "code",
   "execution_count": 10,
   "id": "a1fb317c",
   "metadata": {},
   "outputs": [
    {
     "name": "stdout",
     "output_type": "stream",
     "text": [
      "<class 'bool'>\n"
     ]
    }
   ],
   "source": [
    "print(type(a))"
   ]
  },
  {
   "cell_type": "code",
   "execution_count": 11,
   "id": "b2058139",
   "metadata": {},
   "outputs": [],
   "source": [
    "# To express equality, use == (otherwise just setting a variable)\n",
    "# To express inequality, use !=\n",
    "# <> are used as usual"
   ]
  },
  {
   "cell_type": "code",
   "execution_count": 12,
   "id": "43741473",
   "metadata": {},
   "outputs": [
    {
     "name": "stdout",
     "output_type": "stream",
     "text": [
      "False\n"
     ]
    }
   ],
   "source": [
    "print(7==10)"
   ]
  },
  {
   "cell_type": "code",
   "execution_count": 13,
   "id": "d518a312",
   "metadata": {},
   "outputs": [
    {
     "name": "stdout",
     "output_type": "stream",
     "text": [
      "True\n"
     ]
    }
   ],
   "source": [
    "print(7!=10)"
   ]
  },
  {
   "cell_type": "code",
   "execution_count": 14,
   "id": "d0826c5a",
   "metadata": {},
   "outputs": [
    {
     "name": "stdout",
     "output_type": "stream",
     "text": [
      "True\n"
     ]
    }
   ],
   "source": [
    "print('Gibbon' == 'Gibbon')"
   ]
  },
  {
   "cell_type": "code",
   "execution_count": 16,
   "id": "2e952a4f",
   "metadata": {},
   "outputs": [
    {
     "name": "stdout",
     "output_type": "stream",
     "text": [
      "False\n"
     ]
    }
   ],
   "source": [
    "print('Gibbon' == 'gibbon')"
   ]
  },
  {
   "cell_type": "code",
   "execution_count": 17,
   "id": "e79b2e11",
   "metadata": {},
   "outputs": [],
   "source": [
    "# When preparing texts to be analyzed, need to account for difference in case (i.e., 'Gibbon' vs. 'gibbon')"
   ]
  },
  {
   "cell_type": "code",
   "execution_count": 18,
   "id": "d66d0a2b",
   "metadata": {},
   "outputs": [],
   "source": [
    "historians = ['gibbon', 'eusebius', 'lepore']"
   ]
  },
  {
   "cell_type": "code",
   "execution_count": 19,
   "id": "04cb8415",
   "metadata": {},
   "outputs": [
    {
     "name": "stdout",
     "output_type": "stream",
     "text": [
      "True\n"
     ]
    }
   ],
   "source": [
    "print('gibbon' in historians)"
   ]
  },
  {
   "cell_type": "code",
   "execution_count": 40,
   "id": "4ba2278b",
   "metadata": {},
   "outputs": [
    {
     "name": "stdout",
     "output_type": "stream",
     "text": [
      "False\n"
     ]
    }
   ],
   "source": [
    "print('Gibbon' in historians)"
   ]
  },
  {
   "cell_type": "code",
   "execution_count": 41,
   "id": "1c106867",
   "metadata": {},
   "outputs": [
    {
     "data": {
      "text/plain": [
       "True"
      ]
     },
     "execution_count": 41,
     "metadata": {},
     "output_type": "execute_result"
    }
   ],
   "source": [
    "'Gibbon' in historians or 'gibbon' in historians"
   ]
  },
  {
   "cell_type": "code",
   "execution_count": 42,
   "id": "1daf7c1a",
   "metadata": {},
   "outputs": [
    {
     "name": "stdout",
     "output_type": "stream",
     "text": [
      "Gibbon is in list\n",
      "Gibbon is not in list\n",
      "Gibbon is not in list\n"
     ]
    }
   ],
   "source": [
    "for historian in historians:\n",
    "    if historian  == 'Gibbon' or historian == 'gibbon':\n",
    "        print('Gibbon is in list')\n",
    "    else: \n",
    "        print('Gibbon is not in list')"
   ]
  },
  {
   "cell_type": "markdown",
   "id": "a5714e75",
   "metadata": {},
   "source": [
    "## Conditionals"
   ]
  },
  {
   "cell_type": "code",
   "execution_count": 30,
   "id": "372744fc",
   "metadata": {},
   "outputs": [],
   "source": [
    "age = 18"
   ]
  },
  {
   "cell_type": "code",
   "execution_count": 32,
   "id": "375d2b47",
   "metadata": {},
   "outputs": [
    {
     "name": "stdout",
     "output_type": "stream",
     "text": [
      "Happy Birthday!\n"
     ]
    }
   ],
   "source": [
    "if  age  > 18:\n",
    "    print(\"You are old enough to vote.\")\n",
    "elif  age == 18:\n",
    "    print('Happy Birthday!')\n",
    "else: \n",
    "    print('You are too young to vote.')"
   ]
  },
  {
   "cell_type": "code",
   "execution_count": 33,
   "id": "2154b148",
   "metadata": {},
   "outputs": [],
   "source": [
    "# for multiple conditions: first is \"if\", then \"elif\" for following, then \"else\" for last"
   ]
  },
  {
   "cell_type": "markdown",
   "id": "9886217e",
   "metadata": {},
   "source": [
    "## Boolean Operators"
   ]
  },
  {
   "cell_type": "code",
   "execution_count": 39,
   "id": "4e45b6f1",
   "metadata": {},
   "outputs": [
    {
     "data": {
      "text/plain": [
       "True"
      ]
     },
     "execution_count": 39,
     "metadata": {},
     "output_type": "execute_result"
    }
   ],
   "source": [
    "(7 != 10) or (7 > 10)"
   ]
  },
  {
   "cell_type": "code",
   "execution_count": null,
   "id": "86fa0b3d",
   "metadata": {},
   "outputs": [],
   "source": []
  }
 ],
 "metadata": {
  "kernelspec": {
   "display_name": "Python 3 (ipykernel)",
   "language": "python",
   "name": "python3"
  },
  "language_info": {
   "codemirror_mode": {
    "name": "ipython",
    "version": 3
   },
   "file_extension": ".py",
   "mimetype": "text/x-python",
   "name": "python",
   "nbconvert_exporter": "python",
   "pygments_lexer": "ipython3",
   "version": "3.11.4"
  }
 },
 "nbformat": 4,
 "nbformat_minor": 5
}
