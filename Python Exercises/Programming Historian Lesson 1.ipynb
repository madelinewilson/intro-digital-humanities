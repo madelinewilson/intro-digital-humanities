{
 "cells": [
  {
   "cell_type": "code",
   "execution_count": 6,
   "id": "f3f1397c",
   "metadata": {},
   "outputs": [],
   "source": [
    "import Greet #importing the Greet module that I created earlier, which defines the function greetEntity, which prints a greeting"
   ]
  },
  {
   "cell_type": "code",
   "execution_count": 11,
   "id": "1e405a93",
   "metadata": {},
   "outputs": [
    {
     "name": "stdout",
     "output_type": "stream",
     "text": [
      "hello everybody\n",
      "hello programming historian\n"
     ]
    }
   ],
   "source": [
    "Greet.greetEntity(\"everybody\") #calling the function from the module\n",
    "Greet.greetEntity(\"programming historian\")"
   ]
  },
  {
   "cell_type": "code",
   "execution_count": 12,
   "id": "ef5153b7",
   "metadata": {},
   "outputs": [
    {
     "name": "stdout",
     "output_type": "stream",
     "text": [
      "<module 'Greet' from '/Users/maddymwilson1/Documents/Tufts/Fall 2023/Intro Digital Humanities/intro-digital-humanities/Python Exercises/Greet.py'>\n"
     ]
    }
   ],
   "source": [
    "print(Greet) #just showing you where Greet.py is saved"
   ]
  },
  {
   "cell_type": "code",
   "execution_count": null,
   "id": "81111138",
   "metadata": {},
   "outputs": [],
   "source": []
  }
 ],
 "metadata": {
  "kernelspec": {
   "display_name": "Python 3 (ipykernel)",
   "language": "python",
   "name": "python3"
  },
  "language_info": {
   "codemirror_mode": {
    "name": "ipython",
    "version": 3
   },
   "file_extension": ".py",
   "mimetype": "text/x-python",
   "name": "python",
   "nbconvert_exporter": "python",
   "pygments_lexer": "ipython3",
   "version": "3.11.4"
  }
 },
 "nbformat": 4,
 "nbformat_minor": 5
}
