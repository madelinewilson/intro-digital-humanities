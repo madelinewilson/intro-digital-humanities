{
  "nbformat": 4,
  "nbformat_minor": 0,
  "metadata": {
    "colab": {
      "provenance": [],
      "include_colab_link": true
    },
    "kernelspec": {
      "name": "python3",
      "display_name": "Python 3"
    },
    "language_info": {
      "name": "python"
    }
  },
  "cells": [
    {
      "cell_type": "markdown",
      "metadata": {
        "id": "view-in-github",
        "colab_type": "text"
      },
      "source": [
        "<a href=\"https://colab.research.google.com/github/madelinewilson/intro-digital-humanities/blob/main/IDH_Final_Maddy_Wilson_draft.ipynb\" target=\"_parent\"><img src=\"https://colab.research.google.com/assets/colab-badge.svg\" alt=\"Open In Colab\"/></a>"
      ]
    },
    {
      "cell_type": "markdown",
      "source": [
        "# Topic Model of William Shakespeare's Sonnets\n",
        "by Maddy Wilson\n"
      ],
      "metadata": {
        "id": "E-ZjyLWkD9pf"
      }
    },
    {
      "cell_type": "markdown",
      "source": [
        "## Introduction"
      ],
      "metadata": {
        "id": "-J_wu0xFEehc"
      }
    },
    {
      "cell_type": "markdown",
      "source": [
        "[Brief introduction to your project apprx. 200-300 words]"
      ],
      "metadata": {
        "id": "anCczFMREiI_"
      }
    },
    {
      "cell_type": "markdown",
      "source": [
        "## Code"
      ],
      "metadata": {
        "id": "onl7OzmqEqME"
      }
    },
    {
      "cell_type": "code",
      "source": [
        "# importing the necessary libraries and tools for a topic model\n",
        "import requests\n",
        "import pandas as pd\n",
        "import spacy"
      ],
      "metadata": {
        "id": "FgNKmznzEQPF"
      },
      "execution_count": 1,
      "outputs": []
    },
    {
      "cell_type": "code",
      "source": [
        "nlp = spacy.load(\"en_core_web_sm\")\n",
        "nlp.disable_pipes('ner', 'parser')"
      ],
      "metadata": {
        "colab": {
          "base_uri": "https://localhost:8080/"
        },
        "id": "MST2pmvOwt00",
        "outputId": "a8c6dfab-8ebf-47ea-aabe-05268d8911ac"
      },
      "execution_count": 4,
      "outputs": [
        {
          "output_type": "execute_result",
          "data": {
            "text/plain": [
              "['ner', 'parser']"
            ]
          },
          "metadata": {},
          "execution_count": 4
        }
      ]
    },
    {
      "cell_type": "code",
      "source": [
        "# URL is a .txt file of William Shakespeare's Sonnets\n",
        "response = requests.get('https://ia800300.us.archive.org/5/items/shakespearessonn01041gut/wssnt10.txt')\n",
        "text = response.text"
      ],
      "metadata": {
        "id": "bhubghZ3wu_a"
      },
      "execution_count": 5,
      "outputs": []
    },
    {
      "cell_type": "code",
      "source": [
        "# making sure the URL presents the text correctly\n",
        "text[:1000]"
      ],
      "metadata": {
        "colab": {
          "base_uri": "https://localhost:8080/",
          "height": 143
        },
        "id": "Wd8OUrSey9yg",
        "outputId": "317a2a14-6ab4-40ed-94ca-9132b2e97d06"
      },
      "execution_count": 19,
      "outputs": [
        {
          "output_type": "execute_result",
          "data": {
            "text/plain": [
              "\"*******The Project Gutenberg Etext of Shakespeare's Sonnets******\\r\\n#2 in our series by William Shakespeare\\r\\n\\r\\n[#1 in our series is the Complete Works of Shakespeare,\\r\\nas presented to use by the World Library, copyrighted.\\r\\nWe will be presenting those as individual plays, now that\\r\\nwe have we have reached the presentation of Etext #1,000]\\r\\n\\r\\nThis Etext was prepared by the Project Gutenberg Shakespeare Team.\\r\\nThis Etext is an independent production presented as Public Domain.\\r\\n\\r\\n\\r\\nCopyright laws are changing all over the world, be sure to check\\r\\nthe copyright laws for your country before posting these files!!\\r\\n\\r\\nPlease take a look at the important information in this header.\\r\\nWe encourage you to keep this file on your own disk, keeping an\\r\\nelectronic path open for the next readers.  Do not remove this.\\r\\n\\r\\n\\r\\n**Welcome To The World of Free Plain Vanilla Electronic Texts**\\r\\n\\r\\n**Etexts Readable By Both Humans and By Computers, Since 1971**\\r\\n\\r\\n*These Etexts Prepared By Hundreds of Volunteers \""
            ],
            "application/vnd.google.colaboratory.intrinsic+json": {
              "type": "string"
            }
          },
          "metadata": {},
          "execution_count": 19
        }
      ]
    },
    {
      "cell_type": "code",
      "source": [
        "# locating the beginning of the actual text\n",
        "text.find('From fairest creatures we desire increase,')"
      ],
      "metadata": {
        "colab": {
          "base_uri": "https://localhost:8080/"
        },
        "id": "AEbl6hWOzZ6k",
        "outputId": "4f8a1c55-fa4c-46d4-e7ea-3483ec340796"
      },
      "execution_count": 7,
      "outputs": [
        {
          "output_type": "execute_result",
          "data": {
            "text/plain": [
              "11875"
            ]
          },
          "metadata": {},
          "execution_count": 7
        }
      ]
    },
    {
      "cell_type": "code",
      "source": [
        "# locating the end of the actual text\n",
        "text.find('End of The Project Gutenberg Etext of Shakespeare')"
      ],
      "metadata": {
        "colab": {
          "base_uri": "https://localhost:8080/"
        },
        "id": "FZsBdXClzrt3",
        "outputId": "ed6ab4cf-bfe6-469b-c56b-fefde0debe8f"
      },
      "execution_count": 9,
      "outputs": [
        {
          "output_type": "execute_result",
          "data": {
            "text/plain": [
              "110188"
            ]
          },
          "metadata": {},
          "execution_count": 9
        }
      ]
    },
    {
      "cell_type": "code",
      "source": [
        "# setting the start and end parameters for the topic model\n",
        "start = 11875\n",
        "end = 110188 -1"
      ],
      "metadata": {
        "id": "S1fs_wBbz9fz"
      },
      "execution_count": 10,
      "outputs": []
    },
    {
      "cell_type": "code",
      "source": [
        "# setting a variable for the text\n",
        "sonnets = text[start:end]"
      ],
      "metadata": {
        "id": "Le4UprST0LLK"
      },
      "execution_count": 11,
      "outputs": []
    },
    {
      "cell_type": "code",
      "source": [
        "sonnets_paras = sonnets.split('\\r\\n\\r\\n')"
      ],
      "metadata": {
        "id": "Qsr0xUBC0WwE"
      },
      "execution_count": 20,
      "outputs": []
    },
    {
      "cell_type": "code",
      "source": [
        "author = []\n",
        "title = []"
      ],
      "metadata": {
        "id": "IWSD6jFU0cfO"
      },
      "execution_count": 21,
      "outputs": []
    },
    {
      "cell_type": "code",
      "source": [
        "for para in sonnets_paras:\n",
        "    author.append('William Shakespeare')\n",
        "    title.append('The Sonnets')"
      ],
      "metadata": {
        "id": "PtLbQ8eq0emx"
      },
      "execution_count": 22,
      "outputs": []
    },
    {
      "cell_type": "code",
      "source": [
        "sonnets_df = pd.DataFrame(list(zip(author, title, sonnets_paras)), columns=['author', 'title', 'text'])"
      ],
      "metadata": {
        "id": "QNX9lW920slq"
      },
      "execution_count": 23,
      "outputs": []
    },
    {
      "cell_type": "code",
      "source": [
        "sonnets_df.head"
      ],
      "metadata": {
        "colab": {
          "base_uri": "https://localhost:8080/"
        },
        "id": "1r7FyLcA0zOm",
        "outputId": "f9e377c8-5473-4941-b282-1cd51d301b7a"
      },
      "execution_count": 24,
      "outputs": [
        {
          "output_type": "execute_result",
          "data": {
            "text/plain": [
              "<bound method NDFrame.head of                   author        title  \\\n",
              "0    William Shakespeare  The Sonnets   \n",
              "1    William Shakespeare  The Sonnets   \n",
              "2    William Shakespeare  The Sonnets   \n",
              "3    William Shakespeare  The Sonnets   \n",
              "4    William Shakespeare  The Sonnets   \n",
              "..                   ...          ...   \n",
              "303  William Shakespeare  The Sonnets   \n",
              "304  William Shakespeare  The Sonnets   \n",
              "305  William Shakespeare  The Sonnets   \n",
              "306  William Shakespeare  The Sonnets   \n",
              "307  William Shakespeare  The Sonnets   \n",
              "\n",
              "                                                  text  \n",
              "0    From fairest creatures we desire increase,\\r\\n...  \n",
              "1                                                   II  \n",
              "2    When forty winters shall besiege thy brow,\\r\\n...  \n",
              "3                                                  III  \n",
              "4    Look in thy glass and tell the face thou viewe...  \n",
              "..                                                 ...  \n",
              "303  Cupid laid by his brand and fell asleep:\\r\\nA ...  \n",
              "304                                               CLIV  \n",
              "305  The little Love-god lying once asleep,\\r\\nLaid...  \n",
              "306                                                     \n",
              "307                                             \\r\\n\\r  \n",
              "\n",
              "[308 rows x 3 columns]>"
            ]
          },
          "metadata": {},
          "execution_count": 24
        }
      ]
    },
    {
      "cell_type": "code",
      "source": [
        "def process_text(text):\n",
        "    \"\"\"Remove new line characters and lemmatize text. Returns string of lemmas\"\"\"\n",
        "    text = text.replace('\\n', ' ')\n",
        "    doc = nlp(text)\n",
        "    tokens = [token for token in doc]\n",
        "    no_stops = [token for token in tokens if not token.is_stop]\n",
        "    no_punct = [token for token in no_stops if token.is_alpha]\n",
        "    lemmas = [token.lemma_ for token in no_punct]\n",
        "    lemmas_lower = [lemma.lower() for lemma in lemmas]\n",
        "    lemmas_string = ' '.join(lemmas_lower)\n",
        "    return lemmas_string"
      ],
      "metadata": {
        "id": "HpA27ur61HGm"
      },
      "execution_count": 25,
      "outputs": []
    },
    {
      "cell_type": "code",
      "source": [
        "sonnets_df['lemmas'] = sonnets_df['text'].apply(process_text)"
      ],
      "metadata": {
        "id": "dkFQy0X-1Mb2"
      },
      "execution_count": 26,
      "outputs": []
    },
    {
      "cell_type": "code",
      "source": [
        "sonnets_df.head"
      ],
      "metadata": {
        "colab": {
          "base_uri": "https://localhost:8080/"
        },
        "id": "LY4cRY5x1SH_",
        "outputId": "e0f9db1a-3f43-48d5-c711-f83eab9db423"
      },
      "execution_count": 27,
      "outputs": [
        {
          "output_type": "execute_result",
          "data": {
            "text/plain": [
              "<bound method NDFrame.head of                   author        title  \\\n",
              "0    William Shakespeare  The Sonnets   \n",
              "1    William Shakespeare  The Sonnets   \n",
              "2    William Shakespeare  The Sonnets   \n",
              "3    William Shakespeare  The Sonnets   \n",
              "4    William Shakespeare  The Sonnets   \n",
              "..                   ...          ...   \n",
              "303  William Shakespeare  The Sonnets   \n",
              "304  William Shakespeare  The Sonnets   \n",
              "305  William Shakespeare  The Sonnets   \n",
              "306  William Shakespeare  The Sonnets   \n",
              "307  William Shakespeare  The Sonnets   \n",
              "\n",
              "                                                  text  \\\n",
              "0    From fairest creatures we desire increase,\\r\\n...   \n",
              "1                                                   II   \n",
              "2    When forty winters shall besiege thy brow,\\r\\n...   \n",
              "3                                                  III   \n",
              "4    Look in thy glass and tell the face thou viewe...   \n",
              "..                                                 ...   \n",
              "303  Cupid laid by his brand and fell asleep:\\r\\nA ...   \n",
              "304                                               CLIV   \n",
              "305  The little Love-god lying once asleep,\\r\\nLaid...   \n",
              "306                                                      \n",
              "307                                             \\r\\n\\r   \n",
              "\n",
              "                                                lemmas  \n",
              "0    fair creature desire increase beauty rose die ...  \n",
              "1                                                   ii  \n",
              "2    winter shall besiege thy brow dig deep trench ...  \n",
              "3                                                  iii  \n",
              "4    look thy glass tell face thou viewest time fac...  \n",
              "..                                                 ...  \n",
              "303  cupid lay brand fall asleep maid dian advantag...  \n",
              "304                                               cliv  \n",
              "305  little love god lie asleep lay heart inflame b...  \n",
              "306                                                     \n",
              "307                                                     \n",
              "\n",
              "[308 rows x 4 columns]>"
            ]
          },
          "metadata": {},
          "execution_count": 27
        }
      ]
    },
    {
      "cell_type": "code",
      "source": [
        "sonnets_df.to_csv('shakespeare_dataframe.csv', index=False)"
      ],
      "metadata": {
        "id": "oJn_GROf1jsD"
      },
      "execution_count": 28,
      "outputs": []
    },
    {
      "cell_type": "code",
      "source": [
        "! pip install funcy"
      ],
      "metadata": {
        "colab": {
          "base_uri": "https://localhost:8080/"
        },
        "id": "Ojs9IX6i2TFD",
        "outputId": "c0cd351f-5cb7-4dcf-a845-7a49ef7b27e4"
      },
      "execution_count": 31,
      "outputs": [
        {
          "output_type": "stream",
          "name": "stdout",
          "text": [
            "Collecting funcy\n",
            "  Downloading funcy-2.0-py2.py3-none-any.whl (30 kB)\n",
            "Installing collected packages: funcy\n",
            "Successfully installed funcy-2.0\n"
          ]
        }
      ]
    },
    {
      "cell_type": "code",
      "source": [
        "! pip install tzdata"
      ],
      "metadata": {
        "colab": {
          "base_uri": "https://localhost:8080/"
        },
        "id": "YWJ1UFqx2XoE",
        "outputId": "238fd411-4bf4-4810-dedc-97a1a8523827"
      },
      "execution_count": 32,
      "outputs": [
        {
          "output_type": "stream",
          "name": "stdout",
          "text": [
            "Collecting tzdata\n",
            "  Downloading tzdata-2023.3-py2.py3-none-any.whl (341 kB)\n",
            "\u001b[?25l     \u001b[90m━━━━━━━━━━━━━━━━━━━━━━━━━━━━━━━━━━━━━━━━\u001b[0m \u001b[32m0.0/341.8 kB\u001b[0m \u001b[31m?\u001b[0m eta \u001b[36m-:--:--\u001b[0m\r\u001b[2K     \u001b[91m━━━━\u001b[0m\u001b[91m╸\u001b[0m\u001b[90m━━━━━━━━━━━━━━━━━━━━━━━━━━━━━━━━━━━\u001b[0m \u001b[32m41.0/341.8 kB\u001b[0m \u001b[31m915.9 kB/s\u001b[0m eta \u001b[36m0:00:01\u001b[0m\r\u001b[2K     \u001b[91m━━━━━━━━━━━━━━━━━━━━━━━━━━━━━━━━━━━━━━━\u001b[0m\u001b[91m╸\u001b[0m \u001b[32m337.9/341.8 kB\u001b[0m \u001b[31m4.7 MB/s\u001b[0m eta \u001b[36m0:00:01\u001b[0m\r\u001b[2K     \u001b[90m━━━━━━━━━━━━━━━━━━━━━━━━━━━━━━━━━━━━━━━━\u001b[0m \u001b[32m341.8/341.8 kB\u001b[0m \u001b[31m4.1 MB/s\u001b[0m eta \u001b[36m0:00:00\u001b[0m\n",
            "\u001b[?25hInstalling collected packages: tzdata\n",
            "Successfully installed tzdata-2023.3\n"
          ]
        }
      ]
    },
    {
      "cell_type": "code",
      "source": [
        "! pip install --no-dependencies pyLDAvis"
      ],
      "metadata": {
        "colab": {
          "base_uri": "https://localhost:8080/"
        },
        "id": "Fg4EH2PQ2bXn",
        "outputId": "960df508-7adf-4556-bca5-6d55bc815ff4"
      },
      "execution_count": 33,
      "outputs": [
        {
          "output_type": "stream",
          "name": "stdout",
          "text": [
            "Collecting pyLDAvis\n",
            "  Downloading pyLDAvis-3.4.1-py3-none-any.whl (2.6 MB)\n",
            "\u001b[2K     \u001b[90m━━━━━━━━━━━━━━━━━━━━━━━━━━━━━━━━━━━━━━━━\u001b[0m \u001b[32m2.6/2.6 MB\u001b[0m \u001b[31m24.8 MB/s\u001b[0m eta \u001b[36m0:00:00\u001b[0m\n",
            "\u001b[?25hInstalling collected packages: pyLDAvis\n",
            "Successfully installed pyLDAvis-3.4.1\n"
          ]
        }
      ]
    },
    {
      "cell_type": "code",
      "source": [
        "! pip install wget"
      ],
      "metadata": {
        "colab": {
          "base_uri": "https://localhost:8080/"
        },
        "id": "1nGzvOw02f-x",
        "outputId": "e03dd157-d04e-4f64-d5fd-36a4240000b3"
      },
      "execution_count": 34,
      "outputs": [
        {
          "output_type": "stream",
          "name": "stdout",
          "text": [
            "Collecting wget\n",
            "  Downloading wget-3.2.zip (10 kB)\n",
            "  Preparing metadata (setup.py) ... \u001b[?25l\u001b[?25hdone\n",
            "Building wheels for collected packages: wget\n",
            "  Building wheel for wget (setup.py) ... \u001b[?25l\u001b[?25hdone\n",
            "  Created wheel for wget: filename=wget-3.2-py3-none-any.whl size=9655 sha256=ab87a246a7bc664dc55c1165c5c52689041f495c7a444c1eb43fecd8f62f93e9\n",
            "  Stored in directory: /root/.cache/pip/wheels/8b/f1/7f/5c94f0a7a505ca1c81cd1d9208ae2064675d97582078e6c769\n",
            "Successfully built wget\n",
            "Installing collected packages: wget\n",
            "Successfully installed wget-3.2\n"
          ]
        }
      ]
    },
    {
      "cell_type": "code",
      "source": [
        "from collections import defaultdict\n",
        "import wget\n",
        "from gensim import corpora, models\n",
        "from google.colab import files  # <-- only necessary if you are using Colab\n",
        "import io # <-- only necessary if you are using Colab\n",
        "import pandas as pd\n",
        "import pyLDAvis.gensim\n",
        "import warnings\n",
        "warnings.filterwarnings(\"ignore\", category=DeprecationWarning)"
      ],
      "metadata": {
        "id": "Z_oLz4YR2hsz"
      },
      "execution_count": 35,
      "outputs": []
    },
    {
      "cell_type": "code",
      "source": [
        "floats= []\n",
        "for d in documents:\n",
        "  if type(d)== float:\n",
        "    floats.append(d)"
      ],
      "metadata": {
        "id": "Esh8SS8C5LP-"
      },
      "execution_count": 50,
      "outputs": []
    },
    {
      "cell_type": "code",
      "source": [
        "floats"
      ],
      "metadata": {
        "colab": {
          "base_uri": "https://localhost:8080/"
        },
        "id": "LMY83kwb5OTI",
        "outputId": "b2c7b47b-b010-430c-9e0f-eb958c548e69"
      },
      "execution_count": 51,
      "outputs": [
        {
          "output_type": "execute_result",
          "data": {
            "text/plain": [
              "[nan, nan]"
            ]
          },
          "metadata": {},
          "execution_count": 51
        }
      ]
    },
    {
      "cell_type": "code",
      "source": [
        "clean = df.dropna()\n",
        "clean"
      ],
      "metadata": {
        "colab": {
          "base_uri": "https://localhost:8080/",
          "height": 424
        },
        "id": "0Vo4bz6j5Tr2",
        "outputId": "490a3ef5-8f57-4915-c1f3-3120bf961b00"
      },
      "execution_count": 52,
      "outputs": [
        {
          "output_type": "execute_result",
          "data": {
            "text/plain": [
              "                  author        title  \\\n",
              "0    William Shakespeare  The Sonnets   \n",
              "1    William Shakespeare  The Sonnets   \n",
              "2    William Shakespeare  The Sonnets   \n",
              "3    William Shakespeare  The Sonnets   \n",
              "4    William Shakespeare  The Sonnets   \n",
              "..                   ...          ...   \n",
              "301  William Shakespeare  The Sonnets   \n",
              "302  William Shakespeare  The Sonnets   \n",
              "303  William Shakespeare  The Sonnets   \n",
              "304  William Shakespeare  The Sonnets   \n",
              "305  William Shakespeare  The Sonnets   \n",
              "\n",
              "                                                  text  \\\n",
              "0    From fairest creatures we desire increase,\\r\\n...   \n",
              "1                                                   II   \n",
              "2    When forty winters shall besiege thy brow,\\r\\n...   \n",
              "3                                                  III   \n",
              "4    Look in thy glass and tell the face thou viewe...   \n",
              "..                                                 ...   \n",
              "301  In loving thee thou know'st I am forsworn,\\r\\n...   \n",
              "302                                              CLIII   \n",
              "303  Cupid laid by his brand and fell asleep:\\r\\nA ...   \n",
              "304                                               CLIV   \n",
              "305  The little Love-god lying once asleep,\\r\\nLaid...   \n",
              "\n",
              "                                                lemmas  \n",
              "0    fair creature desire increase beauty rose die ...  \n",
              "1                                                   ii  \n",
              "2    winter shall besiege thy brow dig deep trench ...  \n",
              "3                                                  iii  \n",
              "4    look thy glass tell face thou viewest time fac...  \n",
              "..                                                 ...  \n",
              "301  love thee thou forsworn thou art twice forswea...  \n",
              "302                                              cliii  \n",
              "303  cupid lay brand fall asleep maid dian advantag...  \n",
              "304                                               cliv  \n",
              "305  little love god lie asleep lay heart inflame b...  \n",
              "\n",
              "[306 rows x 4 columns]"
            ],
            "text/html": [
              "\n",
              "  <div id=\"df-b3c11242-a13a-42ad-8ab7-efe16a5b6b79\" class=\"colab-df-container\">\n",
              "    <div>\n",
              "<style scoped>\n",
              "    .dataframe tbody tr th:only-of-type {\n",
              "        vertical-align: middle;\n",
              "    }\n",
              "\n",
              "    .dataframe tbody tr th {\n",
              "        vertical-align: top;\n",
              "    }\n",
              "\n",
              "    .dataframe thead th {\n",
              "        text-align: right;\n",
              "    }\n",
              "</style>\n",
              "<table border=\"1\" class=\"dataframe\">\n",
              "  <thead>\n",
              "    <tr style=\"text-align: right;\">\n",
              "      <th></th>\n",
              "      <th>author</th>\n",
              "      <th>title</th>\n",
              "      <th>text</th>\n",
              "      <th>lemmas</th>\n",
              "    </tr>\n",
              "  </thead>\n",
              "  <tbody>\n",
              "    <tr>\n",
              "      <th>0</th>\n",
              "      <td>William Shakespeare</td>\n",
              "      <td>The Sonnets</td>\n",
              "      <td>From fairest creatures we desire increase,\\r\\n...</td>\n",
              "      <td>fair creature desire increase beauty rose die ...</td>\n",
              "    </tr>\n",
              "    <tr>\n",
              "      <th>1</th>\n",
              "      <td>William Shakespeare</td>\n",
              "      <td>The Sonnets</td>\n",
              "      <td>II</td>\n",
              "      <td>ii</td>\n",
              "    </tr>\n",
              "    <tr>\n",
              "      <th>2</th>\n",
              "      <td>William Shakespeare</td>\n",
              "      <td>The Sonnets</td>\n",
              "      <td>When forty winters shall besiege thy brow,\\r\\n...</td>\n",
              "      <td>winter shall besiege thy brow dig deep trench ...</td>\n",
              "    </tr>\n",
              "    <tr>\n",
              "      <th>3</th>\n",
              "      <td>William Shakespeare</td>\n",
              "      <td>The Sonnets</td>\n",
              "      <td>III</td>\n",
              "      <td>iii</td>\n",
              "    </tr>\n",
              "    <tr>\n",
              "      <th>4</th>\n",
              "      <td>William Shakespeare</td>\n",
              "      <td>The Sonnets</td>\n",
              "      <td>Look in thy glass and tell the face thou viewe...</td>\n",
              "      <td>look thy glass tell face thou viewest time fac...</td>\n",
              "    </tr>\n",
              "    <tr>\n",
              "      <th>...</th>\n",
              "      <td>...</td>\n",
              "      <td>...</td>\n",
              "      <td>...</td>\n",
              "      <td>...</td>\n",
              "    </tr>\n",
              "    <tr>\n",
              "      <th>301</th>\n",
              "      <td>William Shakespeare</td>\n",
              "      <td>The Sonnets</td>\n",
              "      <td>In loving thee thou know'st I am forsworn,\\r\\n...</td>\n",
              "      <td>love thee thou forsworn thou art twice forswea...</td>\n",
              "    </tr>\n",
              "    <tr>\n",
              "      <th>302</th>\n",
              "      <td>William Shakespeare</td>\n",
              "      <td>The Sonnets</td>\n",
              "      <td>CLIII</td>\n",
              "      <td>cliii</td>\n",
              "    </tr>\n",
              "    <tr>\n",
              "      <th>303</th>\n",
              "      <td>William Shakespeare</td>\n",
              "      <td>The Sonnets</td>\n",
              "      <td>Cupid laid by his brand and fell asleep:\\r\\nA ...</td>\n",
              "      <td>cupid lay brand fall asleep maid dian advantag...</td>\n",
              "    </tr>\n",
              "    <tr>\n",
              "      <th>304</th>\n",
              "      <td>William Shakespeare</td>\n",
              "      <td>The Sonnets</td>\n",
              "      <td>CLIV</td>\n",
              "      <td>cliv</td>\n",
              "    </tr>\n",
              "    <tr>\n",
              "      <th>305</th>\n",
              "      <td>William Shakespeare</td>\n",
              "      <td>The Sonnets</td>\n",
              "      <td>The little Love-god lying once asleep,\\r\\nLaid...</td>\n",
              "      <td>little love god lie asleep lay heart inflame b...</td>\n",
              "    </tr>\n",
              "  </tbody>\n",
              "</table>\n",
              "<p>306 rows × 4 columns</p>\n",
              "</div>\n",
              "    <div class=\"colab-df-buttons\">\n",
              "\n",
              "  <div class=\"colab-df-container\">\n",
              "    <button class=\"colab-df-convert\" onclick=\"convertToInteractive('df-b3c11242-a13a-42ad-8ab7-efe16a5b6b79')\"\n",
              "            title=\"Convert this dataframe to an interactive table.\"\n",
              "            style=\"display:none;\">\n",
              "\n",
              "  <svg xmlns=\"http://www.w3.org/2000/svg\" height=\"24px\" viewBox=\"0 -960 960 960\">\n",
              "    <path d=\"M120-120v-720h720v720H120Zm60-500h600v-160H180v160Zm220 220h160v-160H400v160Zm0 220h160v-160H400v160ZM180-400h160v-160H180v160Zm440 0h160v-160H620v160ZM180-180h160v-160H180v160Zm440 0h160v-160H620v160Z\"/>\n",
              "  </svg>\n",
              "    </button>\n",
              "\n",
              "  <style>\n",
              "    .colab-df-container {\n",
              "      display:flex;\n",
              "      gap: 12px;\n",
              "    }\n",
              "\n",
              "    .colab-df-convert {\n",
              "      background-color: #E8F0FE;\n",
              "      border: none;\n",
              "      border-radius: 50%;\n",
              "      cursor: pointer;\n",
              "      display: none;\n",
              "      fill: #1967D2;\n",
              "      height: 32px;\n",
              "      padding: 0 0 0 0;\n",
              "      width: 32px;\n",
              "    }\n",
              "\n",
              "    .colab-df-convert:hover {\n",
              "      background-color: #E2EBFA;\n",
              "      box-shadow: 0px 1px 2px rgba(60, 64, 67, 0.3), 0px 1px 3px 1px rgba(60, 64, 67, 0.15);\n",
              "      fill: #174EA6;\n",
              "    }\n",
              "\n",
              "    .colab-df-buttons div {\n",
              "      margin-bottom: 4px;\n",
              "    }\n",
              "\n",
              "    [theme=dark] .colab-df-convert {\n",
              "      background-color: #3B4455;\n",
              "      fill: #D2E3FC;\n",
              "    }\n",
              "\n",
              "    [theme=dark] .colab-df-convert:hover {\n",
              "      background-color: #434B5C;\n",
              "      box-shadow: 0px 1px 3px 1px rgba(0, 0, 0, 0.15);\n",
              "      filter: drop-shadow(0px 1px 2px rgba(0, 0, 0, 0.3));\n",
              "      fill: #FFFFFF;\n",
              "    }\n",
              "  </style>\n",
              "\n",
              "    <script>\n",
              "      const buttonEl =\n",
              "        document.querySelector('#df-b3c11242-a13a-42ad-8ab7-efe16a5b6b79 button.colab-df-convert');\n",
              "      buttonEl.style.display =\n",
              "        google.colab.kernel.accessAllowed ? 'block' : 'none';\n",
              "\n",
              "      async function convertToInteractive(key) {\n",
              "        const element = document.querySelector('#df-b3c11242-a13a-42ad-8ab7-efe16a5b6b79');\n",
              "        const dataTable =\n",
              "          await google.colab.kernel.invokeFunction('convertToInteractive',\n",
              "                                                    [key], {});\n",
              "        if (!dataTable) return;\n",
              "\n",
              "        const docLinkHtml = 'Like what you see? Visit the ' +\n",
              "          '<a target=\"_blank\" href=https://colab.research.google.com/notebooks/data_table.ipynb>data table notebook</a>'\n",
              "          + ' to learn more about interactive tables.';\n",
              "        element.innerHTML = '';\n",
              "        dataTable['output_type'] = 'display_data';\n",
              "        await google.colab.output.renderOutput(dataTable, element);\n",
              "        const docLink = document.createElement('div');\n",
              "        docLink.innerHTML = docLinkHtml;\n",
              "        element.appendChild(docLink);\n",
              "      }\n",
              "    </script>\n",
              "  </div>\n",
              "\n",
              "\n",
              "<div id=\"df-b3fc5843-1861-471a-a55e-0e5a246ccd40\">\n",
              "  <button class=\"colab-df-quickchart\" onclick=\"quickchart('df-b3fc5843-1861-471a-a55e-0e5a246ccd40')\"\n",
              "            title=\"Suggest charts\"\n",
              "            style=\"display:none;\">\n",
              "\n",
              "<svg xmlns=\"http://www.w3.org/2000/svg\" height=\"24px\"viewBox=\"0 0 24 24\"\n",
              "     width=\"24px\">\n",
              "    <g>\n",
              "        <path d=\"M19 3H5c-1.1 0-2 .9-2 2v14c0 1.1.9 2 2 2h14c1.1 0 2-.9 2-2V5c0-1.1-.9-2-2-2zM9 17H7v-7h2v7zm4 0h-2V7h2v10zm4 0h-2v-4h2v4z\"/>\n",
              "    </g>\n",
              "</svg>\n",
              "  </button>\n",
              "\n",
              "<style>\n",
              "  .colab-df-quickchart {\n",
              "      --bg-color: #E8F0FE;\n",
              "      --fill-color: #1967D2;\n",
              "      --hover-bg-color: #E2EBFA;\n",
              "      --hover-fill-color: #174EA6;\n",
              "      --disabled-fill-color: #AAA;\n",
              "      --disabled-bg-color: #DDD;\n",
              "  }\n",
              "\n",
              "  [theme=dark] .colab-df-quickchart {\n",
              "      --bg-color: #3B4455;\n",
              "      --fill-color: #D2E3FC;\n",
              "      --hover-bg-color: #434B5C;\n",
              "      --hover-fill-color: #FFFFFF;\n",
              "      --disabled-bg-color: #3B4455;\n",
              "      --disabled-fill-color: #666;\n",
              "  }\n",
              "\n",
              "  .colab-df-quickchart {\n",
              "    background-color: var(--bg-color);\n",
              "    border: none;\n",
              "    border-radius: 50%;\n",
              "    cursor: pointer;\n",
              "    display: none;\n",
              "    fill: var(--fill-color);\n",
              "    height: 32px;\n",
              "    padding: 0;\n",
              "    width: 32px;\n",
              "  }\n",
              "\n",
              "  .colab-df-quickchart:hover {\n",
              "    background-color: var(--hover-bg-color);\n",
              "    box-shadow: 0 1px 2px rgba(60, 64, 67, 0.3), 0 1px 3px 1px rgba(60, 64, 67, 0.15);\n",
              "    fill: var(--button-hover-fill-color);\n",
              "  }\n",
              "\n",
              "  .colab-df-quickchart-complete:disabled,\n",
              "  .colab-df-quickchart-complete:disabled:hover {\n",
              "    background-color: var(--disabled-bg-color);\n",
              "    fill: var(--disabled-fill-color);\n",
              "    box-shadow: none;\n",
              "  }\n",
              "\n",
              "  .colab-df-spinner {\n",
              "    border: 2px solid var(--fill-color);\n",
              "    border-color: transparent;\n",
              "    border-bottom-color: var(--fill-color);\n",
              "    animation:\n",
              "      spin 1s steps(1) infinite;\n",
              "  }\n",
              "\n",
              "  @keyframes spin {\n",
              "    0% {\n",
              "      border-color: transparent;\n",
              "      border-bottom-color: var(--fill-color);\n",
              "      border-left-color: var(--fill-color);\n",
              "    }\n",
              "    20% {\n",
              "      border-color: transparent;\n",
              "      border-left-color: var(--fill-color);\n",
              "      border-top-color: var(--fill-color);\n",
              "    }\n",
              "    30% {\n",
              "      border-color: transparent;\n",
              "      border-left-color: var(--fill-color);\n",
              "      border-top-color: var(--fill-color);\n",
              "      border-right-color: var(--fill-color);\n",
              "    }\n",
              "    40% {\n",
              "      border-color: transparent;\n",
              "      border-right-color: var(--fill-color);\n",
              "      border-top-color: var(--fill-color);\n",
              "    }\n",
              "    60% {\n",
              "      border-color: transparent;\n",
              "      border-right-color: var(--fill-color);\n",
              "    }\n",
              "    80% {\n",
              "      border-color: transparent;\n",
              "      border-right-color: var(--fill-color);\n",
              "      border-bottom-color: var(--fill-color);\n",
              "    }\n",
              "    90% {\n",
              "      border-color: transparent;\n",
              "      border-bottom-color: var(--fill-color);\n",
              "    }\n",
              "  }\n",
              "</style>\n",
              "\n",
              "  <script>\n",
              "    async function quickchart(key) {\n",
              "      const quickchartButtonEl =\n",
              "        document.querySelector('#' + key + ' button');\n",
              "      quickchartButtonEl.disabled = true;  // To prevent multiple clicks.\n",
              "      quickchartButtonEl.classList.add('colab-df-spinner');\n",
              "      try {\n",
              "        const charts = await google.colab.kernel.invokeFunction(\n",
              "            'suggestCharts', [key], {});\n",
              "      } catch (error) {\n",
              "        console.error('Error during call to suggestCharts:', error);\n",
              "      }\n",
              "      quickchartButtonEl.classList.remove('colab-df-spinner');\n",
              "      quickchartButtonEl.classList.add('colab-df-quickchart-complete');\n",
              "    }\n",
              "    (() => {\n",
              "      let quickchartButtonEl =\n",
              "        document.querySelector('#df-b3fc5843-1861-471a-a55e-0e5a246ccd40 button');\n",
              "      quickchartButtonEl.style.display =\n",
              "        google.colab.kernel.accessAllowed ? 'block' : 'none';\n",
              "    })();\n",
              "  </script>\n",
              "</div>\n",
              "    </div>\n",
              "  </div>\n"
            ]
          },
          "metadata": {},
          "execution_count": 52
        }
      ]
    },
    {
      "cell_type": "code",
      "source": [
        "clean.to_csv('shakespeare_dataframe_clean.csv')"
      ],
      "metadata": {
        "id": "KKlwMRzg5YtY"
      },
      "execution_count": 54,
      "outputs": []
    },
    {
      "cell_type": "code",
      "source": [
        "df = pd.read_csv('shakespeare_dataframe_clean.csv')"
      ],
      "metadata": {
        "id": "sziMhDv55uYg"
      },
      "execution_count": 55,
      "outputs": []
    },
    {
      "cell_type": "code",
      "source": [
        "df.head()"
      ],
      "metadata": {
        "colab": {
          "base_uri": "https://localhost:8080/",
          "height": 206
        },
        "id": "KVJv5AQ455GI",
        "outputId": "c1c9f140-33e5-4b0f-db3b-0853e4c5dfbe"
      },
      "execution_count": 56,
      "outputs": [
        {
          "output_type": "execute_result",
          "data": {
            "text/plain": [
              "   Unnamed: 0               author        title  \\\n",
              "0           0  William Shakespeare  The Sonnets   \n",
              "1           1  William Shakespeare  The Sonnets   \n",
              "2           2  William Shakespeare  The Sonnets   \n",
              "3           3  William Shakespeare  The Sonnets   \n",
              "4           4  William Shakespeare  The Sonnets   \n",
              "\n",
              "                                                text  \\\n",
              "0  From fairest creatures we desire increase,\\r\\n...   \n",
              "1                                                 II   \n",
              "2  When forty winters shall besiege thy brow,\\r\\n...   \n",
              "3                                                III   \n",
              "4  Look in thy glass and tell the face thou viewe...   \n",
              "\n",
              "                                              lemmas  \n",
              "0  fair creature desire increase beauty rose die ...  \n",
              "1                                                 ii  \n",
              "2  winter shall besiege thy brow dig deep trench ...  \n",
              "3                                                iii  \n",
              "4  look thy glass tell face thou viewest time fac...  "
            ],
            "text/html": [
              "\n",
              "  <div id=\"df-24999e48-8330-4099-9e79-eda5ea58cb8b\" class=\"colab-df-container\">\n",
              "    <div>\n",
              "<style scoped>\n",
              "    .dataframe tbody tr th:only-of-type {\n",
              "        vertical-align: middle;\n",
              "    }\n",
              "\n",
              "    .dataframe tbody tr th {\n",
              "        vertical-align: top;\n",
              "    }\n",
              "\n",
              "    .dataframe thead th {\n",
              "        text-align: right;\n",
              "    }\n",
              "</style>\n",
              "<table border=\"1\" class=\"dataframe\">\n",
              "  <thead>\n",
              "    <tr style=\"text-align: right;\">\n",
              "      <th></th>\n",
              "      <th>Unnamed: 0</th>\n",
              "      <th>author</th>\n",
              "      <th>title</th>\n",
              "      <th>text</th>\n",
              "      <th>lemmas</th>\n",
              "    </tr>\n",
              "  </thead>\n",
              "  <tbody>\n",
              "    <tr>\n",
              "      <th>0</th>\n",
              "      <td>0</td>\n",
              "      <td>William Shakespeare</td>\n",
              "      <td>The Sonnets</td>\n",
              "      <td>From fairest creatures we desire increase,\\r\\n...</td>\n",
              "      <td>fair creature desire increase beauty rose die ...</td>\n",
              "    </tr>\n",
              "    <tr>\n",
              "      <th>1</th>\n",
              "      <td>1</td>\n",
              "      <td>William Shakespeare</td>\n",
              "      <td>The Sonnets</td>\n",
              "      <td>II</td>\n",
              "      <td>ii</td>\n",
              "    </tr>\n",
              "    <tr>\n",
              "      <th>2</th>\n",
              "      <td>2</td>\n",
              "      <td>William Shakespeare</td>\n",
              "      <td>The Sonnets</td>\n",
              "      <td>When forty winters shall besiege thy brow,\\r\\n...</td>\n",
              "      <td>winter shall besiege thy brow dig deep trench ...</td>\n",
              "    </tr>\n",
              "    <tr>\n",
              "      <th>3</th>\n",
              "      <td>3</td>\n",
              "      <td>William Shakespeare</td>\n",
              "      <td>The Sonnets</td>\n",
              "      <td>III</td>\n",
              "      <td>iii</td>\n",
              "    </tr>\n",
              "    <tr>\n",
              "      <th>4</th>\n",
              "      <td>4</td>\n",
              "      <td>William Shakespeare</td>\n",
              "      <td>The Sonnets</td>\n",
              "      <td>Look in thy glass and tell the face thou viewe...</td>\n",
              "      <td>look thy glass tell face thou viewest time fac...</td>\n",
              "    </tr>\n",
              "  </tbody>\n",
              "</table>\n",
              "</div>\n",
              "    <div class=\"colab-df-buttons\">\n",
              "\n",
              "  <div class=\"colab-df-container\">\n",
              "    <button class=\"colab-df-convert\" onclick=\"convertToInteractive('df-24999e48-8330-4099-9e79-eda5ea58cb8b')\"\n",
              "            title=\"Convert this dataframe to an interactive table.\"\n",
              "            style=\"display:none;\">\n",
              "\n",
              "  <svg xmlns=\"http://www.w3.org/2000/svg\" height=\"24px\" viewBox=\"0 -960 960 960\">\n",
              "    <path d=\"M120-120v-720h720v720H120Zm60-500h600v-160H180v160Zm220 220h160v-160H400v160Zm0 220h160v-160H400v160ZM180-400h160v-160H180v160Zm440 0h160v-160H620v160ZM180-180h160v-160H180v160Zm440 0h160v-160H620v160Z\"/>\n",
              "  </svg>\n",
              "    </button>\n",
              "\n",
              "  <style>\n",
              "    .colab-df-container {\n",
              "      display:flex;\n",
              "      gap: 12px;\n",
              "    }\n",
              "\n",
              "    .colab-df-convert {\n",
              "      background-color: #E8F0FE;\n",
              "      border: none;\n",
              "      border-radius: 50%;\n",
              "      cursor: pointer;\n",
              "      display: none;\n",
              "      fill: #1967D2;\n",
              "      height: 32px;\n",
              "      padding: 0 0 0 0;\n",
              "      width: 32px;\n",
              "    }\n",
              "\n",
              "    .colab-df-convert:hover {\n",
              "      background-color: #E2EBFA;\n",
              "      box-shadow: 0px 1px 2px rgba(60, 64, 67, 0.3), 0px 1px 3px 1px rgba(60, 64, 67, 0.15);\n",
              "      fill: #174EA6;\n",
              "    }\n",
              "\n",
              "    .colab-df-buttons div {\n",
              "      margin-bottom: 4px;\n",
              "    }\n",
              "\n",
              "    [theme=dark] .colab-df-convert {\n",
              "      background-color: #3B4455;\n",
              "      fill: #D2E3FC;\n",
              "    }\n",
              "\n",
              "    [theme=dark] .colab-df-convert:hover {\n",
              "      background-color: #434B5C;\n",
              "      box-shadow: 0px 1px 3px 1px rgba(0, 0, 0, 0.15);\n",
              "      filter: drop-shadow(0px 1px 2px rgba(0, 0, 0, 0.3));\n",
              "      fill: #FFFFFF;\n",
              "    }\n",
              "  </style>\n",
              "\n",
              "    <script>\n",
              "      const buttonEl =\n",
              "        document.querySelector('#df-24999e48-8330-4099-9e79-eda5ea58cb8b button.colab-df-convert');\n",
              "      buttonEl.style.display =\n",
              "        google.colab.kernel.accessAllowed ? 'block' : 'none';\n",
              "\n",
              "      async function convertToInteractive(key) {\n",
              "        const element = document.querySelector('#df-24999e48-8330-4099-9e79-eda5ea58cb8b');\n",
              "        const dataTable =\n",
              "          await google.colab.kernel.invokeFunction('convertToInteractive',\n",
              "                                                    [key], {});\n",
              "        if (!dataTable) return;\n",
              "\n",
              "        const docLinkHtml = 'Like what you see? Visit the ' +\n",
              "          '<a target=\"_blank\" href=https://colab.research.google.com/notebooks/data_table.ipynb>data table notebook</a>'\n",
              "          + ' to learn more about interactive tables.';\n",
              "        element.innerHTML = '';\n",
              "        dataTable['output_type'] = 'display_data';\n",
              "        await google.colab.output.renderOutput(dataTable, element);\n",
              "        const docLink = document.createElement('div');\n",
              "        docLink.innerHTML = docLinkHtml;\n",
              "        element.appendChild(docLink);\n",
              "      }\n",
              "    </script>\n",
              "  </div>\n",
              "\n",
              "\n",
              "<div id=\"df-4e6e1e3b-d826-481e-bf58-a132d519e64d\">\n",
              "  <button class=\"colab-df-quickchart\" onclick=\"quickchart('df-4e6e1e3b-d826-481e-bf58-a132d519e64d')\"\n",
              "            title=\"Suggest charts\"\n",
              "            style=\"display:none;\">\n",
              "\n",
              "<svg xmlns=\"http://www.w3.org/2000/svg\" height=\"24px\"viewBox=\"0 0 24 24\"\n",
              "     width=\"24px\">\n",
              "    <g>\n",
              "        <path d=\"M19 3H5c-1.1 0-2 .9-2 2v14c0 1.1.9 2 2 2h14c1.1 0 2-.9 2-2V5c0-1.1-.9-2-2-2zM9 17H7v-7h2v7zm4 0h-2V7h2v10zm4 0h-2v-4h2v4z\"/>\n",
              "    </g>\n",
              "</svg>\n",
              "  </button>\n",
              "\n",
              "<style>\n",
              "  .colab-df-quickchart {\n",
              "      --bg-color: #E8F0FE;\n",
              "      --fill-color: #1967D2;\n",
              "      --hover-bg-color: #E2EBFA;\n",
              "      --hover-fill-color: #174EA6;\n",
              "      --disabled-fill-color: #AAA;\n",
              "      --disabled-bg-color: #DDD;\n",
              "  }\n",
              "\n",
              "  [theme=dark] .colab-df-quickchart {\n",
              "      --bg-color: #3B4455;\n",
              "      --fill-color: #D2E3FC;\n",
              "      --hover-bg-color: #434B5C;\n",
              "      --hover-fill-color: #FFFFFF;\n",
              "      --disabled-bg-color: #3B4455;\n",
              "      --disabled-fill-color: #666;\n",
              "  }\n",
              "\n",
              "  .colab-df-quickchart {\n",
              "    background-color: var(--bg-color);\n",
              "    border: none;\n",
              "    border-radius: 50%;\n",
              "    cursor: pointer;\n",
              "    display: none;\n",
              "    fill: var(--fill-color);\n",
              "    height: 32px;\n",
              "    padding: 0;\n",
              "    width: 32px;\n",
              "  }\n",
              "\n",
              "  .colab-df-quickchart:hover {\n",
              "    background-color: var(--hover-bg-color);\n",
              "    box-shadow: 0 1px 2px rgba(60, 64, 67, 0.3), 0 1px 3px 1px rgba(60, 64, 67, 0.15);\n",
              "    fill: var(--button-hover-fill-color);\n",
              "  }\n",
              "\n",
              "  .colab-df-quickchart-complete:disabled,\n",
              "  .colab-df-quickchart-complete:disabled:hover {\n",
              "    background-color: var(--disabled-bg-color);\n",
              "    fill: var(--disabled-fill-color);\n",
              "    box-shadow: none;\n",
              "  }\n",
              "\n",
              "  .colab-df-spinner {\n",
              "    border: 2px solid var(--fill-color);\n",
              "    border-color: transparent;\n",
              "    border-bottom-color: var(--fill-color);\n",
              "    animation:\n",
              "      spin 1s steps(1) infinite;\n",
              "  }\n",
              "\n",
              "  @keyframes spin {\n",
              "    0% {\n",
              "      border-color: transparent;\n",
              "      border-bottom-color: var(--fill-color);\n",
              "      border-left-color: var(--fill-color);\n",
              "    }\n",
              "    20% {\n",
              "      border-color: transparent;\n",
              "      border-left-color: var(--fill-color);\n",
              "      border-top-color: var(--fill-color);\n",
              "    }\n",
              "    30% {\n",
              "      border-color: transparent;\n",
              "      border-left-color: var(--fill-color);\n",
              "      border-top-color: var(--fill-color);\n",
              "      border-right-color: var(--fill-color);\n",
              "    }\n",
              "    40% {\n",
              "      border-color: transparent;\n",
              "      border-right-color: var(--fill-color);\n",
              "      border-top-color: var(--fill-color);\n",
              "    }\n",
              "    60% {\n",
              "      border-color: transparent;\n",
              "      border-right-color: var(--fill-color);\n",
              "    }\n",
              "    80% {\n",
              "      border-color: transparent;\n",
              "      border-right-color: var(--fill-color);\n",
              "      border-bottom-color: var(--fill-color);\n",
              "    }\n",
              "    90% {\n",
              "      border-color: transparent;\n",
              "      border-bottom-color: var(--fill-color);\n",
              "    }\n",
              "  }\n",
              "</style>\n",
              "\n",
              "  <script>\n",
              "    async function quickchart(key) {\n",
              "      const quickchartButtonEl =\n",
              "        document.querySelector('#' + key + ' button');\n",
              "      quickchartButtonEl.disabled = true;  // To prevent multiple clicks.\n",
              "      quickchartButtonEl.classList.add('colab-df-spinner');\n",
              "      try {\n",
              "        const charts = await google.colab.kernel.invokeFunction(\n",
              "            'suggestCharts', [key], {});\n",
              "      } catch (error) {\n",
              "        console.error('Error during call to suggestCharts:', error);\n",
              "      }\n",
              "      quickchartButtonEl.classList.remove('colab-df-spinner');\n",
              "      quickchartButtonEl.classList.add('colab-df-quickchart-complete');\n",
              "    }\n",
              "    (() => {\n",
              "      let quickchartButtonEl =\n",
              "        document.querySelector('#df-4e6e1e3b-d826-481e-bf58-a132d519e64d button');\n",
              "      quickchartButtonEl.style.display =\n",
              "        google.colab.kernel.accessAllowed ? 'block' : 'none';\n",
              "    })();\n",
              "  </script>\n",
              "</div>\n",
              "    </div>\n",
              "  </div>\n"
            ]
          },
          "metadata": {},
          "execution_count": 56
        }
      ]
    },
    {
      "cell_type": "code",
      "source": [
        "documents = df['lemmas'].to_list()"
      ],
      "metadata": {
        "id": "oR3p8OJK6Dd9"
      },
      "execution_count": 57,
      "outputs": []
    },
    {
      "cell_type": "code",
      "source": [
        "texts =[\n",
        "    [word for word in document.lower().split()]\n",
        "    for document in documents\n",
        "]"
      ],
      "metadata": {
        "id": "gRW1TAqu6GDF"
      },
      "execution_count": 58,
      "outputs": []
    },
    {
      "cell_type": "code",
      "source": [
        "frequency = defaultdict(int)\n",
        "for text in texts:\n",
        "  for token in text:\n",
        "    frequency[token] += 1"
      ],
      "metadata": {
        "id": "E95tMx366I6T"
      },
      "execution_count": 59,
      "outputs": []
    },
    {
      "cell_type": "code",
      "source": [
        "texts = [\n",
        "    [token for token in text if frequency[token] > 1]\n",
        "    for text in texts\n",
        "]"
      ],
      "metadata": {
        "id": "9THJr3DF6XYL"
      },
      "execution_count": 60,
      "outputs": []
    },
    {
      "cell_type": "code",
      "source": [
        "dictionary = corpora.Dictionary(texts)"
      ],
      "metadata": {
        "id": "M3MQqNBs6bky"
      },
      "execution_count": 61,
      "outputs": []
    },
    {
      "cell_type": "code",
      "source": [
        "corpus = [dictionary.doc2bow(text) for text in texts]"
      ],
      "metadata": {
        "id": "riPDc5y76kPZ"
      },
      "execution_count": 62,
      "outputs": []
    },
    {
      "cell_type": "code",
      "source": [
        "lda_model = models.LdaModel(corpus=corpus, id2word=dictionary, num_topics=20, passes=50)"
      ],
      "metadata": {
        "id": "UsnzdwVV6nXD"
      },
      "execution_count": 64,
      "outputs": []
    },
    {
      "cell_type": "code",
      "source": [
        "pyLDAvis.enable_notebook()\n",
        "vis = pyLDAvis.gensim.prepare(lda_model, corpus, dictionary)\n",
        "vis"
      ],
      "metadata": {
        "colab": {
          "base_uri": "https://localhost:8080/",
          "height": 861
        },
        "id": "u1H2MY7z6s0U",
        "outputId": "3b06dbf0-2af0-4a3a-c453-dba21e5a19b3"
      },
      "execution_count": 65,
      "outputs": [
        {
          "output_type": "execute_result",
          "data": {
            "text/plain": [
              "PreparedData(topic_coordinates=              x         y  topics  cluster       Freq\n",
              "topic                                                \n",
              "3      0.034219 -0.115500       1        1  10.344032\n",
              "16     0.061293 -0.084147       2        1   9.178859\n",
              "1      0.087668 -0.001093       3        1   8.880370\n",
              "4      0.084603  0.016578       4        1   8.413487\n",
              "5      0.094256 -0.004544       5        1   6.663304\n",
              "6      0.072981 -0.033846       6        1   6.390274\n",
              "18     0.047262 -0.023672       7        1   6.024849\n",
              "11     0.002504  0.035251       8        1   5.417387\n",
              "9      0.072528  0.072114       9        1   4.987791\n",
              "13    -0.095240 -0.154581      10        1   4.971760\n",
              "2      0.048221  0.056445      11        1   4.965540\n",
              "0      0.046690  0.050378      12        1   4.395359\n",
              "17     0.056798 -0.049218      13        1   4.123346\n",
              "7      0.040120  0.098723      14        1   3.045441\n",
              "14    -0.137193 -0.130886      15        1   3.012220\n",
              "8     -0.088826 -0.016409      16        1   2.884925\n",
              "12     0.000037  0.063300      17        1   2.469362\n",
              "15    -0.064910  0.064465      18        1   1.865967\n",
              "19    -0.219675  0.094823      19        1   1.227497\n",
              "10    -0.143338  0.061822      20        1   0.738229, topic_info=      Term        Freq       Total Category  logprob  loglift\n",
              "38     thy  248.000000  248.000000  Default  30.0000  30.0000\n",
              "37    thou  209.000000  209.000000  Default  29.0000  29.0000\n",
              "35    thee  143.000000  143.000000  Default  28.0000  28.0000\n",
              "39    time   69.000000   69.000000  Default  27.0000  27.0000\n",
              "15     eye   81.000000   81.000000  Default  26.0000  26.0000\n",
              "..     ...         ...         ...      ...      ...      ...\n",
              "68   worth    0.567348   19.212714  Topic20  -4.5103   1.3863\n",
              "318    man    0.567348   24.388841  Topic20  -4.5103   1.1478\n",
              "2     bear    0.567348   25.398821  Topic20  -4.5103   1.1072\n",
              "129   hour    0.567348   14.067743  Topic20  -4.5103   1.6980\n",
              "234   away    0.567348   16.436535  Topic20  -4.5103   1.5424\n",
              "\n",
              "[1215 rows x 6 columns], token_table=      Topic      Freq      Term\n",
              "term                           \n",
              "1003      9  0.774075     abhor\n",
              "629       4  0.387382   absence\n",
              "629       5  0.193691   absence\n",
              "629      15  0.193691   absence\n",
              "629      17  0.193691   absence\n",
              "...     ...       ...       ...\n",
              "69        9  0.066826     youth\n",
              "69       11  0.133651     youth\n",
              "69       18  0.133651     youth\n",
              "331       8  0.406841  youthful\n",
              "331      18  0.406841  youthful\n",
              "\n",
              "[2705 rows x 3 columns], R=30, lambda_step=0.01, plot_opts={'xlab': 'PC1', 'ylab': 'PC2'}, topic_order=[4, 17, 2, 5, 6, 7, 19, 12, 10, 14, 3, 1, 18, 8, 15, 9, 13, 16, 20, 11])"
            ],
            "text/html": [
              "\n",
              "<link rel=\"stylesheet\" type=\"text/css\" href=\"https://cdn.jsdelivr.net/gh/bmabey/pyLDAvis@3.4.0/pyLDAvis/js/ldavis.v1.0.0.css\">\n",
              "\n",
              "\n",
              "<div id=\"ldavis_el19041329794682894088267306233\" style=\"background-color:white;\"></div>\n",
              "<script type=\"text/javascript\">\n",
              "\n",
              "var ldavis_el19041329794682894088267306233_data = {\"mdsDat\": {\"x\": [0.034219403128623184, 0.06129347327017346, 0.08766758274024616, 0.08460336568861433, 0.09425598408558569, 0.07298067468088208, 0.0472623098406963, 0.0025039704130473744, 0.07252807484290083, -0.09523985575859506, 0.04822127654159112, 0.046690236019445004, 0.05679791231804761, 0.04012033834022284, -0.13719270515007678, -0.088825797245121, 3.6649155851445296e-05, -0.06490955890752048, -0.2196754034178462, -0.14333793058676791], \"y\": [-0.11549987380357721, -0.08414699746104742, -0.0010934598071700007, 0.016577527070687513, -0.004543831122190912, -0.03384624967337264, -0.023671930918370457, 0.035250682327956036, 0.07211393855834651, -0.1545813289555052, 0.05644497398031809, 0.050377663383507174, -0.04921818167450279, 0.09872276039333534, -0.13088621310298884, -0.016409220156732105, 0.06330012503823199, 0.0644645756122821, 0.09482343829252582, 0.061821602018267675], \"topics\": [1, 2, 3, 4, 5, 6, 7, 8, 9, 10, 11, 12, 13, 14, 15, 16, 17, 18, 19, 20], \"cluster\": [1, 1, 1, 1, 1, 1, 1, 1, 1, 1, 1, 1, 1, 1, 1, 1, 1, 1, 1, 1], \"Freq\": [10.344032390166518, 9.178859415901735, 8.880370226744375, 8.413487147714681, 6.663304372313929, 6.390273723874768, 6.024848588889379, 5.417386786747265, 4.987790799374333, 4.971760407357522, 4.965540033411002, 4.395358645246592, 4.1233464920252665, 3.045441177982764, 3.0122199347573675, 2.8849247126959026, 2.4693620003061176, 1.865967242563708, 1.227497277698633, 0.7382286242281438]}, \"tinfo\": {\"Term\": [\"thy\", \"thou\", \"thee\", \"time\", \"eye\", \"love\", \"self\", \"live\", \"shall\", \"heart\", \"face\", \"life\", \"world\", \"day\", \"sweet\", \"o\", \"beauty\", \"man\", \"sun\", \"summer\", \"fair\", \"away\", \"worth\", \"happy\", \"hold\", \"thought\", \"night\", \"hour\", \"line\", \"flower\", \"poet\", \"angel\", \"invention\", \"style\", \"argument\", \"wondrous\", \"ignorance\", \"blessing\", \"paper\", \"muse\", \"word\", \"high\", \"mend\", \"subject\", \"despair\", \"colour\", \"tend\", \"corrupt\", \"outlive\", \"lend\", \"verse\", \"painting\", \"afford\", \"silence\", \"constant\", \"wert\", \"admire\", \"dumb\", \"express\", \"show\", \"number\", \"write\", \"fair\", \"grace\", \"truth\", \"tell\", \"mad\", \"beauty\", \"kind\", \"shape\", \"praise\", \"bad\", \"need\", \"sweet\", \"doth\", \"eye\", \"well\", \"true\", \"art\", \"thou\", \"live\", \"new\", \"love\", \"find\", \"hath\", \"thee\", \"o\", \"thy\", \"heart\", \"know\", \"dost\", \"look\", \"conscience\", \"hadst\", \"fulfil\", \"sway\", \"deceased\", \"proof\", \"lest\", \"watch\", \"betray\", \"drink\", \"simple\", \"pure\", \"farth\", \"flattery\", \"desert\", \"exceed\", \"wherefore\", \"tis\", \"rise\", \"young\", \"triumphant\", \"alchemy\", \"break\", \"perfection\", \"gate\", \"robbery\", \"shame\", \"autumn\", \"affair\", \"admit\", \"great\", \"content\", \"body\", \"love\", \"near\", \"prove\", \"deed\", \"true\", \"know\", \"o\", \"good\", \"thy\", \"false\", \"thou\", \"like\", \"eye\", \"man\", \"state\", \"soul\", \"doth\", \"bear\", \"day\", \"lie\", \"thee\", \"think\", \"truth\", \"sight\", \"sweet\", \"dear\", \"heaven\", \"mind\", \"self\", \"see\", \"follow\", \"catch\", \"lo\", \"limb\", \"pilgrimage\", \"expire\", \"map\", \"forbear\", \"chase\", \"mightst\", \"pitch\", \"creature\", \"vile\", \"pretty\", \"son\", \"turn\", \"dial\", \"second\", \"fly\", \"head\", \"away\", \"lead\", \"bird\", \"commit\", \"babe\", \"weary\", \"bed\", \"anon\", \"gentle\", \"count\", \"look\", \"sight\", \"mind\", \"thy\", \"youth\", \"beauty\", \"mayst\", \"thou\", \"night\", \"day\", \"face\", \"art\", \"heart\", \"new\", \"like\", \"thee\", \"leave\", \"see\", \"doth\", \"make\", \"eye\", \"thine\", \"live\", \"sweet\", \"love\", \"thought\", \"hate\", \"guard\", \"ward\", \"lame\", \"trifle\", \"willing\", \"ye\", \"depart\", \"picture\", \"leisure\", \"ransom\", \"feel\", \"hard\", \"bosom\", \"twain\", \"survey\", \"torment\", \"sake\", \"steel\", \"friend\", \"take\", \"substance\", \"comfort\", \"manner\", \"part\", \"offender\", \"engraft\", \"spoil\", \"return\", \"guest\", \"sour\", \"absence\", \"soon\", \"bury\", \"breed\", \"time\", \"wish\", \"heart\", \"happy\", \"thou\", \"art\", \"love\", \"self\", \"leave\", \"thee\", \"thy\", \"thought\", \"doth\", \"dear\", \"lose\", \"hast\", \"give\", \"eye\", \"good\", \"poor\", \"thine\", \"hath\", \"o\", \"loss\", \"let\", \"hand\", \"live\", \"sweet\", \"find\", \"drop\", \"antiquity\", \"unthrift\", \"dust\", \"wait\", \"cover\", \"slander\", \"suspect\", \"deny\", \"spite\", \"sweetest\", \"account\", \"control\", \"beat\", \"ink\", \"issue\", \"murderous\", \"charter\", \"bind\", \"forfeit\", \"vice\", \"speechless\", \"vassal\", \"rime\", \"presence\", \"kingdom\", \"husbandry\", \"owe\", \"victor\", \"register\", \"lease\", \"ground\", \"gracious\", \"injury\", \"sin\", \"self\", \"shalt\", \"hate\", \"eternal\", \"seek\", \"ornament\", \"merit\", \"shape\", \"pity\", \"thou\", \"compare\", \"love\", \"thine\", \"thy\", \"come\", \"woe\", \"o\", \"thee\", \"day\", \"heart\", \"time\", \"wilt\", \"art\", \"beauty\", \"find\", \"doth\", \"death\", \"live\", \"age\", \"shall\", \"fair\", \"sweet\", \"hath\", \"worth\", \"eye\", \"true\", \"let\", \"praise\", \"oath\", \"duty\", \"besiege\", \"small\", \"dark\", \"bright\", \"deep\", \"vow\", \"clear\", \"bare\", \"swear\", \"story\", \"outward\", \"shade\", \"toil\", \"common\", \"odour\", \"rotten\", \"physic\", \"canopy\", \"night\", \"fever\", \"wink\", \"benefit\", \"mutual\", \"voice\", \"soil\", \"strongly\", \"aught\", \"yield\", \"dream\", \"shadow\", \"faith\", \"draw\", \"day\", \"soul\", \"wit\", \"sleep\", \"form\", \"heavy\", \"thee\", \"shall\", \"thy\", \"eye\", \"praise\", \"fair\", \"truth\", \"doth\", \"thou\", \"hath\", \"love\", \"thought\", \"art\", \"till\", \"lie\", \"new\", \"far\", \"world\", \"tongue\", \"look\", \"horse\", \"cool\", \"glad\", \"garment\", \"hawk\", \"woman\", \"swift\", \"general\", \"haste\", \"motion\", \"mourn\", \"present\", \"burn\", \"course\", \"blunt\", \"little\", \"morning\", \"asleep\", \"service\", \"perpetual\", \"humour\", \"pattern\", \"master\", \"shift\", \"allow\", \"nay\", \"slight\", \"fashion\", \"fierce\", \"adjunct\", \"brand\", \"fire\", \"desire\", \"heat\", \"boast\", \"water\", \"birth\", \"change\", \"vow\", \"despite\", \"hue\", \"man\", \"wealth\", \"thee\", \"thy\", \"love\", \"thou\", \"grow\", \"time\", \"heart\", \"doth\", \"eye\", \"hand\", \"know\", \"life\", \"thing\", \"lie\", \"take\", \"good\", \"o\", \"thine\", \"self\", \"fair\", \"beauty\", \"review\", \"vanish\", \"bitter\", \"injurious\", \"copy\", \"vouchsafe\", \"receive\", \"rain\", \"matter\", \"large\", \"infection\", \"mean\", \"line\", \"rank\", \"sick\", \"public\", \"knife\", \"fortify\", \"convert\", \"evil\", \"morn\", \"unseen\", \"rude\", \"youthful\", \"dearth\", \"shun\", \"meet\", \"malady\", \"thrive\", \"bitterness\", \"base\", \"store\", \"sea\", \"slow\", \"blood\", \"earth\", \"water\", \"make\", \"lover\", \"shall\", \"well\", \"deed\", \"nature\", \"thou\", \"pity\", \"think\", \"thine\", \"life\", \"thee\", \"beauty\", \"age\", \"grow\", \"let\", \"hath\", \"rich\", \"away\", \"thy\", \"bad\", \"spirit\", \"find\", \"time\", \"like\", \"love\", \"sweet\", \"live\", \"vantage\", \"seldom\", \"special\", \"fickle\", \"abhor\", \"brave\", \"fight\", \"cause\", \"set\", \"place\", \"minute\", \"scythe\", \"blessed\", \"forward\", \"violet\", \"hideous\", \"question\", \"clock\", \"silver\", \"powerful\", \"wretched\", \"blest\", \"lofty\", \"fine\", \"sort\", \"bold\", \"invent\", \"thank\", \"wane\", \"aid\", \"groan\", \"power\", \"gift\", \"deserve\", \"gainst\", \"jewel\", \"thee\", \"white\", \"thy\", \"pay\", \"worth\", \"light\", \"thou\", \"time\", \"behold\", \"hour\", \"doth\", \"art\", \"keep\", \"give\", \"sweet\", \"beauty\", \"love\", \"bear\", \"swear\", \"like\", \"fair\", \"o\", \"shalt\", \"glory\", \"treasure\", \"go\", \"pleasure\", \"hope\", \"weep\", \"widow\", \"advantage\", \"wail\", \"hymn\", \"precious\", \"rehearse\", \"sense\", \"unused\", \"stop\", \"air\", \"weak\", \"huge\", \"vein\", \"lively\", \"hungry\", \"choose\", \"riper\", \"gold\", \"lofty\", \"owner\", \"nay\", \"allow\", \"shift\", \"soil\", \"strongly\", \"voice\", \"kingdom\", \"presence\", \"throw\", \"purpose\", \"gain\", \"world\", \"mortal\", \"thought\", \"loss\", \"proud\", \"care\", \"store\", \"verse\", \"dead\", \"write\", \"word\", \"tongue\", \"rich\", \"praise\", \"moan\", \"fear\", \"love\", \"hear\", \"hold\", \"like\", \"doth\", \"heaven\", \"see\", \"let\", \"good\", \"true\", \"live\", \"o\", \"fair\", \"look\", \"night\", \"hath\", \"spur\", \"speed\", \"beast\", \"lamb\", \"translate\", \"heavily\", \"silent\", \"drown\", \"table\", \"call\", \"slow\", \"offence\", \"strength\", \"stage\", \"plead\", \"renew\", \"sport\", \"welcome\", \"th\", \"invite\", \"bold\", \"fine\", \"sort\", \"invent\", \"thank\", \"policy\", \"goodness\", \"fierce\", \"adjunct\", \"accident\", \"trust\", \"mother\", \"groan\", \"excuse\", \"date\", \"fault\", \"brain\", \"dull\", \"friend\", \"weed\", \"thee\", \"fear\", \"love\", \"die\", \"breast\", \"time\", \"grace\", \"thy\", \"dear\", \"thou\", \"shall\", \"go\", \"self\", \"old\", \"look\", \"thine\", \"o\", \"end\", \"new\", \"heart\", \"thing\", \"long\", \"face\", \"wood\", \"tune\", \"concord\", \"jack\", \"music\", \"finger\", \"ear\", \"lip\", \"note\", \"wonder\", \"kiss\", \"sound\", \"blushing\", \"possession\", \"pleasing\", \"saucy\", \"usurer\", \"sensual\", \"gold\", \"th\", \"invite\", \"strike\", \"bounteous\", \"master\", \"pattern\", \"mutual\", \"rime\", \"vassal\", \"speechless\", \"leap\", \"sum\", \"smell\", \"sing\", \"eternal\", \"delight\", \"summer\", \"confound\", \"canst\", \"tender\", \"proud\", \"sweet\", \"thou\", \"thee\", \"nature\", \"lovely\", \"joy\", \"dost\", \"thy\", \"give\", \"eye\", \"beauty\", \"self\", \"praise\", \"make\", \"fair\", \"live\", \"shall\", \"heart\", \"time\", \"tongue\", \"long\", \"day\", \"contract\", \"edge\", \"thrice\", \"depend\", \"blot\", \"morrow\", \"bless\", \"inconstant\", \"term\", \"mansion\", \"dateless\", \"remembrance\", \"choose\", \"hungry\", \"riper\", \"welcome\", \"sport\", \"renew\", \"blest\", \"wretched\", \"assure\", \"humour\", \"perpetual\", \"benefit\", \"fever\", \"wink\", \"vice\", \"fit\", \"sigh\", \"fore\", \"fear\", \"return\", \"sad\", \"bud\", \"pay\", \"tender\", \"content\", \"ill\", \"happy\", \"woe\", \"thy\", \"life\", \"hope\", \"make\", \"well\", \"sweet\", \"thou\", \"love\", \"o\", \"fair\", \"doth\", \"eye\", \"world\", \"hath\", \"thine\", \"self\", \"day\", \"beauty\", \"thing\", \"thee\", \"new\", \"bad\", \"find\", \"art\", \"root\", \"bond\", \"war\", \"plea\", \"lawful\", \"deserve\", \"free\", \"fountain\", \"quest\", \"wasteful\", \"sensual\", \"usurer\", \"plead\", \"powerful\", \"silver\", \"judgement\", \"bind\", \"forfeit\", \"charter\", \"trespass\", \"divide\", \"sourly\", \"arise\", \"wake\", \"mistake\", \"gilded\", \"gainst\", \"deny\", \"stain\", \"flatter\", \"forth\", \"wilt\", \"heart\", \"thy\", \"shall\", \"eye\", \"sin\", \"thou\", \"fault\", \"right\", \"lose\", \"hast\", \"sight\", \"doth\", \"dear\", \"come\", \"live\", \"self\", \"love\", \"like\", \"fair\", \"dost\", \"bark\", \"wire\", \"cxxxiii\", \"red\", \"remove\", \"bend\", \"nought\", \"height\", \"alter\", \"dare\", \"fool\", \"honour\", \"hair\", \"servant\", \"snow\", \"wasteful\", \"saucy\", \"pleasing\", \"clock\", \"question\", \"goddess\", \"bitterness\", \"thrive\", \"service\", \"bid\", \"humble\", \"cast\", \"worthless\", \"sour\", \"unknown\", \"star\", \"mistress\", \"slave\", \"white\", \"whilst\", \"hour\", \"lip\", \"think\", \"far\", \"cheek\", \"love\", \"stay\", \"pride\", \"rose\", \"spend\", \"sun\", \"happy\", \"doth\", \"time\", \"o\", \"bear\", \"worth\", \"let\", \"know\", \"eye\", \"see\", \"painter\", \"gaze\", \"extreme\", \"lust\", \"cupid\", \"lusty\", \"bath\", \"action\", \"window\", \"help\", \"frame\", \"lead\", \"sap\", \"bareness\", \"wall\", \"snow\", \"quest\", \"fountain\", \"remembrance\", \"dateless\", \"possession\", \"lively\", \"hideous\", \"shun\", \"meet\", \"malady\", \"asleep\", \"murderous\", \"guest\", \"pursuit\", \"fire\", \"brand\", \"soon\", \"draw\", \"winter\", \"cure\", \"mad\", \"eye\", \"breast\", \"mistress\", \"reason\", \"past\", \"lay\", \"beauty\", \"find\", \"know\", \"shame\", \"hath\", \"lie\", \"love\", \"thine\", \"new\", \"art\", \"thy\", \"summer\", \"doth\", \"good\", \"forsake\", \"pine\", \"acquaintance\", \"defence\", \"feed\", \"sinful\", \"prime\", \"pale\", \"bareness\", \"wall\", \"servant\", \"term\", \"mansion\", \"dearth\", \"canopy\", \"issue\", \"gay\", \"autumn\", \"beloved\", \"mute\", \"didst\", \"remove\", \"walk\", \"sell\", \"worm\", \"womb\", \"decease\", \"divine\", \"cost\", \"lord\", \"disgrace\", \"earth\", \"summer\", \"winter\", \"power\", \"pleasure\", \"thy\", \"dost\", \"thou\", \"rich\", \"soul\", \"die\", \"shall\", \"death\", \"tell\", \"old\", \"leave\", \"thee\", \"time\", \"like\", \"look\", \"day\", \"love\", \"breath\", \"sap\", \"hair\", \"inconstant\", \"blushing\", \"vein\", \"huge\", \"stage\", \"violet\", \"forward\", \"youthful\", \"ink\", \"spoil\", \"engraft\", \"robbery\", \"gate\", \"perfection\", \"influence\", \"little\", \"alack\", \"didst\", \"action\", \"plea\", \"wear\", \"thorn\", \"lily\", \"brave\", \"complexion\", \"growth\", \"foot\", \"white\", \"strong\", \"hold\", \"decay\", \"pride\", \"flower\", \"time\", \"youth\", \"o\", \"hand\", \"sweet\", \"thy\", \"shall\", \"love\", \"day\", \"beauty\", \"thou\", \"thee\", \"eat\", \"dwell\", \"chide\", \"note\", \"hast\", \"cheek\", \"smell\", \"cloud\", \"alack\", \"pale\", \"weak\", \"unseen\", \"morn\", \"morning\", \"rotten\", \"physic\", \"beat\", \"offender\", \"anon\", \"alchemy\", \"triumphant\", \"mountain\", \"disgrace\", \"didst\", \"stain\", \"flatter\", \"salve\", \"ride\", \"rain\", \"sit\", \"strive\", \"west\", \"cross\", \"ransom\", \"heavenly\", \"forth\", \"base\", \"sun\", \"face\", \"hide\", \"glass\", \"world\", \"hath\", \"love\", \"see\", \"eye\", \"heaven\", \"steal\", \"sovereign\", \"kiss\", \"brow\", \"golden\", \"hour\", \"green\", \"shine\", \"blessed\", \"fortify\", \"counterfeit\", \"pencil\", \"bloody\", \"repair\", \"virtuous\", \"maiden\", \"inward\", \"rhyme\", \"mean\", \"wherefore\", \"tyrant\", \"barren\", \"way\", \"draw\", \"war\", \"outward\", \"wish\", \"skill\", \"paint\", \"keep\", \"decay\", \"line\", \"stand\", \"pen\", \"life\", \"flower\", \"happy\", \"live\", \"self\", \"time\", \"fair\", \"eye\", \"sweet\", \"worth\", \"man\", \"bear\", \"hour\", \"away\"], \"Freq\": [248.0, 209.0, 143.0, 69.0, 81.0, 188.0, 41.0, 37.0, 52.0, 54.0, 18.0, 22.0, 29.0, 41.0, 56.0, 45.0, 66.0, 24.0, 11.0, 18.0, 47.0, 16.0, 19.0, 12.0, 17.0, 26.0, 22.0, 14.0, 9.0, 11.0, 5.5917759077794935, 4.66758940553839, 4.667547655306402, 2.818761188849347, 4.667511292201122, 1.8946923616572748, 1.8946920249618555, 1.8946051575436869, 1.8940546605331996, 10.041377924636668, 7.440458335351998, 2.818995360513441, 2.818970950095545, 4.327295385639096, 1.8946923616572748, 1.8946915199187266, 1.8946539783794794, 1.8946920249618555, 1.8937807588096331, 4.667526443494989, 8.151369837999825, 1.8946923616572748, 1.8935076988246147, 1.8946921933095653, 1.8946921933095653, 1.8946926983526942, 1.8945982552875922, 3.3148795322584617, 1.8946923616572748, 4.667442606335594, 3.743194152137347, 5.448843651873072, 14.834839229187663, 5.591791395768779, 7.440481904031346, 7.099245810348966, 2.818996202251989, 15.367452325785601, 4.667592435797164, 2.8189303782975244, 8.288451337605794, 5.69902248958957, 3.7432988644127363, 9.391380683850208, 11.216980956955462, 11.025530554438507, 5.3978093803944205, 7.174310707290919, 7.440478537077153, 13.295843524426783, 6.516158703450024, 5.591894087871653, 10.863148414247794, 5.591864458674758, 6.168363783000494, 8.532241043046447, 6.16266891667916, 7.672638109345788, 5.989765718027464, 5.591894087871653, 5.4717527448948236, 5.591861765111404, 2.802916386810459, 1.8838912343956256, 1.883890636856909, 1.8838640463840213, 1.8837912960452774, 1.883800259126026, 4.640888712837612, 1.8838892923947967, 1.8838898899335133, 1.8838855577778182, 1.8838892923947967, 1.8838246088287267, 1.8838894417794758, 1.8838879479326844, 2.8029166855798175, 1.6986349616316971, 1.8838892923947967, 4.6409156020798585, 1.8838898899335133, 1.8838894417794758, 0.9648421057397893, 0.9648399396619418, 2.8028829246423306, 0.964840761277677, 0.9648423298168081, 0.9648424045091477, 4.640879749756864, 0.9648418816627706, 0.9648418816627706, 0.9648421057397893, 4.640961612561035, 2.507202841516221, 2.8029169843491757, 50.30162181449984, 1.883890636856909, 4.478295141592797, 3.1540722631533695, 9.236025081223998, 7.398018097951284, 9.544526552591801, 7.270582210943344, 26.554503447301126, 4.6408403122015685, 19.46587416571177, 6.479005942003536, 11.074090623290939, 5.297604377446594, 3.721930036604998, 3.7219407923018966, 9.0451419357507, 5.0680604770104605, 6.122532867391124, 4.640950856864136, 9.779900638285621, 4.594047951614133, 4.35401754547135, 3.7219291402969232, 5.756923425802177, 4.065979384991603, 3.7219115129047844, 3.7219168907532336, 4.0577990799616, 3.721936908300239, 3.7155235200724297, 3.7154949037643474, 2.7980861282242357, 1.8806451232058294, 1.880644978679021, 1.8806445450985954, 1.8806445450985954, 1.8806441115181698, 1.8806428107768933, 1.8805526260483918, 1.8799784210382369, 1.8805816759368996, 1.8805542158432853, 1.8806441115181698, 1.8806445450985954, 3.7153977817490382, 1.8806446896254039, 2.798086417277853, 2.798084682956151, 2.798086995385087, 7.385180012200535, 1.8805510362534983, 1.880583265731793, 1.880644978679021, 1.880642088142851, 1.880644978679021, 1.8806445450985954, 0.9631804157908295, 5.550293088252233, 2.7492201690036167, 12.247807608341475, 5.550299447431807, 6.0883820051785635, 43.45335161985624, 4.546184703670624, 13.13919346485101, 3.715522074804345, 25.307892879294055, 5.701242668117909, 7.48013296916801, 4.632961490027858, 7.110076700871596, 7.51712547296344, 5.1675161483792245, 5.550369976514353, 9.943930034608831, 4.504670245090968, 4.145003430950105, 7.049794569047869, 3.9175425148810565, 6.5653748152957165, 4.841408170117541, 4.632962357188709, 5.024717302405495, 6.759614799163849, 3.9792392751063437, 3.715522652911579, 1.8735540581803931, 1.8735537843236922, 1.8735533735386412, 1.8735533735386412, 1.8734834031516046, 1.8734801168711956, 1.8734247978176481, 2.787515880140179, 2.787523274271099, 1.87355296275359, 1.8735533735386412, 1.8735535104669916, 2.7875336808257263, 1.8735533735386412, 1.873202563105005, 1.8735540581803931, 3.7014772913149137, 1.8735533735386412, 7.8216913368884855, 4.593691468027913, 1.873536805208247, 1.8735537843236922, 1.8734847724351082, 2.846571160655876, 0.9595536224258041, 0.9595538278183297, 0.959554717852607, 2.353775612675282, 0.9595306869271178, 0.9595541701392055, 1.8734347935872249, 1.8735365313515462, 1.8735541951087433, 1.8734847724351082, 17.75574566291371, 2.282815507522115, 12.135681454478576, 3.731123648452529, 30.45318279504061, 9.915218462148959, 23.1237937902147, 8.25985219921658, 5.3353940020192505, 17.406362570401733, 20.15971126698863, 5.323699773184643, 9.16978380904006, 4.615460884882408, 3.7015093325488992, 3.7015104279757023, 3.701513714256111, 6.689526657562145, 4.3762382933796085, 3.3378155842835313, 4.694523314383397, 4.615485531985474, 4.788766168519297, 2.787532311542223, 3.7015104279757023, 3.327392598253716, 3.7015115234025053, 3.720978626973956, 3.210414708536544, 1.8400236993564398, 1.8400236993564398, 1.839977068279259, 1.839730248903298, 1.840024350022633, 1.8397369724539612, 1.8400234824677086, 1.8400236993564398, 1.7366737247797286, 2.737637232888016, 1.8400239162451708, 1.8400239162451708, 1.8400239162451708, 0.9423945498362266, 0.9423948751693233, 0.9423949836136888, 0.9423953089467854, 0.9423947667249577, 0.9423960680573441, 0.9423961765017097, 0.9423950920580543, 0.9425830261435291, 0.9423947667249577, 0.9423945498362266, 0.9423953089467854, 0.9423949836136888, 0.9423949836136888, 0.9423950920580543, 0.9423949836136888, 0.9423948751693233, 1.840024133133902, 1.840018277138163, 1.840024133133902, 1.8400239162451708, 3.405146571184808, 10.787997768052213, 3.17510809323554, 4.463125029807018, 1.840024350022633, 1.8400187109156252, 1.8400180602494318, 1.8400180602494318, 1.83997728516799, 2.737625304007807, 23.920410029337322, 1.7363164005952858, 17.89513870864718, 6.256007963464732, 18.52782916383497, 3.635249031309743, 2.737637449776747, 5.566220248489579, 9.918835264485336, 4.723090031758475, 5.175969318227621, 5.581097080331341, 2.738445143411263, 4.532859962176546, 5.093693011872526, 3.593011902931848, 4.867623380813163, 3.0673582054159154, 3.635249031309743, 2.871577085650903, 3.726523183562135, 3.635249465087205, 3.635527733329172, 3.1646974341440344, 2.737637449776747, 3.306599055335882, 2.7486536622054087, 2.737638751109133, 2.737637666665478, 3.6249617960780864, 2.7298934281281975, 1.8347312514304162, 1.834688403088807, 1.8348194441335344, 5.4150976999712315, 4.519965475512245, 2.729892388119906, 2.7298493317766384, 1.8348202761401675, 4.5200320360429, 1.83469048310539, 2.7298936361298556, 1.8348190281302177, 1.8348190281302177, 1.8348202761401675, 1.834762659680819, 0.9397317320294236, 0.9397317320294236, 0.9397315240277654, 8.100303427825873, 0.9397317320294236, 0.9397315240277654, 0.9397312120252779, 0.9397315240277654, 0.9397323560343985, 0.9397323560343985, 0.939731940031082, 0.9397314200269362, 0.9397317320294236, 1.834819236131876, 3.624937251882407, 1.8348196521351925, 1.8347622436775026, 9.492853729960112, 3.624951811998488, 2.3612535451395944, 1.834819236131876, 2.7298915561132726, 1.834752675601221, 17.050984195301545, 8.146001392153778, 21.085329447197157, 9.396759459846683, 4.758129870282493, 5.304845588984142, 3.6249634600913527, 6.286471975019506, 9.429628713897447, 4.232384878770371, 7.529585981769987, 3.6249638760946694, 4.304507789771675, 2.729892804123222, 3.038354687341557, 3.0061335664580473, 2.729892804123222, 2.729895300143122, 2.729894468136489, 2.729892804123222, 2.7145183930026, 1.824550323714321, 1.82454953928564, 1.8245491470712993, 1.8245491470712993, 5.384784026382313, 3.60460196941419, 1.8245499314999805, 1.824401674479228, 2.7145187852169403, 2.7146119361228367, 3.604669038066435, 1.8245491470712993, 1.8245493431784696, 1.82454953928564, 1.002689196084366, 0.9344748857502989, 0.9344747876967138, 0.9344742974287881, 0.9344747876967138, 0.9344741993752028, 0.9344745915895435, 0.9344748857502989, 0.9344750818574693, 0.9344745915895435, 0.9344743954823732, 0.9344741993752028, 0.9344750818574693, 0.9344745915895435, 0.9344741993752028, 1.824550323714321, 3.6046706069237975, 4.494616319994661, 1.824550323714321, 1.8245497353928102, 1.8245511081430024, 1.8245489509641288, 3.6045678467665563, 1.824550912035832, 1.8245497353928102, 1.824550323714321, 5.167032115473743, 1.8245489509641288, 13.874933723297815, 19.625715307125216, 16.02898272624112, 10.871237069710114, 3.260763737785158, 5.520076794320026, 4.49473045436778, 4.49473045436778, 4.494728885510417, 2.714612720551518, 3.0063670449257773, 2.7146113478013256, 2.7144705428530447, 2.714611740015666, 2.245057634110883, 2.7146107594798146, 2.850391638164423, 2.7146137010873694, 2.714470150638704, 2.714614877730391, 2.7146137010873694, 1.8031820314830007, 1.8031807971418148, 1.803159637007198, 1.8030906902352393, 1.8030845185293094, 1.803078875826745, 3.562349924956869, 1.8031816788140904, 1.803070059103988, 2.6827594538450947, 1.803159637007198, 1.8031603423450187, 4.373126932957837, 2.6826876857218536, 2.682801068776507, 1.8031180220757856, 1.8031815024796352, 0.9235346925094444, 1.8031818551485455, 1.7102008732888248, 0.9235346043422169, 0.9235340753388515, 1.6547676686338773, 0.9235346043422169, 0.9235352215128099, 0.9235342516733066, 0.923534163506079, 0.9235342516733066, 0.9235351333455822, 0.9234799406611242, 2.682814822864008, 3.5624031779623206, 1.803091571907515, 1.8027411953451562, 2.6290804243498584, 3.5623608576930876, 1.8030917482419702, 4.328291429056673, 1.6786352424746025, 8.931831773191826, 4.393734788060885, 2.5787187749591296, 3.2637673767678215, 13.798248701695169, 2.6826996764648032, 3.843765961269339, 4.442077584274741, 3.4899325382519564, 7.23304185516388, 5.321709670317928, 3.060821230998415, 3.1866866490623336, 3.2366548962836497, 3.5624479669139255, 2.6827555744870817, 2.6828153518673736, 4.530382705387572, 2.5807333961090793, 2.323887979109969, 2.6828157045362837, 2.9367424336339525, 2.682445402180494, 2.8225840363810892, 2.682814999198463, 2.682814822864008, 1.7904490687018677, 1.7904485816481972, 1.7904485816481972, 1.7904484192969738, 1.7903224347475453, 1.7895598710508107, 1.7904489063506441, 1.7897957673785423, 3.5372867023448507, 4.370872565307361, 1.7904485816481972, 1.7904386782235644, 0.9170167767288265, 0.9170166955532147, 0.9169899076013389, 0.9169839006060697, 0.916992099342856, 0.9169864170500338, 0.9169912064111267, 0.9168557243151241, 0.9170166955532147, 0.9170166955532147, 0.9169842253085168, 0.9170166955532147, 0.9169929922745852, 0.9170052497919587, 0.9169705878057435, 0.9169705066301318, 0.9170166955532147, 0.9169705066301318, 1.790437866467447, 2.6638260800833105, 1.7493531034997432, 1.1299519332733516, 1.790436567657659, 1.790443224057822, 20.864532419004266, 1.7904211442914273, 19.79909017615554, 1.790412052622912, 3.5206343373514404, 1.7904490687018677, 15.364491183901281, 7.569803732180767, 1.7610873628799588, 2.625348190711192, 7.107385885766899, 4.972964091612042, 1.7904484192969738, 2.6638398799373073, 3.738310311973109, 3.8611381042121105, 4.2076082785360525, 2.2579459107914093, 1.914798254256198, 2.1998873274077844, 2.0485670577974413, 2.0084115932329967, 1.7904490687018677, 1.7904489063506441, 1.7904485816481972, 1.7904485816481972, 1.7904485816481972, 1.7904485816481972, 2.6607649983523634, 2.6607870071560162, 1.7884141851728632, 1.788080007382105, 1.7884128905373542, 2.781486199318055, 1.788413861513986, 1.7884130523667927, 1.788233583519359, 1.7884128905373542, 1.7884141851728632, 0.9159740421432427, 0.9159750131198745, 0.9159746085462779, 0.9159746085462779, 0.9159750131198745, 0.9159750131198745, 0.9159740421432427, 0.9159750131198745, 0.9159750131198745, 0.9159739612285235, 0.9159746894609972, 0.9159742848874007, 0.9159164308630927, 0.9159750131198745, 0.91597436580212, 0.9159742848874007, 0.9159750131198745, 0.9159746085462779, 0.9159741230579621, 1.7884136996845472, 1.788413861513986, 9.11732880947566, 1.7421215796190213, 6.9684015198502465, 2.6607790775135234, 3.4836285310301496, 1.7884128905373542, 2.660841705506271, 3.53268227046579, 3.2113346412606507, 2.6607860361793843, 2.660840896359078, 3.533264856444836, 2.660840896359078, 4.405690596654419, 1.434747113291852, 2.515979759863315, 10.287322637520129, 1.788413861513986, 2.6608402490413234, 3.499241835268572, 4.952744656838043, 2.6608433238006572, 2.6608457512422365, 2.6608415436768325, 2.660840896359078, 2.7088412879787165, 2.6608415436768325, 2.6608457512422365, 2.660842514653464, 2.354087531417347, 2.177206336707166, 2.245766511186202, 2.662846306917643, 2.662838387196252, 1.7897550476767174, 1.789734036170987, 1.7897317733934468, 1.789688780620183, 1.7896863562156757, 1.7896842550651026, 1.7897665231913855, 2.6628398418389567, 2.6627992734702004, 1.7897254699417278, 2.6628438825131355, 0.916667748296487, 0.916667748296487, 0.9166679907369377, 0.916627503181665, 0.9166064916759346, 0.9166671826021019, 0.9166670209751347, 0.9166674250425526, 0.916667748296487, 0.9166279880625664, 0.9166127951276537, 0.9166127951276537, 0.9166671826021019, 0.9166671826021019, 0.916667748296487, 0.9166674250425526, 0.9166671826021019, 1.7897665231913855, 1.7897666848183527, 1.7897665231913855, 2.6175729771473875, 1.7897450268047537, 2.6628138198972446, 1.7897665231913855, 1.7400112776218752, 3.330547996493654, 1.789765876683517, 12.059728917576795, 2.6628540650120667, 13.028414931423436, 2.6628540650120667, 1.7897427640272134, 6.621541995076858, 2.662816405928719, 12.117539651189393, 3.130734072314743, 9.506126924268216, 4.773806990352929, 2.359394585366399, 3.216847950654015, 2.6720415883331206, 3.030297458653915, 3.023159688530342, 2.92811042493878, 2.198349313664523, 2.4161924027758266, 2.6626601126514786, 2.305096005750115, 1.9637042931824475, 1.7897673313262212, 2.629341750725515, 1.7672585948742976, 1.7672504400143008, 1.7672361332423763, 3.4914518033079496, 2.538599619117537, 2.626393125031887, 3.429636533854005, 1.7672585948742976, 1.7672427143574614, 1.6660802454183148, 1.722694860210005, 0.9051154221148575, 0.9051450371327412, 0.9051419611767774, 0.9051267244646779, 0.9051448940650219, 0.9051445363957238, 0.9051450371327412, 0.9051455378697585, 0.9051454663358989, 0.9051398151609887, 0.9051450371327412, 0.9051448225311622, 0.9051025460201255, 0.9051412458381811, 0.9051448225311622, 0.9051445363957238, 0.9049604797749158, 0.9051268675323971, 1.7672603116869285, 1.5844890112686496, 2.6139047438190395, 1.7672603116869285, 2.6220347100328243, 3.491460387371104, 1.7672482939985121, 1.7672603116869285, 1.7672524429623702, 2.62933316666236, 6.679693894241512, 13.382736440263718, 10.259531503821485, 2.629366644508663, 1.7672603116869285, 1.7574533056681607, 3.491468399163382, 10.677814588680313, 2.6293709365402407, 5.215673911420889, 4.353575590391432, 3.4914715466532056, 3.1376247318648804, 2.486047698349231, 3.4914735496012748, 2.6293663583732245, 2.6293652138314707, 2.6293637831542784, 2.629367502914979, 1.767260597822367, 1.7672604547546478, 1.7672603116869285, 1.755198930725087, 1.755198930725087, 1.7551990649388853, 1.7551998702216747, 1.7551993333664817, 1.7551986622974907, 2.611419345957146, 0.8989701271306401, 0.8989701271306401, 0.8989696573823464, 0.8989089256386569, 0.8989082545696658, 0.8989696573823464, 0.898969456061649, 0.8989691876340526, 0.8989695231685482, 0.8989695231685482, 0.8989693218478508, 0.898969456061649, 0.8989691205271535, 0.8989701271306401, 0.8989701271306401, 0.8989693218478508, 0.898969456061649, 0.8989693218478508, 0.8989695231685482, 0.8989696573823464, 0.898969456061649, 0.898908388783464, 0.8989085901041614, 3.467637345340837, 1.7551990649388853, 1.7551747722414095, 1.7551993333664817, 1.7551508821853283, 1.7551985280836926, 1.7551986622974907, 3.467637345340837, 2.6114204196675317, 2.4814375772334256, 15.454671620491151, 3.467638687478819, 1.755198930725087, 2.6114182722467603, 2.6114204196675317, 4.217669682423236, 7.748721436852172, 7.248841608568148, 3.467637345340837, 3.467637345340837, 4.323854807869336, 4.265967859846669, 2.611418003819164, 2.6114190775295496, 2.611418540674357, 2.6114177353915675, 2.6114196143847423, 2.611418540674357, 1.8619180928742602, 1.9409575381360344, 1.835635810053812, 1.7552002728630691, 1.75519946758028, 1.7551993333664817, 1.6738124573742381, 2.4906268715084483, 3.307372688875899, 1.674083672336454, 1.673928040943662, 1.468056851992756, 1.6740834740799029, 0.8574318285743328, 0.8574317294460571, 0.8574318285743328, 0.8574318285743328, 0.8574314320612301, 0.8574316303177814, 0.8574318285743328, 0.8574318285743328, 0.8573969354212991, 0.8574309364198518, 0.8574308372915761, 0.8573975301909531, 0.8574318285743328, 0.8574315311895058, 0.8574318285743328, 0.8574319277026083, 0.8573984223454341, 0.8573968362930234, 0.8574318285743328, 1.674083672336454, 0.9514611439944997, 0.8574318285743328, 0.8573975301909531, 1.674083672336454, 2.490725999784112, 6.8054836441398745, 14.98398272515781, 4.940659524593279, 6.056050485848797, 1.883430496888683, 8.843668050324483, 1.674084267106108, 1.674083672336454, 1.6740834740799029, 1.6740834740799029, 1.6740840688495569, 2.852990481453872, 1.805465909822585, 1.4878076652773817, 1.6740840688495569, 1.5179453375426075, 1.7279485895362816, 1.2912577063436903, 1.31432455870582, 1.1194330158239834, 1.6637556658856067, 1.6637550776040069, 1.663708995545355, 2.475360726617312, 1.6637556658856067, 1.66375605807334, 1.6636533048872395, 1.6636562462952387, 1.66375605807334, 1.663752528383741, 1.6637540971346738, 2.4753611188050453, 0.8521416828829711, 0.8521383492872389, 0.8521415848360377, 0.8518840155422537, 0.852141977023771, 0.8521417809299043, 0.852138741474972, 0.8521381531933723, 0.8521418789768377, 0.8521385453811055, 0.852141977023771, 0.8521384473341721, 0.8521389375688386, 0.852141977023771, 0.852141977023771, 0.8521417809299043, 0.8521385453811055, 0.8521421731176376, 2.372303791117564, 2.4753615109927782, 1.641624610147638, 1.6637548815101404, 2.468816486007144, 2.4753599422418455, 1.6637556658856067, 3.2407939177062253, 2.4753617070866447, 1.6637556658856067, 7.486204951540387, 1.6636544814504393, 1.6637552736978736, 1.6637548815101404, 1.6637535088530742, 1.6637548815101404, 1.6637539010408073, 3.2869667678183503, 2.558361377534692, 1.6637558619794732, 1.6637556658856067, 1.6637556658856067, 1.6637552736978736, 1.6637552736978736, 1.6637548815101404, 1.6637548815101404, 2.4740376192167837, 2.473957050006309, 1.6628658691183922, 1.6628658691183922, 1.6628638032412006, 1.6627362822763694, 2.4740344264974876, 1.6628658691183922, 1.6628658691183922, 1.6628636154341832, 1.662865681311375, 1.662865681311375, 0.851687170160356, 0.8516872640638647, 0.8516872640638647, 0.851687170160356, 0.8516873579673735, 0.8516863250287776, 0.851687170160356, 0.8516864189322864, 0.8516873579673735, 0.8516861372217602, 0.8516872640638647, 0.8516873579673735, 0.8516872640638647, 0.8516860433182515, 0.8516860433182515, 0.8516873579673735, 0.8516860433182515, 0.8516873579673735, 3.285202983876583, 1.6628638032412006, 1.6628658691183922, 1.662865681311375, 2.47395404509403, 1.662863052013131, 1.6628658691183922, 7.533354898018233, 1.6628649300833052, 1.6628619251710264, 1.6628658691183922, 1.6628658691183922, 1.6628649300833052, 3.735662246923569, 2.4740344264974876, 2.474037807023801, 1.6627364700833869, 2.4740379948308187, 1.8456571245285118, 2.4740250361466165, 1.8811451385410405, 1.7510461467816363, 1.7249924304824085, 1.740458713981349, 1.6628668081534794, 1.6628664325394444, 1.662865681311375, 1.617299544040414, 1.6173421438802633, 1.6173427868967138, 1.617299061778076, 2.4063045204797238, 1.6173426261426012, 1.6172997047945268, 0.8283742212639167, 0.8283742212639167, 0.8283742212639167, 0.8283742212639167, 0.8283741408868603, 0.828374060509804, 0.8283741408868603, 0.8282571922699158, 0.8283742212639167, 0.8283742212639167, 0.8283742212639167, 0.8283742212639167, 0.8283742212639167, 0.8283742212639167, 0.8283743820180294, 0.828374301640973, 0.8283741408868603, 0.8283741408868603, 0.8283742212639167, 0.8283751857885925, 0.8283741408868603, 0.828374060509804, 0.8283742212639167, 1.6173426261426012, 2.4061778462389647, 3.1951564590038015, 1.6173429476508265, 1.6171342888126214, 1.6173429476508265, 8.091839900873278, 2.406304841987949, 6.517986406331045, 1.6173426261426012, 1.6173426261426012, 1.6173009908274278, 2.5399669032695193, 1.6173437514213898, 1.6172992225321887, 1.6173427868967138, 1.6172984187616255, 2.4552541477782017, 1.978272903970569, 1.6173434299131644, 1.6173429476508265, 1.6591763118910154, 1.6380946960513536, 2.261157960706047, 0.7783994039162287, 0.7784124623115297, 0.7783998290732851, 0.7784124015748074, 0.7784124623115297, 0.7783992824427841, 0.7783984928653938, 0.7784124015748074, 0.7784124015748074, 0.7783916903524928, 0.778407178216687, 0.7784083322144113, 0.7783964885535569, 0.7784124015748074, 0.778406449376019, 0.7783986750755608, 0.7783960633965006, 0.7215873063727459, 0.7784086966347452, 0.7784124623115297, 0.7784070567432424, 0.7784083929511336, 0.7783984321286714, 0.7784124623115297, 0.7784124015748074, 0.7783945449784423, 0.7784124623115297, 0.7784124623115297, 0.7784086966347452, 1.519788278713266, 2.2611526158744817, 2.2611477569366953, 1.4790107366017047, 1.5197886431336, 1.5197865780850408, 3.4680658732725598, 1.5197628907633318, 2.2611501864055885, 1.5197865780850408, 2.2611594183873827, 3.7439009688949483, 2.135562922068113, 2.6663800100148944, 1.4804308826432317, 1.519771879798237, 1.5197885216601552, 0.7784126445216968, 0.7784124623115297, 0.7784124623115297, 0.7784124623115297, 0.7784124623115297, 0.7784124623115297, 0.7784124623115297, 0.7784124623115297, 2.661037355904955, 1.346930310690339, 0.6898862173922221, 0.6898634432132434, 0.6898860575734223, 0.6898860575734223, 0.6898860575734223, 0.6898679181396392, 0.6898663199516407, 0.689868157867839, 0.6898686373242385, 0.6898860575734223, 0.6898862173922221, 0.6898860575734223, 0.6898860575734223, 1.9321448832177888, 0.6898683176866388, 0.6898860575734223, 0.6898860575734223, 0.6898665596798405, 0.6898860575734223, 0.6898683176866388, 0.6898515367126545, 0.6898557719108506, 0.6898861374828222, 0.6898665596798405, 0.6898701556028372, 0.6898861374828222, 1.2998431374185473, 1.3469344659791351, 2.003993342516238, 2.5473593623028004, 1.3469343061603352, 1.3469111324343568, 1.3469406989123291, 0.9371314145097431, 0.7340042770003887, 0.689887416033221, 0.6898865370298218, 0.6898865370298218, 0.6898862173922221, 0.6898862173922221, 0.6898861374828222, 0.6898860575734223, 0.6898860575734223, 0.6898860575734223, 0.6898860575734223, 0.6898860575734223, 0.56734758874131, 0.56734758874131, 0.56734758874131, 0.56734758874131, 0.56734758874131, 0.56734758874131, 0.56734758874131, 0.56734758874131, 0.56734758874131, 0.56734758874131, 0.56734758874131, 0.56734758874131, 0.56734758874131, 0.56734758874131, 0.56734758874131, 0.56734758874131, 0.56734758874131, 0.56734758874131, 0.56734758874131, 0.56734758874131, 0.56734758874131, 0.56734758874131, 0.56734758874131, 0.56734758874131, 0.5673478290327039, 0.56734758874131, 1.1076907500549842, 0.56734758874131, 0.5673481173823766, 1.6480323735037377, 1.1076915189874448, 1.107691038404657, 0.567348021265819, 0.5673479732075402, 0.5673478290327039, 0.5673478290327039, 0.5673476367995888, 0.56734758874131, 0.56734758874131, 0.56734758874131], \"Total\": [248.0, 209.0, 143.0, 69.0, 81.0, 188.0, 41.0, 37.0, 52.0, 54.0, 18.0, 22.0, 29.0, 41.0, 56.0, 45.0, 66.0, 24.0, 11.0, 18.0, 47.0, 16.0, 19.0, 12.0, 17.0, 26.0, 22.0, 14.0, 9.0, 11.0, 6.38264120767062, 5.458450705156173, 5.458412925909004, 3.60962779553346, 6.372238266418375, 2.685550856562245, 2.6855513842270375, 2.6854672081603637, 2.685446689609797, 15.488825671586843, 11.743519866084824, 4.49982669853345, 4.504810489139132, 7.226431023361745, 3.4268954259136226, 3.426895463677355, 3.4970728853290907, 3.5021511777532184, 3.5020316590377507, 8.753437944022055, 15.291761097773103, 3.5579046319894196, 3.5577571919146527, 3.5650529755149822, 3.565104527463935, 3.575523694962656, 3.5754383200235633, 6.255793052453235, 3.5830658815267435, 8.911029354224464, 7.285877740575825, 11.518514137898565, 47.81456515808777, 15.187784352168665, 22.623131904354672, 21.38705948716442, 6.127140842156311, 66.6946355878461, 12.513259264685756, 6.216019167853424, 31.158643953020427, 17.839840068598875, 9.67909786025999, 56.143455353303665, 79.19261791063765, 81.5342697092918, 20.414081667677273, 35.95019183192119, 48.39115810572264, 209.6104757834288, 37.205937951591565, 25.704984427753963, 188.61759232606187, 27.505150027610433, 38.59587437913143, 143.13540173262635, 45.17824053850574, 248.36283648409488, 54.9418527996969, 30.091972386055012, 26.326317962421502, 35.786443904373925, 3.594040830528159, 2.6750136465519594, 2.6750134373884356, 2.674990090711593, 2.674914750202418, 2.6749496951818785, 8.017460044462817, 3.4865727395896013, 3.5479885888611493, 3.5545136636519468, 3.5699909731357984, 3.5724658696913627, 3.5888279497031443, 3.588868765305623, 5.432045355450517, 3.6001416028310156, 4.087697315117482, 10.536448186293832, 4.445029072003817, 4.462500653063356, 2.4129996694201563, 2.4129988724731217, 7.218847133444231, 2.4972972126352806, 2.497306785713528, 2.4973088266996606, 12.225853233445696, 2.544890697548737, 2.567524412100839, 2.5675264557473256, 13.25935305007243, 6.989888313472542, 7.880932505006029, 188.61759232606187, 5.305400714810301, 14.2660874172464, 9.833969157338633, 35.95019183192119, 30.091972386055012, 45.17824053850574, 31.204364549440108, 248.36283648409488, 17.98792681775411, 209.6104757834288, 32.68570529448464, 81.5342697092918, 24.38884147906276, 13.227557445724534, 13.273585743199858, 79.19261791063765, 25.39882102741228, 41.749534060757234, 23.767377010289575, 143.13540173262635, 24.687827597482926, 22.623131904354672, 15.919064225368137, 56.143455353303665, 21.3259656725368, 17.47261383912589, 18.87288269854832, 41.0096171174352, 20.158798072431722, 4.506727120052389, 4.506701744347363, 3.5892885357137727, 2.6718466326404644, 2.671846488113656, 2.6718464740719083, 2.671846506443866, 2.671846594096448, 2.6718467263208887, 2.6717571907736004, 2.671183468013879, 3.5279495649058332, 3.544115279727484, 3.5618188717675294, 3.5693610114073446, 7.053453207193902, 3.5907382997698285, 5.408415854941741, 5.410954227416709, 6.214720720969442, 16.436534704018424, 4.294064217290275, 4.322716040368906, 4.400302155338248, 4.459333127824353, 4.463751322377146, 4.46432738357511, 2.411416927219022, 14.374192278354428, 7.146638385654157, 35.786443904373925, 15.919064225368137, 18.87288269854832, 248.36283648409488, 14.964338864122878, 66.6946355878461, 11.681789607479294, 209.6104757834288, 22.24896656911419, 41.749534060757234, 18.835232628900044, 48.39115810572264, 54.9418527996969, 25.704984427753963, 32.68570529448464, 143.13540173262635, 22.071359568302274, 20.158798072431722, 79.19261791063765, 17.542956057165753, 81.5342697092918, 39.956615431710986, 37.205937951591565, 56.143455353303665, 188.61759232606187, 26.766393354950385, 16.819989846529268, 2.6649289762631367, 2.6649288435963303, 2.6649287920949987, 2.6649289241228566, 2.664860688392464, 2.664860689329955, 2.664863265935219, 4.395493258881659, 4.476413656128378, 3.321946874679186, 3.4538548700867646, 3.521087870827214, 5.262334258101077, 3.538252089448468, 3.5379265215779174, 3.55490123271528, 8.035629461903483, 4.278624154353341, 17.961859392168073, 10.63780179901153, 4.400190882316078, 4.405678831599832, 4.461365503329399, 7.119585443392285, 2.4079482091704643, 2.49226257625337, 2.4922713193673203, 6.176923650134037, 2.562035277237053, 2.56248839616351, 5.162863288199459, 5.211369849493387, 5.267735008651879, 5.308052016149766, 69.39404937174152, 6.754887806771377, 54.9418527996969, 12.740753943910027, 209.6104757834288, 48.39115810572264, 188.61759232606187, 41.0096171174352, 22.071359568302274, 143.13540173262635, 248.36283648409488, 26.766393354950385, 79.19261791063765, 21.3259656725368, 14.867907880916865, 15.83468183420786, 17.855757063537606, 81.5342697092918, 31.204364549440108, 14.218822932255607, 39.956615431710986, 38.59587437913143, 45.17824053850574, 9.437161565638487, 24.741395572905237, 18.409219741895214, 37.205937951591565, 56.143455353303665, 27.505150027610433, 2.632217224980279, 2.6322173206177344, 2.6321728284621404, 2.631931274346079, 3.4211433616405946, 3.488090563920509, 3.505552944557983, 3.5563671205579865, 3.439496613177977, 6.250759621178872, 4.328371296091488, 4.407207233673581, 4.446085779801701, 2.3916072680534195, 2.4759303439197446, 2.523514004264575, 2.5457171676764934, 2.5511550296352437, 2.551187691928891, 2.5511881935394225, 2.5907476984246176, 2.5966334950543706, 2.5966277869496186, 2.596627667829778, 2.6069418979049157, 2.6069422069606962, 2.6076016648937292, 2.6078888354379206, 2.6140900350935588, 2.6245600665259627, 5.15619761940917, 5.17221243695133, 5.302381523615898, 5.341765680696469, 10.473533237306988, 41.0096171174352, 10.64183027267453, 16.819989846529268, 6.101686179279149, 6.174543535322945, 6.202185619816943, 6.209399733171186, 6.216019167853424, 10.601332355971273, 209.6104757834288, 5.985140075602273, 188.61759232606187, 39.956615431710986, 248.36283648409488, 19.490334240624247, 12.28230315339447, 45.17824053850574, 143.13540173262635, 41.749534060757234, 54.9418527996969, 69.39404937174152, 13.207013764207113, 48.39115810572264, 66.6946355878461, 27.505150027610433, 79.19261791063765, 19.29382118508261, 37.205937951591565, 17.10122620502728, 52.21846679181181, 47.81456515808777, 56.143455353303665, 38.59587437913143, 19.2127138672029, 81.5342697092918, 35.95019183192119, 24.741395572905237, 31.158643953020427, 4.417284364737014, 3.5222137122560886, 2.62705332158299, 2.627010701456823, 3.4160662421534544, 10.383850490013339, 8.8758585365851, 6.091188165388628, 6.147635192218332, 4.201459657294646, 10.699578570562363, 4.356521441026492, 6.5655860987390176, 4.413329803118602, 4.417797087085114, 4.423644132279352, 4.475562403892346, 2.3890712361840487, 2.3890718052990256, 2.520870265574996, 22.24896656911419, 2.5882106606573365, 2.588211319267013, 2.5882108903419665, 2.5940895771058363, 2.6044059619379705, 2.604406232532032, 2.6044055032814897, 2.6050103007987495, 2.605064841211588, 5.152351481709676, 10.812452634687617, 5.286121569074164, 5.679694956913095, 41.749534060757234, 13.273585743199858, 8.031628430944096, 6.171662725625133, 10.473501802628117, 6.25695427785811, 143.13540173262635, 52.21846679181181, 248.36283648409488, 81.5342697092918, 31.158643953020427, 47.81456515808777, 22.623131904354672, 79.19261791063765, 209.6104757834288, 38.59587437913143, 188.61759232606187, 26.766393354950385, 48.39115810572264, 13.139943579567472, 23.767377010289575, 25.704984427753963, 17.64301924893247, 29.529012339623662, 18.51117118301328, 35.786443904373925, 3.5070924301959288, 2.6171207835721253, 2.617120881445061, 2.617120667364914, 2.6171207132558623, 8.93627917032366, 6.055828737757158, 3.534321321298897, 3.5342849688305233, 5.288007937785286, 5.3036866296299685, 7.091596807363999, 4.351031163163562, 4.403310191816653, 4.414520149117874, 2.4797800054423984, 2.384080134038633, 2.538174492429558, 2.538604742205665, 2.5832043432052028, 2.583204455927417, 2.589044668257322, 2.589085381065464, 2.599342222228338, 2.599399287636342, 2.5993990165693535, 2.6000037236025286, 2.6000592706160015, 2.6000591946234857, 2.600058470874429, 5.118929137730293, 10.299951983255061, 13.047445353067536, 5.174585950572596, 5.203162625291497, 5.2711449796381515, 5.3748218490018616, 14.138608685933942, 6.091188165388628, 6.139336034037422, 6.194515826081137, 24.38884147906276, 6.239529808219371, 143.13540173262635, 248.36283648409488, 188.61759232606187, 209.6104757834288, 21.15900028648418, 69.39404937174152, 54.9418527996969, 79.19261791063765, 81.5342697092918, 18.409219741895214, 30.091972386055012, 22.34795028199698, 23.222014661356607, 23.767377010289575, 10.63780179901153, 31.204364549440108, 45.17824053850574, 39.956615431710986, 41.0096171174352, 47.81456515808777, 66.6946355878461, 2.5962737856662415, 2.5962737700023806, 2.5962532085107304, 2.5961860790275417, 2.596179847515015, 2.5961824530617292, 5.228475302350493, 3.2532933686623853, 3.4127334500259043, 5.1209397993947485, 3.468606927780177, 4.055475689179427, 9.946356317845746, 6.1161565576805605, 6.135392130966122, 4.281118353368314, 4.366289377959154, 2.2569578125804046, 4.427439460192525, 4.38125376932842, 2.3736619160692127, 2.3736612091259697, 4.33902797632058, 2.4579615081740767, 2.505553675765366, 2.527755451749607, 2.527755648323653, 2.5277559130900022, 2.5281891827785774, 2.5281333134793806, 7.438864137258174, 10.511702508797415, 5.133897820420614, 5.215381784400868, 7.955063622217026, 11.193478535004047, 5.2711449796381515, 17.542956057165753, 5.204868668447722, 52.21846679181181, 20.414081667677273, 9.833969157338633, 14.959744718462705, 209.6104757834288, 10.601332355971273, 24.687827597482926, 39.956615431710986, 22.34795028199698, 143.13540173262635, 66.6946355878461, 17.10122620502728, 21.15900028648418, 24.741395572905237, 38.59587437913143, 12.898240681549842, 16.436534704018424, 248.36283648409488, 17.839840068598875, 11.351057793562209, 27.505150027610433, 69.39404937174152, 32.68570529448464, 188.61759232606187, 56.143455353303665, 37.205937951591565, 2.5838515034036544, 2.583851307446565, 2.583851319703263, 2.5838515560658992, 2.583727965837406, 3.3250828037696176, 3.3954131812539505, 3.4975726422654403, 8.626737706641867, 10.670829553251709, 4.380716281285133, 4.387670426183663, 2.2507499842603025, 2.451763594618733, 2.4517396877407935, 2.52152386473491, 2.5219553709257463, 2.5219546955270613, 2.5269960091475125, 2.526859853185156, 2.566578363636154, 2.566578507922147, 2.5827489344046257, 2.583432856433539, 2.5833712459919447, 2.5834221374674096, 2.5833327620268665, 2.5833327909157062, 2.5899733648414727, 2.589875358290336, 5.243811356387916, 9.587253447482562, 5.807429322056155, 3.358007284415072, 6.028288631742651, 6.0737290152286, 143.13540173262635, 6.551727335711331, 248.36283648409488, 6.921592725796601, 19.2127138672029, 7.039114929697776, 209.6104757834288, 69.39404937174152, 7.105280936299002, 14.06774340328027, 79.19261791063765, 48.39115810572264, 7.648353766390215, 17.855757063537606, 56.143455353303665, 66.6946355878461, 188.61759232606187, 25.39882102741228, 10.699578570562363, 32.68570529448464, 47.81456515808777, 45.17824053850574, 10.64183027267453, 7.9377099867161345, 8.934852866346192, 12.949221043473097, 11.348359630385254, 7.816347143149482, 3.454220187808104, 3.4542534236446985, 3.3929956532461003, 3.49559747739761, 3.5007576235599265, 6.0679548566283135, 4.3498035662586325, 4.357760592484712, 4.357640964423202, 4.3686952505271375, 4.369353351258051, 2.3664483178376283, 2.4507609274493922, 2.4507710112480448, 2.520556131348774, 2.5655863906035696, 2.5655864753292486, 2.5655859243905543, 2.5714674074011397, 2.5827489344046257, 2.5889803831341247, 2.5993990165693535, 2.599399287636342, 2.599342222228338, 2.604406232532032, 2.6044055032814897, 2.6044059619379705, 2.6069422069606962, 2.6069418979049157, 2.626736928994558, 5.156314223872633, 5.21392120296594, 29.529012339623662, 5.215626378637342, 26.766393354950385, 9.437161565638487, 13.219131174296843, 6.164170133305536, 10.511702508797415, 15.291761097773103, 15.0001821689583, 11.518514137898565, 11.743519866084824, 18.51117118301328, 12.898240681549842, 31.158643953020427, 5.235217699340056, 13.996048515629436, 188.61759232606187, 7.856369155271922, 17.23375438846941, 32.68570529448464, 79.19261791063765, 17.47261383912589, 20.158798072431722, 24.741395572905237, 31.204364549440108, 35.95019183192119, 37.205937951591565, 45.17824053850574, 47.81456515808777, 35.786443904373925, 22.24896656911419, 38.59587437913143, 3.456266445864471, 3.4562602357124583, 2.583175398941423, 2.5831558653010553, 2.5831561265759593, 2.583116656735799, 2.5831168618316447, 2.583116687491987, 3.394314671659665, 5.190653694354742, 5.215381784400868, 4.029102233949155, 6.208036211669406, 2.4514204571544504, 2.526687064352858, 2.5662461936477365, 2.5662074034717923, 2.566186831628009, 2.572126994326042, 2.5721269171009857, 2.5834221374674096, 2.583432856433539, 2.5833712459919447, 2.5833327620268665, 2.5833327909157062, 2.5896400535226993, 2.589640149846497, 2.6000591946234857, 2.600058470874429, 2.600058751323855, 5.227061049923873, 5.234888547830881, 5.243811356387916, 7.947717027686916, 6.112244715621486, 10.38829264723705, 6.238959285920692, 6.715125482529193, 17.961859392168073, 7.056542417411838, 143.13540173262635, 13.996048515629436, 188.61759232606187, 14.736560298224942, 7.742337284201093, 69.39404937174152, 15.187784352168665, 248.36283648409488, 21.3259656725368, 209.6104757834288, 52.21846679181181, 12.949221043473097, 41.0096171174352, 21.418722707671225, 35.786443904373925, 39.956615431710986, 45.17824053850574, 11.185836650819352, 25.704984427753963, 54.9418527996969, 23.222014661356607, 16.775815142630393, 18.835232628900044, 3.4233234119471536, 2.5612280121421938, 2.5612222040229673, 2.5612177202533593, 5.969347332727373, 4.346276436080988, 5.261515797908769, 7.7273975695862145, 4.226722154264256, 4.375333875189522, 4.142073649802686, 4.292963067843302, 2.4404428122218307, 2.5102422985810584, 2.5106732739001996, 2.510660200235866, 2.515713511790001, 2.5157136119374828, 2.5714674074011397, 2.572126994326042, 2.5721269171009857, 2.5786133512773115, 2.578667514859678, 2.589085381065464, 2.589044668257322, 2.5940895771058363, 2.596627667829778, 2.5966277869496186, 2.5966334950543706, 2.612912960613796, 5.27019656786166, 5.084099886734532, 9.673751418495693, 6.101686179279149, 10.427524156414744, 18.016857345969957, 6.892584082513548, 6.924133734933585, 6.985247494226082, 13.219131174296843, 56.143455353303665, 209.6104757834288, 143.13540173262635, 14.959744718462705, 7.779954701994887, 7.75142570693494, 26.326317962421502, 248.36283648409488, 17.855757063537606, 81.5342697092918, 66.6946355878461, 41.0096171174352, 31.158643953020427, 17.542956057165753, 47.81456515808777, 37.205937951591565, 52.21846679181181, 54.9418527996969, 69.39404937174152, 18.51117118301328, 16.775815142630393, 41.749534060757234, 2.549462295877309, 3.361024325668468, 3.4633178111758687, 3.4736126799092455, 4.317764152640913, 4.371125942911738, 7.014945121751154, 2.434566176805071, 2.4821591006642483, 2.482159102929019, 2.5043014527793916, 2.5043009974328463, 2.5655864753292486, 2.5655863906035696, 2.5655859243905543, 2.566186831628009, 2.5662074034717923, 2.5662461936477365, 2.566578507922147, 2.566578363636154, 2.572733290034477, 2.583204455927417, 2.5832043432052028, 2.5882108903419665, 2.5882106606573365, 2.588211319267013, 2.5907476984246176, 2.6070868007052406, 2.607004833939687, 2.6104823085357314, 13.996048515629436, 6.176923650134037, 6.700956423751022, 6.791111843589861, 6.921592725796601, 6.985247494226082, 6.989888313472542, 19.4226063956434, 12.740753943910027, 12.28230315339447, 248.36283648409488, 22.34795028199698, 7.816347143149482, 17.542956057165753, 20.414081667677273, 56.143455353303665, 209.6104757834288, 188.61759232606187, 45.17824053850574, 47.81456515808777, 79.19261791063765, 81.5342697092918, 29.529012339623662, 38.59587437913143, 39.956615431710986, 41.0096171174352, 41.749534060757234, 66.6946355878461, 23.222014661356607, 143.13540173262635, 25.704984427753963, 17.839840068598875, 27.505150027610433, 48.39115810572264, 2.470217139358482, 4.205779654247509, 6.247318505086293, 3.211668064635634, 3.384061755145216, 3.358007284415072, 4.227344692626295, 2.4648026675603014, 2.4648024375411732, 2.464979107338687, 2.5157136119374828, 2.515713511790001, 2.526687064352858, 2.526859853185156, 2.5269960091475125, 2.533194454332193, 2.551187691928891, 2.5511881935394225, 2.5511550296352437, 2.567527891854199, 2.567529125208094, 2.570984072917932, 2.572564772153178, 2.572531917585492, 2.572531953948735, 2.5778237646066904, 6.028288631742651, 3.439496613177977, 3.2056194578145094, 3.205653969550266, 6.512343242687056, 13.207013764207113, 54.9418527996969, 248.36283648409488, 52.21846679181181, 81.5342697092918, 10.473533237306988, 209.6104757834288, 10.38829264723705, 10.623610718266665, 14.867907880916865, 15.83468183420786, 15.919064225368137, 79.19261791063765, 21.3259656725368, 19.490334240624247, 37.205937951591565, 41.0096171174352, 188.61759232606187, 32.68570529448464, 47.81456515808777, 26.326317962421502, 2.460249255262397, 2.4602490578120233, 2.4602020168405723, 4.013199622271359, 3.2491753576301075, 3.3335954731387973, 3.3739642001943815, 3.3787866612749586, 4.2235444613269415, 4.228561649785664, 4.257411845069249, 6.843238303203523, 2.3899793616162524, 2.437559246243698, 2.4597641653326057, 2.464979107338687, 2.510660200235866, 2.5106732739001996, 2.5219546955270613, 2.5219553709257463, 2.5281359468086833, 2.5281333134793806, 2.5281891827785774, 2.538604742205665, 2.5624653794425307, 2.5624897685195536, 2.562490794706223, 2.56249133597494, 2.56248839616351, 2.5675254362154134, 7.721009636449722, 8.471707962257131, 6.007672178228982, 6.551727335711331, 12.262903344345126, 14.06774340328027, 7.7273975695862145, 24.687827597482926, 17.64301924893247, 8.653956325787245, 188.61759232606187, 9.644289884295407, 10.316985754166986, 11.18191241930356, 11.309757235443831, 11.502672121881247, 12.740753943910027, 79.19261791063765, 69.39404937174152, 45.17824053850574, 25.39882102741228, 19.2127138672029, 24.741395572905237, 30.091972386055012, 81.5342697092918, 20.158798072431722, 3.2705525682947387, 3.2704733130148567, 2.4593806405358576, 2.4593806405358576, 2.459380831570148, 2.4592526692093624, 4.160524847366832, 3.2007227981395423, 3.332394611050885, 4.144266334656274, 4.263083001002119, 4.294064217290275, 2.3895357016153844, 2.437128306098397, 2.43712870413975, 2.4597641653326057, 2.4648024375411732, 2.4648026675603014, 2.5043009974328463, 2.5043014527793916, 2.5102422985810584, 2.520556131348774, 2.52152386473491, 2.527755451749607, 2.527755648323653, 2.5277559130900022, 2.538174492429558, 2.5457171676764934, 2.562035277237053, 2.5655127468955787, 10.299951983255061, 5.118929137730293, 5.211369849493387, 5.679694956913095, 9.296789113988673, 5.780851018736177, 6.127140842156311, 81.5342697092918, 7.742337284201093, 8.471707962257131, 8.675092806907033, 8.7118814243233, 8.767034573443365, 66.6946355878461, 27.505150027610433, 30.091972386055012, 12.225853233445696, 38.59587437913143, 23.767377010289575, 188.61759232606187, 39.956615431710986, 25.704984427753963, 48.39115810572264, 248.36283648409488, 18.016857345969957, 79.19261791063765, 31.204364549440108, 3.32878231463595, 3.332277418019807, 3.3322792796926852, 3.3322370003756423, 5.828414713642793, 3.969479334188612, 4.185455404863971, 2.283034152702307, 2.437128306098397, 2.43712870413975, 2.437559246243698, 2.4821591006642483, 2.482159102929019, 2.505553675765366, 2.520870265574996, 2.523514004264575, 2.5433101463787993, 2.544890697548737, 2.550149173812413, 2.550149309592055, 3.0243633826594833, 3.2491753576301075, 3.2995869964180575, 3.371308185171108, 3.3779073075798505, 3.378514970261622, 3.379673166386832, 3.385554454427093, 3.3883256922433724, 3.4005316213093497, 7.131500260738138, 11.193478535004047, 18.016857345969957, 9.296789113988673, 9.587253447482562, 11.348359630385254, 248.36283648409488, 26.326317962421502, 209.6104757834288, 12.898240681549842, 13.273585743199858, 14.736560298224942, 52.21846679181181, 19.29382118508261, 21.38705948716442, 21.418722707671225, 22.071359568302274, 143.13540173262635, 69.39404937174152, 32.68570529448464, 35.786443904373925, 41.749534060757234, 188.61759232606187, 6.564208440434203, 2.3895357016153844, 2.3899793616162524, 2.434566176805071, 2.4404428122218307, 2.4507710112480448, 2.4507609274493922, 2.4514204571544504, 2.4517396877407935, 2.451763594618733, 2.4579615081740767, 2.4759303439197446, 2.4922713193673203, 2.49226257625337, 2.4973088266996606, 2.497306785713528, 2.4972972126352806, 2.502557485693036, 2.4797800054423984, 2.8924956913560274, 3.0243633826594833, 3.2007227981395423, 3.211668064635634, 3.312318082254665, 3.319167491853298, 3.3199700101958385, 3.3250828037696176, 3.3304297554695883, 3.340743014996566, 3.3542699578284116, 6.551727335711331, 10.005259399027986, 17.23375438846941, 8.9842779058894, 10.316985754166986, 11.673647319549511, 69.39404937174152, 14.964338864122878, 45.17824053850574, 18.409219741895214, 56.143455353303665, 248.36283648409488, 52.21846679181181, 188.61759232606187, 41.749534060757234, 66.6946355878461, 209.6104757834288, 143.13540173262635, 4.118323182365835, 6.679538423514609, 6.001246681403459, 4.226722154264256, 15.83468183420786, 8.653956325787245, 5.084099886734532, 5.176843318486112, 2.8924956913560274, 2.283034152702307, 2.3664483178376283, 2.3736612091259697, 2.3736619160692127, 2.384080134038633, 2.3890712361840487, 2.3890718052990256, 2.3916072680534195, 2.4079482091704643, 2.411416927219022, 2.4129988724731217, 2.4129996694201563, 2.418123386975163, 7.131500260738138, 3.0243633826594833, 3.2056194578145094, 3.205653969550266, 3.2245480758893317, 3.229820334671213, 3.2532933686623853, 3.2802359956573057, 3.2853261791526713, 3.3013904496936877, 3.305463249973138, 3.321946874679186, 3.3355681634766783, 6.512343242687056, 7.438864137258174, 11.502672121881247, 18.835232628900044, 8.385608406616061, 9.211651834764249, 29.529012339623662, 38.59587437913143, 188.61759232606187, 20.158798072431722, 81.5342697092918, 17.47261383912589, 9.371519521840467, 3.990142887297995, 4.142073649802686, 7.706101977802326, 5.074248751858475, 14.06774340328027, 5.955538673679408, 5.688623310872314, 2.2507499842603025, 2.2569578125804046, 2.3015528010473343, 2.3015542011991013, 3.0615460831270527, 3.147932785728438, 3.169640817656668, 3.1862661034125876, 3.9535434272478094, 4.042196029002689, 4.055475689179427, 4.087697315117482, 4.889874061644956, 4.996718349108442, 5.652586651941419, 5.679694956913095, 6.247318505086293, 6.5655860987390176, 6.754887806771377, 7.547979098379366, 7.588481484163464, 7.648353766390215, 8.9842779058894, 9.946356317845746, 10.120375387481827, 10.334196539515917, 22.34795028199698, 11.673647319549511, 12.740753943910027, 37.205937951591565, 41.0096171174352, 69.39404937174152, 47.81456515808777, 81.5342697092918, 56.143455353303665, 19.2127138672029, 24.38884147906276, 25.39882102741228, 14.06774340328027, 16.436534704018424], \"Category\": [\"Default\", \"Default\", \"Default\", \"Default\", \"Default\", \"Default\", \"Default\", \"Default\", \"Default\", \"Default\", \"Default\", \"Default\", \"Default\", \"Default\", \"Default\", \"Default\", \"Default\", \"Default\", \"Default\", \"Default\", \"Default\", \"Default\", \"Default\", \"Default\", \"Default\", \"Default\", \"Default\", \"Default\", \"Default\", \"Default\", \"Topic1\", \"Topic1\", \"Topic1\", \"Topic1\", \"Topic1\", \"Topic1\", \"Topic1\", \"Topic1\", \"Topic1\", \"Topic1\", \"Topic1\", \"Topic1\", \"Topic1\", \"Topic1\", \"Topic1\", \"Topic1\", \"Topic1\", \"Topic1\", \"Topic1\", \"Topic1\", \"Topic1\", \"Topic1\", \"Topic1\", \"Topic1\", \"Topic1\", \"Topic1\", \"Topic1\", \"Topic1\", \"Topic1\", \"Topic1\", \"Topic1\", \"Topic1\", \"Topic1\", \"Topic1\", \"Topic1\", \"Topic1\", \"Topic1\", \"Topic1\", \"Topic1\", \"Topic1\", \"Topic1\", \"Topic1\", \"Topic1\", \"Topic1\", \"Topic1\", \"Topic1\", \"Topic1\", \"Topic1\", \"Topic1\", \"Topic1\", \"Topic1\", \"Topic1\", \"Topic1\", \"Topic1\", \"Topic1\", \"Topic1\", \"Topic1\", \"Topic1\", \"Topic1\", \"Topic1\", \"Topic1\", \"Topic1\", \"Topic2\", \"Topic2\", \"Topic2\", \"Topic2\", \"Topic2\", \"Topic2\", \"Topic2\", \"Topic2\", \"Topic2\", \"Topic2\", \"Topic2\", \"Topic2\", \"Topic2\", \"Topic2\", \"Topic2\", \"Topic2\", \"Topic2\", \"Topic2\", \"Topic2\", \"Topic2\", \"Topic2\", \"Topic2\", \"Topic2\", \"Topic2\", \"Topic2\", \"Topic2\", \"Topic2\", \"Topic2\", \"Topic2\", \"Topic2\", \"Topic2\", \"Topic2\", \"Topic2\", \"Topic2\", \"Topic2\", \"Topic2\", \"Topic2\", \"Topic2\", \"Topic2\", \"Topic2\", \"Topic2\", \"Topic2\", \"Topic2\", \"Topic2\", \"Topic2\", \"Topic2\", \"Topic2\", \"Topic2\", \"Topic2\", \"Topic2\", \"Topic2\", \"Topic2\", \"Topic2\", \"Topic2\", \"Topic2\", \"Topic2\", \"Topic2\", \"Topic2\", \"Topic2\", \"Topic2\", \"Topic2\", \"Topic2\", \"Topic2\", \"Topic3\", \"Topic3\", \"Topic3\", \"Topic3\", \"Topic3\", \"Topic3\", \"Topic3\", \"Topic3\", \"Topic3\", \"Topic3\", \"Topic3\", \"Topic3\", \"Topic3\", \"Topic3\", \"Topic3\", \"Topic3\", \"Topic3\", \"Topic3\", \"Topic3\", \"Topic3\", \"Topic3\", \"Topic3\", \"Topic3\", \"Topic3\", \"Topic3\", \"Topic3\", \"Topic3\", \"Topic3\", \"Topic3\", \"Topic3\", \"Topic3\", \"Topic3\", \"Topic3\", \"Topic3\", \"Topic3\", \"Topic3\", \"Topic3\", \"Topic3\", \"Topic3\", \"Topic3\", \"Topic3\", \"Topic3\", \"Topic3\", \"Topic3\", \"Topic3\", \"Topic3\", \"Topic3\", \"Topic3\", \"Topic3\", \"Topic3\", \"Topic3\", \"Topic3\", \"Topic3\", \"Topic3\", \"Topic3\", \"Topic3\", \"Topic3\", \"Topic4\", \"Topic4\", \"Topic4\", \"Topic4\", \"Topic4\", \"Topic4\", \"Topic4\", \"Topic4\", \"Topic4\", \"Topic4\", \"Topic4\", \"Topic4\", \"Topic4\", \"Topic4\", \"Topic4\", \"Topic4\", \"Topic4\", \"Topic4\", \"Topic4\", \"Topic4\", \"Topic4\", \"Topic4\", \"Topic4\", \"Topic4\", \"Topic4\", \"Topic4\", \"Topic4\", \"Topic4\", \"Topic4\", \"Topic4\", \"Topic4\", \"Topic4\", \"Topic4\", \"Topic4\", \"Topic4\", \"Topic4\", \"Topic4\", \"Topic4\", \"Topic4\", \"Topic4\", \"Topic4\", \"Topic4\", \"Topic4\", \"Topic4\", \"Topic4\", \"Topic4\", \"Topic4\", \"Topic4\", \"Topic4\", \"Topic4\", \"Topic4\", \"Topic4\", \"Topic4\", \"Topic4\", \"Topic4\", \"Topic4\", \"Topic4\", \"Topic4\", \"Topic4\", \"Topic4\", \"Topic4\", \"Topic4\", \"Topic4\", \"Topic5\", \"Topic5\", \"Topic5\", \"Topic5\", \"Topic5\", \"Topic5\", \"Topic5\", \"Topic5\", \"Topic5\", \"Topic5\", \"Topic5\", \"Topic5\", \"Topic5\", \"Topic5\", \"Topic5\", \"Topic5\", \"Topic5\", \"Topic5\", \"Topic5\", \"Topic5\", \"Topic5\", \"Topic5\", \"Topic5\", \"Topic5\", \"Topic5\", \"Topic5\", \"Topic5\", \"Topic5\", \"Topic5\", \"Topic5\", \"Topic5\", \"Topic5\", \"Topic5\", \"Topic5\", \"Topic5\", \"Topic5\", \"Topic5\", \"Topic5\", \"Topic5\", \"Topic5\", \"Topic5\", \"Topic5\", \"Topic5\", \"Topic5\", \"Topic5\", \"Topic5\", \"Topic5\", \"Topic5\", \"Topic5\", \"Topic5\", \"Topic5\", \"Topic5\", \"Topic5\", \"Topic5\", \"Topic5\", \"Topic5\", \"Topic5\", \"Topic5\", \"Topic5\", \"Topic5\", \"Topic5\", \"Topic5\", \"Topic5\", \"Topic5\", \"Topic5\", \"Topic5\", \"Topic5\", \"Topic5\", \"Topic5\", \"Topic5\", \"Topic5\", \"Topic5\", \"Topic5\", \"Topic6\", \"Topic6\", \"Topic6\", \"Topic6\", \"Topic6\", \"Topic6\", \"Topic6\", \"Topic6\", \"Topic6\", \"Topic6\", \"Topic6\", \"Topic6\", \"Topic6\", \"Topic6\", \"Topic6\", \"Topic6\", \"Topic6\", \"Topic6\", \"Topic6\", \"Topic6\", \"Topic6\", \"Topic6\", \"Topic6\", \"Topic6\", \"Topic6\", \"Topic6\", \"Topic6\", \"Topic6\", \"Topic6\", \"Topic6\", \"Topic6\", \"Topic6\", \"Topic6\", \"Topic6\", \"Topic6\", \"Topic6\", \"Topic6\", \"Topic6\", \"Topic6\", \"Topic6\", \"Topic6\", \"Topic6\", \"Topic6\", \"Topic6\", \"Topic6\", \"Topic6\", \"Topic6\", \"Topic6\", \"Topic6\", \"Topic6\", \"Topic6\", \"Topic6\", \"Topic6\", \"Topic6\", \"Topic6\", \"Topic6\", \"Topic6\", \"Topic6\", \"Topic6\", \"Topic6\", \"Topic7\", \"Topic7\", \"Topic7\", \"Topic7\", \"Topic7\", \"Topic7\", \"Topic7\", \"Topic7\", \"Topic7\", \"Topic7\", \"Topic7\", \"Topic7\", \"Topic7\", \"Topic7\", \"Topic7\", \"Topic7\", \"Topic7\", \"Topic7\", \"Topic7\", \"Topic7\", \"Topic7\", \"Topic7\", \"Topic7\", \"Topic7\", \"Topic7\", \"Topic7\", \"Topic7\", \"Topic7\", \"Topic7\", \"Topic7\", \"Topic7\", \"Topic7\", \"Topic7\", \"Topic7\", \"Topic7\", \"Topic7\", \"Topic7\", \"Topic7\", \"Topic7\", \"Topic7\", \"Topic7\", \"Topic7\", \"Topic7\", \"Topic7\", \"Topic7\", \"Topic7\", \"Topic7\", \"Topic7\", \"Topic7\", \"Topic7\", \"Topic7\", \"Topic7\", \"Topic7\", \"Topic7\", \"Topic7\", \"Topic7\", \"Topic7\", \"Topic7\", \"Topic7\", \"Topic7\", \"Topic7\", \"Topic7\", \"Topic7\", \"Topic7\", \"Topic8\", \"Topic8\", \"Topic8\", \"Topic8\", \"Topic8\", \"Topic8\", \"Topic8\", \"Topic8\", \"Topic8\", \"Topic8\", \"Topic8\", \"Topic8\", \"Topic8\", \"Topic8\", \"Topic8\", \"Topic8\", \"Topic8\", \"Topic8\", \"Topic8\", \"Topic8\", \"Topic8\", \"Topic8\", \"Topic8\", \"Topic8\", \"Topic8\", \"Topic8\", \"Topic8\", \"Topic8\", \"Topic8\", \"Topic8\", \"Topic8\", \"Topic8\", \"Topic8\", \"Topic8\", \"Topic8\", \"Topic8\", \"Topic8\", \"Topic8\", \"Topic8\", \"Topic8\", \"Topic8\", \"Topic8\", \"Topic8\", \"Topic8\", \"Topic8\", \"Topic8\", \"Topic8\", \"Topic8\", \"Topic8\", \"Topic8\", \"Topic8\", \"Topic8\", \"Topic8\", \"Topic8\", \"Topic8\", \"Topic8\", \"Topic8\", \"Topic8\", \"Topic8\", \"Topic8\", \"Topic8\", \"Topic8\", \"Topic8\", \"Topic8\", \"Topic8\", \"Topic9\", \"Topic9\", \"Topic9\", \"Topic9\", \"Topic9\", \"Topic9\", \"Topic9\", \"Topic9\", \"Topic9\", \"Topic9\", \"Topic9\", \"Topic9\", \"Topic9\", \"Topic9\", \"Topic9\", \"Topic9\", \"Topic9\", \"Topic9\", \"Topic9\", \"Topic9\", \"Topic9\", \"Topic9\", \"Topic9\", \"Topic9\", \"Topic9\", \"Topic9\", \"Topic9\", \"Topic9\", \"Topic9\", \"Topic9\", \"Topic9\", \"Topic9\", \"Topic9\", \"Topic9\", \"Topic9\", \"Topic9\", \"Topic9\", \"Topic9\", \"Topic9\", \"Topic9\", \"Topic9\", \"Topic9\", \"Topic9\", \"Topic9\", \"Topic9\", \"Topic9\", \"Topic9\", \"Topic9\", \"Topic9\", \"Topic9\", \"Topic9\", \"Topic9\", \"Topic9\", \"Topic9\", \"Topic9\", \"Topic9\", \"Topic9\", \"Topic9\", \"Topic9\", \"Topic9\", \"Topic9\", \"Topic9\", \"Topic9\", \"Topic9\", \"Topic10\", \"Topic10\", \"Topic10\", \"Topic10\", \"Topic10\", \"Topic10\", \"Topic10\", \"Topic10\", \"Topic10\", \"Topic10\", \"Topic10\", \"Topic10\", \"Topic10\", \"Topic10\", \"Topic10\", \"Topic10\", \"Topic10\", \"Topic10\", \"Topic10\", \"Topic10\", \"Topic10\", \"Topic10\", \"Topic10\", \"Topic10\", \"Topic10\", \"Topic10\", \"Topic10\", \"Topic10\", \"Topic10\", \"Topic10\", \"Topic10\", \"Topic10\", \"Topic10\", \"Topic10\", \"Topic10\", \"Topic10\", \"Topic10\", \"Topic10\", \"Topic10\", \"Topic10\", \"Topic10\", \"Topic10\", \"Topic10\", \"Topic10\", \"Topic10\", \"Topic10\", \"Topic10\", \"Topic10\", \"Topic10\", \"Topic10\", \"Topic10\", \"Topic10\", \"Topic10\", \"Topic10\", \"Topic10\", \"Topic10\", \"Topic10\", \"Topic10\", \"Topic10\", \"Topic10\", \"Topic10\", \"Topic10\", \"Topic10\", \"Topic10\", \"Topic11\", \"Topic11\", \"Topic11\", \"Topic11\", \"Topic11\", \"Topic11\", \"Topic11\", \"Topic11\", \"Topic11\", \"Topic11\", \"Topic11\", \"Topic11\", \"Topic11\", \"Topic11\", \"Topic11\", \"Topic11\", \"Topic11\", \"Topic11\", \"Topic11\", \"Topic11\", \"Topic11\", \"Topic11\", \"Topic11\", \"Topic11\", \"Topic11\", \"Topic11\", \"Topic11\", \"Topic11\", \"Topic11\", \"Topic11\", \"Topic11\", \"Topic11\", \"Topic11\", \"Topic11\", \"Topic11\", \"Topic11\", \"Topic11\", \"Topic11\", \"Topic11\", \"Topic11\", \"Topic11\", \"Topic11\", \"Topic11\", \"Topic11\", \"Topic11\", \"Topic11\", \"Topic11\", \"Topic11\", \"Topic11\", \"Topic11\", \"Topic11\", \"Topic11\", \"Topic11\", \"Topic11\", \"Topic11\", \"Topic11\", \"Topic11\", \"Topic11\", \"Topic11\", \"Topic11\", \"Topic11\", \"Topic11\", \"Topic11\", \"Topic12\", \"Topic12\", \"Topic12\", \"Topic12\", \"Topic12\", \"Topic12\", \"Topic12\", \"Topic12\", \"Topic12\", \"Topic12\", \"Topic12\", \"Topic12\", \"Topic12\", \"Topic12\", \"Topic12\", \"Topic12\", \"Topic12\", \"Topic12\", \"Topic12\", \"Topic12\", \"Topic12\", \"Topic12\", \"Topic12\", \"Topic12\", \"Topic12\", \"Topic12\", \"Topic12\", \"Topic12\", \"Topic12\", \"Topic12\", \"Topic12\", \"Topic12\", \"Topic12\", \"Topic12\", \"Topic12\", \"Topic12\", \"Topic12\", \"Topic12\", \"Topic12\", \"Topic12\", \"Topic12\", \"Topic12\", \"Topic12\", \"Topic12\", \"Topic12\", \"Topic12\", \"Topic12\", \"Topic12\", \"Topic12\", \"Topic12\", \"Topic12\", \"Topic12\", \"Topic12\", \"Topic12\", \"Topic12\", \"Topic12\", \"Topic12\", \"Topic12\", \"Topic12\", \"Topic12\", \"Topic12\", \"Topic12\", \"Topic13\", \"Topic13\", \"Topic13\", \"Topic13\", \"Topic13\", \"Topic13\", \"Topic13\", \"Topic13\", \"Topic13\", \"Topic13\", \"Topic13\", \"Topic13\", \"Topic13\", \"Topic13\", \"Topic13\", \"Topic13\", \"Topic13\", \"Topic13\", \"Topic13\", \"Topic13\", \"Topic13\", \"Topic13\", \"Topic13\", \"Topic13\", \"Topic13\", \"Topic13\", \"Topic13\", \"Topic13\", \"Topic13\", \"Topic13\", \"Topic13\", \"Topic13\", \"Topic13\", \"Topic13\", \"Topic13\", \"Topic13\", \"Topic13\", \"Topic13\", \"Topic13\", \"Topic13\", \"Topic13\", \"Topic13\", \"Topic13\", \"Topic13\", \"Topic13\", \"Topic13\", \"Topic13\", \"Topic13\", \"Topic13\", \"Topic13\", \"Topic13\", \"Topic13\", \"Topic13\", \"Topic13\", \"Topic13\", \"Topic13\", \"Topic13\", \"Topic13\", \"Topic13\", \"Topic13\", \"Topic13\", \"Topic13\", \"Topic13\", \"Topic13\", \"Topic14\", \"Topic14\", \"Topic14\", \"Topic14\", \"Topic14\", \"Topic14\", \"Topic14\", \"Topic14\", \"Topic14\", \"Topic14\", \"Topic14\", \"Topic14\", \"Topic14\", \"Topic14\", \"Topic14\", \"Topic14\", \"Topic14\", \"Topic14\", \"Topic14\", \"Topic14\", \"Topic14\", \"Topic14\", \"Topic14\", \"Topic14\", \"Topic14\", \"Topic14\", \"Topic14\", \"Topic14\", \"Topic14\", \"Topic14\", \"Topic14\", \"Topic14\", \"Topic14\", \"Topic14\", \"Topic14\", \"Topic14\", \"Topic14\", \"Topic14\", \"Topic14\", \"Topic14\", \"Topic14\", \"Topic14\", \"Topic14\", \"Topic14\", \"Topic14\", \"Topic14\", \"Topic14\", \"Topic14\", \"Topic14\", \"Topic14\", \"Topic14\", \"Topic14\", \"Topic15\", \"Topic15\", \"Topic15\", \"Topic15\", \"Topic15\", \"Topic15\", \"Topic15\", \"Topic15\", \"Topic15\", \"Topic15\", \"Topic15\", \"Topic15\", \"Topic15\", \"Topic15\", \"Topic15\", \"Topic15\", \"Topic15\", \"Topic15\", \"Topic15\", \"Topic15\", \"Topic15\", \"Topic15\", \"Topic15\", \"Topic15\", \"Topic15\", \"Topic15\", \"Topic15\", \"Topic15\", \"Topic15\", \"Topic15\", \"Topic15\", \"Topic15\", \"Topic15\", \"Topic15\", \"Topic15\", \"Topic15\", \"Topic15\", \"Topic15\", \"Topic15\", \"Topic15\", \"Topic15\", \"Topic15\", \"Topic15\", \"Topic15\", \"Topic15\", \"Topic15\", \"Topic15\", \"Topic15\", \"Topic15\", \"Topic15\", \"Topic15\", \"Topic15\", \"Topic15\", \"Topic15\", \"Topic15\", \"Topic15\", \"Topic16\", \"Topic16\", \"Topic16\", \"Topic16\", \"Topic16\", \"Topic16\", \"Topic16\", \"Topic16\", \"Topic16\", \"Topic16\", \"Topic16\", \"Topic16\", \"Topic16\", \"Topic16\", \"Topic16\", \"Topic16\", \"Topic16\", \"Topic16\", \"Topic16\", \"Topic16\", \"Topic16\", \"Topic16\", \"Topic16\", \"Topic16\", \"Topic16\", \"Topic16\", \"Topic16\", \"Topic16\", \"Topic16\", \"Topic16\", \"Topic16\", \"Topic16\", \"Topic16\", \"Topic16\", \"Topic16\", \"Topic16\", \"Topic16\", \"Topic16\", \"Topic16\", \"Topic16\", \"Topic16\", \"Topic16\", \"Topic16\", \"Topic16\", \"Topic16\", \"Topic16\", \"Topic16\", \"Topic16\", \"Topic16\", \"Topic16\", \"Topic16\", \"Topic16\", \"Topic16\", \"Topic16\", \"Topic16\", \"Topic16\", \"Topic16\", \"Topic17\", \"Topic17\", \"Topic17\", \"Topic17\", \"Topic17\", \"Topic17\", \"Topic17\", \"Topic17\", \"Topic17\", \"Topic17\", \"Topic17\", \"Topic17\", \"Topic17\", \"Topic17\", \"Topic17\", \"Topic17\", \"Topic17\", \"Topic17\", \"Topic17\", \"Topic17\", \"Topic17\", \"Topic17\", \"Topic17\", \"Topic17\", \"Topic17\", \"Topic17\", \"Topic17\", \"Topic17\", \"Topic17\", \"Topic17\", \"Topic17\", \"Topic17\", \"Topic17\", \"Topic17\", \"Topic17\", \"Topic17\", \"Topic17\", \"Topic17\", \"Topic17\", \"Topic17\", \"Topic17\", \"Topic17\", \"Topic17\", \"Topic17\", \"Topic17\", \"Topic17\", \"Topic17\", \"Topic17\", \"Topic17\", \"Topic17\", \"Topic17\", \"Topic17\", \"Topic17\", \"Topic18\", \"Topic18\", \"Topic18\", \"Topic18\", \"Topic18\", \"Topic18\", \"Topic18\", \"Topic18\", \"Topic18\", \"Topic18\", \"Topic18\", \"Topic18\", \"Topic18\", \"Topic18\", \"Topic18\", \"Topic18\", \"Topic18\", \"Topic18\", \"Topic18\", \"Topic18\", \"Topic18\", \"Topic18\", \"Topic18\", \"Topic18\", \"Topic18\", \"Topic18\", \"Topic18\", \"Topic18\", \"Topic18\", \"Topic18\", \"Topic18\", \"Topic18\", \"Topic18\", \"Topic18\", \"Topic18\", \"Topic18\", \"Topic18\", \"Topic18\", \"Topic18\", \"Topic18\", \"Topic18\", \"Topic18\", \"Topic18\", \"Topic18\", \"Topic18\", \"Topic18\", \"Topic18\", \"Topic18\", \"Topic18\", \"Topic18\", \"Topic18\", \"Topic18\", \"Topic18\", \"Topic18\", \"Topic18\", \"Topic19\", \"Topic19\", \"Topic19\", \"Topic19\", \"Topic19\", \"Topic19\", \"Topic19\", \"Topic19\", \"Topic19\", \"Topic19\", \"Topic19\", \"Topic19\", \"Topic19\", \"Topic19\", \"Topic19\", \"Topic19\", \"Topic19\", \"Topic19\", \"Topic19\", \"Topic19\", \"Topic19\", \"Topic19\", \"Topic19\", \"Topic19\", \"Topic19\", \"Topic19\", \"Topic19\", \"Topic19\", \"Topic19\", \"Topic19\", \"Topic19\", \"Topic19\", \"Topic19\", \"Topic19\", \"Topic19\", \"Topic19\", \"Topic19\", \"Topic19\", \"Topic19\", \"Topic19\", \"Topic19\", \"Topic19\", \"Topic19\", \"Topic19\", \"Topic19\", \"Topic19\", \"Topic19\", \"Topic19\", \"Topic20\", \"Topic20\", \"Topic20\", \"Topic20\", \"Topic20\", \"Topic20\", \"Topic20\", \"Topic20\", \"Topic20\", \"Topic20\", \"Topic20\", \"Topic20\", \"Topic20\", \"Topic20\", \"Topic20\", \"Topic20\", \"Topic20\", \"Topic20\", \"Topic20\", \"Topic20\", \"Topic20\", \"Topic20\", \"Topic20\", \"Topic20\", \"Topic20\", \"Topic20\", \"Topic20\", \"Topic20\", \"Topic20\", \"Topic20\", \"Topic20\", \"Topic20\", \"Topic20\", \"Topic20\", \"Topic20\", \"Topic20\", \"Topic20\", \"Topic20\", \"Topic20\", \"Topic20\"], \"logprob\": [30.0, 29.0, 28.0, 27.0, 26.0, 25.0, 24.0, 23.0, 22.0, 21.0, 20.0, 19.0, 18.0, 17.0, 16.0, 15.0, 14.0, 13.0, 12.0, 11.0, 10.0, 9.0, 8.0, 7.0, 6.0, 5.0, 4.0, 3.0, 2.0, 1.0, -4.8622, -5.0428, -5.0428, -5.5472, -5.0428, -5.9444, -5.9444, -5.9445, -5.9448, -4.2768, -4.5765, -5.5471, -5.5471, -5.1185, -5.9444, -5.9444, -5.9444, -5.9444, -5.9449, -5.0428, -4.4853, -5.9444, -5.945, -5.9444, -5.9444, -5.9444, -5.9445, -5.3851, -5.9444, -5.0429, -5.2635, -4.8881, -3.8865, -4.8622, -4.5765, -4.6235, -5.5471, -3.8512, -5.0428, -5.5471, -4.4686, -4.8432, -5.2635, -4.3437, -4.166, -4.1833, -4.8975, -4.613, -4.5765, -3.996, -4.7092, -4.8622, -4.1981, -4.8622, -4.764, -4.4396, -4.765, -4.5458, -4.7934, -4.8622, -4.8839, -4.8622, -5.4333, -5.8306, -5.8306, -5.8306, -5.8307, -5.8307, -4.9291, -5.8306, -5.8306, -5.8306, -5.8306, -5.8307, -5.8306, -5.8306, -5.4333, -5.9341, -5.8306, -4.9291, -5.8306, -5.8306, -6.4998, -6.4998, -5.4333, -6.4998, -6.4998, -6.4998, -4.9291, -6.4998, -6.4998, -6.4998, -4.929, -5.5448, -5.4333, -2.5459, -5.8306, -4.9647, -5.3153, -4.2409, -4.4628, -4.208, -4.4801, -3.1848, -4.9291, -3.4953, -4.5954, -4.0594, -4.7967, -5.1497, -5.1497, -4.2617, -4.841, -4.652, -4.929, -4.1836, -4.9392, -4.9929, -5.1497, -4.7136, -5.0613, -5.1497, -5.1497, -5.0633, -5.1497, -5.1184, -5.1184, -5.402, -5.7993, -5.7993, -5.7993, -5.7993, -5.7993, -5.7993, -5.7993, -5.7996, -5.7993, -5.7993, -5.7993, -5.7993, -5.1184, -5.7993, -5.402, -5.402, -5.402, -4.4314, -5.7993, -5.7993, -5.7993, -5.7993, -5.7993, -5.7993, -6.4684, -4.7171, -5.4196, -3.9256, -4.7171, -4.6245, -2.6592, -4.9166, -3.8553, -5.1184, -3.1998, -4.6902, -4.4187, -4.8977, -4.4694, -4.4137, -4.7885, -4.717, -4.1339, -4.9258, -5.009, -4.4779, -5.0654, -4.5491, -4.8537, -4.8977, -4.8165, -4.5199, -5.0498, -5.1184, -5.7491, -5.7491, -5.7491, -5.7491, -5.7491, -5.7491, -5.7491, -5.3518, -5.3517, -5.7491, -5.7491, -5.7491, -5.3517, -5.7491, -5.7493, -5.7491, -5.0682, -5.7491, -4.32, -4.8522, -5.7491, -5.7491, -5.7491, -5.3308, -6.4182, -6.4182, -6.4182, -5.5209, -6.4182, -6.4182, -5.7491, -5.7491, -5.7491, -5.7491, -3.5002, -5.5515, -3.8808, -5.0602, -2.9607, -4.0828, -3.236, -4.2655, -4.7025, -3.5201, -3.3732, -4.7047, -4.161, -4.8475, -5.0682, -5.0682, -5.0682, -4.4764, -4.9007, -5.1716, -4.8305, -4.8475, -4.8106, -5.3517, -5.0682, -5.1747, -5.0682, -5.0629, -5.2105, -5.5339, -5.5339, -5.5339, -5.5341, -5.5339, -5.5341, -5.5339, -5.5339, -5.5917, -5.1366, -5.5339, -5.5339, -5.5339, -6.203, -6.203, -6.203, -6.203, -6.203, -6.203, -6.203, -6.203, -6.2028, -6.203, -6.203, -6.203, -6.203, -6.203, -6.203, -6.203, -6.203, -5.5339, -5.5339, -5.5339, -5.5339, -4.9184, -3.7652, -4.9883, -4.6478, -5.5339, -5.5339, -5.5339, -5.5339, -5.5339, -5.1366, -2.9689, -5.5919, -3.2592, -4.3101, -3.2244, -4.853, -5.1366, -4.427, -3.8492, -4.5912, -4.4997, -4.4243, -5.1363, -4.6323, -4.5157, -4.8647, -4.5611, -5.0229, -4.853, -5.0888, -4.8282, -4.853, -4.8529, -4.9916, -5.1366, -4.9478, -5.1326, -5.1366, -5.1366, -4.814, -5.0976, -5.4949, -5.495, -5.4949, -4.4127, -4.5933, -5.0976, -5.0976, -5.4949, -4.5933, -5.495, -5.0976, -5.4949, -5.4949, -5.4949, -5.4949, -6.164, -6.164, -6.164, -4.0099, -6.164, -6.164, -6.164, -6.164, -6.164, -6.164, -6.164, -6.164, -6.164, -5.4949, -4.814, -5.4949, -5.4949, -3.8513, -4.814, -5.2427, -5.4949, -5.0976, -5.4949, -3.2656, -4.0043, -3.0533, -3.8615, -4.542, -4.4332, -4.814, -4.2634, -3.858, -4.6591, -4.083, -4.814, -4.6422, -5.0976, -4.9905, -5.0012, -5.0976, -5.0976, -5.0976, -5.0976, -5.0443, -5.4416, -5.4416, -5.4416, -5.4416, -4.3594, -4.7607, -5.4416, -5.4417, -5.0443, -5.0443, -4.7607, -5.4416, -5.4416, -5.4416, -6.0403, -6.1107, -6.1107, -6.1107, -6.1107, -6.1107, -6.1107, -6.1107, -6.1107, -6.1107, -6.1107, -6.1107, -6.1107, -6.1107, -6.1107, -5.4416, -4.7607, -4.5401, -5.4416, -5.4416, -5.4416, -5.4416, -4.7608, -5.4416, -5.4416, -5.4416, -4.4007, -5.4416, -3.4129, -3.0661, -3.2686, -3.6568, -4.861, -4.3346, -4.5401, -4.5401, -4.5401, -5.0443, -4.9422, -5.0443, -5.0444, -5.0443, -5.2342, -5.0443, -4.9955, -5.0443, -5.0444, -5.0443, -5.0443, -5.3471, -5.3471, -5.3471, -5.3472, -5.3472, -5.3472, -4.6663, -5.3471, -5.3472, -4.9498, -5.3471, -5.3471, -4.4612, -4.9499, -4.9498, -5.3472, -5.3471, -6.0162, -5.3471, -5.4001, -6.0162, -6.0162, -5.433, -6.0162, -6.0162, -6.0162, -6.0162, -6.0162, -6.0162, -6.0163, -4.9498, -4.6662, -5.3472, -5.3474, -4.97, -4.6663, -5.3472, -4.4715, -5.4187, -3.7471, -4.4565, -4.9894, -4.7538, -3.3121, -4.9499, -4.5902, -4.4456, -4.6868, -3.958, -4.2649, -4.818, -4.7777, -4.7621, -4.6662, -4.9498, -4.9498, -4.4259, -4.9886, -5.0934, -4.9498, -4.8594, -4.95, -4.899, -4.9498, -4.9498, -5.2716, -5.2716, -5.2716, -5.2716, -5.2717, -5.2721, -5.2716, -5.272, -4.5907, -4.3791, -5.2716, -5.2716, -5.9407, -5.9407, -5.9407, -5.9407, -5.9407, -5.9407, -5.9407, -5.9409, -5.9407, -5.9407, -5.9407, -5.9407, -5.9407, -5.9407, -5.9407, -5.9407, -5.9407, -5.9407, -5.2716, -4.8743, -5.2948, -5.7319, -5.2716, -5.2716, -2.816, -5.2716, -2.8684, -5.2716, -4.5954, -5.2716, -3.122, -3.8299, -5.2881, -4.8888, -3.8929, -4.25, -5.2716, -4.8743, -4.5354, -4.5031, -4.4172, -5.0396, -5.2044, -5.0657, -5.1369, -5.1567, -5.2716, -5.2716, -5.2716, -5.2716, -5.2716, -5.2716, -4.8722, -4.8722, -5.2695, -5.2697, -5.2695, -4.8279, -5.2695, -5.2695, -5.2696, -5.2695, -5.2695, -5.9386, -5.9386, -5.9386, -5.9386, -5.9386, -5.9386, -5.9386, -5.9386, -5.9386, -5.9386, -5.9386, -5.9386, -5.9387, -5.9386, -5.9386, -5.9386, -5.9386, -5.9386, -5.9386, -5.2695, -5.2695, -3.6407, -5.2957, -3.9095, -4.8722, -4.6028, -5.2695, -4.8722, -4.5888, -4.6842, -4.8722, -4.8722, -4.5886, -4.8722, -4.3679, -5.4899, -4.9282, -3.5199, -5.2695, -4.8722, -4.5983, -4.2509, -4.8722, -4.8722, -4.8722, -4.8722, -4.8543, -4.8722, -4.8722, -4.8722, -4.9947, -5.0728, -5.0418, -4.8702, -4.8702, -5.2675, -5.2675, -5.2675, -5.2675, -5.2675, -5.2675, -5.2675, -4.8702, -4.8702, -5.2675, -4.8702, -5.9366, -5.9366, -5.9366, -5.9366, -5.9367, -5.9366, -5.9366, -5.9366, -5.9366, -5.9366, -5.9367, -5.9367, -5.9366, -5.9366, -5.9366, -5.9366, -5.9366, -5.2675, -5.2675, -5.2675, -4.8873, -5.2675, -4.8702, -5.2675, -5.2957, -4.6465, -5.2675, -3.3597, -4.8702, -3.2825, -4.8702, -5.2675, -3.9593, -4.8702, -3.3549, -4.7083, -3.5977, -4.2864, -4.9912, -4.6812, -4.8667, -4.7409, -4.7433, -4.7752, -5.0619, -4.9674, -4.8703, -5.0145, -5.1748, -5.2675, -4.7609, -5.1582, -5.1582, -5.1582, -4.4773, -4.796, -4.762, -4.4952, -5.1582, -5.1582, -5.2171, -5.1837, -5.8273, -5.8273, -5.8273, -5.8273, -5.8273, -5.8273, -5.8273, -5.8273, -5.8273, -5.8273, -5.8273, -5.8273, -5.8273, -5.8273, -5.8273, -5.8273, -5.8275, -5.8273, -5.1582, -5.2674, -4.7668, -5.1582, -4.7637, -4.4773, -5.1582, -5.1582, -5.1582, -4.7609, -3.8285, -3.1336, -3.3994, -4.7609, -5.1582, -5.1637, -4.4773, -3.3594, -4.7609, -4.0759, -4.2566, -4.4773, -4.5841, -4.8169, -4.4773, -4.7609, -4.7609, -4.7609, -4.7609, -5.1582, -5.1582, -5.1582, -5.1011, -5.1011, -5.1011, -5.1011, -5.1011, -5.1011, -4.7038, -5.7702, -5.7702, -5.7702, -5.7703, -5.7703, -5.7702, -5.7702, -5.7702, -5.7702, -5.7702, -5.7702, -5.7702, -5.7702, -5.7702, -5.7702, -5.7702, -5.7702, -5.7702, -5.7702, -5.7702, -5.7702, -5.7703, -5.7703, -4.4203, -5.1011, -5.1012, -5.1011, -5.1012, -5.1011, -5.1011, -4.4203, -4.7038, -4.7549, -2.9258, -4.4203, -5.1011, -4.7038, -4.7038, -4.2244, -3.6162, -3.6829, -4.4203, -4.4203, -4.1996, -4.2131, -4.7038, -4.7038, -4.7038, -4.7038, -4.7038, -4.7038, -5.0421, -5.0005, -5.0563, -5.1011, -5.1011, -5.1011, -4.8456, -4.4482, -4.1646, -4.8454, -4.8455, -4.9768, -4.8454, -5.5145, -5.5145, -5.5145, -5.5145, -5.5145, -5.5145, -5.5145, -5.5145, -5.5146, -5.5145, -5.5145, -5.5146, -5.5145, -5.5145, -5.5145, -5.5145, -5.5146, -5.5146, -5.5145, -4.8454, -5.4105, -5.5145, -5.5146, -4.8454, -4.4481, -3.443, -2.6537, -3.7632, -3.5597, -4.7276, -3.181, -4.8454, -4.8454, -4.8454, -4.8454, -4.8454, -4.3123, -4.7699, -4.9634, -4.8454, -4.9434, -4.8138, -5.1051, -5.0874, -5.2479, -4.8407, -4.8407, -4.8407, -4.4434, -4.8407, -4.8407, -4.8407, -4.8407, -4.8407, -4.8407, -4.8407, -4.4434, -5.5097, -5.5097, -5.5097, -5.51, -5.5097, -5.5097, -5.5097, -5.5097, -5.5097, -5.5097, -5.5097, -5.5097, -5.5097, -5.5097, -5.5097, -5.5097, -5.5097, -5.5097, -4.4859, -4.4434, -4.8541, -4.8407, -4.446, -4.4434, -4.8407, -4.1739, -4.4434, -4.8407, -3.3367, -4.8407, -4.8407, -4.8407, -4.8407, -4.8407, -4.8407, -4.1598, -4.4104, -4.8407, -4.8407, -4.8407, -4.8407, -4.8407, -4.8407, -4.8407, -4.4007, -4.4007, -4.798, -4.798, -4.798, -4.7981, -4.4007, -4.798, -4.798, -4.798, -4.798, -4.798, -5.4671, -5.4671, -5.4671, -5.4671, -5.4671, -5.4671, -5.4671, -5.4671, -5.4671, -5.4671, -5.4671, -5.4671, -5.4671, -5.4671, -5.4671, -5.4671, -5.4671, -5.4671, -4.1171, -4.798, -4.798, -4.798, -4.4007, -4.798, -4.798, -3.2872, -4.798, -4.798, -4.798, -4.798, -4.798, -3.9886, -4.4007, -4.4007, -4.7981, -4.4007, -4.6937, -4.4007, -4.6747, -4.7464, -4.7613, -4.7524, -4.798, -4.798, -4.798, -4.6703, -4.6702, -4.6702, -4.6703, -4.2729, -4.6702, -4.6703, -5.3393, -5.3393, -5.3393, -5.3393, -5.3393, -5.3393, -5.3393, -5.3395, -5.3393, -5.3393, -5.3393, -5.3393, -5.3393, -5.3393, -5.3393, -5.3393, -5.3393, -5.3393, -5.3393, -5.3393, -5.3393, -5.3393, -5.3393, -4.6702, -4.273, -3.9894, -4.6702, -4.6704, -4.6702, -3.0602, -4.2729, -3.2765, -4.6702, -4.6702, -4.6703, -4.2189, -4.6702, -4.6703, -4.6702, -4.6703, -4.2528, -4.4688, -4.6702, -4.6702, -4.6447, -4.6575, -4.055, -5.1214, -5.1213, -5.1214, -5.1213, -5.1213, -5.1214, -5.1214, -5.1213, -5.1213, -5.1214, -5.1214, -5.1213, -5.1214, -5.1213, -5.1214, -5.1214, -5.1214, -5.1971, -5.1213, -5.1213, -5.1214, -5.1213, -5.1214, -5.1213, -5.1213, -5.1214, -5.1213, -5.1213, -5.1213, -4.4523, -4.055, -4.055, -4.4795, -4.4523, -4.4523, -3.6272, -4.4523, -4.055, -4.4523, -4.055, -3.5507, -4.1121, -3.8901, -4.4785, -4.4523, -4.4523, -5.1213, -5.1213, -5.1213, -5.1213, -5.1213, -5.1213, -5.1213, -5.1213, -3.4733, -4.1542, -4.8233, -4.8233, -4.8233, -4.8233, -4.8233, -4.8233, -4.8233, -4.8233, -4.8233, -4.8233, -4.8233, -4.8233, -4.8233, -3.7934, -4.8233, -4.8233, -4.8233, -4.8233, -4.8233, -4.8233, -4.8233, -4.8233, -4.8233, -4.8233, -4.8233, -4.8233, -4.1898, -4.1542, -3.7569, -3.517, -4.1542, -4.1542, -4.1542, -4.517, -4.7613, -4.8233, -4.8233, -4.8233, -4.8233, -4.8233, -4.8233, -4.8233, -4.8233, -4.8233, -4.8233, -4.8233, -4.5103, -4.5103, -4.5103, -4.5103, -4.5103, -4.5103, -4.5103, -4.5103, -4.5103, -4.5103, -4.5103, -4.5103, -4.5103, -4.5103, -4.5103, -4.5103, -4.5103, -4.5103, -4.5103, -4.5103, -4.5103, -4.5103, -4.5103, -4.5103, -4.5103, -4.5103, -3.8413, -4.5103, -4.5103, -3.444, -3.8413, -3.8413, -4.5103, -4.5103, -4.5103, -4.5103, -4.5103, -4.5103, -4.5103, -4.5103], \"loglift\": [30.0, 29.0, 28.0, 27.0, 26.0, 25.0, 24.0, 23.0, 22.0, 21.0, 20.0, 19.0, 18.0, 17.0, 16.0, 15.0, 14.0, 13.0, 12.0, 11.0, 10.0, 9.0, 8.0, 7.0, 6.0, 5.0, 4.0, 3.0, 2.0, 1.0, 2.1365, 2.1122, 2.1122, 2.0215, 1.9574, 1.9199, 1.9199, 1.9199, 1.9196, 1.8354, 1.8124, 1.8011, 1.8, 1.756, 1.6762, 1.6762, 1.6559, 1.6544, 1.654, 1.6399, 1.6396, 1.6386, 1.6381, 1.6366, 1.6366, 1.6337, 1.6337, 1.6337, 1.6316, 1.6221, 1.6028, 1.5202, 1.0984, 1.2696, 1.1567, 1.166, 1.4924, 0.8009, 1.2826, 1.478, 0.9445, 1.1276, 1.3188, 0.4806, 0.3143, 0.268, 0.9385, 0.6571, 0.3964, -0.489, 0.5266, 0.7434, -0.5856, 0.6757, 0.435, -0.5512, 0.2767, -1.2085, 0.0525, 0.5858, 0.6978, 0.4125, 2.1397, 2.0377, 2.0377, 2.0376, 2.0376, 2.0376, 1.8416, 1.7727, 1.7552, 1.7534, 1.749, 1.7483, 1.7438, 1.7438, 1.7266, 1.6371, 1.6136, 1.5683, 1.5298, 1.5259, 1.4716, 1.4716, 1.4422, 1.4373, 1.4373, 1.4373, 1.4196, 1.4184, 1.4095, 1.4095, 1.3385, 1.363, 1.3545, 1.0666, 1.3529, 1.2296, 1.2511, 1.0292, 0.9852, 0.8336, 0.9315, 0.1526, 1.0335, 0.0117, 0.7699, 0.3919, 0.8614, 1.1202, 1.1167, 0.2186, 0.7765, 0.4686, 0.7549, -0.2952, 0.7067, 0.7404, 0.935, 0.1108, 0.731, 0.8419, 0.7648, 0.0751, 0.6989, 2.2283, 2.2283, 2.1723, 2.0702, 2.0702, 2.0702, 2.0702, 2.0702, 2.0702, 2.0702, 2.0701, 1.7922, 1.7876, 1.7827, 1.7806, 1.7803, 1.7746, 1.7623, 1.7618, 1.6233, 1.6213, 1.5957, 1.589, 1.5713, 1.5579, 1.557, 1.5568, 1.5036, 1.4697, 1.466, 1.3491, 1.3677, 1.29, 0.6781, 1.2299, 0.7968, 1.2758, 0.3072, 1.0597, 0.7019, 1.0188, 0.5035, 0.4322, 0.817, 0.6483, -0.2455, 0.8322, 0.8396, 0.0024, 0.9221, -0.0979, 0.3107, 0.3381, 0.0078, -0.9074, 0.5153, 0.9113, 2.123, 2.123, 2.123, 2.123, 2.123, 2.123, 2.1229, 2.0199, 2.0017, 1.9026, 1.8637, 1.8444, 1.8399, 1.8395, 1.8394, 1.8348, 1.7002, 1.6495, 1.644, 1.6356, 1.6215, 1.6203, 1.6077, 1.5586, 1.5553, 1.5209, 1.5209, 1.5105, 1.4932, 1.4931, 1.4616, 1.4523, 1.4416, 1.4339, 1.1122, 1.3905, 0.9652, 1.2472, 0.5463, 0.8901, 0.3765, 0.8729, 1.0554, 0.3684, -0.0359, 0.8604, 0.3194, 0.9448, 1.0849, 1.0219, 0.9018, -0.0251, 0.511, 1.0261, 0.3339, 0.3516, 0.231, 1.2558, 0.5756, 0.7647, 0.1676, -0.2386, 0.3274, 2.3505, 2.3505, 2.3505, 2.3505, 2.0884, 2.0688, 2.064, 2.0496, 2.0252, 1.8829, 1.8531, 1.8351, 1.8263, 1.7773, 1.7426, 1.7236, 1.7148, 1.7127, 1.7127, 1.7127, 1.6973, 1.6952, 1.695, 1.695, 1.691, 1.691, 1.6908, 1.6907, 1.6883, 1.6843, 1.6781, 1.675, 1.6502, 1.6428, 1.585, 1.3732, 1.4991, 1.3818, 1.5098, 1.4979, 1.4934, 1.4923, 1.4912, 1.3547, 0.538, 1.471, 0.3534, 0.8543, 0.1129, 1.0293, 1.2075, 0.6147, 0.0392, 0.5293, 0.3463, 0.1881, 1.1352, 0.3406, 0.1364, 0.6732, -0.0807, 0.8696, 0.3828, 0.9243, 0.0686, 0.1319, -0.0286, 0.2075, 0.7601, -0.4965, 0.1375, 0.5072, 0.2766, 2.5527, 2.4956, 2.3914, 2.3914, 2.1288, 2.0993, 2.0756, 1.9478, 1.9386, 1.9219, 1.8887, 1.8856, 1.8728, 1.8727, 1.8717, 1.8704, 1.8587, 1.8173, 1.8173, 1.7636, 1.74, 1.7373, 1.7373, 1.7373, 1.735, 1.731, 1.731, 1.731, 1.7308, 1.7308, 1.7179, 1.6575, 1.6923, 1.6204, 1.2692, 1.4525, 1.5262, 1.5374, 1.4058, 1.5236, 0.6228, 0.8925, 0.2841, 0.5897, 0.8712, 0.5517, 0.9193, 0.2169, -0.351, 0.54, -0.4705, 0.7511, 0.3307, 1.179, 0.6934, 0.6044, 0.8843, 0.3693, 0.8363, 0.1771, 2.5531, 2.4485, 2.4485, 2.4485, 2.4485, 2.3027, 2.2905, 2.1481, 2.148, 2.1425, 2.1395, 2.1326, 1.9402, 1.9283, 1.9257, 1.9038, 1.8727, 1.8101, 1.8099, 1.7925, 1.7925, 1.7902, 1.7902, 1.7862, 1.7862, 1.7862, 1.786, 1.786, 1.786, 1.786, 1.7777, 1.7594, 1.7436, 1.7669, 1.7613, 1.7484, 1.7289, 1.4426, 1.6038, 1.5959, 1.5869, 1.2575, 1.5797, 0.4756, 0.2712, 0.344, -0.1499, 0.9392, 0.2779, 0.3059, -0.0597, -0.0888, 0.8951, 0.5058, 0.7012, 0.6628, 0.6396, 1.2536, 0.3674, 0.0461, 0.1201, 0.0941, -0.0594, -0.3922, 2.551, 2.551, 2.551, 2.551, 2.551, 2.551, 2.5319, 2.3254, 2.2775, 2.2691, 2.2613, 2.105, 2.0938, 2.0914, 2.0883, 2.0509, 2.0312, 2.022, 2.0173, 1.9748, 1.9716, 1.9716, 1.9516, 1.9367, 1.9175, 1.9087, 1.9087, 1.9087, 1.9085, 1.9085, 1.8957, 1.8335, 1.8692, 1.8533, 1.8084, 1.7706, 1.8428, 1.5161, 1.7839, 1.1497, 1.3795, 1.577, 1.3931, 0.1948, 1.5414, 1.0557, 0.7189, 1.0587, -0.0696, 0.3872, 1.1951, 1.0225, 0.8816, 0.5329, 1.3453, 1.1029, -1.0885, 0.9822, 1.3295, 0.5881, -0.2469, 0.4153, -1.2865, -0.1255, 0.286, 2.6314, 2.6314, 2.6314, 2.6314, 2.6313, 2.3787, 2.3582, 2.3282, 2.1067, 2.1056, 2.1034, 2.1018, 2.1003, 2.0147, 2.0147, 1.9866, 1.9865, 1.9865, 1.9845, 1.9844, 1.969, 1.969, 1.9627, 1.9624, 1.9624, 1.9624, 1.9624, 1.9624, 1.9599, 1.9599, 1.9236, 1.7175, 1.7983, 1.909, 1.7842, 1.7767, 1.0724, 1.7009, 0.4689, 1.646, 1.3012, 1.6292, 0.385, 0.7825, 1.6033, 1.3195, 0.5874, 0.7229, 1.5462, 1.0956, 0.2889, 0.149, -0.8047, 0.5779, 1.2776, 0.2996, -0.152, -0.1151, 1.2159, 1.509, 1.3907, 1.0196, 1.1516, 1.5244, 2.7404, 2.7404, 2.361, 2.331, 2.3297, 2.2214, 2.1126, 2.1108, 2.1107, 2.1083, 2.1081, 2.0522, 2.0172, 2.0172, 1.9891, 1.9714, 1.9714, 1.9714, 1.9692, 1.9648, 1.9624, 1.9583, 1.9583, 1.9583, 1.9564, 1.9564, 1.9564, 1.9555, 1.9555, 1.9479, 1.9425, 1.9314, 1.8262, 1.9048, 1.6556, 1.7354, 1.6678, 1.764, 1.6275, 1.5361, 1.46, 1.5361, 1.5167, 1.3452, 1.4229, 1.0452, 1.707, 1.2853, 0.0926, 1.5214, 1.1332, 0.767, 0.2295, 1.1194, 0.9764, 0.7716, 0.5395, 0.4158, 0.3636, 0.1694, 0.1127, 0.28, 0.6771, 0.1573, 2.7419, 2.7419, 2.6357, 2.6357, 2.6357, 2.6357, 2.6357, 2.6357, 2.3626, 2.3352, 2.3304, 2.1912, 2.1562, 2.019, 1.9887, 1.9732, 1.9732, 1.9732, 1.9709, 1.9709, 1.9665, 1.9665, 1.9665, 1.9665, 1.9665, 1.9641, 1.9641, 1.9601, 1.9601, 1.9601, 1.9309, 1.9294, 1.9277, 1.892, 1.7744, 1.6414, 1.7539, 1.6522, 1.3175, 1.6308, 0.5287, 1.3433, 0.3301, 1.2917, 1.538, 0.6532, 1.2615, -0.0176, 1.084, -0.0907, 0.6104, 1.3, 0.4572, 0.9212, 0.5337, 0.4212, 0.2664, 1.3757, 0.6382, -0.0243, 0.6927, 0.8575, 0.649, 2.8607, 2.7536, 2.7536, 2.7536, 2.5883, 2.5869, 2.4298, 2.3123, 2.2526, 2.2181, 2.2139, 2.2115, 2.1327, 2.1046, 2.1044, 2.1044, 2.1024, 2.1024, 2.0805, 2.0802, 2.0802, 2.0777, 2.0777, 2.0737, 2.0736, 2.0717, 2.0707, 2.0707, 2.0705, 2.0645, 2.032, 1.9588, 1.8161, 1.8855, 1.7441, 1.4836, 1.7636, 1.759, 1.7502, 1.5097, 0.9958, 0.3733, 0.489, 1.386, 1.6425, 1.6406, 1.1044, -0.0221, 1.209, 0.3753, 0.3955, 0.6611, 0.829, 1.1707, 0.5076, 0.4749, 0.1359, 0.0851, -0.1484, 0.7757, 0.8741, -0.0376, 2.8152, 2.5388, 2.5089, 2.5059, 2.2883, 2.2761, 2.2004, 2.1922, 2.1729, 2.1729, 2.1639, 2.1639, 2.1398, 2.1398, 2.1398, 2.1396, 2.1396, 2.1396, 2.1394, 2.1394, 2.137, 2.133, 2.133, 2.131, 2.131, 2.131, 2.1301, 2.1238, 2.1237, 2.1224, 1.7932, 1.9303, 1.8488, 1.8355, 1.8164, 1.8073, 1.8066, 1.4655, 1.6036, 1.5892, 0.4115, 1.3252, 1.6949, 1.2837, 1.1322, 0.5999, -0.1092, -0.0704, 0.6214, 0.5646, 0.2808, 0.2382, 0.763, 0.4953, 0.4606, 0.4346, 0.4167, -0.0517, 0.665, -1.1121, 0.5492, 0.8697, 0.4367, -0.1282, 3.1023, 2.9676, 2.8555, 2.84, 2.7876, 2.6641, 2.5652, 2.4356, 2.4356, 2.4355, 2.4152, 2.4152, 2.4108, 2.4107, 2.4107, 2.4082, 2.4012, 2.4012, 2.4011, 2.3948, 2.3948, 2.3934, 2.3928, 2.3928, 2.3928, 2.3908, 2.2103, 2.2064, 2.1728, 2.1728, 2.1331, 1.8234, 1.403, 0.6836, 1.1336, 0.8916, 1.7758, 0.326, 1.6661, 1.6437, 1.3076, 1.2446, 1.2393, 0.168, 1.0224, 0.9189, 0.3903, 0.1951, -1.2013, 0.2602, -0.1025, 0.3338, 3.1113, 3.1113, 3.1113, 3.0193, 2.8332, 2.8075, 2.7954, 2.794, 2.5709, 2.5697, 2.5629, 2.4856, 2.4712, 2.4515, 2.4424, 2.44, 2.4219, 2.4219, 2.4175, 2.4175, 2.415, 2.415, 2.415, 2.4109, 2.4015, 2.4015, 2.4015, 2.4015, 2.4015, 2.3995, 2.3224, 2.2721, 2.2051, 2.1318, 1.8997, 1.765, 1.9668, 1.472, 1.5385, 1.8536, 0.2758, 1.7451, 1.6778, 1.5973, 1.5859, 1.569, 1.4668, 0.3206, 0.2021, 0.201, 0.7769, 1.056, 0.8031, 0.6073, -0.3895, 1.0079, 3.2666, 3.2666, 3.1543, 3.1543, 3.1543, 3.1543, 3.0259, 2.8908, 2.8505, 2.6325, 2.6042, 2.597, 2.514, 2.4943, 2.4943, 2.4851, 2.483, 2.483, 2.4671, 2.4671, 2.4648, 2.4607, 2.4603, 2.4578, 2.4578, 2.4578, 2.4537, 2.4507, 2.4443, 2.443, 2.403, 2.4213, 2.4034, 2.3173, 2.2218, 2.2997, 2.2415, 1.164, 2.0075, 1.9175, 1.8938, 1.8895, 1.8832, 0.6635, 1.1371, 1.0473, 1.5506, 0.7984, 0.9902, -0.7882, 0.4898, 0.8592, 0.2116, -1.4151, 1.1629, -0.3177, 0.6137, 2.9794, 2.9783, 2.9783, 2.9783, 2.8166, 2.8034, 2.7504, 2.6874, 2.6221, 2.6221, 2.6219, 2.6038, 2.6038, 2.5944, 2.5882, 2.5873, 2.5795, 2.5788, 2.5768, 2.5768, 2.4062, 2.3345, 2.3191, 2.2976, 2.2957, 2.2955, 2.2951, 2.2934, 2.2926, 2.289, 2.2175, 2.1639, 1.9715, 1.9523, 1.9214, 1.7529, 0.2772, 1.3087, 0.2305, 1.6249, 1.5962, 1.4916, 0.6779, 1.2222, 1.1192, 1.1177, 1.0877, -0.3644, 0.1436, 0.6951, 0.6044, 0.4758, -1.045, 2.9156, 2.8598, 2.8596, 2.8411, 2.8387, 2.8345, 2.8345, 2.8342, 2.8341, 2.8341, 2.8315, 2.8243, 2.8177, 2.8177, 2.8157, 2.8157, 2.8157, 2.8136, 2.7469, 2.6688, 2.6242, 2.5675, 2.5641, 2.5332, 2.5312, 2.5309, 2.5294, 2.5278, 2.5247, 2.5207, 2.5202, 2.4942, 1.9504, 2.1773, 2.0662, 1.9426, 0.9852, 1.6943, 0.9866, 1.4871, 0.7694, -0.2134, 0.7847, -0.2776, 0.642, 0.1998, -0.9453, -1.2329, 2.3154, 1.8318, 1.9389, 2.2895, 0.9687, 1.5729, 2.1048, 3.7347, 3.6359, 3.2035, 3.1675, 3.1645, 3.1645, 3.1602, 3.158, 3.158, 3.157, 3.1502, 3.1487, 3.1481, 3.1481, 3.146, 3.0943, 2.9222, 2.8641, 2.864, 2.8581, 2.8565, 2.8493, 2.841, 2.8395, 2.8346, 2.8334, 2.8284, 2.8243, 2.7887, 2.6913, 2.6528, 2.3995, 2.5715, 2.4775, 1.3127, 0.6821, -1.1488, 1.0253, -0.3721, 1.1683, 1.7913, 2.6451, 2.6078, 1.987, 2.4048, 1.3851, 2.2446, 2.2905, 3.5306, 3.5279, 3.5083, 3.5083, 3.223, 3.1951, 3.1883, 3.183, 2.9673, 2.9451, 2.9418, 2.9339, 2.7547, 2.7331, 2.6098, 2.605, 2.5097, 2.46, 2.4316, 2.3206, 2.3153, 2.3074, 2.1464, 2.0447, 2.0273, 2.0064, 1.9042, 1.8846, 1.7971, 1.7918, 1.2971, 0.7711, 0.4746, -0.0591, 0.314, 1.3863, 1.1478, 1.1072, 1.698, 1.5424]}, \"token.table\": {\"Topic\": [9, 4, 5, 15, 17, 7, 11, 2, 5, 13, 3, 17, 16, 18, 7, 11, 1, 7, 2, 15, 10, 16, 2, 15, 1, 10, 1, 2, 3, 5, 8, 10, 11, 8, 9, 5, 7, 10, 18, 19, 2, 19, 7, 10, 7, 9, 15, 1, 3, 19, 5, 1, 4, 2, 14, 1, 2, 3, 4, 5, 6, 8, 9, 11, 12, 13, 14, 16, 7, 16, 8, 13, 6, 11, 2, 17, 3, 7, 8, 10, 12, 13, 15, 17, 20, 3, 5, 7, 1, 2, 5, 7, 8, 10, 13, 15, 3, 6, 19, 16, 17, 15, 1, 5, 9, 20, 4, 8, 11, 12, 19, 7, 16, 1, 2, 3, 5, 6, 7, 9, 10, 11, 12, 13, 15, 17, 20, 11, 5, 19, 1, 2, 3, 4, 5, 6, 7, 8, 9, 10, 12, 13, 14, 16, 18, 3, 5, 6, 1, 2, 3, 5, 9, 12, 1, 17, 9, 15, 6, 13, 6, 2, 11, 4, 15, 5, 14, 3, 12, 17, 1, 4, 7, 8, 8, 15, 1, 3, 6, 9, 13, 9, 20, 1, 9, 13, 1, 6, 7, 8, 10, 11, 16, 20, 6, 9, 13, 1, 7, 9, 12, 18, 6, 7, 8, 15, 2, 3, 7, 8, 16, 17, 9, 11, 2, 14, 4, 10, 16, 8, 12, 1, 3, 5, 11, 7, 8, 16, 9, 18, 2, 3, 6, 4, 5, 11, 15, 16, 1, 6, 10, 15, 18, 4, 5, 9, 10, 6, 7, 10, 13, 14, 18, 3, 7, 8, 9, 10, 12, 19, 1, 5, 12, 13, 14, 18, 3, 7, 14, 2, 4, 10, 15, 10, 11, 12, 6, 17, 4, 7, 12, 13, 17, 3, 4, 6, 10, 13, 4, 15, 3, 4, 9, 1, 2, 3, 5, 7, 9, 10, 12, 17, 5, 14, 3, 1, 3, 7, 10, 15, 18, 3, 4, 12, 15, 18, 10, 13, 2, 6, 7, 14, 9, 15, 6, 14, 19, 1, 18, 1, 2, 3, 4, 5, 7, 9, 10, 13, 14, 15, 1, 4, 14, 3, 10, 13, 1, 6, 10, 5, 10, 12, 14, 15, 7, 12, 18, 12, 6, 8, 9, 10, 12, 16, 2, 1, 8, 2, 8, 13, 14, 13, 2, 5, 6, 3, 4, 8, 7, 8, 1, 14, 7, 10, 17, 1, 3, 5, 9, 12, 1, 20, 1, 7, 12, 5, 13, 3, 13, 4, 5, 19, 16, 6, 7, 8, 16, 19, 15, 6, 9, 15, 6, 17, 5, 7, 8, 11, 12, 13, 16, 1, 2, 3, 5, 6, 10, 12, 13, 17, 18, 2, 3, 4, 5, 6, 8, 10, 12, 17, 2, 3, 4, 5, 10, 11, 13, 14, 8, 17, 1, 2, 3, 4, 5, 6, 7, 10, 12, 14, 17, 18, 4, 5, 8, 10, 11, 15, 18, 20, 5, 13, 17, 2, 2, 4, 5, 6, 8, 9, 1, 4, 6, 15, 3, 17, 3, 4, 7, 9, 10, 12, 15, 16, 5, 14, 4, 1, 13, 1, 2, 4, 9, 14, 2, 5, 6, 7, 12, 13, 15, 16, 17, 1, 18, 4, 7, 9, 11, 12, 2, 3, 17, 18, 19, 1, 2, 3, 6, 8, 10, 11, 13, 15, 17, 1, 2, 9, 17, 19, 4, 14, 5, 12, 17, 1, 2, 4, 5, 6, 7, 8, 9, 11, 12, 13, 14, 17, 1, 2, 3, 4, 5, 6, 7, 9, 10, 11, 12, 13, 14, 15, 16, 6, 7, 16, 20, 5, 6, 14, 16, 2, 8, 5, 11, 4, 5, 10, 11, 17, 19, 1, 10, 11, 5, 6, 3, 6, 10, 14, 16, 17, 18, 1, 4, 12, 2, 6, 7, 8, 10, 17, 6, 13, 17, 18, 13, 15, 3, 5, 8, 9, 11, 13, 14, 15, 17, 4, 18, 5, 10, 11, 12, 1, 8, 13, 1, 2, 1, 3, 4, 11, 14, 3, 1, 5, 16, 1, 2, 3, 4, 5, 6, 7, 8, 9, 11, 12, 13, 14, 15, 16, 19, 20, 1, 3, 4, 5, 7, 8, 9, 11, 19, 1, 2, 3, 4, 5, 6, 7, 8, 9, 10, 11, 12, 13, 14, 15, 20, 2, 6, 9, 12, 1, 2, 3, 5, 6, 7, 10, 13, 15, 1, 2, 3, 4, 6, 8, 11, 12, 13, 15, 2, 4, 7, 11, 2, 8, 9, 11, 14, 17, 2, 4, 5, 7, 9, 10, 11, 13, 6, 9, 13, 17, 4, 17, 6, 13, 9, 7, 11, 9, 15, 1, 2, 3, 4, 5, 7, 8, 13, 14, 15, 16, 9, 11, 3, 12, 1, 3, 7, 14, 16, 4, 13, 6, 14, 19, 2, 4, 3, 6, 8, 10, 11, 16, 18, 20, 1, 3, 5, 3, 1, 11, 15, 4, 12, 18, 3, 3, 13, 5, 14, 1, 5, 6, 10, 11, 16, 17, 4, 17, 2, 3, 11, 14, 19, 8, 20, 9, 18, 14, 16, 1, 8, 16, 6, 12, 14, 1, 2, 4, 7, 11, 14, 2, 4, 10, 12, 13, 4, 5, 9, 14, 7, 2, 18, 3, 17, 16, 3, 7, 2, 3, 4, 5, 6, 7, 9, 16, 8, 9, 11, 14, 19, 1, 14, 1, 2, 3, 4, 5, 6, 8, 9, 12, 7, 3, 5, 9, 11, 16, 19, 1, 4, 7, 9, 15, 2, 4, 6, 7, 9, 10, 11, 12, 16, 19, 8, 15, 10, 12, 3, 10, 11, 19, 1, 2, 4, 5, 6, 7, 8, 9, 10, 11, 12, 16, 18, 8, 11, 1, 2, 6, 7, 8, 10, 11, 16, 3, 5, 8, 9, 2, 4, 5, 6, 8, 12, 13, 14, 15, 2, 3, 8, 9, 10, 19, 4, 9, 11, 3, 5, 15, 16, 1, 3, 5, 6, 7, 8, 9, 10, 11, 13, 15, 16, 7, 10, 18, 4, 4, 16, 2, 15, 18, 1, 2, 3, 4, 5, 6, 7, 8, 9, 10, 12, 18, 4, 6, 12, 13, 15, 20, 4, 13, 1, 2, 4, 5, 7, 8, 9, 14, 18, 3, 7, 2, 3, 5, 6, 7, 11, 14, 16, 17, 1, 2, 4, 5, 6, 7, 8, 10, 11, 12, 13, 15, 16, 17, 19, 7, 2, 3, 6, 15, 2, 7, 10, 11, 12, 15, 1, 3, 4, 5, 6, 7, 9, 11, 12, 13, 14, 16, 7, 9, 11, 16, 1, 2, 3, 5, 6, 7, 8, 10, 12, 15, 16, 19, 1, 3, 19, 11, 1, 2, 4, 6, 11, 2, 15, 9, 15, 16, 1, 4, 5, 8, 9, 11, 19, 9, 16, 1, 7, 2, 3, 5, 9, 10, 11, 15, 16, 18, 2, 5, 9, 15, 2, 3, 6, 9, 13, 17, 7, 2, 3, 5, 7, 8, 9, 11, 15, 16, 17, 19, 20, 1, 2, 7, 10, 12, 10, 18, 4, 15, 7, 13, 10, 13, 5, 11, 2, 10, 1, 1, 2, 5, 6, 7, 8, 10, 13, 15, 17, 13, 18, 8, 10, 1, 18, 8, 2, 3, 5, 9, 5, 18, 9, 11, 1, 11, 12, 5, 12, 14, 20, 5, 17, 12, 3, 4, 9, 18, 4, 7, 11, 12, 15, 16, 8, 14, 1, 2, 4, 6, 9, 10, 20, 1, 3, 5, 6, 8, 13, 14, 5, 10, 3, 12, 19, 4, 8, 13, 1, 2, 3, 5, 6, 7, 10, 11, 13, 14, 15, 16, 17, 11, 4, 8, 13, 17, 4, 14, 1, 3, 4, 6, 7, 10, 16, 3, 16, 4, 12, 5, 11, 12, 17, 1, 2, 3, 4, 5, 6, 12, 15, 16, 17, 4, 5, 1, 4, 12, 19, 1, 2, 10, 17, 1, 2, 3, 4, 5, 6, 7, 8, 10, 11, 13, 15, 17, 1, 2, 3, 4, 6, 7, 11, 13, 14, 15, 16, 18, 1, 3, 4, 6, 7, 8, 9, 10, 12, 13, 20, 3, 4, 6, 9, 11, 13, 1, 2, 3, 5, 6, 7, 8, 9, 10, 13, 14, 15, 17, 8, 12, 18, 3, 7, 8, 10, 12, 19, 20, 3, 5, 12, 15, 7, 18, 1, 2, 3, 4, 5, 6, 7, 8, 10, 11, 12, 14, 16, 17, 20, 10, 16, 3, 9, 10, 1, 3, 4, 5, 6, 7, 9, 10, 11, 12, 13, 1, 2, 3, 4, 5, 6, 7, 8, 10, 11, 12, 15, 17, 6, 8, 17, 4, 6, 8, 9, 10, 12, 13, 14, 4, 5, 10, 17, 19, 1, 2, 3, 4, 5, 6, 7, 8, 9, 10, 11, 12, 13, 14, 15, 16, 17, 18, 19, 1, 9, 11, 12, 13, 16, 4, 8, 9, 14, 16, 16, 1, 6, 16, 2, 7, 20, 3, 4, 5, 8, 10, 12, 13, 17, 8, 16, 1, 2, 6, 7, 12, 14, 15, 16, 17, 20, 1, 4, 10, 13, 17, 3, 7, 12, 8, 14, 1, 2, 3, 4, 5, 6, 7, 8, 13, 2, 8, 20, 8, 16, 1, 6, 2, 5, 6, 7, 9, 3, 1, 2, 3, 5, 6, 7, 11, 13, 15, 3, 8, 9, 2, 14, 1, 7, 9, 15, 16, 4, 7, 10, 13, 8, 19, 7, 19, 1, 5, 13, 3, 5, 10, 14, 3, 10, 11, 12, 2, 7, 12, 1, 19, 1, 7, 10, 5, 16, 1, 4, 10, 10, 12, 15, 1, 17, 6, 12, 1, 3, 6, 7, 8, 9, 10, 11, 12, 7, 10, 1, 2, 3, 17, 1, 4, 11, 13, 14, 16, 1, 3, 5, 6, 7, 9, 10, 11, 13, 16, 18, 2, 3, 4, 5, 6, 8, 9, 10, 18, 1, 12, 18, 4, 15, 1, 2, 4, 1, 2, 3, 4, 5, 7, 9, 10, 11, 13, 15, 18, 6, 1, 6, 11, 17, 19, 4, 19, 1, 2, 3, 5, 7, 11, 12, 17, 1, 3, 5, 10, 13, 1, 14, 5, 6, 14, 17, 20, 5, 9, 8, 10, 1, 4, 5, 7, 10, 17, 20, 16, 1, 10, 17, 19, 1, 1, 4, 6, 12, 13, 1, 2, 6, 7, 9, 13, 16, 7, 12, 4, 6, 9, 13, 14, 1, 4, 7, 10, 12, 16, 20, 1, 20, 2, 18, 7, 13, 6, 19, 4, 14, 3, 3, 17, 3, 1, 5, 7, 8, 10, 13, 1, 3, 4, 5, 9, 14, 18, 11, 14, 12, 15, 3, 4, 5, 7, 9, 12, 17, 1, 8, 11, 2, 3, 4, 5, 6, 10, 11, 17, 12, 16, 1, 3, 4, 8, 9, 17, 9, 14, 1, 2, 4, 5, 6, 9, 10, 12, 13, 14, 15, 3, 9, 10, 15, 5, 10, 3, 4, 7, 12, 3, 7, 1, 2, 7, 9, 15, 18, 5, 11, 17, 2, 1, 2, 3, 7, 10, 12, 15, 2, 4, 5, 6, 7, 9, 12, 16, 8, 9, 15, 2, 5, 7, 9, 10, 16, 3, 16, 14, 16, 9, 15, 8, 19, 6, 8, 10, 11, 4, 19, 2, 4, 6, 7, 16, 17, 8, 11, 15, 18, 5, 7, 6, 10, 11, 13, 16, 15, 17, 11, 13, 5, 11, 20, 4, 6, 13, 8, 1, 14, 20, 2, 7, 8, 9, 10, 17, 18, 1, 15, 19, 1, 2, 3, 8, 9, 10, 14, 5, 12, 10, 13, 2, 4, 13, 2, 18, 14, 1, 6, 10, 13, 14, 15, 18, 6, 19, 1, 8, 16, 5, 7, 13, 15, 16, 18, 2, 3, 4, 7, 14, 4, 14, 19, 16, 18, 12, 15, 4, 7, 9, 1, 8, 10, 18, 1, 3, 6, 1, 2, 3, 6, 8, 10, 13, 15, 17, 19, 1, 5, 10, 11, 9, 2, 3, 4, 5, 7, 9, 11, 12, 13, 14, 17, 20, 10, 11, 17, 4, 10, 12, 12, 14, 15, 17, 7, 15, 1, 3, 9, 17, 18, 1, 6, 12, 1, 2, 3, 4, 6, 10, 1, 2, 3, 4, 5, 6, 7, 8, 9, 10, 11, 12, 14, 17, 18, 3, 4, 5, 7, 8, 9, 11, 1, 2, 5, 10, 13, 16, 18, 1, 5, 16, 7, 10, 6, 8, 12, 14, 18, 19, 1, 2, 5, 6, 18, 8, 16, 1, 8, 16, 4, 13, 2, 3, 7, 8, 11, 14, 18, 1, 8, 11, 9, 14, 2, 6, 1, 2, 5, 10, 12, 13, 14, 5, 17, 19, 1, 2, 3, 4, 10, 12, 17, 4, 10, 19, 2, 4, 7, 9, 12, 16, 20, 5, 9, 4, 5, 10, 12, 15, 1, 4, 6, 7, 14, 7, 11, 8, 11, 6, 6, 8, 12, 18, 15, 16, 6, 10, 3, 5, 1, 4, 16, 9, 11, 2, 3, 5, 6, 7, 17, 3, 12, 15, 4, 15, 3, 14, 9, 15, 16, 19, 9, 5, 12, 11, 1, 4, 5, 6, 7, 12, 13, 15, 17, 1, 2, 5, 8, 10, 12, 13, 15, 16, 2, 4, 5, 9, 4, 18, 11, 13, 11, 11, 18, 6, 14, 19, 2, 4, 6, 9, 11, 12, 18, 20, 6, 7, 8, 15, 2, 3, 5, 8, 10, 11, 13, 18, 2, 3, 4, 5, 6, 8, 13, 15, 2, 3, 7, 8, 9, 13, 18, 19, 4, 10, 18, 4, 10, 11, 2, 3, 4, 8, 10, 17, 6, 9, 13, 2, 4, 11, 8, 12, 2, 10, 19, 3, 4, 5, 6, 7, 13, 18, 19, 6, 10, 1, 1, 4, 11, 1, 4, 16, 4, 6, 12, 1, 2, 3, 4, 8, 10, 12, 13, 16, 17, 1, 2, 4, 7, 10, 14, 15, 16, 19, 4, 9, 1, 5, 2, 2, 6, 7, 9, 1, 2, 3, 4, 5, 6, 7, 8, 9, 10, 12, 13, 14, 16, 17, 18, 20, 5, 8, 14, 3, 7, 18, 11, 16, 3, 4, 7, 9, 15, 1, 2, 3, 6, 7, 8, 11, 13, 17, 1, 15, 1, 5, 7, 12, 13, 13, 17, 11, 12, 9, 11, 1, 2, 3, 4, 5, 6, 7, 8, 9, 11, 12, 13, 16, 17, 18, 1, 2, 3, 4, 5, 6, 7, 8, 11, 12, 13, 14, 16, 1, 2, 3, 4, 5, 6, 7, 8, 10, 11, 13, 1, 2, 4, 6, 7, 8, 9, 10, 13, 15, 1, 14, 18, 1, 2, 3, 4, 5, 6, 7, 8, 9, 11, 12, 13, 14, 17, 18, 2, 3, 4, 5, 6, 7, 9, 10, 14, 4, 13, 8, 15, 3, 10, 1, 2, 3, 4, 5, 6, 7, 8, 9, 11, 12, 13, 14, 16, 17, 18, 1, 2, 3, 6, 7, 11, 13, 14, 15, 16, 1, 2, 3, 4, 5, 7, 8, 9, 10, 11, 12, 13, 14, 15, 16, 17, 18, 20, 2, 5, 10, 12, 16, 17, 3, 6, 9, 1, 2, 3, 6, 10, 11, 12, 13, 15, 17, 4, 7, 11, 2, 3, 4, 7, 8, 9, 4, 14, 4, 2, 19, 1, 2, 3, 4, 5, 6, 7, 8, 10, 13, 15, 16, 2, 4, 11, 16, 1, 2, 4, 5, 6, 8, 9, 11, 12, 3, 8, 13, 16, 4, 9, 4, 5, 7, 16, 20, 2, 15, 8, 19, 5, 4, 10, 12, 12, 14, 8, 9, 5, 12, 10, 18, 1, 6, 7, 9, 10, 5, 13, 5, 8, 3, 10, 9, 18, 2, 9, 20, 6, 10, 8, 6, 7, 17, 4, 10, 5, 17, 2, 14, 12, 15, 17, 16, 17, 8, 9, 12, 14, 18, 20, 4, 14, 15, 2, 15, 6, 7, 8, 3, 4, 11, 19, 20, 10, 19, 2, 3, 4, 7, 10, 3, 14, 18, 2, 3, 11, 1, 6, 8, 11, 10, 11, 13, 1, 3, 4, 6, 7, 8, 9, 13, 15, 1, 7, 3, 7, 19, 2, 10, 20, 2, 3, 4, 7, 9, 10, 13, 15, 9, 12, 15, 18, 10, 4, 1, 3, 4, 5, 7, 8, 12, 14, 11, 16, 6, 13, 2, 4, 5, 12, 13, 16, 17, 15, 2, 4, 8, 13, 20, 1, 4, 6, 11, 12, 1, 4, 5, 10, 11, 13, 16, 1, 3, 7, 8, 11, 17, 1, 7, 12, 1, 12, 1, 6, 10, 1, 2, 3, 5, 6, 7, 8, 10, 11, 13, 14, 16, 19, 8, 10, 17, 1, 2, 3, 4, 5, 8, 9, 12, 15, 20, 4, 15, 9, 13, 1, 6, 10, 14, 15, 4, 6, 11, 2, 5, 7, 1, 2, 3, 4, 5, 6, 8, 9, 11, 18, 8, 18], \"Freq\": [0.7740752998939594, 0.3873819406706578, 0.1936909703353289, 0.1936909703353289, 0.1936909703353289, 0.38460669378752943, 0.38460669378752943, 0.2269010615973374, 0.4538021231946748, 0.2269010615973374, 0.3000948948349322, 0.6001897896698644, 0.6248588603682029, 0.31242943018410146, 0.3846067352722605, 0.3846067352722605, 0.5593719765208589, 0.27968598826042945, 0.3894799205521455, 0.3894799205521455, 0.5894496204516464, 0.2947248102258232, 0.38948023056254594, 0.38948023056254594, 0.5621519097888955, 0.28107595489444775, 0.23390135608077695, 0.11695067804038847, 0.17542601706058272, 0.17542601706058272, 0.17542601706058272, 0.058475339020194236, 0.058475339020194236, 0.38611896777153537, 0.38611896777153537, 0.22886681840736772, 0.22886681840736772, 0.45773363681473545, 0.3457222090212315, 0.3457222090212315, 0.41442207512309515, 0.41442207512309515, 0.3847042679269599, 0.3847042679269599, 0.23676795856100039, 0.23676795856100039, 0.47353591712200077, 0.9160108371551089, 0.41469394558545075, 0.41469394558545075, 0.7598156825176714, 0.784653647737867, 0.15693072954757342, 0.38871713195505775, 0.38871713195505775, 0.14465452520699632, 0.041329864344856096, 0.14465452520699632, 0.20664932172428047, 0.10332466086214023, 0.08265972868971219, 0.020664932172428048, 0.10332466086214023, 0.020664932172428048, 0.020664932172428048, 0.041329864344856096, 0.020664932172428048, 0.041329864344856096, 0.3939839451474406, 0.3939839451474406, 0.3886916704010928, 0.3886916704010928, 0.3838756413720819, 0.3838756413720819, 0.3929441845825479, 0.3929441845825479, 0.4258805232400131, 0.060840074748573295, 0.1825202242457199, 0.060840074748573295, 0.060840074748573295, 0.060840074748573295, 0.060840074748573295, 0.060840074748573295, 0.060840074748573295, 0.44849755393263757, 0.22424877696631879, 0.22424877696631879, 0.33632588503755767, 0.16816294251877884, 0.05605431417292628, 0.05605431417292628, 0.16816294251877884, 0.11210862834585256, 0.11210862834585256, 0.05605431417292628, 0.23801251983076474, 0.4760250396615295, 0.23801251983076474, 0.41031897971793774, 0.41031897971793774, 0.8129257617788368, 0.40026270449221085, 0.20013135224610543, 0.20013135224610543, 0.20013135224610543, 0.13442912540792568, 0.403287376223777, 0.13442912540792568, 0.13442912540792568, 0.13442912540792568, 0.2403542910296265, 0.480708582059253, 0.19685953118074384, 0.19685953118074384, 0.07874381247229754, 0.07874381247229754, 0.03937190623614877, 0.03937190623614877, 0.07874381247229754, 0.03937190623614877, 0.07874381247229754, 0.03937190623614877, 0.03937190623614877, 0.07874381247229754, 0.03937190623614877, 0.03937190623614877, 0.7742408822953307, 0.4181288514037346, 0.4181288514037346, 0.2249056444763525, 0.0449811288952705, 0.19491822521283883, 0.029987419263513667, 0.07496854815878416, 0.014993709631756834, 0.0449811288952705, 0.07496854815878416, 0.059974838527027334, 0.029987419263513667, 0.059974838527027334, 0.0449811288952705, 0.014993709631756834, 0.059974838527027334, 0.029987419263513667, 0.44799581844250086, 0.22399790922125043, 0.22399790922125043, 0.14074038858777058, 0.14074038858777058, 0.14074038858777058, 0.14074038858777058, 0.28148077717554115, 0.14074038858777058, 0.3921339230932218, 0.3921339230932218, 0.29997640927272884, 0.5999528185454577, 0.38636727931697845, 0.38636727931697845, 0.7613092522974962, 0.5636996709287528, 0.2818498354643764, 0.3902491748854581, 0.3902491748854581, 0.3919742961929721, 0.3919742961929721, 0.46267207499230445, 0.23133603749615222, 0.23133603749615222, 0.1860526782270386, 0.1860526782270386, 0.3721053564540772, 0.7703408871845921, 0.395548761083226, 0.395548761083226, 0.14255279017070457, 0.14255279017070457, 0.14255279017070457, 0.14255279017070457, 0.42765837051211375, 0.4442963487695613, 0.4442963487695613, 0.7447493657426069, 0.3896237722373749, 0.3896237722373749, 0.12570609708352104, 0.2514121941670421, 0.12570609708352104, 0.3771182912505631, 0.12570609708352104, 0.3266323526897898, 0.3266323526897898, 0.3266323526897898, 0.2316013484405722, 0.2316013484405722, 0.4632026968811444, 0.2265251864803072, 0.4530503729606144, 0.2265251864803072, 0.40976170184851773, 0.40976170184851773, 0.1921908024052923, 0.3843816048105846, 0.1921908024052923, 0.1921908024052923, 0.38066561261556003, 0.12688853753852, 0.12688853753852, 0.12688853753852, 0.12688853753852, 0.12688853753852, 0.38708346789205883, 0.38708346789205883, 0.2377680435517058, 0.4755360871034116, 0.5700892138088081, 0.19002973793626934, 0.19002973793626934, 0.38779718371502286, 0.38779718371502286, 0.16028314245561368, 0.32056628491122735, 0.16028314245561368, 0.32056628491122735, 0.390706717398864, 0.195353358699432, 0.390706717398864, 0.6014887802892058, 0.3007443901446029, 0.41557882367411353, 0.2770525491160757, 0.2770525491160757, 0.25831992673338744, 0.12915996336669372, 0.25831992673338744, 0.12915996336669372, 0.25831992673338744, 0.1523412927962801, 0.1523412927962801, 0.1523412927962801, 0.1523412927962801, 0.3046825855925602, 0.3767860589751181, 0.18839302948755904, 0.18839302948755904, 0.18839302948755904, 0.48151694834288555, 0.09630338966857711, 0.09630338966857711, 0.09630338966857711, 0.09630338966857711, 0.09630338966857711, 0.25953458775410243, 0.12976729387705122, 0.12976729387705122, 0.12976729387705122, 0.12976729387705122, 0.12976729387705122, 0.12976729387705122, 0.14725129301822665, 0.14725129301822665, 0.14725129301822665, 0.2945025860364533, 0.14725129301822665, 0.14725129301822665, 0.22983057636225174, 0.4596611527245035, 0.22983057636225174, 0.18983490975866693, 0.37966981951733386, 0.18983490975866693, 0.18983490975866693, 0.19265396207949326, 0.5779618862384798, 0.19265396207949326, 0.3966884030709552, 0.3966884030709552, 0.28884479655694917, 0.14442239827847458, 0.28884479655694917, 0.14442239827847458, 0.14442239827847458, 0.16222783900738152, 0.16222783900738152, 0.16222783900738152, 0.32445567801476305, 0.16222783900738152, 0.3902453043210425, 0.3902453043210425, 0.8875670561108452, 0.2859125748857305, 0.571825149771461, 0.14145663441338024, 0.07072831720669012, 0.07072831720669012, 0.14145663441338024, 0.2829132688267605, 0.07072831720669012, 0.07072831720669012, 0.14145663441338024, 0.07072831720669012, 0.391979314617731, 0.391979314617731, 0.7485459327803522, 0.3466622533165017, 0.11555408443883389, 0.11555408443883389, 0.11555408443883389, 0.23110816887766777, 0.11555408443883389, 0.33326408764324905, 0.16663204382162453, 0.16663204382162453, 0.16663204382162453, 0.16663204382162453, 0.3897744276468667, 0.3897744276468667, 0.16266417390312923, 0.48799252170938767, 0.16266417390312923, 0.16266417390312923, 0.3965178287197625, 0.3965178287197625, 0.1931679091830105, 0.1931679091830105, 0.5795037275490315, 0.5836186195927398, 0.2918093097963699, 0.1539224501213025, 0.051307483373767504, 0.051307483373767504, 0.1539224501213025, 0.20522993349507002, 0.10261496674753501, 0.051307483373767504, 0.10261496674753501, 0.051307483373767504, 0.051307483373767504, 0.051307483373767504, 0.22697977728823018, 0.45395955457646037, 0.22697977728823018, 0.4545142422944048, 0.2272571211472024, 0.2272571211472024, 0.22605796716399387, 0.45211593432798775, 0.22605796716399387, 0.3341609343702359, 0.16708046718511796, 0.16708046718511796, 0.16708046718511796, 0.16708046718511796, 0.300261549836832, 0.300261549836832, 0.300261549836832, 0.7808771909202398, 0.14508346768478242, 0.14508346768478242, 0.14508346768478242, 0.14508346768478242, 0.29016693536956484, 0.14508346768478242, 0.8347150579141133, 0.5609933690843886, 0.2804966845421943, 0.4291914069954023, 0.14306380233180077, 0.28612760466360154, 0.14306380233180077, 0.784479144184311, 0.2249169380723466, 0.4498338761446932, 0.2249169380723466, 0.22586418379993287, 0.22586418379993287, 0.45172836759986573, 0.7641985851605163, 0.7703626549271383, 0.5710775744646999, 0.28553878723234993, 0.29513101479271053, 0.29513101479271053, 0.29513101479271053, 0.13992592685357572, 0.4197777805607272, 0.13992592685357572, 0.13992592685357572, 0.13992592685357572, 0.4344892715669806, 0.4344892715669806, 0.2271018748255468, 0.4542037496510936, 0.2271018748255468, 0.5733796079400129, 0.28668980397000643, 0.5669015282686966, 0.2834507641343483, 0.30252945635021855, 0.30252945635021855, 0.30252945635021855, 0.8132128112599525, 0.1729849111763863, 0.1729849111763863, 0.1729849111763863, 0.3459698223527726, 0.1729849111763863, 0.8129413707937811, 0.2364870333747381, 0.2364870333747381, 0.4729740667494762, 0.5854687404244303, 0.29273437021221516, 0.16360601489731438, 0.16360601489731438, 0.16360601489731438, 0.32721202979462877, 0.16360601489731438, 0.39931294968109887, 0.39931294968109887, 0.09580945248823335, 0.14371417873235, 0.16766654185440835, 0.11976181561029169, 0.21557126809852503, 0.04790472624411667, 0.04790472624411667, 0.071857089366175, 0.04790472624411667, 0.023952363122058336, 0.06666585703668462, 0.13333171407336925, 0.13333171407336925, 0.06666585703668462, 0.13333171407336925, 0.06666585703668462, 0.1999975711100539, 0.13333171407336925, 0.06666585703668462, 0.1875647772026159, 0.09378238860130796, 0.2344559715032699, 0.14067358290196194, 0.04689119430065398, 0.14067358290196194, 0.09378238860130796, 0.09378238860130796, 0.3991133814742693, 0.3991133814742693, 0.10366012936547471, 0.051830064682737355, 0.10366012936547471, 0.10366012936547471, 0.15549019404821207, 0.10366012936547471, 0.051830064682737355, 0.10366012936547471, 0.051830064682737355, 0.051830064682737355, 0.10366012936547471, 0.051830064682737355, 0.11130555070480146, 0.11130555070480146, 0.11130555070480146, 0.2226111014096029, 0.11130555070480146, 0.11130555070480146, 0.11130555070480146, 0.11130555070480146, 0.2958865993154859, 0.2958865993154859, 0.2958865993154859, 0.7476873795131805, 0.3050650202376565, 0.10168834007921884, 0.10168834007921884, 0.10168834007921884, 0.3050650202376565, 0.10168834007921884, 0.11266515750314562, 0.22533031500629125, 0.5633257875157281, 0.11266515750314562, 0.3000987024294101, 0.6001974048588202, 0.09590004156306133, 0.19180008312612265, 0.09590004156306133, 0.09590004156306133, 0.09590004156306133, 0.287700124689184, 0.09590004156306133, 0.09590004156306133, 0.5814804388343527, 0.29074021941717637, 0.7505075496990316, 0.28788471604327714, 0.5757694320865543, 0.18409271914429057, 0.5522781574328717, 0.18409271914429057, 0.29779566132602625, 0.29779566132602625, 0.1532867121401499, 0.07664335607007496, 0.07664335607007496, 0.3065734242802998, 0.07664335607007496, 0.07664335607007496, 0.07664335607007496, 0.07664335607007496, 0.07664335607007496, 0.5836186260241054, 0.2918093130120527, 0.16288406343224193, 0.32576812686448386, 0.16288406343224193, 0.16288406343224193, 0.16288406343224193, 0.27849425842704867, 0.5569885168540973, 0.3306480979546336, 0.3306480979546336, 0.3306480979546336, 0.06785844048834466, 0.06785844048834466, 0.06785844048834466, 0.06785844048834466, 0.13571688097668932, 0.06785844048834466, 0.20357532146503401, 0.13571688097668932, 0.06785844048834466, 0.13571688097668932, 0.14022294937089383, 0.14022294937089383, 0.14022294937089383, 0.28044589874178766, 0.28044589874178766, 0.3894795156097603, 0.3894795156097603, 0.2953725936064499, 0.2953725936064499, 0.2953725936064499, 0.18992401471170633, 0.07596960588468253, 0.07596960588468253, 0.07596960588468253, 0.07596960588468253, 0.037984802942341266, 0.037984802942341266, 0.037984802942341266, 0.07596960588468253, 0.1139544088270238, 0.07596960588468253, 0.037984802942341266, 0.07596960588468253, 0.13890183567883302, 0.11364695646449975, 0.08839207725016647, 0.11364695646449975, 0.06313719803583319, 0.07576463764299983, 0.050509758428666555, 0.08839207725016647, 0.06313719803583319, 0.025254879214333278, 0.012627439607166639, 0.050509758428666555, 0.037882318821499915, 0.037882318821499915, 0.025254879214333278, 0.35213158720182336, 0.17606579360091168, 0.35213158720182336, 0.17606579360091168, 0.1940861378634393, 0.3881722757268786, 0.1940861378634393, 0.1940861378634393, 0.5626648788698643, 0.28133243943493214, 0.759815710124374, 0.7742584799534745, 0.14891754481754804, 0.14891754481754804, 0.14891754481754804, 0.2978350896350961, 0.14891754481754804, 0.14891754481754804, 0.4795555055683208, 0.15985183518944027, 0.15985183518944027, 0.7598982615900233, 0.8517370736366834, 0.1497109435705326, 0.1497109435705326, 0.1497109435705326, 0.1497109435705326, 0.1497109435705326, 0.1497109435705326, 0.1497109435705326, 0.1900592981964357, 0.1900592981964357, 0.570177894589307, 0.08933773329468742, 0.17867546658937483, 0.08933773329468742, 0.35735093317874966, 0.08933773329468742, 0.17867546658937483, 0.24281727191345254, 0.24281727191345254, 0.24281727191345254, 0.24281727191345254, 0.5950566869527859, 0.29752834347639295, 0.08939876660247412, 0.17879753320494823, 0.08939876660247412, 0.08939876660247412, 0.17879753320494823, 0.08939876660247412, 0.08939876660247412, 0.08939876660247412, 0.08939876660247412, 0.40124183122923773, 0.40124183122923773, 0.3277782470674818, 0.1638891235337409, 0.1638891235337409, 0.3277782470674818, 0.22824516739948733, 0.45649033479897466, 0.22824516739948733, 0.27776685206316265, 0.5555337041263253, 0.1258222954486639, 0.2516445908973278, 0.1258222954486639, 0.3774668863459917, 0.1258222954486639, 0.748546003450561, 0.5581811962519094, 0.2790905981259547, 0.8132128744268857, 0.13491259612945816, 0.13491259612945816, 0.08585347026420065, 0.08585347026420065, 0.036794344398943135, 0.1103830331968294, 0.049059125865257514, 0.012264781466314378, 0.012264781466314378, 0.012264781466314378, 0.06132390733157189, 0.049059125865257514, 0.07358868879788627, 0.024529562932628757, 0.09811825173051503, 0.012264781466314378, 0.012264781466314378, 0.15927597280624595, 0.2654599546770766, 0.05309199093541532, 0.05309199093541532, 0.10618398187083064, 0.05309199093541532, 0.10618398187083064, 0.10618398187083064, 0.15927597280624595, 0.313711940083654, 0.041828258677820536, 0.020914129338910268, 0.020914129338910268, 0.08365651735564107, 0.10457064669455134, 0.06274238801673081, 0.041828258677820536, 0.041828258677820536, 0.06274238801673081, 0.020914129338910268, 0.06274238801673081, 0.06274238801673081, 0.020914129338910268, 0.020914129338910268, 0.020914129338910268, 0.1891746126026278, 0.3783492252052556, 0.1891746126026278, 0.1891746126026278, 0.16677853042180465, 0.2779642173696744, 0.22237137389573955, 0.05559284347393489, 0.05559284347393489, 0.11118568694786977, 0.05559284347393489, 0.05559284347393489, 0.05559284347393489, 0.11335928231904038, 0.1700389234785606, 0.05667964115952019, 0.11335928231904038, 0.1700389234785606, 0.05667964115952019, 0.11335928231904038, 0.05667964115952019, 0.05667964115952019, 0.11335928231904038, 0.5572850044721239, 0.27864250223606196, 0.38460661697265147, 0.38460661697265147, 0.28878662758869267, 0.09626220919623088, 0.09626220919623088, 0.28878662758869267, 0.19252441839246176, 0.09626220919623088, 0.07144873775503825, 0.07144873775503825, 0.07144873775503825, 0.07144873775503825, 0.07144873775503825, 0.21434621326511477, 0.21434621326511477, 0.21434621326511477, 0.17157324060336024, 0.17157324060336024, 0.17157324060336024, 0.3431464812067205, 0.5790631266303781, 0.28953156331518903, 0.38636731360422827, 0.38636731360422827, 0.7740382744917221, 0.38460662821363567, 0.38460662821363567, 0.5890299333942579, 0.29451496669712895, 0.21814096610914804, 0.07271365536971601, 0.10907048305457402, 0.10907048305457402, 0.14542731073943202, 0.036356827684858005, 0.10907048305457402, 0.07271365536971601, 0.036356827684858005, 0.036356827684858005, 0.07271365536971601, 0.38708186183731996, 0.38708186183731996, 0.23008200575978416, 0.6902460172793525, 0.09708783124676015, 0.09708783124676015, 0.3883513249870406, 0.09708783124676015, 0.2912634937402805, 0.3835698910099545, 0.3835698910099545, 0.31194882838221427, 0.31194882838221427, 0.31194882838221427, 0.5572786665632458, 0.2786393332816229, 0.17132605990680044, 0.17132605990680044, 0.17132605990680044, 0.08566302995340022, 0.17132605990680044, 0.08566302995340022, 0.17132605990680044, 0.08566302995340022, 0.1848102863138465, 0.5544308589415394, 0.1848102863138465, 0.8875620585507075, 0.23488448766312262, 0.23488448766312262, 0.46976897532624523, 0.29812746516306343, 0.29812746516306343, 0.29812746516306343, 0.7485459698244203, 0.38307097379293054, 0.38307097379293054, 0.3919742191236146, 0.3919742191236146, 0.09547904978152291, 0.19095809956304582, 0.28643714934456876, 0.09547904978152291, 0.09547904978152291, 0.09547904978152291, 0.09547904978152291, 0.3004101516651335, 0.600820303330267, 0.15355455981576768, 0.15355455981576768, 0.15355455981576768, 0.30710911963153537, 0.15355455981576768, 0.44307429869798454, 0.44307429869798454, 0.4078696666329721, 0.4078696666329721, 0.40571199194206287, 0.40571199194206287, 0.2345720221175452, 0.2345720221175452, 0.4691440442350904, 0.23655511265601017, 0.23655511265601017, 0.47311022531202035, 0.11134704689159643, 0.11134704689159643, 0.4453881875663857, 0.05567352344579821, 0.16702057033739465, 0.05567352344579821, 0.7476597956653862, 0.19179422953901754, 0.38358845907803507, 0.19179422953901754, 0.19179422953901754, 0.16588455880071573, 0.16588455880071573, 0.33176911760143146, 0.33176911760143146, 0.7641986190929932, 0.4004313790042744, 0.4004313790042744, 0.393188381457847, 0.393188381457847, 0.6115322794535565, 0.28293975252722364, 0.5658795050544473, 0.13913825286807432, 0.417414758604223, 0.13913825286807432, 0.06956912643403716, 0.06956912643403716, 0.06956912643403716, 0.06956912643403716, 0.06956912643403716, 0.17219322776810722, 0.34438645553621444, 0.17219322776810722, 0.17219322776810722, 0.17219322776810722, 0.3879241140259153, 0.3879241140259153, 0.11200869237205882, 0.11200869237205882, 0.05600434618602941, 0.22401738474411764, 0.05600434618602941, 0.05600434618602941, 0.11200869237205882, 0.16801303855808822, 0.16801303855808822, 0.7641985565816458, 0.2171163257009035, 0.2171163257009035, 0.10855816285045175, 0.2171163257009035, 0.10855816285045175, 0.10855816285045175, 0.25196183828169927, 0.12598091914084963, 0.25196183828169927, 0.25196183828169927, 0.12598091914084963, 0.07722472237077443, 0.15444944474154887, 0.07722472237077443, 0.07722472237077443, 0.15444944474154887, 0.07722472237077443, 0.15444944474154887, 0.07722472237077443, 0.07722472237077443, 0.07722472237077443, 0.39554834907605346, 0.39554834907605346, 0.38888301563606154, 0.38888301563606154, 0.3941470152143187, 0.19707350760715936, 0.19707350760715936, 0.19707350760715936, 0.16023399521813733, 0.22432759330539226, 0.12818719617450985, 0.032046799043627464, 0.032046799043627464, 0.09614039713088239, 0.032046799043627464, 0.032046799043627464, 0.09614039713088239, 0.032046799043627464, 0.032046799043627464, 0.06409359808725493, 0.032046799043627464, 0.38615403767943424, 0.38615403767943424, 0.3950543318810857, 0.13168477729369524, 0.06584238864684762, 0.06584238864684762, 0.06584238864684762, 0.06584238864684762, 0.19752716594054284, 0.06584238864684762, 0.1885945014605553, 0.3771890029211106, 0.1885945014605553, 0.1885945014605553, 0.3770923046635889, 0.07541846093271778, 0.07541846093271778, 0.15083692186543557, 0.07541846093271778, 0.07541846093271778, 0.07541846093271778, 0.07541846093271778, 0.07541846093271778, 0.1679109237287829, 0.1679109237287829, 0.1679109237287829, 0.1679109237287829, 0.1679109237287829, 0.1679109237287829, 0.19070098675113822, 0.38140197350227645, 0.38140197350227645, 0.19334085987184094, 0.3866817197436819, 0.19334085987184094, 0.19334085987184094, 0.18904484833128418, 0.047261212082821046, 0.047261212082821046, 0.09452242416564209, 0.14178363624846313, 0.14178363624846313, 0.09452242416564209, 0.047261212082821046, 0.047261212082821046, 0.047261212082821046, 0.047261212082821046, 0.047261212082821046, 0.2993346077537269, 0.2993346077537269, 0.2993346077537269, 0.75048904410371, 0.390314688046926, 0.390314688046926, 0.7476597372046909, 0.41841365497137095, 0.41841365497137095, 0.05432060750104615, 0.05432060750104615, 0.05432060750104615, 0.16296182250313845, 0.05432060750104615, 0.05432060750104615, 0.16296182250313845, 0.05432060750104615, 0.05432060750104615, 0.1086412150020923, 0.1086412150020923, 0.1086412150020923, 0.3139531630239171, 0.15697658151195856, 0.15697658151195856, 0.23546487226793786, 0.15697658151195856, 0.07848829075597928, 0.5680062734504088, 0.2840031367252044, 0.06315251613326942, 0.12630503226653883, 0.25261006453307766, 0.12630503226653883, 0.06315251613326942, 0.12630503226653883, 0.12630503226653883, 0.12630503226653883, 0.06315251613326942, 0.2829426627505067, 0.5658853255010134, 0.17835920398126975, 0.23781227197502636, 0.23781227197502636, 0.05945306799375659, 0.05945306799375659, 0.05945306799375659, 0.05945306799375659, 0.05945306799375659, 0.05945306799375659, 0.15545702996805705, 0.07772851498402852, 0.12954752497338087, 0.07772851498402852, 0.1036380199787047, 0.025909504994676175, 0.1036380199787047, 0.05181900998935235, 0.05181900998935235, 0.025909504994676175, 0.07772851498402852, 0.025909504994676175, 0.05181900998935235, 0.025909504994676175, 0.025909504994676175, 0.7641986056928474, 0.16090827647746797, 0.48272482943240386, 0.16090827647746797, 0.16090827647746797, 0.2545705223968408, 0.1272852611984204, 0.2545705223968408, 0.1272852611984204, 0.1272852611984204, 0.1272852611984204, 0.10920636444268403, 0.1456084859235787, 0.21841272888536806, 0.0910053037022367, 0.036402121480894674, 0.07280424296178935, 0.036402121480894674, 0.054603182221342014, 0.054603182221342014, 0.036402121480894674, 0.12740742518313136, 0.036402121480894674, 0.38650435399158634, 0.19325217699579317, 0.19325217699579317, 0.19325217699579317, 0.057232421502999765, 0.22892968601199906, 0.11446484300599953, 0.057232421502999765, 0.057232421502999765, 0.057232421502999765, 0.11446484300599953, 0.1716972645089993, 0.057232421502999765, 0.057232421502999765, 0.057232421502999765, 0.057232421502999765, 0.29979900004732485, 0.29979900004732485, 0.29979900004732485, 0.7742584891722758, 0.15982216835733717, 0.15982216835733717, 0.15982216835733717, 0.31964433671467435, 0.15982216835733717, 0.295964232208333, 0.591928464416666, 0.24129723315259372, 0.24129723315259372, 0.48259446630518743, 0.11925193158447775, 0.11925193158447775, 0.11925193158447775, 0.11925193158447775, 0.11925193158447775, 0.2385038631689555, 0.11925193158447775, 0.3965855782630599, 0.3965855782630599, 0.6666923419467993, 0.2222307806489331, 0.17407698475772698, 0.23210264634363598, 0.058025661585908994, 0.11605132317181799, 0.17407698475772698, 0.058025661585908994, 0.058025661585908994, 0.058025661585908994, 0.11605132317181799, 0.1461296473530478, 0.1461296473530478, 0.2922592947060956, 0.2922592947060956, 0.1279369994302818, 0.1279369994302818, 0.1279369994302818, 0.2558739988605636, 0.2558739988605636, 0.1279369994302818, 0.8554094480573472, 0.07108460620392204, 0.07108460620392204, 0.07108460620392204, 0.07108460620392204, 0.07108460620392204, 0.21325381861176612, 0.07108460620392204, 0.14216921240784408, 0.07108460620392204, 0.07108460620392204, 0.07108460620392204, 0.07108460620392204, 0.1614331173050912, 0.1614331173050912, 0.3228662346101824, 0.1614331173050912, 0.1614331173050912, 0.4080365362445782, 0.4080365362445782, 0.3902454606005071, 0.3902454606005071, 0.38711608665175595, 0.38711608665175595, 0.38977444051874005, 0.38977444051874005, 0.383494156129385, 0.383494156129385, 0.2856524522777725, 0.571304904555545, 0.7447260222785294, 0.15445918734536665, 0.20594558312715552, 0.15445918734536665, 0.05148639578178888, 0.05148639578178888, 0.10297279156357776, 0.05148639578178888, 0.15445918734536665, 0.05148639578178888, 0.05148639578178888, 0.4107507980384085, 0.4107507980384085, 0.5766003590611377, 0.28830017953056886, 0.39959122046823586, 0.39959122046823586, 0.7703608058591639, 0.18720401825443198, 0.18720401825443198, 0.37440803650886395, 0.18720401825443198, 0.40388858372197173, 0.40388858372197173, 0.3870968598003636, 0.3870968598003636, 0.9160171771298041, 0.38878330355762086, 0.38878330355762086, 0.2529376541327466, 0.2529376541327466, 0.2529376541327466, 0.2529376541327466, 0.39627281572841083, 0.39627281572841083, 0.7808785579549079, 0.329286998973023, 0.1646434994865115, 0.329286998973023, 0.1646434994865115, 0.12900852537428484, 0.2580170507485697, 0.12900852537428484, 0.2580170507485697, 0.12900852537428484, 0.12900852537428484, 0.3947584830251898, 0.3947584830251898, 0.13074709022932252, 0.13074709022932252, 0.13074709022932252, 0.13074709022932252, 0.26149418045864503, 0.13074709022932252, 0.13074709022932252, 0.39957615312189126, 0.07991523062437825, 0.1598304612487565, 0.1598304612487565, 0.07991523062437825, 0.07991523062437825, 0.07991523062437825, 0.38359116566908863, 0.38359116566908863, 0.24142496839659924, 0.4828499367931985, 0.24142496839659924, 0.22902742201374884, 0.4580548440274977, 0.22902742201374884, 0.1993887247743346, 0.23262017890339037, 0.0996943623871673, 0.03323145412905577, 0.03323145412905577, 0.0996943623871673, 0.03323145412905577, 0.06646290825811153, 0.03323145412905577, 0.03323145412905577, 0.06646290825811153, 0.06646290825811153, 0.03323145412905577, 0.7742467370496472, 0.7504890959685742, 0.5858299682325058, 0.19527665607750191, 0.19527665607750191, 0.29550288155338, 0.59100576310676, 0.11406365420630904, 0.11406365420630904, 0.11406365420630904, 0.22812730841261808, 0.11406365420630904, 0.11406365420630904, 0.22812730841261808, 0.4657592198893754, 0.4657592198893754, 0.3827146235154696, 0.3827146235154696, 0.3878827282475594, 0.1939413641237797, 0.1939413641237797, 0.1939413641237797, 0.04530758501330147, 0.04530758501330147, 0.22653792506650733, 0.22653792506650733, 0.1359227550399044, 0.04530758501330147, 0.09061517002660294, 0.04530758501330147, 0.09061517002660294, 0.09061517002660294, 0.6701793512520647, 0.2233931170840216, 0.5712041408158525, 0.1142408281631705, 0.228481656326341, 0.1142408281631705, 0.12472778092491281, 0.6236389046245641, 0.12472778092491281, 0.12472778092491281, 0.04041809190000255, 0.12125427570000764, 0.04041809190000255, 0.1616723676000102, 0.12125427570000764, 0.04041809190000255, 0.04041809190000255, 0.12125427570000764, 0.12125427570000764, 0.0808361838000051, 0.04041809190000255, 0.0808361838000051, 0.04041809190000255, 0.1262234363809357, 0.21037239396822618, 0.04207447879364523, 0.08414895758729046, 0.1262234363809357, 0.1262234363809357, 0.04207447879364523, 0.08414895758729046, 0.04207447879364523, 0.04207447879364523, 0.08414895758729046, 0.04207447879364523, 0.1342404991126517, 0.1342404991126517, 0.04474683303755057, 0.04474683303755057, 0.1342404991126517, 0.1342404991126517, 0.04474683303755057, 0.08949366607510113, 0.04474683303755057, 0.1342404991126517, 0.04474683303755057, 0.1420633147757022, 0.1420633147757022, 0.1420633147757022, 0.2841266295514044, 0.1420633147757022, 0.1420633147757022, 0.09178324203107276, 0.1835664840621455, 0.1835664840621455, 0.030594414010357583, 0.030594414010357583, 0.030594414010357583, 0.09178324203107276, 0.061188828020715166, 0.09178324203107276, 0.061188828020715166, 0.030594414010357583, 0.061188828020715166, 0.061188828020715166, 0.3012075401069698, 0.3012075401069698, 0.3012075401069698, 0.7485459590259083, 0.20107865997235605, 0.4021573199447121, 0.10053932998617802, 0.10053932998617802, 0.10053932998617802, 0.10053932998617802, 0.129409673954895, 0.129409673954895, 0.388229021864685, 0.25881934790979, 0.40326157877121754, 0.40326157877121754, 0.1881420113399012, 0.05375486038282891, 0.13438715095707227, 0.10750972076565782, 0.10750972076565782, 0.026877430191414454, 0.026877430191414454, 0.08063229057424337, 0.08063229057424337, 0.05375486038282891, 0.08063229057424337, 0.05375486038282891, 0.026877430191414454, 0.026877430191414454, 0.05375486038282891, 0.3967378419241512, 0.3967378419241512, 0.8358202385095838, 0.3871843626297031, 0.3871843626297031, 0.05960962203611903, 0.05960962203611903, 0.05960962203611903, 0.11921924407223806, 0.11921924407223806, 0.11921924407223806, 0.05960962203611903, 0.11921924407223806, 0.11921924407223806, 0.11921924407223806, 0.05960962203611903, 0.167661252289632, 0.027943542048272, 0.335322504579264, 0.027943542048272, 0.055887084096544, 0.083830626144816, 0.027943542048272, 0.027943542048272, 0.055887084096544, 0.083830626144816, 0.027943542048272, 0.027943542048272, 0.055887084096544, 0.29407166624580816, 0.29407166624580816, 0.29407166624580816, 0.2690358342301843, 0.13451791711509214, 0.13451791711509214, 0.06725895855754607, 0.13451791711509214, 0.06725895855754607, 0.13451791711509214, 0.13451791711509214, 0.3178921945050996, 0.21192812967006638, 0.3178921945050996, 0.10596406483503319, 0.10596406483503319, 0.05831905637404373, 0.2650866198820169, 0.03711212678348237, 0.1219398451457278, 0.0954311831575261, 0.04241385918112271, 0.08482771836224542, 0.01590519719292102, 0.021206929590561356, 0.053017323976403394, 0.0689225211693244, 0.010603464795280678, 0.03711212678348237, 0.010603464795280678, 0.03711212678348237, 0.010603464795280678, 0.010603464795280678, 0.01590519719292102, 0.005301732397640339, 0.12853545275059072, 0.25707090550118145, 0.12853545275059072, 0.25707090550118145, 0.12853545275059072, 0.12853545275059072, 0.19212780642517838, 0.38425561285035675, 0.19212780642517838, 0.19212780642517838, 0.8132128744268857, 0.8132551913191539, 0.48962478214295735, 0.16320826071431913, 0.32641652142863825, 0.31384698187291066, 0.31384698187291066, 0.31384698187291066, 0.22801174368592939, 0.057002935921482346, 0.057002935921482346, 0.22801174368592939, 0.057002935921482346, 0.11400587184296469, 0.17100880776444705, 0.057002935921482346, 0.39560781751967933, 0.39560781751967933, 0.20501178804628262, 0.20501178804628262, 0.08200471521851305, 0.20501178804628262, 0.08200471521851305, 0.04100235760925652, 0.04100235760925652, 0.08200471521851305, 0.04100235760925652, 0.04100235760925652, 0.22414662041335245, 0.4482932408267049, 0.22414662041335245, 0.40287506099829434, 0.40287506099829434, 0.7485459943812154, 0.38623677971889775, 0.38623677971889775, 0.5860404948956148, 0.2930202474478074, 0.08560332223067496, 0.08560332223067496, 0.34241328892269984, 0.08560332223067496, 0.08560332223067496, 0.08560332223067496, 0.08560332223067496, 0.08560332223067496, 0.08560332223067496, 0.24658019838909134, 0.4931603967781827, 0.24658019838909134, 0.39560785895708556, 0.39560785895708556, 0.6659547626327116, 0.22198492087757055, 0.16104616274869657, 0.32209232549739314, 0.16104616274869657, 0.16104616274869657, 0.16104616274869657, 0.7485710179452741, 0.05298607615872687, 0.2119443046349075, 0.3179164569523612, 0.10597215231745374, 0.05298607615872687, 0.10597215231745374, 0.05298607615872687, 0.05298607615872687, 0.05298607615872687, 0.22827317173497452, 0.22827317173497452, 0.45654634346994905, 0.38872209088211307, 0.38872209088211307, 0.1180399518556549, 0.2360799037113098, 0.1180399518556549, 0.2360799037113098, 0.2360799037113098, 0.19101402414001975, 0.19101402414001975, 0.19101402414001975, 0.19101402414001975, 0.42128998794234407, 0.42128998794234407, 0.41944898819571114, 0.41944898819571114, 0.22877400767223605, 0.22877400767223605, 0.4575480153444721, 0.19173152511381852, 0.19173152511381852, 0.38346305022763705, 0.19173152511381852, 0.19102603443474614, 0.19102603443474614, 0.3820520688694923, 0.19102603443474614, 0.18910712914300545, 0.5673213874290163, 0.18910712914300545, 0.41354382716214605, 0.41354382716214605, 0.18854809302143266, 0.565644279064298, 0.18854809302143266, 0.3928166147823531, 0.3928166147823531, 0.6456267384004647, 0.1936880215201394, 0.12912534768009293, 0.16752250191866516, 0.5025675057559954, 0.16752250191866516, 0.3921339022145214, 0.3921339022145214, 0.38549169960263135, 0.38549169960263135, 0.06684606046558006, 0.06684606046558006, 0.06684606046558006, 0.13369212093116012, 0.2005381813967402, 0.13369212093116012, 0.06684606046558006, 0.06684606046558006, 0.2005381813967402, 0.3847043080441665, 0.3847043080441665, 0.18848717632363718, 0.37697435264727436, 0.18848717632363718, 0.18848717632363718, 0.41326165493408457, 0.10331541373352114, 0.20663082746704228, 0.10331541373352114, 0.10331541373352114, 0.10331541373352114, 0.2334177644364465, 0.19451480369703875, 0.03890296073940775, 0.11670888221822324, 0.0778059214788155, 0.03890296073940775, 0.03890296073940775, 0.0778059214788155, 0.0778059214788155, 0.0778059214788155, 0.03890296073940775, 0.04494590779727229, 0.2696754467836337, 0.04494590779727229, 0.04494590779727229, 0.3595672623781783, 0.04494590779727229, 0.04494590779727229, 0.08989181559454458, 0.04494590779727229, 0.23658995398860552, 0.47317990797721105, 0.23658995398860552, 0.2963872586266291, 0.5927745172532582, 0.549007290875, 0.2745036454375, 0.13725182271875, 0.13280729679780595, 0.2213454946630099, 0.02213454946630099, 0.11067274733150495, 0.13280729679780595, 0.06640364839890298, 0.04426909893260198, 0.06640364839890298, 0.06640364839890298, 0.06640364839890298, 0.04426909893260198, 0.04426909893260198, 0.9055337328816372, 0.44687121293641724, 0.44687121293641724, 0.49638849646157646, 0.24819424823078823, 0.24819424823078823, 0.4152913240374464, 0.4152913240374464, 0.2334406242725774, 0.09337624970903095, 0.1867524994180619, 0.14006437456354642, 0.09337624970903095, 0.14006437456354642, 0.04668812485451548, 0.09337624970903095, 0.1612334846614144, 0.1612334846614144, 0.3224669693228288, 0.1612334846614144, 0.1612334846614144, 0.5710970644250366, 0.2855485322125183, 0.1523093269909383, 0.45692798097281495, 0.1523093269909383, 0.1523093269909383, 0.1523093269909383, 0.3834519272490687, 0.3834519272490687, 0.38625244382479124, 0.38625244382479124, 0.26355734071089654, 0.13177867035544827, 0.13177867035544827, 0.13177867035544827, 0.13177867035544827, 0.13177867035544827, 0.13177867035544827, 0.6115174601956626, 0.5621286141336763, 0.28106430706683816, 0.438013596431027, 0.438013596431027, 0.7447550561097177, 0.14045761624057815, 0.4213728487217344, 0.14045761624057815, 0.14045761624057815, 0.14045761624057815, 0.11478576799817676, 0.11478576799817676, 0.22957153599635352, 0.11478576799817676, 0.11478576799817676, 0.11478576799817676, 0.22957153599635352, 0.3862428533043028, 0.3862428533043028, 0.1444754176698414, 0.1444754176698414, 0.2889508353396828, 0.2889508353396828, 0.1444754176698414, 0.29029833025998636, 0.19353222017332425, 0.09676611008666212, 0.09676611008666212, 0.09676611008666212, 0.09676611008666212, 0.09676611008666212, 0.4344890072451927, 0.4344890072451927, 0.4004329140081596, 0.4004329140081596, 0.3871161035441797, 0.3871161035441797, 0.4185726012010075, 0.4185726012010075, 0.6825172564963248, 0.22750575216544158, 0.7485459995166172, 0.30009506249159956, 0.6001901249831991, 0.7487317977027883, 0.09432776621107847, 0.2829832986332354, 0.18865553242215694, 0.2829832986332354, 0.09432776621107847, 0.09432776621107847, 0.09371342640322385, 0.09371342640322385, 0.1874268528064477, 0.1874268528064477, 0.3748537056128954, 0.6227293604910261, 0.31136468024551306, 0.39577516903784943, 0.39577516903784943, 0.39829953598325135, 0.39829953598325135, 0.17623692455471682, 0.08811846227735841, 0.17623692455471682, 0.17623692455471682, 0.17623692455471682, 0.08811846227735841, 0.17623692455471682, 0.9400497074454438, 0.3861540520427522, 0.3861540520427522, 0.07032930958943763, 0.14065861917887526, 0.2109879287683129, 0.07032930958943763, 0.14065861917887526, 0.14065861917887526, 0.14065861917887526, 0.07032930958943763, 0.39836791873249083, 0.39836791873249083, 0.10430515949931227, 0.20861031899862453, 0.10430515949931227, 0.10430515949931227, 0.3129154784979368, 0.20861031899862453, 0.3957481055941748, 0.3957481055941748, 0.2567505829862825, 0.03209382287328531, 0.09628146861985593, 0.09628146861985593, 0.16046911436642655, 0.03209382287328531, 0.12837529149314125, 0.09628146861985593, 0.03209382287328531, 0.03209382287328531, 0.03209382287328531, 0.16480017133081548, 0.16480017133081548, 0.49440051399244644, 0.16480017133081548, 0.38359121114423606, 0.38359121114423606, 0.14101196488801904, 0.14101196488801904, 0.5640478595520761, 0.14101196488801904, 0.5615108662186162, 0.2807554331093081, 0.29078260564509484, 0.19385507043006323, 0.09692753521503161, 0.09692753521503161, 0.19385507043006323, 0.19385507043006323, 0.23892262687541416, 0.23892262687541416, 0.4778452537508283, 0.7476776118827212, 0.1512958736568695, 0.07564793682843475, 0.1512958736568695, 0.07564793682843475, 0.22694381048530424, 0.22694381048530424, 0.07564793682843475, 0.2803852158626453, 0.14019260793132265, 0.07009630396566133, 0.21028891189698398, 0.07009630396566133, 0.07009630396566133, 0.07009630396566133, 0.07009630396566133, 0.46716764987971715, 0.23358382493985858, 0.23358382493985858, 0.5598373988588411, 0.27991869942942055, 0.19393697834980916, 0.19393697834980916, 0.3878739566996183, 0.19393697834980916, 0.38978562909502545, 0.38978562909502545, 0.4057120298037256, 0.4057120298037256, 0.39651772252929485, 0.39651772252929485, 0.61476165022963, 0.307380825114815, 0.16350137387248823, 0.4905041216174647, 0.16350137387248823, 0.16350137387248823, 0.602056587733104, 0.301028293866552, 0.11527254200713666, 0.23054508401427332, 0.23054508401427332, 0.11527254200713666, 0.23054508401427332, 0.11527254200713666, 0.7650413875344837, 0.19126034688362092, 0.4983554739965952, 0.2491777369982976, 0.3810162368749535, 0.3810162368749535, 0.22989543890142222, 0.45979087780284444, 0.22989543890142222, 0.39931302228649745, 0.39931302228649745, 0.6155408003151808, 0.3077704001575904, 0.389674226298051, 0.389674226298051, 0.31766879030379236, 0.31766879030379236, 0.31766879030379236, 0.3237857731909315, 0.16189288659546575, 0.3237857731909315, 0.7703347817328792, 0.4947805563238481, 0.24739027816192405, 0.24739027816192405, 0.15505990695776672, 0.07752995347888336, 0.23258986043665006, 0.15505990695776672, 0.23258986043665006, 0.15505990695776672, 0.07752995347888336, 0.309614745212073, 0.309614745212073, 0.309614745212073, 0.28238986532532473, 0.18825991021688315, 0.09412995510844158, 0.09412995510844158, 0.09412995510844158, 0.09412995510844158, 0.18825991021688315, 0.3851148982155708, 0.3851148982155708, 0.38977451134775243, 0.38977451134775243, 0.44994081424497884, 0.22497040712248942, 0.22497040712248942, 0.40043105174203, 0.40043105174203, 0.8096454227175357, 0.2682904218442133, 0.17886028122947556, 0.17886028122947556, 0.08943014061473778, 0.08943014061473778, 0.17886028122947556, 0.08943014061473778, 0.4185727009116953, 0.4185727009116953, 0.2304663637702522, 0.4609327275405044, 0.2304663637702522, 0.1492324284419426, 0.1492324284419426, 0.2984648568838852, 0.1492324284419426, 0.1492324284419426, 0.1492324284419426, 0.1244457580754501, 0.1244457580754501, 0.4977830323018004, 0.1244457580754501, 0.1244457580754501, 0.3101209770997753, 0.3101209770997753, 0.3101209770997753, 0.41849134094291857, 0.41849134094291857, 0.3983016100331117, 0.3983016100331117, 0.22791137502772435, 0.22791137502772435, 0.4558227500554487, 0.19478377540402064, 0.3895675508080413, 0.19478377540402064, 0.19478377540402064, 0.18489702471497024, 0.5546910741449107, 0.18489702471497024, 0.09921226418429734, 0.19842452836859467, 0.19842452836859467, 0.09921226418429734, 0.04960613209214867, 0.14881839627644602, 0.04960613209214867, 0.09921226418429734, 0.04960613209214867, 0.04960613209214867, 0.16195529180080473, 0.32391058360160946, 0.16195529180080473, 0.16195529180080473, 0.7740383489700328, 0.09753809669925945, 0.02438452417481486, 0.1950761933985189, 0.2682297659229635, 0.07315357252444459, 0.02438452417481486, 0.07315357252444459, 0.07315357252444459, 0.07315357252444459, 0.04876904834962972, 0.02438452417481486, 0.02438452417481486, 0.29662076116284986, 0.29662076116284986, 0.29662076116284986, 0.2294756627347945, 0.458951325469589, 0.2294756627347945, 0.3975015261096622, 0.3975015261096622, 0.41024643874441596, 0.41024643874441596, 0.3939171716551474, 0.3939171716551474, 0.2318373489505966, 0.1159186744752983, 0.4636746979011932, 0.1159186744752983, 0.1159186744752983, 0.22658628396485747, 0.45317256792971494, 0.22658628396485747, 0.2774578628326794, 0.0924859542775598, 0.0924859542775598, 0.0924859542775598, 0.3699438171102392, 0.0924859542775598, 0.07660125326826382, 0.019150313317065955, 0.03830062663413191, 0.03830062663413191, 0.07660125326826382, 0.15320250653652764, 0.03830062663413191, 0.1723528198535936, 0.03830062663413191, 0.019150313317065955, 0.09575156658532978, 0.05745093995119786, 0.09575156658532978, 0.05745093995119786, 0.03830062663413191, 0.09396879807111203, 0.09396879807111203, 0.2819063942133361, 0.09396879807111203, 0.09396879807111203, 0.18793759614222405, 0.09396879807111203, 0.08179388226781152, 0.4089694113390576, 0.08179388226781152, 0.16358776453562304, 0.08179388226781152, 0.16358776453562304, 0.08179388226781152, 0.48262399439092935, 0.32174932959395286, 0.16087466479697643, 0.3847127136428885, 0.3847127136428885, 0.1757894564909513, 0.1757894564909513, 0.1757894564909513, 0.1757894564909513, 0.1757894564909513, 0.1757894564909513, 0.5611024048113636, 0.11222048096227273, 0.11222048096227273, 0.11222048096227273, 0.11222048096227273, 0.3956078897220226, 0.3956078897220226, 0.3259775344929854, 0.488966301739478, 0.1629887672464927, 0.3835819508200939, 0.3835819508200939, 0.25127105107257003, 0.37690657660885507, 0.06281776276814251, 0.06281776276814251, 0.12563552553628501, 0.12563552553628501, 0.06281776276814251, 0.5610014812503857, 0.28050074062519287, 0.7742584276972408, 0.3957267824642715, 0.3957267824642715, 0.5602255061847525, 0.28011275309237627, 0.09547876321602485, 0.09547876321602485, 0.2864362896480745, 0.09547876321602485, 0.09547876321602485, 0.09547876321602485, 0.1909575264320497, 0.2519222083831321, 0.5038444167662642, 0.2519222083831321, 0.10337251359261246, 0.10337251359261246, 0.10337251359261246, 0.20674502718522492, 0.10337251359261246, 0.3101175407778374, 0.10337251359261246, 0.304856114414907, 0.304856114414907, 0.304856114414907, 0.26497158695490053, 0.13248579347745026, 0.13248579347745026, 0.13248579347745026, 0.13248579347745026, 0.13248579347745026, 0.13248579347745026, 0.5705234043333444, 0.2852617021666722, 0.1664538227674721, 0.1664538227674721, 0.1664538227674721, 0.1664538227674721, 0.3329076455349442, 0.16203088931738557, 0.16203088931738557, 0.32406177863477115, 0.16203088931738557, 0.16203088931738557, 0.3846148337873971, 0.3846148337873971, 0.3834810341175734, 0.5752215511763601, 0.7613216036352227, 0.19669165088774254, 0.19669165088774254, 0.3933833017754851, 0.19669165088774254, 0.40654303940751224, 0.40654303940751224, 0.38396467782515986, 0.38396467782515986, 0.5603243812010572, 0.2801621906005286, 0.19188812709142358, 0.38377625418284717, 0.38377625418284717, 0.3870910932958174, 0.3870910932958174, 0.30135037188795993, 0.07533759297198998, 0.15067518594397997, 0.30135037188795993, 0.07533759297198998, 0.15067518594397997, 0.23293934380441336, 0.4658786876088267, 0.23293934380441336, 0.3902456695988062, 0.3902456695988062, 0.38895612405138413, 0.38895612405138413, 0.25061759146103413, 0.25061759146103413, 0.25061759146103413, 0.25061759146103413, 0.7740383452983223, 0.38511403396152416, 0.38511403396152416, 0.8679901961669253, 0.17683845535889733, 0.08841922767944867, 0.17683845535889733, 0.08841922767944867, 0.08841922767944867, 0.08841922767944867, 0.08841922767944867, 0.17683845535889733, 0.08841922767944867, 0.17619503277785326, 0.08809751638892663, 0.08809751638892663, 0.17619503277785326, 0.08809751638892663, 0.08809751638892663, 0.08809751638892663, 0.08809751638892663, 0.08809751638892663, 0.15998055606102532, 0.15998055606102532, 0.479941668183076, 0.15998055606102532, 0.401240423636483, 0.401240423636483, 0.38968011652024365, 0.38968011652024365, 0.8679886365791017, 0.40792675817055707, 0.40792675817055707, 0.31195218682686954, 0.31195218682686954, 0.31195218682686954, 0.19762112801407103, 0.09881056400703551, 0.09881056400703551, 0.19762112801407103, 0.19762112801407103, 0.09881056400703551, 0.09881056400703551, 0.09881056400703551, 0.2590334806160974, 0.1295167403080487, 0.2590334806160974, 0.2590334806160974, 0.3023989891113946, 0.1511994945556973, 0.07559974727784866, 0.07559974727784866, 0.1511994945556973, 0.1511994945556973, 0.07559974727784866, 0.07559974727784866, 0.10368829763489197, 0.10368829763489197, 0.20737659526978394, 0.10368829763489197, 0.10368829763489197, 0.10368829763489197, 0.10368829763489197, 0.20737659526978394, 0.21341256296153147, 0.10670628148076573, 0.10670628148076573, 0.10670628148076573, 0.21341256296153147, 0.10670628148076573, 0.10670628148076573, 0.10670628148076573, 0.46743998253856306, 0.23371999126928153, 0.23371999126928153, 0.22890129492995365, 0.4578025898599073, 0.22890129492995365, 0.09513206820332708, 0.09513206820332708, 0.09513206820332708, 0.3805282728133083, 0.2853962046099812, 0.09513206820332708, 0.45908186774096454, 0.22954093387048227, 0.22954093387048227, 0.3221630692553868, 0.1610815346276934, 0.48324460388308016, 0.38780532936613077, 0.38780532936613077, 0.3043837797128299, 0.3043837797128299, 0.3043837797128299, 0.1998948673129155, 0.09994743365645775, 0.09994743365645775, 0.09994743365645775, 0.09994743365645775, 0.09994743365645775, 0.1998948673129155, 0.09994743365645775, 0.3839647853377761, 0.3839647853377761, 0.831110621353312, 0.5535235840581226, 0.13838089601453066, 0.13838089601453066, 0.22726286807667795, 0.4545257361533559, 0.22726286807667795, 0.18974624326123418, 0.37949248652246836, 0.37949248652246836, 0.05550357539039303, 0.11100715078078606, 0.05550357539039303, 0.05550357539039303, 0.11100715078078606, 0.11100715078078606, 0.1665107261711791, 0.05550357539039303, 0.11100715078078606, 0.1665107261711791, 0.1738726427049459, 0.08693632135247295, 0.08693632135247295, 0.08693632135247295, 0.08693632135247295, 0.08693632135247295, 0.1738726427049459, 0.08693632135247295, 0.1738726427049459, 0.5653028653370672, 0.2826514326685336, 0.2811858185898148, 0.5623716371796296, 0.7476663210621337, 0.2803848749944104, 0.46730812499068397, 0.09346162499813679, 0.18692324999627358, 0.16030363545250534, 0.10686909030167023, 0.08905757525139185, 0.07124606020111349, 0.07124606020111349, 0.03562303010055674, 0.03562303010055674, 0.053434545150835115, 0.07124606020111349, 0.03562303010055674, 0.1246806053519486, 0.07124606020111349, 0.01781151505027837, 0.01781151505027837, 0.01781151505027837, 0.03562303010055674, 0.01781151505027837, 0.46206756841909485, 0.23103378420954743, 0.23103378420954743, 0.16513016521837123, 0.6605206608734849, 0.16513016521837123, 0.5892205624595469, 0.29461028122977345, 0.09400438350834103, 0.47002191754170514, 0.18800876701668207, 0.09400438350834103, 0.09400438350834103, 0.32730072145734174, 0.09351449184495478, 0.09351449184495478, 0.09351449184495478, 0.09351449184495478, 0.09351449184495478, 0.04675724592247739, 0.09351449184495478, 0.09351449184495478, 0.5719068677093903, 0.2859534338546951, 0.14315885025213315, 0.14315885025213315, 0.14315885025213315, 0.2863177005042663, 0.2863177005042663, 0.4028750613658854, 0.4028750613658854, 0.3887832918848642, 0.3887832918848642, 0.38709685547154493, 0.38709685547154493, 0.06287752639149184, 0.06986391821276872, 0.06986391821276872, 0.11876866096170681, 0.06986391821276872, 0.11876866096170681, 0.0978094854978762, 0.0489047427489381, 0.1467142282468143, 0.08383670185532245, 0.06986391821276872, 0.013972783642553742, 0.006986391821276871, 0.013972783642553742, 0.006986391821276871, 0.07508143439043873, 0.02502714479681291, 0.12513572398406456, 0.12513572398406456, 0.15016286878087745, 0.05005428959362582, 0.07508143439043873, 0.10010857918725163, 0.07508143439043873, 0.05005428959362582, 0.07508143439043873, 0.02502714479681291, 0.05005428959362582, 0.08612517170304645, 0.1722503434060929, 0.04306258585152323, 0.08612517170304645, 0.08612517170304645, 0.12918775755456968, 0.12918775755456968, 0.08612517170304645, 0.04306258585152323, 0.08612517170304645, 0.08612517170304645, 0.0810115832226531, 0.20252895805663276, 0.12151737483397965, 0.04050579161132655, 0.0810115832226531, 0.1620231664453062, 0.04050579161132655, 0.0810115832226531, 0.04050579161132655, 0.12151737483397965, 0.3012803669758882, 0.3012803669758882, 0.3012803669758882, 0.06201980102097427, 0.09064432456911624, 0.11926884811725821, 0.14312261774070986, 0.11449809419256789, 0.042936785322212956, 0.05247829317159362, 0.0667905549456646, 0.07156130887035493, 0.04770753924690328, 0.06201980102097427, 0.03816603139752263, 0.042936785322212956, 0.0333952774728323, 0.009541507849380657, 0.07472056371128927, 0.14944112742257853, 0.18680140927822317, 0.07472056371128927, 0.14944112742257853, 0.037360281855644634, 0.037360281855644634, 0.26152197298951246, 0.037360281855644634, 0.28874046637391304, 0.5774809327478261, 0.3955400200316344, 0.3955400200316344, 0.3807004763064614, 0.3807004763064614, 0.03221093829193853, 0.10871191673529254, 0.17313379331916962, 0.08052734572984632, 0.07650097844335402, 0.08455371301633864, 0.08052734572984632, 0.02013183643246158, 0.08052734572984632, 0.0483164074379078, 0.04429004015141548, 0.06039550929738475, 0.06039550929738475, 0.008052734572984633, 0.03221093829193853, 0.016105469145969265, 0.1522076550701471, 0.07610382753507355, 0.07610382753507355, 0.2283114826052207, 0.07610382753507355, 0.1522076550701471, 0.07610382753507355, 0.07610382753507355, 0.07610382753507355, 0.07610382753507355, 0.05764183004470799, 0.014410457511176998, 0.028820915022353996, 0.259388235201186, 0.08646274506706199, 0.08646274506706199, 0.043231372533530994, 0.11528366008941598, 0.028820915022353996, 0.100873202578239, 0.043231372533530994, 0.014410457511176998, 0.014410457511176998, 0.043231372533530994, 0.014410457511176998, 0.028820915022353996, 0.043231372533530994, 0.014410457511176998, 0.47454321528427096, 0.09490864305685419, 0.18981728611370838, 0.09490864305685419, 0.09490864305685419, 0.09490864305685419, 0.22635715952717178, 0.45271431905434356, 0.22635715952717178, 0.16206430000241914, 0.10804286666827943, 0.10804286666827943, 0.16206430000241914, 0.21608573333655887, 0.05402143333413972, 0.10804286666827943, 0.05402143333413972, 0.05402143333413972, 0.05402143333413972, 0.5626035349714551, 0.28130176748572755, 0.7742466587379881, 0.11192126103906833, 0.22384252207813665, 0.22384252207813665, 0.11192126103906833, 0.11192126103906833, 0.22384252207813665, 0.38947970270259735, 0.38947970270259735, 0.7504890587872944, 0.41442193825094886, 0.41442193825094886, 0.19471384277244672, 0.25034636927886006, 0.08344878975962002, 0.08344878975962002, 0.08344878975962002, 0.02781626325320667, 0.05563252650641334, 0.05563252650641334, 0.08344878975962002, 0.02781626325320667, 0.05563252650641334, 0.02781626325320667, 0.19131209497056936, 0.19131209497056936, 0.3826241899411387, 0.19131209497056936, 0.3094178131301346, 0.1768101789315055, 0.08840508946575275, 0.044202544732876374, 0.1768101789315055, 0.08840508946575275, 0.044202544732876374, 0.044202544732876374, 0.7808754201181852, 0.5670981124423355, 0.1417745281105839, 0.1417745281105839, 0.1417745281105839, 0.5652508496961712, 0.2826254248480856, 0.20450424436158168, 0.20450424436158168, 0.20450424436158168, 0.20450424436158168, 0.20450424436158168, 0.3894800752097012, 0.3894800752097012, 0.4212901134143825, 0.4212901134143825, 0.7598285258375338, 0.2294819624113674, 0.4589639248227348, 0.2294819624113674, 0.39750154193371245, 0.39750154193371245, 0.7703347863804695, 0.7740382902676262, 0.38511488054849297, 0.38511488054849297, 0.4080348573613796, 0.4080348573613796, 0.523157532271742, 0.06539469153396775, 0.06539469153396775, 0.06539469153396775, 0.261578766135871, 0.3859889562415052, 0.3859889562415052, 0.3825422944792373, 0.3825422944792373, 0.5643157296378308, 0.2821578648189154, 0.40787364376414315, 0.40787364376414315, 0.31549316074851197, 0.31549316074851197, 0.31549316074851197, 0.38396471771854174, 0.38396471771854174, 0.7703618817858354, 0.4925147472945609, 0.3283431648630406, 0.1641715824315203, 0.28607412794692727, 0.5721482558938545, 0.5845998803864532, 0.2922999401932266, 0.38872209637677596, 0.38872209637677596, 0.3030682328077947, 0.3030682328077947, 0.3030682328077947, 0.41031891270304366, 0.41031891270304366, 0.38610435673774124, 0.38610435673774124, 0.16006867573437208, 0.4802060272031163, 0.16006867573437208, 0.16006867573437208, 0.750489081464927, 0.40568295164158585, 0.40568295164158585, 0.5736292196890798, 0.2868146098445399, 0.1897121031318412, 0.3794242062636824, 0.3794242062636824, 0.17691015840624807, 0.35382031681249615, 0.17691015840624807, 0.17691015840624807, 0.17691015840624807, 0.4225741979921043, 0.4225741979921043, 0.1602684866867202, 0.1602684866867202, 0.1602684866867202, 0.3205369733734404, 0.1602684866867202, 0.30190337255270755, 0.30190337255270755, 0.30190337255270755, 0.22402681685848386, 0.4480536337169677, 0.22402681685848386, 0.14171246211636532, 0.28342492423273064, 0.28342492423273064, 0.28342492423273064, 0.868502827523473, 0.3896832403919679, 0.3896832403919679, 0.24492897017830453, 0.048985794035660904, 0.048985794035660904, 0.048985794035660904, 0.09797158807132181, 0.19594317614264362, 0.09797158807132181, 0.14695738210698273, 0.048985794035660904, 0.5593586200582817, 0.27967931002914087, 0.30290267547505106, 0.30290267547505106, 0.30290267547505106, 0.4892730175014241, 0.24463650875071205, 0.24463650875071205, 0.08154675707047276, 0.2446402712114183, 0.16309351414094553, 0.08154675707047276, 0.08154675707047276, 0.08154675707047276, 0.08154675707047276, 0.16309351414094553, 0.30526300890127883, 0.15263150445063942, 0.30526300890127883, 0.30526300890127883, 0.8684944710381439, 0.7505082756151389, 0.15143468733411064, 0.07571734366705532, 0.15143468733411064, 0.227152031001166, 0.07571734366705532, 0.07571734366705532, 0.07571734366705532, 0.15143468733411064, 0.3000845088045097, 0.6001690176090194, 0.3863672152871977, 0.3863672152871977, 0.10756401890361503, 0.10756401890361503, 0.10756401890361503, 0.10756401890361503, 0.10756401890361503, 0.21512803780723005, 0.21512803780723005, 0.8129258270212134, 0.14804094880710808, 0.29608189761421616, 0.14804094880710808, 0.14804094880710808, 0.14804094880710808, 0.24901550379178902, 0.12450775189589451, 0.24901550379178902, 0.12450775189589451, 0.12450775189589451, 0.08141795455713281, 0.16283590911426563, 0.24425386367139845, 0.08141795455713281, 0.16283590911426563, 0.16283590911426563, 0.08141795455713281, 0.11190339748123394, 0.2238067949624679, 0.5595169874061697, 0.29598803284940395, 0.29598803284940395, 0.29598803284940395, 0.22855398662729115, 0.22855398662729115, 0.4571079732545823, 0.7447261686044502, 0.8763413908046827, 0.5960734157921369, 0.08515334511316242, 0.25546003533948725, 0.10159499970726871, 0.10159499970726871, 0.0338649999024229, 0.0677299998048458, 0.10159499970726871, 0.0338649999024229, 0.0338649999024229, 0.3047849991218061, 0.0338649999024229, 0.10159499970726871, 0.0338649999024229, 0.0338649999024229, 0.0338649999024229, 0.2960412790949152, 0.2960412790949152, 0.2960412790949152, 0.26024433791913487, 0.05204886758382697, 0.05204886758382697, 0.10409773516765394, 0.15614660275148093, 0.05204886758382697, 0.2081954703353079, 0.05204886758382697, 0.10409773516765394, 0.05204886758382697, 0.39024522189049055, 0.39024522189049055, 0.3896237941409542, 0.3896237941409542, 0.43408376637302964, 0.08681675327460593, 0.2604502598238178, 0.08681675327460593, 0.08681675327460593, 0.750508275351112, 0.3838676044374046, 0.3838676044374046, 0.44817920612001877, 0.22408960306000938, 0.22408960306000938, 0.06682553830677465, 0.06682553830677465, 0.33412769153387323, 0.06682553830677465, 0.06682553830677465, 0.06682553830677465, 0.06682553830677465, 0.06682553830677465, 0.1336510766135493, 0.1336510766135493, 0.40684119611899894, 0.40684119611899894], \"Term\": [\"abhor\", \"absence\", \"absence\", \"absence\", \"absence\", \"accident\", \"accident\", \"account\", \"account\", \"account\", \"acquaintance\", \"acquaintance\", \"action\", \"action\", \"adjunct\", \"adjunct\", \"admire\", \"admire\", \"admit\", \"admit\", \"advantage\", \"advantage\", \"affair\", \"affair\", \"afford\", \"afford\", \"age\", \"age\", \"age\", \"age\", \"age\", \"age\", \"age\", \"aid\", \"aid\", \"air\", \"air\", \"air\", \"alack\", \"alack\", \"alchemy\", \"alchemy\", \"allow\", \"allow\", \"alter\", \"alter\", \"alter\", \"angel\", \"anon\", \"anon\", \"antiquity\", \"argument\", \"argument\", \"arise\", \"arise\", \"art\", \"art\", \"art\", \"art\", \"art\", \"art\", \"art\", \"art\", \"art\", \"art\", \"art\", \"art\", \"art\", \"asleep\", \"asleep\", \"assure\", \"assure\", \"aught\", \"aught\", \"autumn\", \"autumn\", \"away\", \"away\", \"away\", \"away\", \"away\", \"away\", \"away\", \"away\", \"away\", \"babe\", \"babe\", \"babe\", \"bad\", \"bad\", \"bad\", \"bad\", \"bad\", \"bad\", \"bad\", \"bad\", \"bare\", \"bare\", \"bare\", \"bareness\", \"bareness\", \"bark\", \"barren\", \"barren\", \"barren\", \"barren\", \"base\", \"base\", \"base\", \"base\", \"base\", \"bath\", \"bath\", \"bear\", \"bear\", \"bear\", \"bear\", \"bear\", \"bear\", \"bear\", \"bear\", \"bear\", \"bear\", \"bear\", \"bear\", \"bear\", \"bear\", \"beast\", \"beat\", \"beat\", \"beauty\", \"beauty\", \"beauty\", \"beauty\", \"beauty\", \"beauty\", \"beauty\", \"beauty\", \"beauty\", \"beauty\", \"beauty\", \"beauty\", \"beauty\", \"beauty\", \"beauty\", \"bed\", \"bed\", \"bed\", \"behold\", \"behold\", \"behold\", \"behold\", \"behold\", \"behold\", \"beloved\", \"beloved\", \"bend\", \"bend\", \"benefit\", \"benefit\", \"besiege\", \"betray\", \"betray\", \"bid\", \"bid\", \"bind\", \"bind\", \"bird\", \"bird\", \"bird\", \"birth\", \"birth\", \"birth\", \"bitter\", \"bitterness\", \"bitterness\", \"bless\", \"bless\", \"bless\", \"bless\", \"bless\", \"blessed\", \"blessed\", \"blessing\", \"blest\", \"blest\", \"blood\", \"blood\", \"blood\", \"blood\", \"blood\", \"bloody\", \"bloody\", \"bloody\", \"blot\", \"blot\", \"blot\", \"blunt\", \"blunt\", \"blunt\", \"blushing\", \"blushing\", \"boast\", \"boast\", \"boast\", \"boast\", \"body\", \"body\", \"body\", \"body\", \"body\", \"body\", \"bold\", \"bold\", \"bond\", \"bond\", \"bosom\", \"bosom\", \"bosom\", \"bounteous\", \"bounteous\", \"brain\", \"brain\", \"brain\", \"brain\", \"brand\", \"brand\", \"brand\", \"brave\", \"brave\", \"break\", \"break\", \"break\", \"breast\", \"breast\", \"breast\", \"breast\", \"breast\", \"breath\", \"breath\", \"breath\", \"breath\", \"breath\", \"breed\", \"breed\", \"breed\", \"breed\", \"bright\", \"bright\", \"bright\", \"bright\", \"bright\", \"bright\", \"brow\", \"brow\", \"brow\", \"brow\", \"brow\", \"brow\", \"brow\", \"bud\", \"bud\", \"bud\", \"bud\", \"bud\", \"bud\", \"burn\", \"burn\", \"burn\", \"bury\", \"bury\", \"bury\", \"bury\", \"call\", \"call\", \"call\", \"canopy\", \"canopy\", \"canst\", \"canst\", \"canst\", \"canst\", \"canst\", \"care\", \"care\", \"care\", \"care\", \"care\", \"cast\", \"cast\", \"catch\", \"cause\", \"cause\", \"change\", \"change\", \"change\", \"change\", \"change\", \"change\", \"change\", \"change\", \"change\", \"charter\", \"charter\", \"chase\", \"cheek\", \"cheek\", \"cheek\", \"cheek\", \"cheek\", \"cheek\", \"chide\", \"chide\", \"chide\", \"chide\", \"chide\", \"choose\", \"choose\", \"clear\", \"clear\", \"clear\", \"clear\", \"clock\", \"clock\", \"cloud\", \"cloud\", \"cloud\", \"colour\", \"colour\", \"come\", \"come\", \"come\", \"come\", \"come\", \"come\", \"come\", \"come\", \"come\", \"come\", \"come\", \"comfort\", \"comfort\", \"comfort\", \"commit\", \"commit\", \"commit\", \"common\", \"common\", \"common\", \"compare\", \"compare\", \"compare\", \"compare\", \"compare\", \"complexion\", \"complexion\", \"complexion\", \"concord\", \"confound\", \"confound\", \"confound\", \"confound\", \"confound\", \"confound\", \"conscience\", \"constant\", \"constant\", \"content\", \"content\", \"content\", \"content\", \"contract\", \"control\", \"control\", \"control\", \"convert\", \"convert\", \"convert\", \"cool\", \"copy\", \"corrupt\", \"corrupt\", \"cost\", \"cost\", \"cost\", \"count\", \"count\", \"count\", \"count\", \"count\", \"counterfeit\", \"counterfeit\", \"course\", \"course\", \"course\", \"cover\", \"cover\", \"creature\", \"creature\", \"cross\", \"cross\", \"cross\", \"cupid\", \"cure\", \"cure\", \"cure\", \"cure\", \"cure\", \"cxxxiii\", \"dare\", \"dare\", \"dare\", \"dark\", \"dark\", \"date\", \"date\", \"date\", \"date\", \"date\", \"dateless\", \"dateless\", \"day\", \"day\", \"day\", \"day\", \"day\", \"day\", \"day\", \"day\", \"day\", \"day\", \"dead\", \"dead\", \"dead\", \"dead\", \"dead\", \"dead\", \"dead\", \"dead\", \"dead\", \"dear\", \"dear\", \"dear\", \"dear\", \"dear\", \"dear\", \"dear\", \"dear\", \"dearth\", \"dearth\", \"death\", \"death\", \"death\", \"death\", \"death\", \"death\", \"death\", \"death\", \"death\", \"death\", \"death\", \"death\", \"decay\", \"decay\", \"decay\", \"decay\", \"decay\", \"decay\", \"decay\", \"decay\", \"decease\", \"decease\", \"decease\", \"deceased\", \"deed\", \"deed\", \"deed\", \"deed\", \"deed\", \"deed\", \"deep\", \"deep\", \"deep\", \"deep\", \"defence\", \"defence\", \"delight\", \"delight\", \"delight\", \"delight\", \"delight\", \"delight\", \"delight\", \"delight\", \"deny\", \"deny\", \"depart\", \"depend\", \"depend\", \"desert\", \"desert\", \"desert\", \"deserve\", \"deserve\", \"desire\", \"desire\", \"desire\", \"desire\", \"desire\", \"desire\", \"desire\", \"desire\", \"desire\", \"despair\", \"despair\", \"despite\", \"despite\", \"despite\", \"despite\", \"despite\", \"dial\", \"dial\", \"didst\", \"didst\", \"didst\", \"die\", \"die\", \"die\", \"die\", \"die\", \"die\", \"die\", \"die\", \"die\", \"die\", \"disgrace\", \"disgrace\", \"disgrace\", \"disgrace\", \"disgrace\", \"divide\", \"divide\", \"divine\", \"divine\", \"divine\", \"dost\", \"dost\", \"dost\", \"dost\", \"dost\", \"dost\", \"dost\", \"dost\", \"dost\", \"dost\", \"dost\", \"dost\", \"dost\", \"doth\", \"doth\", \"doth\", \"doth\", \"doth\", \"doth\", \"doth\", \"doth\", \"doth\", \"doth\", \"doth\", \"doth\", \"doth\", \"doth\", \"doth\", \"draw\", \"draw\", \"draw\", \"draw\", \"dream\", \"dream\", \"dream\", \"dream\", \"drink\", \"drink\", \"drop\", \"drown\", \"dull\", \"dull\", \"dull\", \"dull\", \"dull\", \"dull\", \"dumb\", \"dumb\", \"dumb\", \"dust\", \"duty\", \"dwell\", \"dwell\", \"dwell\", \"dwell\", \"dwell\", \"dwell\", \"dwell\", \"ear\", \"ear\", \"ear\", \"earth\", \"earth\", \"earth\", \"earth\", \"earth\", \"earth\", \"eat\", \"eat\", \"eat\", \"eat\", \"edge\", \"edge\", \"end\", \"end\", \"end\", \"end\", \"end\", \"end\", \"end\", \"end\", \"end\", \"engraft\", \"engraft\", \"eternal\", \"eternal\", \"eternal\", \"eternal\", \"evil\", \"evil\", \"evil\", \"exceed\", \"exceed\", \"excuse\", \"excuse\", \"excuse\", \"excuse\", \"excuse\", \"expire\", \"express\", \"express\", \"extreme\", \"eye\", \"eye\", \"eye\", \"eye\", \"eye\", \"eye\", \"eye\", \"eye\", \"eye\", \"eye\", \"eye\", \"eye\", \"eye\", \"eye\", \"eye\", \"eye\", \"eye\", \"face\", \"face\", \"face\", \"face\", \"face\", \"face\", \"face\", \"face\", \"face\", \"fair\", \"fair\", \"fair\", \"fair\", \"fair\", \"fair\", \"fair\", \"fair\", \"fair\", \"fair\", \"fair\", \"fair\", \"fair\", \"fair\", \"fair\", \"fair\", \"faith\", \"faith\", \"faith\", \"faith\", \"false\", \"false\", \"false\", \"false\", \"false\", \"false\", \"false\", \"false\", \"false\", \"far\", \"far\", \"far\", \"far\", \"far\", \"far\", \"far\", \"far\", \"far\", \"far\", \"farth\", \"farth\", \"fashion\", \"fashion\", \"fault\", \"fault\", \"fault\", \"fault\", \"fault\", \"fault\", \"fear\", \"fear\", \"fear\", \"fear\", \"fear\", \"fear\", \"fear\", \"fear\", \"feed\", \"feed\", \"feed\", \"feed\", \"feel\", \"feel\", \"fever\", \"fever\", \"fickle\", \"fierce\", \"fierce\", \"fight\", \"fight\", \"find\", \"find\", \"find\", \"find\", \"find\", \"find\", \"find\", \"find\", \"find\", \"find\", \"find\", \"fine\", \"fine\", \"finger\", \"finger\", \"fire\", \"fire\", \"fire\", \"fire\", \"fire\", \"fit\", \"fit\", \"flatter\", \"flatter\", \"flatter\", \"flattery\", \"flattery\", \"flower\", \"flower\", \"flower\", \"flower\", \"flower\", \"flower\", \"flower\", \"flower\", \"fly\", \"fly\", \"fly\", \"follow\", \"fool\", \"fool\", \"fool\", \"foot\", \"foot\", \"foot\", \"forbear\", \"fore\", \"fore\", \"forfeit\", \"forfeit\", \"form\", \"form\", \"form\", \"form\", \"form\", \"form\", \"form\", \"forsake\", \"forsake\", \"forth\", \"forth\", \"forth\", \"forth\", \"forth\", \"fortify\", \"fortify\", \"forward\", \"forward\", \"fountain\", \"fountain\", \"frame\", \"frame\", \"frame\", \"free\", \"free\", \"free\", \"friend\", \"friend\", \"friend\", \"friend\", \"friend\", \"friend\", \"fulfil\", \"gain\", \"gain\", \"gain\", \"gain\", \"gainst\", \"gainst\", \"gainst\", \"gainst\", \"garment\", \"gate\", \"gate\", \"gay\", \"gay\", \"gaze\", \"general\", \"general\", \"gentle\", \"gentle\", \"gentle\", \"gentle\", \"gentle\", \"gentle\", \"gentle\", \"gentle\", \"gift\", \"gift\", \"gift\", \"gift\", \"gift\", \"gilded\", \"gilded\", \"give\", \"give\", \"give\", \"give\", \"give\", \"give\", \"give\", \"give\", \"give\", \"glad\", \"glass\", \"glass\", \"glass\", \"glass\", \"glass\", \"glass\", \"glory\", \"glory\", \"glory\", \"glory\", \"glory\", \"go\", \"go\", \"go\", \"go\", \"go\", \"go\", \"go\", \"go\", \"go\", \"go\", \"goddess\", \"goddess\", \"gold\", \"gold\", \"golden\", \"golden\", \"golden\", \"golden\", \"good\", \"good\", \"good\", \"good\", \"good\", \"good\", \"good\", \"good\", \"good\", \"good\", \"good\", \"good\", \"good\", \"goodness\", \"goodness\", \"grace\", \"grace\", \"grace\", \"grace\", \"grace\", \"grace\", \"grace\", \"grace\", \"gracious\", \"gracious\", \"gracious\", \"gracious\", \"great\", \"great\", \"great\", \"great\", \"great\", \"great\", \"great\", \"great\", \"great\", \"green\", \"green\", \"green\", \"green\", \"green\", \"green\", \"groan\", \"groan\", \"groan\", \"ground\", \"ground\", \"ground\", \"ground\", \"grow\", \"grow\", \"grow\", \"grow\", \"grow\", \"grow\", \"grow\", \"grow\", \"grow\", \"grow\", \"grow\", \"grow\", \"growth\", \"growth\", \"growth\", \"guard\", \"guest\", \"guest\", \"hadst\", \"hair\", \"hair\", \"hand\", \"hand\", \"hand\", \"hand\", \"hand\", \"hand\", \"hand\", \"hand\", \"hand\", \"hand\", \"hand\", \"hand\", \"happy\", \"happy\", \"happy\", \"happy\", \"happy\", \"happy\", \"hard\", \"hard\", \"hast\", \"hast\", \"hast\", \"hast\", \"hast\", \"hast\", \"hast\", \"hast\", \"hast\", \"haste\", \"haste\", \"hate\", \"hate\", \"hate\", \"hate\", \"hate\", \"hate\", \"hate\", \"hate\", \"hate\", \"hath\", \"hath\", \"hath\", \"hath\", \"hath\", \"hath\", \"hath\", \"hath\", \"hath\", \"hath\", \"hath\", \"hath\", \"hath\", \"hath\", \"hath\", \"hawk\", \"head\", \"head\", \"head\", \"head\", \"hear\", \"hear\", \"hear\", \"hear\", \"hear\", \"hear\", \"heart\", \"heart\", \"heart\", \"heart\", \"heart\", \"heart\", \"heart\", \"heart\", \"heart\", \"heart\", \"heart\", \"heart\", \"heat\", \"heat\", \"heat\", \"heat\", \"heaven\", \"heaven\", \"heaven\", \"heaven\", \"heaven\", \"heaven\", \"heaven\", \"heaven\", \"heaven\", \"heaven\", \"heaven\", \"heaven\", \"heavenly\", \"heavenly\", \"heavenly\", \"heavily\", \"heavy\", \"heavy\", \"heavy\", \"heavy\", \"heavy\", \"height\", \"height\", \"help\", \"help\", \"help\", \"hide\", \"hide\", \"hide\", \"hide\", \"hide\", \"hide\", \"hide\", \"hideous\", \"hideous\", \"high\", \"high\", \"hold\", \"hold\", \"hold\", \"hold\", \"hold\", \"hold\", \"hold\", \"hold\", \"hold\", \"honour\", \"honour\", \"honour\", \"honour\", \"hope\", \"hope\", \"hope\", \"hope\", \"hope\", \"hope\", \"horse\", \"hour\", \"hour\", \"hour\", \"hour\", \"hour\", \"hour\", \"hour\", \"hour\", \"hour\", \"hour\", \"hour\", \"hour\", \"hue\", \"hue\", \"hue\", \"hue\", \"hue\", \"huge\", \"huge\", \"humble\", \"humble\", \"humour\", \"humour\", \"hungry\", \"hungry\", \"husbandry\", \"husbandry\", \"hymn\", \"hymn\", \"ignorance\", \"ill\", \"ill\", \"ill\", \"ill\", \"ill\", \"ill\", \"ill\", \"ill\", \"ill\", \"ill\", \"inconstant\", \"inconstant\", \"infection\", \"infection\", \"influence\", \"influence\", \"injurious\", \"injury\", \"injury\", \"injury\", \"injury\", \"ink\", \"ink\", \"invent\", \"invent\", \"invention\", \"invite\", \"invite\", \"inward\", \"inward\", \"inward\", \"inward\", \"issue\", \"issue\", \"jack\", \"jewel\", \"jewel\", \"jewel\", \"jewel\", \"joy\", \"joy\", \"joy\", \"joy\", \"joy\", \"joy\", \"judgement\", \"judgement\", \"keep\", \"keep\", \"keep\", \"keep\", \"keep\", \"keep\", \"keep\", \"kind\", \"kind\", \"kind\", \"kind\", \"kind\", \"kind\", \"kind\", \"kingdom\", \"kingdom\", \"kiss\", \"kiss\", \"kiss\", \"knife\", \"knife\", \"knife\", \"know\", \"know\", \"know\", \"know\", \"know\", \"know\", \"know\", \"know\", \"know\", \"know\", \"know\", \"know\", \"know\", \"lamb\", \"lame\", \"large\", \"large\", \"large\", \"lawful\", \"lawful\", \"lay\", \"lay\", \"lay\", \"lay\", \"lay\", \"lay\", \"lay\", \"lead\", \"lead\", \"leap\", \"leap\", \"lease\", \"lease\", \"lease\", \"lease\", \"leave\", \"leave\", \"leave\", \"leave\", \"leave\", \"leave\", \"leave\", \"leave\", \"leave\", \"leave\", \"leisure\", \"leisure\", \"lend\", \"lend\", \"lend\", \"lend\", \"lest\", \"lest\", \"lest\", \"lest\", \"let\", \"let\", \"let\", \"let\", \"let\", \"let\", \"let\", \"let\", \"let\", \"let\", \"let\", \"let\", \"let\", \"lie\", \"lie\", \"lie\", \"lie\", \"lie\", \"lie\", \"lie\", \"lie\", \"lie\", \"lie\", \"lie\", \"lie\", \"life\", \"life\", \"life\", \"life\", \"life\", \"life\", \"life\", \"life\", \"life\", \"life\", \"life\", \"light\", \"light\", \"light\", \"light\", \"light\", \"light\", \"like\", \"like\", \"like\", \"like\", \"like\", \"like\", \"like\", \"like\", \"like\", \"like\", \"like\", \"like\", \"like\", \"lily\", \"lily\", \"lily\", \"limb\", \"line\", \"line\", \"line\", \"line\", \"line\", \"line\", \"lip\", \"lip\", \"lip\", \"lip\", \"little\", \"little\", \"live\", \"live\", \"live\", \"live\", \"live\", \"live\", \"live\", \"live\", \"live\", \"live\", \"live\", \"live\", \"live\", \"live\", \"live\", \"lively\", \"lively\", \"lo\", \"lofty\", \"lofty\", \"long\", \"long\", \"long\", \"long\", \"long\", \"long\", \"long\", \"long\", \"long\", \"long\", \"long\", \"look\", \"look\", \"look\", \"look\", \"look\", \"look\", \"look\", \"look\", \"look\", \"look\", \"look\", \"look\", \"look\", \"lord\", \"lord\", \"lord\", \"lose\", \"lose\", \"lose\", \"lose\", \"lose\", \"lose\", \"lose\", \"lose\", \"loss\", \"loss\", \"loss\", \"loss\", \"loss\", \"love\", \"love\", \"love\", \"love\", \"love\", \"love\", \"love\", \"love\", \"love\", \"love\", \"love\", \"love\", \"love\", \"love\", \"love\", \"love\", \"love\", \"love\", \"love\", \"lovely\", \"lovely\", \"lovely\", \"lovely\", \"lovely\", \"lovely\", \"lover\", \"lover\", \"lover\", \"lover\", \"lust\", \"lusty\", \"mad\", \"mad\", \"mad\", \"maiden\", \"maiden\", \"maiden\", \"make\", \"make\", \"make\", \"make\", \"make\", \"make\", \"make\", \"make\", \"malady\", \"malady\", \"man\", \"man\", \"man\", \"man\", \"man\", \"man\", \"man\", \"man\", \"man\", \"man\", \"manner\", \"manner\", \"manner\", \"mansion\", \"mansion\", \"map\", \"master\", \"master\", \"matter\", \"matter\", \"mayst\", \"mayst\", \"mayst\", \"mayst\", \"mayst\", \"mayst\", \"mayst\", \"mayst\", \"mayst\", \"mean\", \"mean\", \"mean\", \"meet\", \"meet\", \"mend\", \"mend\", \"merit\", \"merit\", \"merit\", \"merit\", \"merit\", \"mightst\", \"mind\", \"mind\", \"mind\", \"mind\", \"mind\", \"mind\", \"mind\", \"mind\", \"mind\", \"minute\", \"minute\", \"minute\", \"mistake\", \"mistake\", \"mistress\", \"mistress\", \"mistress\", \"mistress\", \"mistress\", \"moan\", \"moan\", \"moan\", \"moan\", \"morn\", \"morn\", \"morning\", \"morning\", \"morrow\", \"morrow\", \"morrow\", \"mortal\", \"mortal\", \"mortal\", \"mortal\", \"mother\", \"mother\", \"mother\", \"mother\", \"motion\", \"motion\", \"motion\", \"mountain\", \"mountain\", \"mourn\", \"mourn\", \"mourn\", \"murderous\", \"murderous\", \"muse\", \"muse\", \"muse\", \"music\", \"music\", \"music\", \"mute\", \"mute\", \"mutual\", \"mutual\", \"nature\", \"nature\", \"nature\", \"nature\", \"nature\", \"nature\", \"nature\", \"nature\", \"nature\", \"nay\", \"nay\", \"near\", \"near\", \"near\", \"near\", \"need\", \"need\", \"need\", \"need\", \"need\", \"need\", \"new\", \"new\", \"new\", \"new\", \"new\", \"new\", \"new\", \"new\", \"new\", \"new\", \"new\", \"night\", \"night\", \"night\", \"night\", \"night\", \"night\", \"night\", \"night\", \"night\", \"note\", \"note\", \"note\", \"nought\", \"nought\", \"number\", \"number\", \"number\", \"o\", \"o\", \"o\", \"o\", \"o\", \"o\", \"o\", \"o\", \"o\", \"o\", \"o\", \"o\", \"oath\", \"odour\", \"odour\", \"offence\", \"offence\", \"offence\", \"offender\", \"offender\", \"old\", \"old\", \"old\", \"old\", \"old\", \"old\", \"old\", \"old\", \"ornament\", \"ornament\", \"ornament\", \"ornament\", \"ornament\", \"outlive\", \"outlive\", \"outward\", \"outward\", \"outward\", \"outward\", \"outward\", \"owe\", \"owe\", \"owner\", \"owner\", \"paint\", \"paint\", \"paint\", \"paint\", \"paint\", \"paint\", \"paint\", \"painter\", \"painting\", \"painting\", \"pale\", \"pale\", \"paper\", \"part\", \"part\", \"part\", \"part\", \"part\", \"past\", \"past\", \"past\", \"past\", \"past\", \"past\", \"past\", \"pattern\", \"pattern\", \"pay\", \"pay\", \"pay\", \"pay\", \"pay\", \"pen\", \"pen\", \"pen\", \"pen\", \"pen\", \"pen\", \"pen\", \"pencil\", \"pencil\", \"perfection\", \"perfection\", \"perpetual\", \"perpetual\", \"physic\", \"physic\", \"picture\", \"picture\", \"pilgrimage\", \"pine\", \"pine\", \"pitch\", \"pity\", \"pity\", \"pity\", \"pity\", \"pity\", \"pity\", \"place\", \"place\", \"place\", \"place\", \"place\", \"plea\", \"plea\", \"plead\", \"plead\", \"pleasing\", \"pleasing\", \"pleasure\", \"pleasure\", \"pleasure\", \"pleasure\", \"pleasure\", \"pleasure\", \"pleasure\", \"poet\", \"policy\", \"policy\", \"poor\", \"poor\", \"poor\", \"poor\", \"poor\", \"poor\", \"poor\", \"poor\", \"possession\", \"possession\", \"power\", \"power\", \"power\", \"power\", \"power\", \"power\", \"powerful\", \"powerful\", \"praise\", \"praise\", \"praise\", \"praise\", \"praise\", \"praise\", \"praise\", \"praise\", \"praise\", \"praise\", \"praise\", \"precious\", \"precious\", \"precious\", \"precious\", \"presence\", \"presence\", \"present\", \"present\", \"present\", \"present\", \"pretty\", \"pretty\", \"pride\", \"pride\", \"pride\", \"pride\", \"pride\", \"pride\", \"prime\", \"prime\", \"prime\", \"proof\", \"proud\", \"proud\", \"proud\", \"proud\", \"proud\", \"proud\", \"proud\", \"prove\", \"prove\", \"prove\", \"prove\", \"prove\", \"prove\", \"prove\", \"prove\", \"public\", \"public\", \"public\", \"pure\", \"pure\", \"purpose\", \"purpose\", \"purpose\", \"purpose\", \"pursuit\", \"pursuit\", \"quest\", \"quest\", \"question\", \"question\", \"rain\", \"rain\", \"rank\", \"rank\", \"rank\", \"rank\", \"ransom\", \"ransom\", \"reason\", \"reason\", \"reason\", \"reason\", \"reason\", \"reason\", \"receive\", \"receive\", \"red\", \"red\", \"register\", \"register\", \"rehearse\", \"rehearse\", \"rehearse\", \"remembrance\", \"remembrance\", \"remove\", \"remove\", \"renew\", \"renew\", \"repair\", \"repair\", \"repair\", \"return\", \"return\", \"return\", \"review\", \"rhyme\", \"rhyme\", \"rhyme\", \"rich\", \"rich\", \"rich\", \"rich\", \"rich\", \"rich\", \"rich\", \"ride\", \"ride\", \"ride\", \"right\", \"right\", \"right\", \"right\", \"right\", \"right\", \"right\", \"rime\", \"rime\", \"riper\", \"riper\", \"rise\", \"rise\", \"rise\", \"robbery\", \"robbery\", \"root\", \"rose\", \"rose\", \"rose\", \"rose\", \"rose\", \"rose\", \"rose\", \"rotten\", \"rotten\", \"rude\", \"rude\", \"rude\", \"sad\", \"sad\", \"sad\", \"sad\", \"sad\", \"sad\", \"sake\", \"sake\", \"sake\", \"sake\", \"sake\", \"salve\", \"salve\", \"salve\", \"sap\", \"sap\", \"saucy\", \"saucy\", \"scythe\", \"scythe\", \"scythe\", \"sea\", \"sea\", \"sea\", \"sea\", \"second\", \"second\", \"second\", \"see\", \"see\", \"see\", \"see\", \"see\", \"see\", \"see\", \"see\", \"see\", \"see\", \"seek\", \"seek\", \"seek\", \"seek\", \"seldom\", \"self\", \"self\", \"self\", \"self\", \"self\", \"self\", \"self\", \"self\", \"self\", \"self\", \"self\", \"self\", \"sell\", \"sell\", \"sell\", \"sense\", \"sense\", \"sense\", \"sensual\", \"sensual\", \"servant\", \"servant\", \"service\", \"service\", \"set\", \"set\", \"set\", \"set\", \"set\", \"shade\", \"shade\", \"shade\", \"shadow\", \"shadow\", \"shadow\", \"shadow\", \"shadow\", \"shadow\", \"shall\", \"shall\", \"shall\", \"shall\", \"shall\", \"shall\", \"shall\", \"shall\", \"shall\", \"shall\", \"shall\", \"shall\", \"shall\", \"shall\", \"shall\", \"shalt\", \"shalt\", \"shalt\", \"shalt\", \"shalt\", \"shalt\", \"shalt\", \"shame\", \"shame\", \"shame\", \"shame\", \"shame\", \"shame\", \"shame\", \"shape\", \"shape\", \"shape\", \"shift\", \"shift\", \"shine\", \"shine\", \"shine\", \"shine\", \"shine\", \"shine\", \"show\", \"show\", \"show\", \"show\", \"show\", \"shun\", \"shun\", \"sick\", \"sick\", \"sick\", \"sigh\", \"sigh\", \"sight\", \"sight\", \"sight\", \"sight\", \"sight\", \"sight\", \"sight\", \"silence\", \"silence\", \"silent\", \"silver\", \"silver\", \"simple\", \"simple\", \"sin\", \"sin\", \"sin\", \"sin\", \"sin\", \"sin\", \"sin\", \"sinful\", \"sinful\", \"sinful\", \"sing\", \"sing\", \"sing\", \"sing\", \"sing\", \"sing\", \"sing\", \"sit\", \"sit\", \"sit\", \"skill\", \"skill\", \"skill\", \"skill\", \"skill\", \"skill\", \"skill\", \"slander\", \"slander\", \"slave\", \"slave\", \"slave\", \"slave\", \"slave\", \"sleep\", \"sleep\", \"sleep\", \"sleep\", \"sleep\", \"slight\", \"slight\", \"slow\", \"slow\", \"small\", \"smell\", \"smell\", \"smell\", \"smell\", \"snow\", \"snow\", \"soil\", \"soil\", \"son\", \"son\", \"soon\", \"soon\", \"soon\", \"sort\", \"sort\", \"soul\", \"soul\", \"soul\", \"soul\", \"soul\", \"soul\", \"sound\", \"sound\", \"sound\", \"sour\", \"sour\", \"sourly\", \"sourly\", \"sovereign\", \"sovereign\", \"sovereign\", \"sovereign\", \"special\", \"speechless\", \"speechless\", \"speed\", \"spend\", \"spend\", \"spend\", \"spend\", \"spend\", \"spend\", \"spend\", \"spend\", \"spend\", \"spirit\", \"spirit\", \"spirit\", \"spirit\", \"spirit\", \"spirit\", \"spirit\", \"spirit\", \"spirit\", \"spite\", \"spite\", \"spite\", \"spite\", \"spoil\", \"spoil\", \"sport\", \"sport\", \"spur\", \"stage\", \"stage\", \"stain\", \"stain\", \"stain\", \"stand\", \"stand\", \"stand\", \"stand\", \"stand\", \"stand\", \"stand\", \"stand\", \"star\", \"star\", \"star\", \"star\", \"state\", \"state\", \"state\", \"state\", \"state\", \"state\", \"state\", \"state\", \"stay\", \"stay\", \"stay\", \"stay\", \"stay\", \"stay\", \"stay\", \"stay\", \"steal\", \"steal\", \"steal\", \"steal\", \"steal\", \"steal\", \"steal\", \"steal\", \"steel\", \"steel\", \"steel\", \"stop\", \"stop\", \"stop\", \"store\", \"store\", \"store\", \"store\", \"store\", \"store\", \"story\", \"story\", \"story\", \"strength\", \"strength\", \"strength\", \"strike\", \"strike\", \"strive\", \"strive\", \"strive\", \"strong\", \"strong\", \"strong\", \"strong\", \"strong\", \"strong\", \"strong\", \"strong\", \"strongly\", \"strongly\", \"style\", \"subject\", \"subject\", \"subject\", \"substance\", \"substance\", \"substance\", \"sum\", \"sum\", \"sum\", \"summer\", \"summer\", \"summer\", \"summer\", \"summer\", \"summer\", \"summer\", \"summer\", \"summer\", \"summer\", \"sun\", \"sun\", \"sun\", \"sun\", \"sun\", \"sun\", \"sun\", \"sun\", \"sun\", \"survey\", \"survey\", \"suspect\", \"suspect\", \"sway\", \"swear\", \"swear\", \"swear\", \"swear\", \"sweet\", \"sweet\", \"sweet\", \"sweet\", \"sweet\", \"sweet\", \"sweet\", \"sweet\", \"sweet\", \"sweet\", \"sweet\", \"sweet\", \"sweet\", \"sweet\", \"sweet\", \"sweet\", \"sweet\", \"sweetest\", \"sweetest\", \"sweetest\", \"swift\", \"swift\", \"swift\", \"table\", \"table\", \"take\", \"take\", \"take\", \"take\", \"take\", \"tell\", \"tell\", \"tell\", \"tell\", \"tell\", \"tell\", \"tell\", \"tell\", \"tell\", \"tend\", \"tend\", \"tender\", \"tender\", \"tender\", \"tender\", \"tender\", \"term\", \"term\", \"th\", \"th\", \"thank\", \"thank\", \"thee\", \"thee\", \"thee\", \"thee\", \"thee\", \"thee\", \"thee\", \"thee\", \"thee\", \"thee\", \"thee\", \"thee\", \"thee\", \"thee\", \"thee\", \"thine\", \"thine\", \"thine\", \"thine\", \"thine\", \"thine\", \"thine\", \"thine\", \"thine\", \"thine\", \"thine\", \"thine\", \"thine\", \"thing\", \"thing\", \"thing\", \"thing\", \"thing\", \"thing\", \"thing\", \"thing\", \"thing\", \"thing\", \"thing\", \"think\", \"think\", \"think\", \"think\", \"think\", \"think\", \"think\", \"think\", \"think\", \"think\", \"thorn\", \"thorn\", \"thorn\", \"thou\", \"thou\", \"thou\", \"thou\", \"thou\", \"thou\", \"thou\", \"thou\", \"thou\", \"thou\", \"thou\", \"thou\", \"thou\", \"thou\", \"thou\", \"thought\", \"thought\", \"thought\", \"thought\", \"thought\", \"thought\", \"thought\", \"thought\", \"thought\", \"thrice\", \"thrice\", \"thrive\", \"thrive\", \"throw\", \"throw\", \"thy\", \"thy\", \"thy\", \"thy\", \"thy\", \"thy\", \"thy\", \"thy\", \"thy\", \"thy\", \"thy\", \"thy\", \"thy\", \"thy\", \"thy\", \"thy\", \"till\", \"till\", \"till\", \"till\", \"till\", \"till\", \"till\", \"till\", \"till\", \"till\", \"time\", \"time\", \"time\", \"time\", \"time\", \"time\", \"time\", \"time\", \"time\", \"time\", \"time\", \"time\", \"time\", \"time\", \"time\", \"time\", \"time\", \"time\", \"tis\", \"tis\", \"tis\", \"tis\", \"tis\", \"tis\", \"toil\", \"toil\", \"toil\", \"tongue\", \"tongue\", \"tongue\", \"tongue\", \"tongue\", \"tongue\", \"tongue\", \"tongue\", \"tongue\", \"tongue\", \"torment\", \"torment\", \"translate\", \"treasure\", \"treasure\", \"treasure\", \"treasure\", \"treasure\", \"treasure\", \"trespass\", \"trespass\", \"trifle\", \"triumphant\", \"triumphant\", \"true\", \"true\", \"true\", \"true\", \"true\", \"true\", \"true\", \"true\", \"true\", \"true\", \"true\", \"true\", \"trust\", \"trust\", \"trust\", \"trust\", \"truth\", \"truth\", \"truth\", \"truth\", \"truth\", \"truth\", \"truth\", \"truth\", \"tune\", \"turn\", \"turn\", \"turn\", \"turn\", \"twain\", \"twain\", \"tyrant\", \"tyrant\", \"tyrant\", \"tyrant\", \"tyrant\", \"unknown\", \"unknown\", \"unseen\", \"unseen\", \"unthrift\", \"unused\", \"unused\", \"unused\", \"usurer\", \"usurer\", \"vanish\", \"vantage\", \"vassal\", \"vassal\", \"vein\", \"vein\", \"verse\", \"verse\", \"verse\", \"verse\", \"verse\", \"vice\", \"vice\", \"victor\", \"victor\", \"vile\", \"vile\", \"violet\", \"violet\", \"virtuous\", \"virtuous\", \"virtuous\", \"voice\", \"voice\", \"vouchsafe\", \"vow\", \"vow\", \"vow\", \"wail\", \"wail\", \"wait\", \"wait\", \"wake\", \"wake\", \"walk\", \"walk\", \"walk\", \"wall\", \"wall\", \"wane\", \"wane\", \"war\", \"war\", \"war\", \"war\", \"ward\", \"wasteful\", \"wasteful\", \"watch\", \"watch\", \"water\", \"water\", \"water\", \"way\", \"way\", \"way\", \"way\", \"way\", \"weak\", \"weak\", \"wealth\", \"wealth\", \"wealth\", \"wealth\", \"wealth\", \"wear\", \"wear\", \"wear\", \"weary\", \"weary\", \"weary\", \"weed\", \"weed\", \"weed\", \"weed\", \"weep\", \"welcome\", \"welcome\", \"well\", \"well\", \"well\", \"well\", \"well\", \"well\", \"well\", \"well\", \"well\", \"wert\", \"wert\", \"west\", \"west\", \"west\", \"wherefore\", \"wherefore\", \"wherefore\", \"whilst\", \"whilst\", \"whilst\", \"whilst\", \"whilst\", \"whilst\", \"whilst\", \"whilst\", \"white\", \"white\", \"white\", \"white\", \"widow\", \"willing\", \"wilt\", \"wilt\", \"wilt\", \"wilt\", \"wilt\", \"wilt\", \"wilt\", \"wilt\", \"window\", \"window\", \"wink\", \"wink\", \"winter\", \"winter\", \"winter\", \"winter\", \"winter\", \"winter\", \"winter\", \"wire\", \"wish\", \"wish\", \"wish\", \"wish\", \"wish\", \"wit\", \"wit\", \"wit\", \"wit\", \"wit\", \"woe\", \"woe\", \"woe\", \"woe\", \"woe\", \"woe\", \"woe\", \"woman\", \"woman\", \"woman\", \"womb\", \"womb\", \"womb\", \"wonder\", \"wonder\", \"wonder\", \"wondrous\", \"wood\", \"word\", \"word\", \"word\", \"world\", \"world\", \"world\", \"world\", \"world\", \"world\", \"world\", \"world\", \"world\", \"world\", \"world\", \"world\", \"world\", \"worm\", \"worm\", \"worm\", \"worth\", \"worth\", \"worth\", \"worth\", \"worth\", \"worth\", \"worth\", \"worth\", \"worth\", \"worth\", \"worthless\", \"worthless\", \"wretched\", \"wretched\", \"write\", \"write\", \"write\", \"write\", \"write\", \"ye\", \"yield\", \"yield\", \"young\", \"young\", \"young\", \"youth\", \"youth\", \"youth\", \"youth\", \"youth\", \"youth\", \"youth\", \"youth\", \"youth\", \"youth\", \"youthful\", \"youthful\"]}, \"R\": 30, \"lambda.step\": 0.01, \"plot.opts\": {\"xlab\": \"PC1\", \"ylab\": \"PC2\"}, \"topic.order\": [4, 17, 2, 5, 6, 7, 19, 12, 10, 14, 3, 1, 18, 8, 15, 9, 13, 16, 20, 11]};\n",
              "\n",
              "function LDAvis_load_lib(url, callback){\n",
              "  var s = document.createElement('script');\n",
              "  s.src = url;\n",
              "  s.async = true;\n",
              "  s.onreadystatechange = s.onload = callback;\n",
              "  s.onerror = function(){console.warn(\"failed to load library \" + url);};\n",
              "  document.getElementsByTagName(\"head\")[0].appendChild(s);\n",
              "}\n",
              "\n",
              "if(typeof(LDAvis) !== \"undefined\"){\n",
              "   // already loaded: just create the visualization\n",
              "   !function(LDAvis){\n",
              "       new LDAvis(\"#\" + \"ldavis_el19041329794682894088267306233\", ldavis_el19041329794682894088267306233_data);\n",
              "   }(LDAvis);\n",
              "}else if(typeof define === \"function\" && define.amd){\n",
              "   // require.js is available: use it to load d3/LDAvis\n",
              "   require.config({paths: {d3: \"https://d3js.org/d3.v5\"}});\n",
              "   require([\"d3\"], function(d3){\n",
              "      window.d3 = d3;\n",
              "      LDAvis_load_lib(\"https://cdn.jsdelivr.net/gh/bmabey/pyLDAvis@3.4.0/pyLDAvis/js/ldavis.v3.0.0.js\", function(){\n",
              "        new LDAvis(\"#\" + \"ldavis_el19041329794682894088267306233\", ldavis_el19041329794682894088267306233_data);\n",
              "      });\n",
              "    });\n",
              "}else{\n",
              "    // require.js not available: dynamically load d3 & LDAvis\n",
              "    LDAvis_load_lib(\"https://d3js.org/d3.v5.js\", function(){\n",
              "         LDAvis_load_lib(\"https://cdn.jsdelivr.net/gh/bmabey/pyLDAvis@3.4.0/pyLDAvis/js/ldavis.v3.0.0.js\", function(){\n",
              "                 new LDAvis(\"#\" + \"ldavis_el19041329794682894088267306233\", ldavis_el19041329794682894088267306233_data);\n",
              "            })\n",
              "         });\n",
              "}\n",
              "</script>"
            ]
          },
          "metadata": {},
          "execution_count": 65
        }
      ]
    },
    {
      "cell_type": "markdown",
      "source": [
        "## Discussion"
      ],
      "metadata": {
        "id": "H-MnXaAaExKd"
      }
    },
    {
      "cell_type": "code",
      "source": [],
      "metadata": {
        "id": "gqB-_12A2taF"
      },
      "execution_count": null,
      "outputs": []
    },
    {
      "cell_type": "markdown",
      "source": [
        "[Discussion of what you learned from your project, i.e. conclusions based on what your analysis revealed]"
      ],
      "metadata": {
        "id": "6PifBnSWE15X"
      }
    }
  ]
}